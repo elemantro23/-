{
 "cells": [
  {
   "cell_type": "markdown",
   "metadata": {
    "id": "0AoPSXyUTTLc"
   },
   "source": [
    "# Практика 03. Базовые конструкции языка Python. Коллекции данных: строки, списки, кортежи, множества, словари. Решение прикладных задач"
   ]
  },
  {
   "cell_type": "markdown",
   "metadata": {},
   "source": [
    "**Списки**: содержат значения.<br>\n",
    "Ими могут быть числа, строки, имена и так далее:<br>\n",
    "Модели автомобилей;<br>\n",
    "Имена собак;<br>\n",
    "Посещенные страны;<br>\n",
    "Посетители магазина и так далее.<br>\n",
    "\n",
    "**Кортежи**: этот тип данных очень похож на список, но с одним исключением.<br>\n",
    "**После создания кортежа его значения нельзя менять**. Списки — изменяемые, а кортежи — нет.<br>\n",
    "Это может понадобиться в определенных случаях для достижения безопасности или просто удобства.<br>\n",
    "В кортежах могут, например, храниться:<br>\n",
    "Все месяцы года;<br>\n",
    "Дисциплины Олимпийских игр;<br>\n",
    "Штаты США.<br>\n",
    "Важно только отметить, что кортежи не являются вообще неизменяемыми, ведь вы всегда можете переписать код, поменяв или удалив определенные значения. Речь идет о том, что значения не могут быть изменены после создания — во время работы программы.\n",
    "\n",
    "**Словари** — это пары из ключа и значения.<br>\n",
    "Словари также являются изменяемыми.<br>\n",
    "Это удобная структура данных, которая подходит для сохранения значения с определенными дополнительными параметрами, например:<br>\n",
    "Данные клиента включая список его покупок<br>\n",
    "Названия стран + их количество олимпийских медалей<br>\n",
    "Автомобильные бренды и их модели<br>\n",
    "Страны с количеством ДТП с летальным исходом<br><br>\n",
    "\n",
    "Функции **list()** и **dict()** очень простые. Они помогают создавать соответствующие структуры данных.<br>\n",
    "List(), dict() и float() используют круглые скобки, потому что они являются функциями.<br>\n",
    "Скобки сами по себе представляют кортеж, и их не стоит путать со скобками в функциях, например, list()."
   ]
  },
  {
   "cell_type": "markdown",
   "metadata": {},
   "source": [
    "**Инициализировать список, кортеж и словарь** можно несколькими способами.<br>\n",
    "Один из наиболее распространенных — присвоить соответствующие символы переменной.<br>\n",
    "Для списка эти символы — [], для кортежа — (), а для словаря — {}.<br>\n",
    "Если присвоить эти символы без значений внутри, то будут созданы соответствующие пустые структуры данных."
   ]
  },
  {
   "cell_type": "code",
   "execution_count": 79,
   "metadata": {},
   "outputs": [],
   "source": [
    "import numpy as np\n",
    "import pandas as pd\n",
    "import math\n",
    "import json\n",
    "from pprint import pprint"
   ]
  },
  {
   "cell_type": "markdown",
   "metadata": {
    "id": "lIM5gFo4TbUg"
   },
   "source": [
    "## Часть 1. Списки"
   ]
  },
  {
   "cell_type": "markdown",
   "metadata": {
    "id": "PPEbDV8hCAGO"
   },
   "source": [
    "### Основы работы со списками"
   ]
  },
  {
   "cell_type": "code",
   "execution_count": 2,
   "metadata": {
    "id": "x3wxNu5jthst"
   },
   "outputs": [],
   "source": [
    "# пустой список можно создать (инициализировать) через [] или функцию list()\n",
    "\n",
    "some_list_1 = []\n",
    "some_list_2 = list()"
   ]
  },
  {
   "cell_type": "code",
   "execution_count": 42,
   "metadata": {
    "id": "IMBJFpJJ-I8A"
   },
   "outputs": [
    {
     "name": "stdout",
     "output_type": "stream",
     "text": [
      "[] []\n"
     ]
    }
   ],
   "source": [
    "print(some_list_1, some_list_2)"
   ]
  },
  {
   "cell_type": "code",
   "execution_count": 43,
   "metadata": {
    "id": "tLWO1t--thwP"
   },
   "outputs": [
    {
     "data": {
      "text/plain": [
       "[3, 'число три', ['число', 'три'], {'число': 3}]"
      ]
     },
     "execution_count": 43,
     "metadata": {},
     "output_type": "execute_result"
    }
   ],
   "source": [
    "# элементами списка могут, в частности, быть числа, строки, другие списки и словари\n",
    "\n",
    "number_three = [3, 'число три', ['число', 'три'], {'число': 3}]\n",
    "number_three"
   ]
  },
  {
   "cell_type": "code",
   "execution_count": 44,
   "metadata": {
    "id": "_jEdnwKSkbSE"
   },
   "outputs": [
    {
     "data": {
      "text/plain": [
       "4"
      ]
     },
     "execution_count": 44,
     "metadata": {},
     "output_type": "execute_result"
    }
   ],
   "source": [
    "# длина списка рассчитывается через функцию len()\n",
    "\n",
    "len(number_three)"
   ]
  },
  {
   "cell_type": "markdown",
   "metadata": {
    "id": "9KkaG7NJDOMW"
   },
   "source": [
    "### Индекс и срез списка"
   ]
  },
  {
   "cell_type": "code",
   "execution_count": 45,
   "metadata": {
    "id": "b3GS578dDRSH"
   },
   "outputs": [],
   "source": [
    "# у списка есть положительный и отрицательный индексы\n",
    "\n",
    "abc_list = ['a', 'b', 'c', 'd', 'e']"
   ]
  },
  {
   "cell_type": "code",
   "execution_count": 46,
   "metadata": {
    "id": "MC-n_2V7_Bf2"
   },
   "outputs": [
    {
     "name": "stdout",
     "output_type": "stream",
     "text": [
      "a e\n"
     ]
    }
   ],
   "source": [
    "# воспользуемся ими для вывода первого и последнего элементов\n",
    "\n",
    "print(abc_list[0], abc_list[-1])"
   ]
  },
  {
   "cell_type": "code",
   "execution_count": 47,
   "metadata": {
    "id": "LsfIU3Z3F6Qo"
   },
   "outputs": [],
   "source": [
    "# при работе с вложенным списком\n",
    "\n",
    "salary_list = [['Анна', 90000], ['Игорь', 85000], ['Алексей', 95000]]"
   ]
  },
  {
   "cell_type": "code",
   "execution_count": 48,
   "metadata": {
    "id": "Q4NH6ufx_KOt"
   },
   "outputs": [
    {
     "data": {
      "text/plain": [
       "'Игорь'"
      ]
     },
     "execution_count": 48,
     "metadata": {},
     "output_type": "execute_result"
    }
   ],
   "source": [
    "# вначале указываем индекс вложенного списка, а затем индекс элемента в нем\n",
    "\n",
    "salary_list[1][0]"
   ]
  },
  {
   "cell_type": "code",
   "execution_count": 49,
   "metadata": {
    "id": "hzcsnn7LISyc"
   },
   "outputs": [
    {
     "data": {
      "text/plain": [
       "2"
      ]
     },
     "execution_count": 49,
     "metadata": {},
     "output_type": "execute_result"
    }
   ],
   "source": [
    "# индекс элемента в списке можно узнать с помощью метода .index()\n",
    "\n",
    "abc_list.index('c')"
   ]
  },
  {
   "cell_type": "code",
   "execution_count": 50,
   "metadata": {
    "id": "ARwsxkVfrFOQ"
   },
   "outputs": [
    {
     "data": {
      "text/plain": [
       "1"
      ]
     },
     "execution_count": 50,
     "metadata": {},
     "output_type": "execute_result"
    }
   ],
   "source": [
    "# метод .index() можно применить и ко вложенному списку\n",
    "\n",
    "salary_list[0].index(90000)"
   ]
  },
  {
   "cell_type": "markdown",
   "metadata": {
    "id": "OUMU4VfD_rYD"
   },
   "source": [
    "В случае если необходимо получить **срез списка**, то так же как и в случае строк, указывается начало среза и элемент, до которого (но не включая который) нужно сделать срез."
   ]
  },
  {
   "cell_type": "code",
   "execution_count": 51,
   "metadata": {
    "id": "VvcCb_ZaItpp"
   },
   "outputs": [],
   "source": [
    "# создадим список с днями недели\n",
    "\n",
    "days_list = ['Пн', 'Вт', 'Ср', 'Чт', 'Пт', 'Сб', 'Вс']"
   ]
  },
  {
   "cell_type": "code",
   "execution_count": 52,
   "metadata": {
    "id": "lYZxnJ7h_iGB"
   },
   "outputs": [
    {
     "data": {
      "text/plain": [
       "['Вт', 'Ср', 'Чт', 'Пт']"
      ]
     },
     "execution_count": 52,
     "metadata": {},
     "output_type": "execute_result"
    }
   ],
   "source": [
    "# и выведем со второго по пятый элемент включительно\n",
    "\n",
    "days_list[1:5]"
   ]
  },
  {
   "cell_type": "markdown",
   "metadata": {
    "id": "ZnsuRE2TAD7k"
   },
   "source": [
    "У среза есть третий параметр — **шаг**. Он позволяет пропускать заданное количество элементов."
   ]
  },
  {
   "cell_type": "code",
   "execution_count": 66,
   "metadata": {
    "id": "vFJFJGigJ-kQ"
   },
   "outputs": [
    {
     "data": {
      "text/plain": [
       "['Пн', 'Ср', 'Пт']"
      ]
     },
     "execution_count": 66,
     "metadata": {},
     "output_type": "execute_result"
    }
   ],
   "source": [
    "# выведем каждый второй элемент в срезе с первого по пятый\n",
    "\n",
    "days_list[:5:2]"
   ]
  },
  {
   "cell_type": "markdown",
   "metadata": {
    "id": "TxrQhCGkBvBJ"
   },
   "source": [
    "Можно проверить, содержится ли элемент в списке, с помощью ключевого слова `in`."
   ]
  },
  {
   "cell_type": "code",
   "execution_count": 67,
   "metadata": {
    "id": "n6Q6not7t9GH"
   },
   "outputs": [
    {
     "data": {
      "text/plain": [
       "True"
      ]
     },
     "execution_count": 67,
     "metadata": {},
     "output_type": "execute_result"
    }
   ],
   "source": [
    "# проверим есть ли \"Пн\" в списке\n",
    "\n",
    "'Пн' in days_list"
   ]
  },
  {
   "cell_type": "code",
   "execution_count": 68,
   "metadata": {
    "id": "HpVMXHWDuXy7"
   },
   "outputs": [
    {
     "name": "stdout",
     "output_type": "stream",
     "text": [
      "Такой день недели есть\n"
     ]
    }
   ],
   "source": [
    "# если \"Вт\" есть в списке\n",
    "\n",
    "if 'Вт' in days_list:\n",
    "\n",
    "  # выведем сообщение\n",
    "\n",
    "  print('Такой день недели есть')"
   ]
  },
  {
   "cell_type": "markdown",
   "metadata": {
    "id": "msuaGJ1OLXrB"
   },
   "source": [
    "### Добавление, замена и удаление элементов списка"
   ]
  },
  {
   "cell_type": "code",
   "execution_count": 69,
   "metadata": {
    "id": "fEyyqpUDLcsY"
   },
   "outputs": [],
   "source": [
    "# создадим список\n",
    "\n",
    "weekdays = ['Понедельник', 'Вторник']"
   ]
  },
  {
   "cell_type": "code",
   "execution_count": 70,
   "metadata": {
    "id": "2YK5UIHOnZwq"
   },
   "outputs": [
    {
     "data": {
      "text/plain": [
       "['Понедельник', 'Вторник', 'Четверг']"
      ]
     },
     "execution_count": 70,
     "metadata": {},
     "output_type": "execute_result"
    }
   ],
   "source": [
    "# добавим один элемент в конец списка с помощью метода .append()\n",
    "\n",
    "weekdays.append('Четверг')\n",
    "weekdays"
   ]
  },
  {
   "cell_type": "markdown",
   "metadata": {
    "id": "MMZChMQNCfy-"
   },
   "source": [
    "Метод `.insert()` позволяет добавить элемент в середину списка, при этом индекс последующих элементов сдвигается."
   ]
  },
  {
   "cell_type": "code",
   "execution_count": 71,
   "metadata": {
    "id": "Yvrd-wOMnZ9d"
   },
   "outputs": [
    {
     "data": {
      "text/plain": [
       "['Понедельник', 'Вторник', 'Среда', 'Четверг']"
      ]
     },
     "execution_count": 71,
     "metadata": {},
     "output_type": "execute_result"
    }
   ],
   "source": [
    "# добавим элемент в определенное место в списке через желаемый индекс этого элемента\n",
    "\n",
    "weekdays.insert(2, 'Среда')\n",
    "weekdays"
   ]
  },
  {
   "cell_type": "code",
   "execution_count": 72,
   "metadata": {
    "id": "zPEqoCsrzKEB"
   },
   "outputs": [
    {
     "data": {
      "text/plain": [
       "['Понедельник', 'Вторник', 'Среда', 'Пятница']"
      ]
     },
     "execution_count": 72,
     "metadata": {},
     "output_type": "execute_result"
    }
   ],
   "source": [
    "# изменим четвертый элемент в списке\n",
    "\n",
    "weekdays[3] = 'Пятница'\n",
    "weekdays"
   ]
  },
  {
   "cell_type": "markdown",
   "metadata": {
    "id": "rjSCIfrRCqUv"
   },
   "source": [
    "Элемент можно **удалить**, указав либо его название, либо индекс."
   ]
  },
  {
   "cell_type": "code",
   "execution_count": 73,
   "metadata": {
    "id": "gsWduacznqg4"
   },
   "outputs": [
    {
     "data": {
      "text/plain": [
       "['Понедельник', 'Вторник', 'Среда']"
      ]
     },
     "execution_count": 73,
     "metadata": {},
     "output_type": "execute_result"
    }
   ],
   "source": [
    "# удалим элемент по его значению\n",
    "\n",
    "weekdays.remove('Пятница')\n",
    "weekdays"
   ]
  },
  {
   "cell_type": "code",
   "execution_count": 74,
   "metadata": {
    "id": "D2bnKXNAxmq2"
   },
   "outputs": [
    {
     "data": {
      "text/plain": [
       "['Понедельник', 'Вторник']"
      ]
     },
     "execution_count": 74,
     "metadata": {},
     "output_type": "execute_result"
    }
   ],
   "source": [
    "# удалим элемент по его индексу через ключевое слово del\n",
    "\n",
    "del(weekdays[2])\n",
    "weekdays"
   ]
  },
  {
   "cell_type": "code",
   "execution_count": 75,
   "metadata": {
    "id": "CooE-D9ouFeP"
   },
   "outputs": [
    {
     "data": {
      "text/plain": [
       "'Вторник'"
      ]
     },
     "execution_count": 75,
     "metadata": {},
     "output_type": "execute_result"
    }
   ],
   "source": [
    "# сделаем то же самое с помощью метода .pop()\n",
    "# этот метод выводит удаляемый элемент\n",
    "\n",
    "weekdays.pop(1)"
   ]
  },
  {
   "cell_type": "markdown",
   "metadata": {
    "id": "eYWdqi2wC6D3"
   },
   "source": [
    "Все эти операции возможны благодаря тому, что **списки** (1) **упорядочены** и (2) **изменяемы**."
   ]
  },
  {
   "cell_type": "code",
   "execution_count": 76,
   "metadata": {
    "id": "kM8rmPNXuyN6"
   },
   "outputs": [
    {
     "data": {
      "text/plain": [
       "['Понедельник']"
      ]
     },
     "execution_count": 76,
     "metadata": {},
     "output_type": "execute_result"
    }
   ],
   "source": [
    "# посмотрим, что осталось в списке\n",
    "\n",
    "weekdays"
   ]
  },
  {
   "cell_type": "markdown",
   "metadata": {
    "id": "MWP0v0fz0IQ4"
   },
   "source": [
    "### Сложение списков"
   ]
  },
  {
   "cell_type": "markdown",
   "metadata": {
    "id": "3oSonJa7DRyG"
   },
   "source": [
    "Добавить к списку еще один список можно с помощью метода `.extend()`."
   ]
  },
  {
   "cell_type": "code",
   "execution_count": 77,
   "metadata": {
    "id": "TUkNQwzwDDO1"
   },
   "outputs": [],
   "source": [
    "more_weekdays = ['Вторник', 'Среда', 'Четверг', 'Пятница']"
   ]
  },
  {
   "cell_type": "code",
   "execution_count": 78,
   "metadata": {
    "id": "cwu9M49e0HlB"
   },
   "outputs": [
    {
     "data": {
      "text/plain": [
       "['Понедельник', 'Вторник', 'Среда', 'Четверг', 'Пятница']"
      ]
     },
     "execution_count": 78,
     "metadata": {},
     "output_type": "execute_result"
    }
   ],
   "source": [
    "# соединить два списка можно с помощью метода .extend()\n",
    "\n",
    "weekdays.extend(more_weekdays)\n",
    "weekdays"
   ]
  },
  {
   "cell_type": "markdown",
   "metadata": {
    "id": "rRqPqRc0DXQN"
   },
   "source": [
    "Кроме того, два списка можно просто сложить (**concatenate**)."
   ]
  },
  {
   "cell_type": "code",
   "execution_count": 79,
   "metadata": {
    "id": "bseB1BUwDIti"
   },
   "outputs": [],
   "source": [
    "weekend = ['Суббота', 'Воскресенье']"
   ]
  },
  {
   "cell_type": "code",
   "execution_count": 80,
   "metadata": {
    "id": "CE07IDeZx0cl"
   },
   "outputs": [
    {
     "name": "stdout",
     "output_type": "stream",
     "text": [
      "['Понедельник', 'Вторник', 'Среда', 'Четверг', 'Пятница', 'Суббота', 'Воскресенье']\n"
     ]
    }
   ],
   "source": [
    "# или просто сложив два списка\n",
    "\n",
    "print(weekdays + weekend)"
   ]
  },
  {
   "cell_type": "code",
   "execution_count": 81,
   "metadata": {
    "id": "pJcSZ0jiz840"
   },
   "outputs": [
    {
     "data": {
      "text/plain": [
       "['Понедельник', 'Понедельник']"
      ]
     },
     "execution_count": 81,
     "metadata": {},
     "output_type": "execute_result"
    }
   ],
   "source": [
    "# иногда бывает полезно \"размножить\" элементы списка\n",
    "\n",
    "['Понедельник'] * 2"
   ]
  },
  {
   "cell_type": "code",
   "execution_count": 82,
   "metadata": {
    "id": "3MRsPPs30N1V"
   },
   "outputs": [
    {
     "data": {
      "text/plain": [
       "['Понедельник', 'Понедельник', 'Вторник', 'Вторник']"
      ]
     },
     "execution_count": 82,
     "metadata": {},
     "output_type": "execute_result"
    }
   ],
   "source": [
    "# такие \"произведения\" также можно складывать\n",
    "\n",
    "['Понедельник'] * 2 + ['Вторник'] * 2"
   ]
  },
  {
   "cell_type": "markdown",
   "metadata": {
    "id": "CZZ2Tq0yq4l5"
   },
   "source": [
    "### Сортировка списков"
   ]
  },
  {
   "cell_type": "markdown",
   "metadata": {
    "id": "mCpSkB78GLb8"
   },
   "source": [
    "Для сортировки списка можно использовать функцию `sorted()` и метод `.sort()`. Функция `sorted()` не изменяет объект и сразу выводит результат сортировки."
   ]
  },
  {
   "cell_type": "code",
   "execution_count": 83,
   "metadata": {
    "id": "zTBWIYWZr80H"
   },
   "outputs": [],
   "source": [
    "# возьмем список чисел\n",
    "\n",
    "nums = [25, 10, 30, 20, 5, 15]"
   ]
  },
  {
   "cell_type": "code",
   "execution_count": 84,
   "metadata": {
    "id": "Zt9iwWx3q7IL"
   },
   "outputs": [
    {
     "data": {
      "text/plain": [
       "[5, 10, 15, 20, 25, 30]"
      ]
     },
     "execution_count": 84,
     "metadata": {},
     "output_type": "execute_result"
    }
   ],
   "source": [
    "# и отсортируем с помощью функции sorted(), результат выводится сразу\n",
    "\n",
    "sorted(nums)"
   ]
  },
  {
   "cell_type": "code",
   "execution_count": 85,
   "metadata": {
    "id": "vS7G44sVs0jv"
   },
   "outputs": [
    {
     "data": {
      "text/plain": [
       "[25, 10, 30, 20, 5, 15]"
      ]
     },
     "execution_count": 85,
     "metadata": {},
     "output_type": "execute_result"
    }
   ],
   "source": [
    "# исходный список при этом не изменился\n",
    "\n",
    "nums"
   ]
  },
  {
   "cell_type": "code",
   "execution_count": 86,
   "metadata": {
    "id": "Qbi91ZlWv116"
   },
   "outputs": [
    {
     "data": {
      "text/plain": [
       "[5, 10, 15, 20, 25, 30]"
      ]
     },
     "execution_count": 86,
     "metadata": {},
     "output_type": "execute_result"
    }
   ],
   "source": [
    "# если поместить результат в переменную, изменения сохранятся\n",
    "\n",
    "sorted_nums = sorted(nums)\n",
    "sorted_nums"
   ]
  },
  {
   "cell_type": "code",
   "execution_count": 87,
   "metadata": {
    "id": "J92cKG_ZsGJd"
   },
   "outputs": [],
   "source": [
    "# метод .sort() сохраняет результат, но не выводит его сразу\n",
    "# reverse = True задает сортировку по убыванию\n",
    "\n",
    "nums.sort(reverse = True)"
   ]
  },
  {
   "cell_type": "code",
   "execution_count": 88,
   "metadata": {
    "id": "tMLloVoxsdcW"
   },
   "outputs": [
    {
     "data": {
      "text/plain": [
       "[30, 25, 20, 15, 10, 5]"
      ]
     },
     "execution_count": 88,
     "metadata": {},
     "output_type": "execute_result"
    }
   ],
   "source": [
    "# выведем результат\n",
    "\n",
    "nums"
   ]
  },
  {
   "cell_type": "markdown",
   "metadata": {
    "id": "ooqWGl8lGiai"
   },
   "source": [
    "Метод `.reverse()` задает обратный порядок элементов списка (объект также изменяется, результат по умолчанию не выводится)."
   ]
  },
  {
   "cell_type": "code",
   "execution_count": 89,
   "metadata": {
    "id": "kU0tmatFulXn"
   },
   "outputs": [],
   "source": [
    "# метод .reverse() задает обратный порядок, сохраняет, но не выводит результат\n",
    "\n",
    "nums.reverse()"
   ]
  },
  {
   "cell_type": "code",
   "execution_count": 90,
   "metadata": {
    "id": "tRKlyUxRGpyw"
   },
   "outputs": [
    {
     "data": {
      "text/plain": [
       "[5, 10, 15, 20, 25, 30]"
      ]
     },
     "execution_count": 90,
     "metadata": {},
     "output_type": "execute_result"
    }
   ],
   "source": [
    "# его также нужно вывести отдельно\n",
    "\n",
    "nums"
   ]
  },
  {
   "cell_type": "markdown",
   "metadata": {},
   "source": [
    "# Задание\n",
    "1. Есть список имен `girls`:<br>\n",
    "girls = ['Иветта', 'Виолетта', 'Кассандра', 'Вирджиния', 'Амелия', 'Розамунда', 'Янина', 'Беатриса'].<br>\n",
    "Используя список `girls` и срезы, выведите на экран следующие списки:\n",
    "\n",
    "    ['Виолетта', 'Кассандра', 'Вирджиния\", 'Амелия']<br>\n",
    "    ['Вирджиния', 'Амелия', 'Розамунда\", 'Янина', 'Беатриса']<br>\n",
    "    ['Иветта', 'Виолетта\", 'Вирджиния', 'Амелия']<br>\n",
    "    ['Кассандра', 'Амелия', 'Розамунда']<br>\n",
    "*Подсказка:* для списков 3, 4 используйте срезы и сложение списков.<br>\n",
    "\n",
    "2. Даны два списка `a` и `b`:<br>\n",
    "   a = [1, 0, 9, 12, 18, 34, 89, 91, 33, 127]<br>\n",
    "   b = [2, 8, 9, 11, 76, 25, 44]<br>\n",
    "    \n",
    "* Выведите на экран первый элемент списка `a`, третий элемент списка `a`, последний элемент списка `a`.\n",
    "* Добавьте в список `b` элемент 7 (просто допишите в конец).\n",
    "* Замените пятый элемент списка `a` на число 8.\n",
    "* Создайте список `merged`, который включает в себя все элементы списка `a` и списка `b`.\n",
    "* Создайте новый список `с`, который получается заменой последнего элемента списка `a` на число 100. Сам список `a` измениться не должен!<br>\n",
    "  *Подсказка:* вспомните про метод `.copy()`.<br>\n",
    "\n",
    "3. Дан список `d`: d = [12, 3, 8, 125, 10, 98, 54, 199]. Используя цикл выведите на экран (последовательно, с новой строчки):\n",
    "\n",
    "* все элементы списка `d`;\n",
    "* логарифмированные значения элементов списка `d` (потребуется функция `log()` из библиотеки `math`);\n",
    "* замените пятый элемент списка `d` на 0. Проделайте те же операции, что и выше. Объясните, почему получаются такие результаты."
   ]
  },
  {
   "cell_type": "code",
   "execution_count": 94,
   "metadata": {
    "id": "yYbNS12A1-Bx"
   },
   "outputs": [
    {
     "name": "stdout",
     "output_type": "stream",
     "text": [
      "['Виолетта', 'Кассандра', 'Вирджиния', 'Амелия']\n",
      "['Вирджиния', 'Амелия', 'Розамунда', 'Янина', 'Беатриса']\n",
      "['Иветта', 'Виолетта', 'Вирджиния', 'Амелия']\n",
      "['Кассандра', 'Амелия', 'Розамунда']\n"
     ]
    }
   ],
   "source": [
    "girls = ['Иветта', 'Виолетта', 'Кассандра', 'Вирджиния', 'Амелия', 'Розамунда', 'Янина', 'Беатриса']\n",
    "\n",
    "print(girls[1:5])\n",
    "\n",
    "print(girls[3:8])\n",
    "\n",
    "print(girls[0:2] + girls[3:5])\n",
    "\n",
    "print(girls[2:3] + girls[4:6])"
   ]
  },
  {
   "cell_type": "code",
   "execution_count": 97,
   "metadata": {},
   "outputs": [
    {
     "name": "stdout",
     "output_type": "stream",
     "text": [
      "1\n",
      "9\n",
      "127\n",
      "[2, 8, 9, 11, 76, 25, 44, 7]\n",
      "[1, 0, 9, 12, 8, 34, 89, 91, 33, 127]\n",
      "[1, 0, 9, 12, 8, 34, 89, 91, 33, 127, 2, 8, 9, 11, 76, 25, 44, 7]\n",
      "[1, 0, 9, 12, 8, 34, 89, 91, 33, 100]\n"
     ]
    }
   ],
   "source": [
    "a = [1, 0, 9, 12, 18, 34, 89, 91, 33, 127]\n",
    "b = [2, 8, 9, 11, 76, 25, 44]\n",
    "\n",
    "print(a[0])\n",
    "print(a[2])      \n",
    "print(a[-1])\n",
    "\n",
    "b.append(7) \n",
    "print(b)\n",
    "\n",
    "a[4] = 8\n",
    "print(a)\n",
    "\n",
    "merged = a + b\n",
    "print(merged)\n",
    "\n",
    "c = a.copy()\n",
    "c[-1] = 100\n",
    "print(c)"
   ]
  },
  {
   "cell_type": "code",
   "execution_count": 102,
   "metadata": {},
   "outputs": [
    {
     "name": "stdout",
     "output_type": "stream",
     "text": [
      "12\n",
      "3\n",
      "8\n",
      "125\n",
      "10\n",
      "98\n",
      "54\n",
      "199\n",
      "2.4849066497880004\n",
      "1.0986122886681098\n",
      "2.0794415416798357\n",
      "4.8283137373023015\n",
      "2.302585092994046\n",
      "4.584967478670572\n",
      "3.9889840465642745\n",
      "5.293304824724492\n",
      "12\n",
      "3\n",
      "8\n",
      "125\n",
      "0\n",
      "98\n",
      "54\n",
      "199\n",
      "2.4849066497880004\n",
      "1.0986122886681098\n",
      "2.0794415416798357\n",
      "4.8283137373023015\n"
     ]
    },
    {
     "ename": "ValueError",
     "evalue": "math domain error",
     "output_type": "error",
     "traceback": [
      "\u001b[1;31m---------------------------------------------------------------------------\u001b[0m",
      "\u001b[1;31mValueError\u001b[0m                                Traceback (most recent call last)",
      "Cell \u001b[1;32mIn[102], line 15\u001b[0m\n\u001b[0;32m     12\u001b[0m     \u001b[38;5;28mprint\u001b[39m(elem)\n\u001b[0;32m     14\u001b[0m \u001b[38;5;28;01mfor\u001b[39;00m elem \u001b[38;5;129;01min\u001b[39;00m d:\n\u001b[1;32m---> 15\u001b[0m     \u001b[38;5;28mprint\u001b[39m(math\u001b[38;5;241m.\u001b[39mlog(elem))\n",
      "\u001b[1;31mValueError\u001b[0m: math domain error"
     ]
    }
   ],
   "source": [
    "d = [12, 3, 8, 125, 10, 98, 54, 199]\n",
    "\n",
    "for elem in d:\n",
    "    print(elem)\n",
    "\n",
    "for elem in d:\n",
    "    print(math.log(elem))\n",
    "\n",
    "d[4] = 0\n",
    "\n",
    "for elem in d:\n",
    "    print(elem)\n",
    "\n",
    "for elem in d:\n",
    "    print(math.log(elem))"
   ]
  },
  {
   "cell_type": "markdown",
   "metadata": {
    "id": "_Xyi6IdeuA-4"
   },
   "source": [
    "### Преобразование списка в строку"
   ]
  },
  {
   "cell_type": "code",
   "execution_count": 1,
   "metadata": {
    "id": "iUoGSZMq0JFD"
   },
   "outputs": [],
   "source": [
    "# дан список из строковых элементов\n",
    "\n",
    "str_list = ['P', 'y', 't', 'h', 'o', 'n']"
   ]
  },
  {
   "cell_type": "markdown",
   "metadata": {
    "id": "LKlvRGW-G0yG"
   },
   "source": [
    "Преобразуем список в строку с помощью метода `.join()`. Обратите внимание, пространство между элементами списка мы ничем не заполняем и для этого оставляем кавычки пустыми ''."
   ]
  },
  {
   "cell_type": "code",
   "execution_count": 2,
   "metadata": {
    "id": "KuKfbsZLuER1"
   },
   "outputs": [
    {
     "data": {
      "text/plain": [
       "'Python'"
      ]
     },
     "execution_count": 2,
     "metadata": {},
     "output_type": "execute_result"
    }
   ],
   "source": [
    "# с помощью метода .join() можно соединить все элементы\n",
    "\n",
    "joined_str = ''.join(str_list)\n",
    "joined_str"
   ]
  },
  {
   "cell_type": "code",
   "execution_count": 3,
   "metadata": {
    "id": "WfMTmZcEzgky"
   },
   "outputs": [
    {
     "data": {
      "text/plain": [
       "'P_y_t_h_o_n'"
      ]
     },
     "execution_count": 3,
     "metadata": {},
     "output_type": "execute_result"
    }
   ],
   "source": [
    "# если в кавычках ничего не указывать, элементы просто соединятся, но можно указать любой другой элемент\n",
    "\n",
    "joined_str_ = '_'.join(str_list)\n",
    "joined_str_"
   ]
  },
  {
   "cell_type": "markdown",
   "metadata": {
    "id": "uEFM3lgzzr_k"
   },
   "source": [
    "### Арифметика в списках"
   ]
  },
  {
   "cell_type": "code",
   "execution_count": 4,
   "metadata": {
    "id": "tGBnQ-mFzwJw"
   },
   "outputs": [],
   "source": [
    "# дан список чисел\n",
    "\n",
    "nums_ = [3, 2, 1, 4, 5, 12, 3, 3, 7, 9, 11, 15]"
   ]
  },
  {
   "cell_type": "markdown",
   "metadata": {
    "id": "2HvUe7cHHMht"
   },
   "source": [
    "С помощью метода `.count()` можно посчитать частоту вхождения элемента в список."
   ]
  },
  {
   "cell_type": "code",
   "execution_count": 5,
   "metadata": {
    "id": "VjwNZw2JzwUG"
   },
   "outputs": [
    {
     "data": {
      "text/plain": [
       "3"
      ]
     },
     "execution_count": 5,
     "metadata": {},
     "output_type": "execute_result"
    }
   ],
   "source": [
    "# с помощью метода .count() мы можем посчитать частоту вхождения элемента в список\n",
    "\n",
    "nums_.count(3)"
   ]
  },
  {
   "cell_type": "code",
   "execution_count": 6,
   "metadata": {
    "id": "rrRSZEb13P0e"
   },
   "outputs": [
    {
     "name": "stdout",
     "output_type": "stream",
     "text": [
      "1 15 75\n"
     ]
    }
   ],
   "source": [
    "# кроме того можно найти минимальное и максимальное значения и сумму элементов\n",
    "\n",
    "print(min(nums_), max(nums_), sum(nums_))"
   ]
  },
  {
   "cell_type": "markdown",
   "metadata": {
    "id": "kY91ANMfXeRG"
   },
   "source": [
    "## Часть 2. Кортежи"
   ]
  },
  {
   "cell_type": "markdown",
   "metadata": {
    "id": "aF48XEbsCsV4"
   },
   "source": [
    "### Основы работы с кортежами"
   ]
  },
  {
   "cell_type": "markdown",
   "metadata": {
    "id": "38W_nGPz1-Bz"
   },
   "source": [
    "Кортеж (`tuple`) инициализируется при помощи круглых скобок () или функции `tuple()`."
   ]
  },
  {
   "cell_type": "code",
   "execution_count": 7,
   "metadata": {
    "id": "qVBaa3SrtlYB"
   },
   "outputs": [
    {
     "name": "stdout",
     "output_type": "stream",
     "text": [
      "() ()\n"
     ]
    }
   ],
   "source": [
    "# пустой кортеж можно создать с помощью пустых круглых скобок () или функции tuple()\n",
    "\n",
    "tuple_1, tuple_2 = (), tuple()\n",
    "\n",
    "print(tuple_1, tuple_2)"
   ]
  },
  {
   "cell_type": "markdown",
   "metadata": {
    "id": "Np0roRVI1-Bz"
   },
   "source": [
    "Во многом **кортеж** похож на список. Это также **упорядоченный** набор элементов с индексом, начинающимся с нуля."
   ]
  },
  {
   "cell_type": "code",
   "execution_count": 8,
   "metadata": {
    "id": "Vv-okCt8tlau"
   },
   "outputs": [
    {
     "data": {
      "text/plain": [
       "'a'"
      ]
     },
     "execution_count": 8,
     "metadata": {},
     "output_type": "execute_result"
    }
   ],
   "source": [
    "# в кортеже элементы упорядочены, а значит есть индекс\n",
    "\n",
    "letters = ('a', 'b', 'c')\n",
    "letters[0]"
   ]
  },
  {
   "cell_type": "markdown",
   "metadata": {
    "id": "DF86jaF41-Bz"
   },
   "source": [
    "Основное отличие от списка — **кортеж неизменяем**. После того как кортеж создан, добавлять или удалять элементы нельзя.<br>\n",
    "\n",
    "Например, заменить элемент по его индексу нельзя."
   ]
  },
  {
   "cell_type": "code",
   "execution_count": 9,
   "metadata": {
    "id": "3MERPn2I_o9D"
   },
   "outputs": [
    {
     "ename": "TypeError",
     "evalue": "'tuple' object does not support item assignment",
     "output_type": "error",
     "traceback": [
      "\u001b[1;31m---------------------------------------------------------------------------\u001b[0m",
      "\u001b[1;31mTypeError\u001b[0m                                 Traceback (most recent call last)",
      "Cell \u001b[1;32mIn[9], line 3\u001b[0m\n\u001b[0;32m      1\u001b[0m \u001b[38;5;66;03m# но изменить элемент, как мы это делали в списке, нельзя\u001b[39;00m\n\u001b[1;32m----> 3\u001b[0m letters[\u001b[38;5;241m0\u001b[39m] \u001b[38;5;241m=\u001b[39m \u001b[38;5;124m'\u001b[39m\u001b[38;5;124md\u001b[39m\u001b[38;5;124m'\u001b[39m\n",
      "\u001b[1;31mTypeError\u001b[0m: 'tuple' object does not support item assignment"
     ]
    }
   ],
   "source": [
    "# но изменить элемент, как мы это делали в списке, нельзя\n",
    "\n",
    "letters[0] = 'd'"
   ]
  },
  {
   "cell_type": "markdown",
   "metadata": {
    "id": "f2INhC5p1-Bz"
   },
   "source": [
    "Для этого придется вначале преобразовать кортеж в список."
   ]
  },
  {
   "cell_type": "code",
   "execution_count": null,
   "metadata": {
    "id": "3AKPc8KEBKDl"
   },
   "outputs": [],
   "source": [
    "# для изменения элемента кортеж вначале нужно преобразовать в список\n",
    "\n",
    "letters = list(letters)\n",
    "letters[0] = 'd'\n",
    "letters"
   ]
  },
  {
   "cell_type": "code",
   "execution_count": 10,
   "metadata": {
    "id": "NvRmYNY2C36p"
   },
   "outputs": [
    {
     "data": {
      "text/plain": [
       "tuple"
      ]
     },
     "execution_count": 10,
     "metadata": {},
     "output_type": "execute_result"
    }
   ],
   "source": [
    "# кортеж из одного элемента можно создать с помощью запятой\n",
    "\n",
    "let_a = ('a', )\n",
    "\n",
    "type(let_a)"
   ]
  },
  {
   "cell_type": "code",
   "execution_count": 11,
   "metadata": {
    "id": "D2vQPPY8C_2G"
   },
   "outputs": [
    {
     "data": {
      "text/plain": [
       "str"
      ]
     },
     "execution_count": 11,
     "metadata": {},
     "output_type": "execute_result"
    }
   ],
   "source": [
    "# если запятую не указывать, получится строка\n",
    "\n",
    "let_a = ('a')\n",
    "\n",
    "type(let_a)"
   ]
  },
  {
   "cell_type": "markdown",
   "metadata": {
    "id": "xLJn10TGXhlq"
   },
   "source": [
    "## Часть 3. Множества"
   ]
  },
  {
   "cell_type": "markdown",
   "metadata": {
    "id": "nRFV4nUx1-B1"
   },
   "source": [
    "Про множества важно запомнить три факта:\n",
    "\n",
    "- Элементы множества **изменять нельзя**\n",
    "- Множество — это набор **уникальных** элементов, а значит повторы в нем удаляются\n",
    "- У множества нет индекса, элементы **не упорядочены**"
   ]
  },
  {
   "cell_type": "markdown",
   "metadata": {
    "id": "69RH3VDxWu_5"
   },
   "source": [
    "### Создание множества"
   ]
  },
  {
   "cell_type": "markdown",
   "metadata": {
    "id": "POUemeim1-B1"
   },
   "source": [
    "Множество можно создать с помощью функции `set()` или перечислив элементы в фигурных скобках `{}`."
   ]
  },
  {
   "cell_type": "code",
   "execution_count": 12,
   "metadata": {
    "id": "7T9QjMN_tn5Q"
   },
   "outputs": [],
   "source": [
    "# пустое множество задается через функцию set()\n",
    "\n",
    "set_1 = set()"
   ]
  },
  {
   "cell_type": "code",
   "execution_count": 13,
   "metadata": {
    "id": "jBPP53t91-B1"
   },
   "outputs": [],
   "source": [
    "# непустое множество задается через функцию set() и список элементов\n",
    "\n",
    "set_2 = set(['a', 'b', 'c', 'c'])"
   ]
  },
  {
   "cell_type": "code",
   "execution_count": 14,
   "metadata": {
    "id": "BaS-Zuc51-B1"
   },
   "outputs": [],
   "source": [
    "# или путем перечисления элементов в фигурных скобках {}\n",
    "\n",
    "set_3 = {'a', 'b', 'c', 'c'}"
   ]
  },
  {
   "cell_type": "code",
   "execution_count": 15,
   "metadata": {
    "id": "fGyDB6TD1-B1"
   },
   "outputs": [
    {
     "name": "stdout",
     "output_type": "stream",
     "text": [
      "set() {'c', 'b', 'a'} {'c', 'b', 'a'}\n"
     ]
    }
   ],
   "source": [
    "# множество содержит только уникальные элементы, поэтому дубликаты удаляются\n",
    "\n",
    "print(set_1, set_2, set_3)"
   ]
  },
  {
   "cell_type": "markdown",
   "metadata": {
    "id": "MQDl80DB1-B2"
   },
   "source": [
    "**!Обратите внимание**, Python вывел элементы множества не в том порядке, в котором они были изначально записаны, и кроме того удалил повторяющийся элемент 'c'."
   ]
  },
  {
   "cell_type": "code",
   "execution_count": 16,
   "metadata": {
    "id": "k4sVIWhxtn8N"
   },
   "outputs": [
    {
     "data": {
      "text/plain": [
       "dict"
      ]
     },
     "execution_count": 16,
     "metadata": {},
     "output_type": "execute_result"
    }
   ],
   "source": [
    "# создать множество через пустые фигурные скобки нельзя\n",
    "\n",
    "not_a_set = {}\n",
    "\n",
    "# так создается словарь\n",
    "\n",
    "type(not_a_set)"
   ]
  },
  {
   "cell_type": "markdown",
   "metadata": {
    "id": "tHsQ7_dCXQkJ"
   },
   "source": [
    "### Добавление и удаление элементов"
   ]
  },
  {
   "cell_type": "markdown",
   "metadata": {
    "id": "AJkqmALf1-B2"
   },
   "source": [
    "Изменять элементы множества нельзя. При этом ничто не мешает их добавлять или удалять. Предположим, мы начали создавать множество гласных букв в русском языке."
   ]
  },
  {
   "cell_type": "code",
   "execution_count": 17,
   "metadata": {
    "id": "VMdDL588YmOm"
   },
   "outputs": [],
   "source": [
    "# предположим, что мы хотим создать множество гласных букв в русском языке\n",
    "\n",
    "vowels = {'а', 'о', 'э', 'е', 'у', 'ё', 'ю'}"
   ]
  },
  {
   "cell_type": "markdown",
   "metadata": {
    "id": "Ne0P3dvw1-B2"
   },
   "source": [
    "Метод `.add()` позволяет добавить элемент во множество. Например, букву «я»."
   ]
  },
  {
   "cell_type": "code",
   "execution_count": 18,
   "metadata": {
    "id": "A3b7LnrTuxu9"
   },
   "outputs": [
    {
     "data": {
      "text/plain": [
       "{'а', 'е', 'о', 'у', 'э', 'ю', 'я', 'ё'}"
      ]
     },
     "execution_count": 18,
     "metadata": {},
     "output_type": "execute_result"
    }
   ],
   "source": [
    "# добавим одну букву \"я\" методом .add()\n",
    "\n",
    "vowels.add('я')\n",
    "vowels"
   ]
  },
  {
   "cell_type": "markdown",
   "metadata": {
    "id": "DomFsfU51-B2"
   },
   "source": [
    "Несколько элементов можно добавить с помощью метода `.update()`."
   ]
  },
  {
   "cell_type": "code",
   "execution_count": 19,
   "metadata": {
    "id": "RuCG-RnTk9SZ"
   },
   "outputs": [
    {
     "data": {
      "text/plain": [
       "{'а', 'е', 'и', 'о', 'у', 'ы', 'э', 'ю', 'я', 'ё'}"
      ]
     },
     "execution_count": 19,
     "metadata": {},
     "output_type": "execute_result"
    }
   ],
   "source": [
    "# добавим две буквы \"и\" и \"ы\" методом .update()\n",
    "\n",
    "vowels.update(['и', 'ы'])\n",
    "vowels"
   ]
  },
  {
   "cell_type": "code",
   "execution_count": 20,
   "metadata": {
    "id": "6OJBJ5cYvwrl"
   },
   "outputs": [
    {
     "data": {
      "text/plain": [
       "{'а', 'е', 'и', 'о', 'у', 'щ', 'ы', 'э', 'ю', 'я', 'ё'}"
      ]
     },
     "execution_count": 20,
     "metadata": {},
     "output_type": "execute_result"
    }
   ],
   "source": [
    "# если по ошибке добавим согласную букву\n",
    "\n",
    "vowels.add('щ')\n",
    "vowels"
   ]
  },
  {
   "cell_type": "markdown",
   "metadata": {
    "id": "zGvg4sOs1-B2"
   },
   "source": [
    "Ее можно удалить с помощью метода `.remove()`."
   ]
  },
  {
   "cell_type": "code",
   "execution_count": 21,
   "metadata": {
    "id": "VTCYCiXZv4Wc"
   },
   "outputs": [
    {
     "data": {
      "text/plain": [
       "{'а', 'е', 'и', 'о', 'у', 'ы', 'э', 'ю', 'я', 'ё'}"
      ]
     },
     "execution_count": 21,
     "metadata": {},
     "output_type": "execute_result"
    }
   ],
   "source": [
    "# ее можно удалить методом .remove()\n",
    "\n",
    "vowels.remove('щ')\n",
    "vowels"
   ]
  },
  {
   "cell_type": "markdown",
   "metadata": {
    "id": "uB1je436aY19"
   },
   "source": [
    "### Теория множеств в Python"
   ]
  },
  {
   "cell_type": "markdown",
   "metadata": {
    "id": "RpNDtpYK1-B2"
   },
   "source": [
    "Разумеется, объект множества в Python согласуется с математической теорией множеств (set theory)."
   ]
  },
  {
   "cell_type": "markdown",
   "metadata": {
    "id": "UGG3ip3J1-B2"
   },
   "source": [
    "В частности, **равные множества** — это множества, состоящие из одних и тех же элементов (при этом порядок элементов не важен). Python позволяет это проверить."
   ]
  },
  {
   "cell_type": "code",
   "execution_count": 22,
   "metadata": {
    "id": "ScRveXFjagly"
   },
   "outputs": [
    {
     "data": {
      "text/plain": [
       "True"
      ]
     },
     "execution_count": 22,
     "metadata": {},
     "output_type": "execute_result"
    }
   ],
   "source": [
    "# два множества равны, если содержат одинаковые элементы, при этом порядок элементов не важен\n",
    "\n",
    "{'a', 'b', 'c'} == {'c', 'b', 'a'}"
   ]
  },
  {
   "cell_type": "markdown",
   "metadata": {
    "id": "KGYvyHNH1-B2"
   },
   "source": [
    "Мощность множества или его кардинальное число отражает количество элементов множества и рассчитывается с помощью функции `len()`."
   ]
  },
  {
   "cell_type": "code",
   "execution_count": 23,
   "metadata": {
    "id": "O5_E1AS9JOL2"
   },
   "outputs": [
    {
     "data": {
      "text/plain": [
       "3"
      ]
     },
     "execution_count": 23,
     "metadata": {},
     "output_type": "execute_result"
    }
   ],
   "source": [
    "# выведем мощность множества с помощью функции len()\n",
    "\n",
    "len({'a', 'b', 'c'})"
   ]
  },
  {
   "cell_type": "code",
   "execution_count": 24,
   "metadata": {
    "id": "tktbnMu4JOOY"
   },
   "outputs": [
    {
     "data": {
      "text/plain": [
       "True"
      ]
     },
     "execution_count": 24,
     "metadata": {},
     "output_type": "execute_result"
    }
   ],
   "source": [
    "# проверим, содержится ли элемент во множестве\n",
    "\n",
    "'a' in {'a', 'b', 'c'}"
   ]
  },
  {
   "cell_type": "code",
   "execution_count": 25,
   "metadata": {
    "id": "7LjJsYc2JORQ"
   },
   "outputs": [
    {
     "data": {
      "text/plain": [
       "False"
      ]
     },
     "execution_count": 25,
     "metadata": {},
     "output_type": "execute_result"
    }
   ],
   "source": [
    "# возможна и обратная операция\n",
    "\n",
    "'a' not in {'a', 'b', 'c'}"
   ]
  },
  {
   "cell_type": "markdown",
   "metadata": {
    "id": "2Jy3RmRs1-B3"
   },
   "source": [
    "### Подмножество и надмножество"
   ]
  },
  {
   "cell_type": "markdown",
   "metadata": {
    "id": "lFabhG6P1-B3"
   },
   "source": [
    "Одно множество, назовем его A, называется **подмножеством (subset)** другого множества B, если все элементы множества A также принадлежат и множеству B. Python позволяет это проверить с помощью метода `.issubset()`."
   ]
  },
  {
   "cell_type": "code",
   "execution_count": 26,
   "metadata": {
    "id": "NQYRj8yT1-B3"
   },
   "outputs": [],
   "source": [
    "# проверим является ли А подмножеством В\n",
    "\n",
    "set_A = {'a', 'b', 'c'}\n",
    "set_B = {'a', 'b', 'c', 'd', 'e', 'f'}"
   ]
  },
  {
   "cell_type": "code",
   "execution_count": 27,
   "metadata": {
    "id": "MF1nGQvDJOUI"
   },
   "outputs": [
    {
     "data": {
      "text/plain": [
       "True"
      ]
     },
     "execution_count": 27,
     "metadata": {},
     "output_type": "execute_result"
    }
   ],
   "source": [
    "set_A.issubset(set_B)"
   ]
  },
  {
   "cell_type": "markdown",
   "metadata": {
    "id": "B-h3wapY1-B3"
   },
   "source": [
    "Множество B называется **надмножеством (superset)** A, если A является подмножеством B. По сути, это обратная логическая операция, для которой есть метод `.issuperset()`."
   ]
  },
  {
   "cell_type": "code",
   "execution_count": 28,
   "metadata": {
    "id": "Ne2zLJy3DMT7"
   },
   "outputs": [
    {
     "data": {
      "text/plain": [
       "True"
      ]
     },
     "execution_count": 28,
     "metadata": {},
     "output_type": "execute_result"
    }
   ],
   "source": [
    "# проверим является ли B надмножеством А\n",
    "\n",
    "set_B.issuperset(set_A)"
   ]
  },
  {
   "cell_type": "markdown",
   "metadata": {
    "id": "OTa8csin1-B3"
   },
   "source": [
    "### Объединение, пересечение и разность множеств"
   ]
  },
  {
   "cell_type": "markdown",
   "metadata": {
    "id": "XEJxrgT11-B3"
   },
   "source": [
    "Предположим, есть две команды инженеров машинного обучения, одна занимается обработкой естественного языка (nlp), другая — компьютерным зрением (cv). Некоторые занимаются и тем, и другим."
   ]
  },
  {
   "cell_type": "code",
   "execution_count": 29,
   "metadata": {
    "id": "0MxJj85iDc_y"
   },
   "outputs": [],
   "source": [
    "# даны участники команд по обработке естественного языка (nlp) и компьютерному зрению (cv)\n",
    "\n",
    "nlp = set(['Анна', 'Николай', 'Павел', 'Оксана'])\n",
    "cv = set(['Николай', 'Евгений', 'Ольга', 'Оксана'])"
   ]
  },
  {
   "cell_type": "markdown",
   "metadata": {
    "id": "U3Spsyvu1-B3"
   },
   "source": [
    "**Объединение множеств (union)** отражает логическую операцию ИЛИ. Выберем тех специалистов, которые состоят хотя бы в одной команде. Другими словами, принадлежат или одному, или другому множеству, или обоим сразу."
   ]
  },
  {
   "cell_type": "code",
   "execution_count": 30,
   "metadata": {
    "id": "ipXl-eO5EFKS"
   },
   "outputs": [
    {
     "name": "stdout",
     "output_type": "stream",
     "text": [
      "{'Павел', 'Ольга', 'Анна', 'Николай', 'Евгений', 'Оксана'}\n",
      "{'Павел', 'Ольга', 'Анна', 'Николай', 'Евгений', 'Оксана'}\n"
     ]
    }
   ],
   "source": [
    "# найдем тех, кто работает или в nlp, или в cv, или в обеих командах\n",
    "\n",
    "# можно использовать метод .union()\n",
    "\n",
    "print(nlp.union(cv))\n",
    "\n",
    "# или символ |\n",
    "\n",
    "print(nlp | cv)"
   ]
  },
  {
   "cell_type": "markdown",
   "metadata": {
    "id": "dj63Lcuv1-B3"
   },
   "source": [
    "Есть два способа задать объединение множеств: через метод `.union()` или с помощью символа `|`. Аналогичные возможности есть и для других операций с множествами."
   ]
  },
  {
   "cell_type": "markdown",
   "metadata": {
    "id": "n3onPhvB1-B3"
   },
   "source": [
    "При **пересечении множеств (intersection)** осуществляется логическая операция И. Выбираем только тех людей, которые работают в обеих командах, т.е. принадлежат обоим множествам."
   ]
  },
  {
   "cell_type": "code",
   "execution_count": 31,
   "metadata": {
    "id": "vkUEl3eeEnPn"
   },
   "outputs": [
    {
     "name": "stdout",
     "output_type": "stream",
     "text": [
      "{'Николай', 'Оксана'}\n",
      "{'Николай', 'Оксана'}\n"
     ]
    }
   ],
   "source": [
    "# найдем пересечение множеств, то есть тех, кто работает и в nlp, и в cv\n",
    "\n",
    "print(nlp.intersection(cv))\n",
    "print(nlp & cv)"
   ]
  },
  {
   "cell_type": "markdown",
   "metadata": {
    "id": "UyG7aBip1-B3"
   },
   "source": [
    "**Разность множеств (difference)** nlp и cv позволяет увидеть, кто в команде по обработке естественного языка занимается только этой областью, и не учавствует в проектах по компьютерному зрению."
   ]
  },
  {
   "cell_type": "code",
   "execution_count": 32,
   "metadata": {
    "id": "mNV8c0hQExzL"
   },
   "outputs": [
    {
     "name": "stdout",
     "output_type": "stream",
     "text": [
      "{'Павел', 'Анна'}\n",
      "{'Павел', 'Анна'}\n"
     ]
    }
   ],
   "source": [
    "# выведем тех, кто работает только в nlp, но не в cv или cv и nlp одновременно\n",
    "\n",
    "print(nlp.difference(cv))\n",
    "print(nlp - cv)"
   ]
  },
  {
   "cell_type": "code",
   "execution_count": 33,
   "metadata": {
    "id": "RnawDdtME8T4"
   },
   "outputs": [
    {
     "name": "stdout",
     "output_type": "stream",
     "text": [
      "{'Евгений', 'Ольга'}\n",
      "{'Евгений', 'Ольга'}\n"
     ]
    }
   ],
   "source": [
    "# выведем тех, кто работает только в cv, но не в nlp или nlp и cv одновременно\n",
    "\n",
    "print(cv.difference(nlp))\n",
    "print(cv - nlp)"
   ]
  },
  {
   "cell_type": "markdown",
   "metadata": {
    "id": "aHFGTa6q1-B4"
   },
   "source": [
    "**Симметричная разность (symmetric difference)** множеств объединяет обе предыдущие операции разности."
   ]
  },
  {
   "cell_type": "code",
   "execution_count": 34,
   "metadata": {
    "id": "sHIWgu4ZFEqv"
   },
   "outputs": [
    {
     "name": "stdout",
     "output_type": "stream",
     "text": [
      "{'Ольга', 'Анна', 'Евгений', 'Павел'}\n",
      "{'Ольга', 'Анна', 'Евгений', 'Павел'}\n"
     ]
    }
   ],
   "source": [
    "# найдем тех, кто работает или в cv, или в nlp, но не в обеих областях одновременно\n",
    "\n",
    "print(nlp.symmetric_difference(cv))\n",
    "print(nlp ^ cv)"
   ]
  },
  {
   "cell_type": "markdown",
   "metadata": {
    "id": "PM1xBwIm1-B4"
   },
   "source": [
    "# Задание\n",
    "\n",
    "- Даны два множества людей, посетивших Францию и Испанию. С помощью Python найдите тех, кто был и во Франции, и в Испании.\n",
    "- Воспользуйтесь этими же множествами и найдите тех, кто был только в Испании, но не заезжал еще и во Францию.\n",
    "- И наоборот, найдите тех, кто был только во Франции, но не в Испании."
   ]
  },
  {
   "cell_type": "code",
   "execution_count": 36,
   "metadata": {
    "id": "Tymr-6Lu1-B4"
   },
   "outputs": [
    {
     "name": "stdout",
     "output_type": "stream",
     "text": [
      "Были и во Франции, и в Испании: {'Екатерина', 'Николай'}\n",
      "Были только в Испании: {'Василий', 'Татьяна'}\n",
      "Были только во Франции: {'Евгений', 'Михаил'}\n"
     ]
    }
   ],
   "source": [
    "france = {'Михаил', 'Евгений', 'Екатерина', 'Николай'}\n",
    "spain = {'Татьяна', 'Василий', 'Екатерина', 'Николай'}\n",
    "\n",
    "intersection = france.intersection(spain)\n",
    "print(\"Были и во Франции, и в Испании:\", intersection)\n",
    "\n",
    "only_spain = spain.difference(france)\n",
    "print(\"Были только в Испании:\", only_spain)\n",
    "\n",
    "only_france = france.difference(spain)\n",
    "print(\"Были только во Франции:\", only_france)"
   ]
  },
  {
   "cell_type": "code",
   "execution_count": null,
   "metadata": {
    "id": "ojGuSK3YbozC"
   },
   "outputs": [],
   "source": []
  },
  {
   "cell_type": "markdown",
   "metadata": {
    "id": "rFcHI6PG3Q26"
   },
   "source": [
    "## Часть 4. Понятие словаря"
   ]
  },
  {
   "cell_type": "markdown",
   "metadata": {
    "id": "0WrN2pFN3NlW"
   },
   "source": [
    "**Словари**, наряду со списками, кортежами и множествами, также входят в состав **коллекций** (collections), т.е. структур данных, содержащих несколько элементов."
   ]
  },
  {
   "cell_type": "markdown",
   "metadata": {
    "id": "YrigTRzl3NlX"
   },
   "source": [
    "**Словарь** — неупорядоченный набор элементов с доступом по ключу."
   ]
  },
  {
   "cell_type": "markdown",
   "metadata": {
    "id": "Ju9zu2pG3NlX"
   },
   "source": [
    "Словарь состоит из **ключей** и **значений**. По ключу (key) всегда можно найти соответствующее ему значение (value)."
   ]
  },
  {
   "cell_type": "markdown",
   "metadata": {
    "id": "2xJEnQ8Z3NlX"
   },
   "source": [
    "*Например*, словарь для списка покупок: `shopping_dict` = {'огурцы': 2, 'помидоры': 3, 'лук': 1, 'картофель': 2}<br>\n",
    "Ключи - овощи, значения - килограммы."
   ]
  },
  {
   "cell_type": "markdown",
   "metadata": {
    "id": "q3g2TpPQ3NlX"
   },
   "source": [
    "Для **создания словаря** используются фигурные скобки, в которые через запятую записываются ключи и значения, разделенные двоеточием:<br>\n",
    "{ключ: значение, ключ: значение}"
   ]
  },
  {
   "cell_type": "markdown",
   "metadata": {
    "id": "AEHY4SW_3mIj"
   },
   "source": [
    "### Создание словаря"
   ]
  },
  {
   "cell_type": "code",
   "execution_count": 37,
   "metadata": {
    "id": "rvRyS13c3Q26"
   },
   "outputs": [
    {
     "name": "stdout",
     "output_type": "stream",
     "text": [
      "{} {}\n"
     ]
    }
   ],
   "source": [
    "# пустой словарь можно создать с помощью {} или функции dict()\n",
    "\n",
    "dict_1, dict_2 = {}, dict()\n",
    "\n",
    "print(dict_1, dict_2)"
   ]
  },
  {
   "cell_type": "code",
   "execution_count": 38,
   "metadata": {
    "id": "9dTLqldq3NlX"
   },
   "outputs": [
    {
     "name": "stdout",
     "output_type": "stream",
     "text": [
      "['огурцы', 'помидоры', 'лук', 'картофель'] [2, 3, 1, 2]\n"
     ]
    }
   ],
   "source": [
    "#списки\n",
    "\n",
    "veg_list, quantity_list = ['огурцы', 'помидоры', 'лук', 'картофель'], [2, 3, 1, 2]\n",
    "print(veg_list, quantity_list)"
   ]
  },
  {
   "cell_type": "code",
   "execution_count": 39,
   "metadata": {
    "id": "PQsUCcwS3NlX"
   },
   "outputs": [
    {
     "data": {
      "text/plain": [
       "{'огурцы': 2, 'помидоры': 3, 'лук': 1, 'картофель': 2}"
      ]
     },
     "execution_count": 39,
     "metadata": {},
     "output_type": "execute_result"
    }
   ],
   "source": [
    "#словарь\n",
    "\n",
    "shopping_dict = {'огурцы': 2, 'помидоры': 3, 'лук': 1, 'картофель': 2}\n",
    "shopping_dict"
   ]
  },
  {
   "cell_type": "code",
   "execution_count": 40,
   "metadata": {
    "id": "DAm_z2Ma3Q26",
    "scrolled": true
   },
   "outputs": [
    {
     "data": {
      "text/plain": [
       "{'name': 'Toyota', 'founded': 1937, 'founder': 'Kiichiro Toyoda'}"
      ]
     },
     "execution_count": 40,
     "metadata": {},
     "output_type": "execute_result"
    }
   ],
   "source": [
    "# словарь можно сразу заполнить ключами и значениями\n",
    "\n",
    "company = {'name': 'Toyota', 'founded' : 1937, 'founder': 'Kiichiro Toyoda'}\n",
    "company"
   ]
  },
  {
   "cell_type": "code",
   "execution_count": 41,
   "metadata": {
    "id": "pBONkfBYZRkZ"
   },
   "outputs": [
    {
     "data": {
      "text/plain": [
       "{'TYO': 'Toyota', 'TSLA': 'Tesla', 'F': 'Ford'}"
      ]
     },
     "execution_count": 41,
     "metadata": {},
     "output_type": "execute_result"
    }
   ],
   "source": [
    "# словарь можно создать из вложенных списков\n",
    "\n",
    "tickers = dict([['TYO', 'Toyota'], ['TSLA', 'Tesla'], ['F', 'Ford']])\n",
    "tickers"
   ]
  },
  {
   "cell_type": "markdown",
   "metadata": {
    "id": "eCY4_EmI3NlY"
   },
   "source": [
    "Иногда бывает полезно создать словарь с заранее известными ключами и заданным значением."
   ]
  },
  {
   "cell_type": "code",
   "execution_count": 42,
   "metadata": {
    "id": "Zdh9r9X03NlY"
   },
   "outputs": [],
   "source": [
    "# если поместить ключи в кортеж\n",
    "keys = ('k1', 'k2', 'k3')\n",
    "\n",
    "# и задать значение\n",
    "value = 0"
   ]
  },
  {
   "cell_type": "code",
   "execution_count": 43,
   "metadata": {
    "id": "y5zC4qKWbUn3"
   },
   "outputs": [
    {
     "data": {
      "text/plain": [
       "{'k1': 0, 'k2': 0, 'k3': 0}"
      ]
     },
     "execution_count": 43,
     "metadata": {},
     "output_type": "execute_result"
    }
   ],
   "source": [
    "# то с помощью метода .fromkeys() можно создать словарь\n",
    "# с этими ключами и заданным значением для каждого из них\n",
    "\n",
    "empty_values = dict.fromkeys(keys, value)\n",
    "empty_values"
   ]
  },
  {
   "cell_type": "markdown",
   "metadata": {
    "id": "SdW5ePii6BGZ"
   },
   "source": [
    "### Ключи и значения словаря"
   ]
  },
  {
   "cell_type": "markdown",
   "metadata": {
    "id": "y5MO20G73Nlb"
   },
   "source": [
    "Как и списки, **словари хранят значения любых типов**. Но **у ключей есть ограничения**: ключами словаря могут быть только неизменяемые типы данных. Например, строки, числа, кортежи или логические значения (Boolean). Кроме того, ключи должны быть уникальными и соответственно не могут повторяться."
   ]
  },
  {
   "cell_type": "markdown",
   "metadata": {
    "id": "9On-k7HU3Nlb"
   },
   "source": [
    "Значения словаря, наоборот, могут состоять из чисел, строк, пропущенных (NaN) и логических значений, значения типа None, списков, массивов Numpy и вложенных словарей."
   ]
  },
  {
   "cell_type": "markdown",
   "metadata": {
    "id": "W9vaAXb2zKVb"
   },
   "source": [
    "#### Виды значений словаря"
   ]
  },
  {
   "cell_type": "code",
   "execution_count": 44,
   "metadata": {
    "id": "d0bh3eRu6EAy"
   },
   "outputs": [
    {
     "ename": "NameError",
     "evalue": "name 'np' is not defined",
     "output_type": "error",
     "traceback": [
      "\u001b[1;31m---------------------------------------------------------------------------\u001b[0m",
      "\u001b[1;31mNameError\u001b[0m                                 Traceback (most recent call last)",
      "Cell \u001b[1;32mIn[44], line 5\u001b[0m\n\u001b[0;32m      1\u001b[0m \u001b[38;5;66;03m# приведем пример того, какими могут быть значения словаря\u001b[39;00m\n\u001b[0;32m      3\u001b[0m value_types \u001b[38;5;241m=\u001b[39m {\u001b[38;5;124m'\u001b[39m\u001b[38;5;124mk1\u001b[39m\u001b[38;5;124m'\u001b[39m : \u001b[38;5;241m123\u001b[39m,\n\u001b[0;32m      4\u001b[0m                \u001b[38;5;124m'\u001b[39m\u001b[38;5;124mk2\u001b[39m\u001b[38;5;124m'\u001b[39m : \u001b[38;5;124m'\u001b[39m\u001b[38;5;124mstring\u001b[39m\u001b[38;5;124m'\u001b[39m,\n\u001b[1;32m----> 5\u001b[0m                \u001b[38;5;124m'\u001b[39m\u001b[38;5;124mk3\u001b[39m\u001b[38;5;124m'\u001b[39m : np\u001b[38;5;241m.\u001b[39mNaN, \u001b[38;5;66;03m# тип \"Пропущенное значение\"\u001b[39;00m\n\u001b[0;32m      6\u001b[0m                \u001b[38;5;124m'\u001b[39m\u001b[38;5;124mk4\u001b[39m\u001b[38;5;124m'\u001b[39m : \u001b[38;5;28;01mTrue\u001b[39;00m, \u001b[38;5;66;03m# логическое значение\u001b[39;00m\n\u001b[0;32m      7\u001b[0m                \u001b[38;5;124m'\u001b[39m\u001b[38;5;124mk5\u001b[39m\u001b[38;5;124m'\u001b[39m : \u001b[38;5;28;01mNone\u001b[39;00m,\n\u001b[0;32m      8\u001b[0m                \u001b[38;5;124m'\u001b[39m\u001b[38;5;124mk6\u001b[39m\u001b[38;5;124m'\u001b[39m : [\u001b[38;5;241m1\u001b[39m, \u001b[38;5;241m2\u001b[39m, \u001b[38;5;241m3\u001b[39m],\n\u001b[0;32m      9\u001b[0m                \u001b[38;5;124m'\u001b[39m\u001b[38;5;124mk7\u001b[39m\u001b[38;5;124m'\u001b[39m : np\u001b[38;5;241m.\u001b[39marray([\u001b[38;5;241m1\u001b[39m, \u001b[38;5;241m2\u001b[39m, \u001b[38;5;241m3\u001b[39m]),\n\u001b[0;32m     10\u001b[0m                \u001b[38;5;124m'\u001b[39m\u001b[38;5;124mk8\u001b[39m\u001b[38;5;124m'\u001b[39m : {\u001b[38;5;241m1\u001b[39m : \u001b[38;5;124m'\u001b[39m\u001b[38;5;124mv1\u001b[39m\u001b[38;5;124m'\u001b[39m, \u001b[38;5;241m2\u001b[39m : \u001b[38;5;124m'\u001b[39m\u001b[38;5;124mv2\u001b[39m\u001b[38;5;124m'\u001b[39m, \u001b[38;5;241m3\u001b[39m : \u001b[38;5;124m'\u001b[39m\u001b[38;5;124mv3\u001b[39m\u001b[38;5;124m'\u001b[39m}}\n\u001b[0;32m     12\u001b[0m value_types\n",
      "\u001b[1;31mNameError\u001b[0m: name 'np' is not defined"
     ]
    }
   ],
   "source": [
    "# приведем пример того, какими могут быть значения словаря\n",
    "\n",
    "value_types = {'k1' : 123,\n",
    "               'k2' : 'string',\n",
    "               'k3' : np.NaN, # тип \"Пропущенное значение\"\n",
    "               'k4' : True, # логическое значение\n",
    "               'k5' : None,\n",
    "               'k6' : [1, 2, 3],\n",
    "               'k7' : np.array([1, 2, 3]),\n",
    "               'k8' : {1 : 'v1', 2 : 'v2', 3 : 'v3'}}\n",
    "\n",
    "value_types"
   ]
  },
  {
   "cell_type": "markdown",
   "metadata": {
    "id": "U9bE49-P3Nlb"
   },
   "source": [
    "Что будет, если в словаре есть одинаковые ключи."
   ]
  },
  {
   "cell_type": "code",
   "execution_count": 45,
   "metadata": {
    "id": "dH_dwtEF3Nlc"
   },
   "outputs": [
    {
     "data": {
      "text/plain": [
       "{'k1': 3}"
      ]
     },
     "execution_count": 45,
     "metadata": {},
     "output_type": "execute_result"
    }
   ],
   "source": [
    "{'k1' : 1, 'k1' : 2, 'k1' : 3}"
   ]
  },
  {
   "cell_type": "markdown",
   "metadata": {
    "id": "AktD-qd772bs"
   },
   "source": [
    "#### Методы `.keys()`, `.values()` и `.items()`"
   ]
  },
  {
   "cell_type": "code",
   "execution_count": 46,
   "metadata": {
    "id": "FoLHc64C716M"
   },
   "outputs": [],
   "source": [
    "# создадим словарь с информацией о сотруднике\n",
    "\n",
    "person = {'first name' : 'Иван',\n",
    "          'last name' : 'Иванов',\n",
    "          'born' : 1980,\n",
    "          'dept' : 'IT'}"
   ]
  },
  {
   "cell_type": "code",
   "execution_count": 47,
   "metadata": {
    "id": "8Gl7ZMqt8wuZ"
   },
   "outputs": [
    {
     "data": {
      "text/plain": [
       "dict_keys(['first name', 'last name', 'born', 'dept'])"
      ]
     },
     "execution_count": 47,
     "metadata": {},
     "output_type": "execute_result"
    }
   ],
   "source": [
    "# посмотрим на ключи и\n",
    "\n",
    "person.keys()"
   ]
  },
  {
   "cell_type": "code",
   "execution_count": 48,
   "metadata": {
    "id": "j3mruPRR8xgX"
   },
   "outputs": [
    {
     "data": {
      "text/plain": [
       "dict_values(['Иван', 'Иванов', 1980, 'IT'])"
      ]
     },
     "execution_count": 48,
     "metadata": {},
     "output_type": "execute_result"
    }
   ],
   "source": [
    "# значения\n",
    "\n",
    "person.values()"
   ]
  },
  {
   "cell_type": "code",
   "execution_count": 49,
   "metadata": {
    "id": "wfmjr1bu81Ay"
   },
   "outputs": [
    {
     "data": {
      "text/plain": [
       "dict_items([('first name', 'Иван'), ('last name', 'Иванов'), ('born', 1980), ('dept', 'IT')])"
      ]
     },
     "execution_count": 49,
     "metadata": {},
     "output_type": "execute_result"
    }
   ],
   "source": [
    "# а также на пары ключ-значение в виде списка из кортежей\n",
    "\n",
    "person.items()"
   ]
  },
  {
   "cell_type": "markdown",
   "metadata": {
    "id": "YxrdHML389v4"
   },
   "source": [
    "#### Использование цикла for"
   ]
  },
  {
   "cell_type": "markdown",
   "metadata": {
    "id": "3gs_SFIt3Nlc"
   },
   "source": [
    "Ключи и значения словаря удобно просматривать с помощью цикла for и метода .items()."
   ]
  },
  {
   "cell_type": "code",
   "execution_count": 50,
   "metadata": {
    "id": "ssN6LrjO83h8"
   },
   "outputs": [
    {
     "name": "stdout",
     "output_type": "stream",
     "text": [
      "first name Иван\n",
      "last name Иванов\n",
      "born 1980\n",
      "dept IT\n"
     ]
    }
   ],
   "source": [
    "# ключи и значения можно вывести в цикле for\n",
    "\n",
    "for k, v in person.items():\n",
    "    print(k, v)"
   ]
  },
  {
   "cell_type": "markdown",
   "metadata": {
    "id": "Z0EsdC1d3Nlc"
   },
   "source": [
    "Если записать результат метода `.items()` в одну переменную, будут выведены кортежи из ключа и значения.<br>\n",
    "Использование в цикле for методов `.keys()` и `.values()` выводит только ключи или только значения соответственно."
   ]
  },
  {
   "cell_type": "code",
   "execution_count": 51,
   "metadata": {
    "id": "_YmNhqLb3Nlc"
   },
   "outputs": [
    {
     "name": "stdout",
     "output_type": "stream",
     "text": [
      "('first name', 'Иван')\n",
      "('last name', 'Иванов')\n",
      "('born', 1980)\n",
      "('dept', 'IT')\n"
     ]
    }
   ],
   "source": [
    "# одна переменная\n",
    "\n",
    "for i in person.items():\n",
    "    print(i)"
   ]
  },
  {
   "cell_type": "code",
   "execution_count": 52,
   "metadata": {
    "id": "4jVWiAlX3Nlc"
   },
   "outputs": [
    {
     "name": "stdout",
     "output_type": "stream",
     "text": [
      "first name\n",
      "last name\n",
      "born\n",
      "dept\n"
     ]
    }
   ],
   "source": [
    "#ключи\n",
    "\n",
    "for k in person.keys():\n",
    "    print(k)"
   ]
  },
  {
   "cell_type": "code",
   "execution_count": 53,
   "metadata": {
    "id": "fCsxAH3e3Nlc"
   },
   "outputs": [
    {
     "name": "stdout",
     "output_type": "stream",
     "text": [
      "Иван\n",
      "Иванов\n",
      "1980\n",
      "IT\n"
     ]
    }
   ],
   "source": [
    "#значения\n",
    "\n",
    "for v in person.values():\n",
    "    print(v)"
   ]
  },
  {
   "cell_type": "markdown",
   "metadata": {
    "id": "zU-JtgYJ-vyO"
   },
   "source": [
    "#### Доступ по ключу и метод .get()"
   ]
  },
  {
   "cell_type": "markdown",
   "metadata": {
    "id": "8biLH2XU3Nlc"
   },
   "source": [
    "**Небезопасный способ.**<br>\n",
    "**Конкретное значение** в словаре можно получить, введя название словаря и затем название ключа в квадратных скобках."
   ]
  },
  {
   "cell_type": "code",
   "execution_count": 54,
   "metadata": {
    "id": "Au-MDTwZ-tGI"
   },
   "outputs": [
    {
     "data": {
      "text/plain": [
       "'Иванов'"
      ]
     },
     "execution_count": 54,
     "metadata": {},
     "output_type": "execute_result"
    }
   ],
   "source": [
    "# значение можно посмотреть по ключу\n",
    "\n",
    "person['last name']"
   ]
  },
  {
   "cell_type": "code",
   "execution_count": 55,
   "metadata": {
    "id": "XwWDSYzH-O0l"
   },
   "outputs": [
    {
     "ename": "KeyError",
     "evalue": "'education'",
     "output_type": "error",
     "traceback": [
      "\u001b[1;31m---------------------------------------------------------------------------\u001b[0m",
      "\u001b[1;31mKeyError\u001b[0m                                  Traceback (most recent call last)",
      "Cell \u001b[1;32mIn[55], line 3\u001b[0m\n\u001b[0;32m      1\u001b[0m \u001b[38;5;66;03m# если такого ключа нет, Python выдаст ошибку\u001b[39;00m\n\u001b[1;32m----> 3\u001b[0m person[\u001b[38;5;124m'\u001b[39m\u001b[38;5;124meducation\u001b[39m\u001b[38;5;124m'\u001b[39m]\n",
      "\u001b[1;31mKeyError\u001b[0m: 'education'"
     ]
    }
   ],
   "source": [
    "# если такого ключа нет, Python выдаст ошибку\n",
    "\n",
    "person['education']"
   ]
  },
  {
   "cell_type": "markdown",
   "metadata": {
    "id": "vP0gt7cm3Nlc"
   },
   "source": [
    "**Безопасный способ.**<br>\n",
    "Чтобы избежать ошибки, небезопасный способ иногда сочетают с конструкцией `try...except`:"
   ]
  },
  {
   "cell_type": "code",
   "execution_count": 56,
   "metadata": {
    "id": "L2xqIaha3Nld"
   },
   "outputs": [
    {
     "name": "stdout",
     "output_type": "stream",
     "text": [
      "Иванов\n"
     ]
    }
   ],
   "source": [
    "try:\n",
    "    value = person['last name'] # ищем ключ в словаре\n",
    "    print(value) # если ключ найден — выводим значение\n",
    "\n",
    "except:\n",
    "    print('Ключ не найден!') # иначе выводим сообщение"
   ]
  },
  {
   "cell_type": "code",
   "execution_count": 57,
   "metadata": {
    "id": "C24OiBX03Nld"
   },
   "outputs": [
    {
     "name": "stdout",
     "output_type": "stream",
     "text": [
      "Ключ не найден!\n"
     ]
    }
   ],
   "source": [
    "try:\n",
    "    value = person['education'] # ищем ключ в словаре\n",
    "    print(value) # если ключ найден — выводим значение\n",
    "\n",
    "except:\n",
    "    print('Ключ не найден!') # иначе выводим сообщение"
   ]
  },
  {
   "cell_type": "markdown",
   "metadata": {
    "id": "uOAWGLUd3Nld"
   },
   "source": [
    "**Предпочтительный безопасный способ.** Метод словаря `.get()`."
   ]
  },
  {
   "cell_type": "code",
   "execution_count": 58,
   "metadata": {
    "id": "dx2nFVH7eils"
   },
   "outputs": [
    {
     "name": "stdout",
     "output_type": "stream",
     "text": [
      "None\n"
     ]
    }
   ],
   "source": [
    "# чтобы этого не произошло, можно использовать метод .get()\n",
    "# по умолчанию, при отсутствии ключа, он выводит значение None\n",
    "\n",
    "print(person.get('education'))"
   ]
  },
  {
   "cell_type": "code",
   "execution_count": 59,
   "metadata": {
    "id": "GiJU28QY3Nld"
   },
   "outputs": [
    {
     "name": "stdout",
     "output_type": "stream",
     "text": [
      "Ключ не найден!\n"
     ]
    }
   ],
   "source": [
    "print(person.get('education', 'Ключ не найден!'))"
   ]
  },
  {
   "cell_type": "code",
   "execution_count": 60,
   "metadata": {
    "id": "qTovRCnIb1ei"
   },
   "outputs": [
    {
     "data": {
      "text/plain": [
       "1980"
      ]
     },
     "execution_count": 60,
     "metadata": {},
     "output_type": "execute_result"
    }
   ],
   "source": [
    "# если ключ все-таки есть, .get() выведет соответствующее значение\n",
    "\n",
    "person.get('born')"
   ]
  },
  {
   "cell_type": "markdown",
   "metadata": {
    "id": "IBgf5Al-aCOK"
   },
   "source": [
    "#### Проверка вхождения (наличия) ключа и значения в словарь"
   ]
  },
  {
   "cell_type": "markdown",
   "metadata": {
    "id": "pwQYfAF_3Nld"
   },
   "source": [
    "С помощью оператора `in` можно проверить наличие определенного ключа в словаре.<br>\n",
    "Важно сказать, что оператор `in` работает быстрее метода `.get()`."
   ]
  },
  {
   "cell_type": "code",
   "execution_count": 61,
   "metadata": {
    "id": "XbRxj_nPaHJU"
   },
   "outputs": [
    {
     "data": {
      "text/plain": [
       "True"
      ]
     },
     "execution_count": 61,
     "metadata": {},
     "output_type": "execute_result"
    }
   ],
   "source": [
    "# проверим, есть ли такой ключ\n",
    "\n",
    "'born' in person"
   ]
  },
  {
   "cell_type": "markdown",
   "metadata": {
    "id": "K8tnA_hs3Nld"
   },
   "source": [
    "Метод `.values()` поможет проверить наличие определенного значения."
   ]
  },
  {
   "cell_type": "code",
   "execution_count": 62,
   "metadata": {
    "id": "sAKfv79KbC1p"
   },
   "outputs": [
    {
     "data": {
      "text/plain": [
       "True"
      ]
     },
     "execution_count": 62,
     "metadata": {},
     "output_type": "execute_result"
    }
   ],
   "source": [
    "# и такое значение\n",
    "\n",
    "1980 in person.values()"
   ]
  },
  {
   "cell_type": "markdown",
   "metadata": {
    "id": "2h8vHlmZ3Nld"
   },
   "source": [
    "Метод `.items()` поможет проверить наличие пары ключ : значение. Обратите внимание, эту пару следует записать в форме кортежа."
   ]
  },
  {
   "cell_type": "code",
   "execution_count": 63,
   "metadata": {
    "id": "UelKiVrybH30"
   },
   "outputs": [
    {
     "data": {
      "text/plain": [
       "True"
      ]
     },
     "execution_count": 63,
     "metadata": {},
     "output_type": "execute_result"
    }
   ],
   "source": [
    "# можно также проверить наличие и ключа, и значения одновременно\n",
    "\n",
    "('born', 1980) in person.items()"
   ]
  },
  {
   "cell_type": "markdown",
   "metadata": {
    "id": "qhW_njiL3Q2_"
   },
   "source": [
    "### Операции со словарями"
   ]
  },
  {
   "cell_type": "markdown",
   "metadata": {
    "id": "ebptqYBRcrJp"
   },
   "source": [
    "#### Добавление и изменение элементов"
   ]
  },
  {
   "cell_type": "code",
   "execution_count": 64,
   "metadata": {
    "id": "wQnsMMdo3Nld"
   },
   "outputs": [
    {
     "data": {
      "text/plain": [
       "{'first name': 'Иван',\n",
       " 'last name': 'Иванов',\n",
       " 'born': 1980,\n",
       " 'dept': 'IT',\n",
       " 'pay': 45000}"
      ]
     },
     "execution_count": 64,
     "metadata": {},
     "output_type": "execute_result"
    }
   ],
   "source": [
    "# добавить элемент можно, передав новому ключу новое значение\n",
    "\n",
    "person['pay'] = 45_000\n",
    "person"
   ]
  },
  {
   "cell_type": "code",
   "execution_count": 65,
   "metadata": {
    "id": "goyyGlx73Q2_"
   },
   "outputs": [
    {
     "data": {
      "text/plain": [
       "{'first name': 'Иван',\n",
       " 'last name': 'Иванов',\n",
       " 'born': 1980,\n",
       " 'dept': 'IT',\n",
       " 'pay': 45000,\n",
       " 'languages': ['Python', 'C++']}"
      ]
     },
     "execution_count": 65,
     "metadata": {},
     "output_type": "execute_result"
    }
   ],
   "source": [
    "# добавить элемент можно, передав новому ключу новое значение\n",
    "# обратите внимание, в данном случае новое значение - это список\n",
    "\n",
    "person['languages'] = ['Python', 'C++']\n",
    "person"
   ]
  },
  {
   "cell_type": "code",
   "execution_count": 66,
   "metadata": {
    "id": "r33azjy53Q2_"
   },
   "outputs": [
    {
     "data": {
      "text/plain": [
       "{'first name': 'Иван',\n",
       " 'last name': 'Иванов',\n",
       " 'born': 1980,\n",
       " 'dept': 'IT',\n",
       " 'pay': 45000,\n",
       " 'languages': ['Python']}"
      ]
     },
     "execution_count": 66,
     "metadata": {},
     "output_type": "execute_result"
    }
   ],
   "source": [
    "# изменить элемент можно, передав существующему ключу новое значение,\n",
    "# значение - это по-прежнему список, но из одного элемента\n",
    "\n",
    "person['languages'] = ['Python']\n",
    "person"
   ]
  },
  {
   "cell_type": "markdown",
   "metadata": {
    "id": "yZEX3-f73Nle"
   },
   "source": [
    "Метод `.update()` позволяет соединить два словаря."
   ]
  },
  {
   "cell_type": "code",
   "execution_count": 67,
   "metadata": {
    "id": "tGjvKCRk3Nle"
   },
   "outputs": [],
   "source": [
    "# возьмем еще один словарь\n",
    "\n",
    "new_elements = {'job' : 'программист', 'experience' : 7}"
   ]
  },
  {
   "cell_type": "code",
   "execution_count": 68,
   "metadata": {
    "id": "FBO1GOoDHXjc"
   },
   "outputs": [
    {
     "data": {
      "text/plain": [
       "{'first name': 'Иван',\n",
       " 'last name': 'Иванов',\n",
       " 'born': 1980,\n",
       " 'dept': 'IT',\n",
       " 'pay': 45000,\n",
       " 'languages': ['Python'],\n",
       " 'job': 'программист',\n",
       " 'experience': 7}"
      ]
     },
     "execution_count": 68,
     "metadata": {},
     "output_type": "execute_result"
    }
   ],
   "source": [
    "# и присоединим его к существующему словарю с помощью метода .update()\n",
    "\n",
    "person.update(new_elements)\n",
    "person"
   ]
  },
  {
   "cell_type": "code",
   "execution_count": 69,
   "metadata": {
    "id": "BF8sjloX3Nle"
   },
   "outputs": [],
   "source": [
    "new_elements = {'job' : 'web-программист'}"
   ]
  },
  {
   "cell_type": "code",
   "execution_count": 70,
   "metadata": {
    "id": "USq3dpKa3Nle"
   },
   "outputs": [
    {
     "data": {
      "text/plain": [
       "{'first name': 'Иван',\n",
       " 'last name': 'Иванов',\n",
       " 'born': 1980,\n",
       " 'dept': 'IT',\n",
       " 'pay': 45000,\n",
       " 'languages': ['Python'],\n",
       " 'job': 'web-программист',\n",
       " 'experience': 7}"
      ]
     },
     "execution_count": 70,
     "metadata": {},
     "output_type": "execute_result"
    }
   ],
   "source": [
    "person.update(new_elements)\n",
    "person"
   ]
  },
  {
   "cell_type": "markdown",
   "metadata": {
    "id": "plWoxAAe3Nle"
   },
   "source": [
    "Метод `.setdefault()` не изменяет значение, если указанный ключ уже содержится в словаре."
   ]
  },
  {
   "cell_type": "code",
   "execution_count": 71,
   "metadata": {
    "id": "8ABSReiDS86F"
   },
   "outputs": [
    {
     "data": {
      "text/plain": [
       "{'first name': 'Иван',\n",
       " 'last name': 'Иванов',\n",
       " 'born': 1980,\n",
       " 'dept': 'IT',\n",
       " 'pay': 45000,\n",
       " 'languages': ['Python'],\n",
       " 'job': 'web-программист',\n",
       " 'experience': 7}"
      ]
     },
     "execution_count": 71,
     "metadata": {},
     "output_type": "execute_result"
    }
   ],
   "source": [
    "# метод .setdefault() проверит есть ли ключ в словаре,\n",
    "# если \"да\", значение не изменится\n",
    "\n",
    "person.setdefault('last name', 'Петров')\n",
    "person"
   ]
  },
  {
   "cell_type": "code",
   "execution_count": 72,
   "metadata": {
    "id": "uq1eR4FEYIFx"
   },
   "outputs": [
    {
     "data": {
      "text/plain": [
       "{'first name': 'Иван',\n",
       " 'last name': 'Иванов',\n",
       " 'born': 1980,\n",
       " 'dept': 'IT',\n",
       " 'pay': 45000,\n",
       " 'languages': ['Python'],\n",
       " 'job': 'web-программист',\n",
       " 'experience': 7,\n",
       " 'f_languages': ['русский', 'английский']}"
      ]
     },
     "execution_count": 72,
     "metadata": {},
     "output_type": "execute_result"
    }
   ],
   "source": [
    "# если нет, будет добавлен новый ключ и соответствующее значение\n",
    "\n",
    "person.setdefault('f_languages', ['русский', 'английский'])\n",
    "person"
   ]
  },
  {
   "cell_type": "markdown",
   "metadata": {
    "id": "wUMTWNK-fFsd"
   },
   "source": [
    "#### Удаление элементов"
   ]
  },
  {
   "cell_type": "markdown",
   "metadata": {
    "id": "Lt9yZqpk3Nle"
   },
   "source": [
    "Метод `.pop()` удаляет элемент по ключу и выводит удаляемое значение."
   ]
  },
  {
   "cell_type": "code",
   "execution_count": 73,
   "metadata": {
    "id": "AKViA8ItfIye"
   },
   "outputs": [
    {
     "data": {
      "text/plain": [
       "'IT'"
      ]
     },
     "execution_count": 73,
     "metadata": {},
     "output_type": "execute_result"
    }
   ],
   "source": [
    "# метод .pop() удаляет элемент по ключу и выводит удаляемое значение\n",
    "\n",
    "person.pop('dept')"
   ]
  },
  {
   "cell_type": "code",
   "execution_count": 74,
   "metadata": {
    "id": "anOK_5RVh8eG"
   },
   "outputs": [
    {
     "data": {
      "text/plain": [
       "{'first name': 'Иван',\n",
       " 'last name': 'Иванов',\n",
       " 'born': 1980,\n",
       " 'pay': 45000,\n",
       " 'languages': ['Python'],\n",
       " 'job': 'web-программист',\n",
       " 'experience': 7,\n",
       " 'f_languages': ['русский', 'английский']}"
      ]
     },
     "execution_count": 74,
     "metadata": {},
     "output_type": "execute_result"
    }
   ],
   "source": [
    "# мы видим, что пары 'dept' : 'IT' больше нет\n",
    "\n",
    "person"
   ]
  },
  {
   "cell_type": "markdown",
   "metadata": {
    "id": "XBMFguB93Nle"
   },
   "source": [
    "Ключевое слово `del` также удаляет элемент по ключу."
   ]
  },
  {
   "cell_type": "code",
   "execution_count": 75,
   "metadata": {
    "id": "t6flk9z_fluM"
   },
   "outputs": [],
   "source": [
    "# ключевое слово del также удаляет элемент по ключу\n",
    "# удаляемое значение не выводится\n",
    "\n",
    "del(person['born'])"
   ]
  },
  {
   "cell_type": "code",
   "execution_count": 76,
   "metadata": {
    "id": "OKPnIPUF3Nle"
   },
   "outputs": [
    {
     "data": {
      "text/plain": [
       "{'first name': 'Иван',\n",
       " 'last name': 'Иванов',\n",
       " 'pay': 45000,\n",
       " 'languages': ['Python'],\n",
       " 'job': 'web-программист',\n",
       " 'experience': 7,\n",
       " 'f_languages': ['русский', 'английский']}"
      ]
     },
     "execution_count": 76,
     "metadata": {},
     "output_type": "execute_result"
    }
   ],
   "source": [
    "person"
   ]
  },
  {
   "cell_type": "markdown",
   "metadata": {
    "id": "d2UpYUwc3Nle"
   },
   "source": [
    "Метод `.popitem()` удаляет и выводит последний добавленный в словарь элемент."
   ]
  },
  {
   "cell_type": "code",
   "execution_count": 77,
   "metadata": {
    "id": "6aruZx9MKBUK"
   },
   "outputs": [
    {
     "data": {
      "text/plain": [
       "('f_languages', ['русский', 'английский'])"
      ]
     },
     "execution_count": 77,
     "metadata": {},
     "output_type": "execute_result"
    }
   ],
   "source": [
    "# метод .popitem() удаляет последний добавленный элемент и выводит его\n",
    "\n",
    "person.popitem()"
   ]
  },
  {
   "cell_type": "code",
   "execution_count": 78,
   "metadata": {
    "id": "Cv71GcRg3Nle"
   },
   "outputs": [
    {
     "data": {
      "text/plain": [
       "{'first name': 'Иван',\n",
       " 'last name': 'Иванов',\n",
       " 'pay': 45000,\n",
       " 'languages': ['Python'],\n",
       " 'job': 'web-программист',\n",
       " 'experience': 7}"
      ]
     },
     "execution_count": 78,
     "metadata": {},
     "output_type": "execute_result"
    }
   ],
   "source": [
    "person"
   ]
  },
  {
   "cell_type": "markdown",
   "metadata": {
    "id": "kA6XrqTc3Nlf"
   },
   "source": [
    "Метод `.clear()` удаляет все ключи и значения и возвращает пустой словарь."
   ]
  },
  {
   "cell_type": "code",
   "execution_count": 79,
   "metadata": {
    "id": "tH_TmTAgf1Qc"
   },
   "outputs": [
    {
     "data": {
      "text/plain": [
       "{}"
      ]
     },
     "execution_count": 79,
     "metadata": {},
     "output_type": "execute_result"
    }
   ],
   "source": [
    "# метод .clear() удаляет все элементы словаря\n",
    "\n",
    "person.clear()\n",
    "person"
   ]
  },
  {
   "cell_type": "code",
   "execution_count": 80,
   "metadata": {
    "id": "KQzvF_SmHFYa"
   },
   "outputs": [],
   "source": [
    "# ключевое слово del также позволяет удалить словарь целиком\n",
    "\n",
    "del person"
   ]
  },
  {
   "cell_type": "code",
   "execution_count": 81,
   "metadata": {
    "id": "41jpFZaGA3U3"
   },
   "outputs": [
    {
     "ename": "NameError",
     "evalue": "name 'person' is not defined",
     "output_type": "error",
     "traceback": [
      "\u001b[1;31m---------------------------------------------------------------------------\u001b[0m",
      "\u001b[1;31mNameError\u001b[0m                                 Traceback (most recent call last)",
      "Cell \u001b[1;32mIn[81], line 3\u001b[0m\n\u001b[0;32m      1\u001b[0m \u001b[38;5;66;03m# убедимся, что такого словаря больше нет\u001b[39;00m\n\u001b[1;32m----> 3\u001b[0m person\n",
      "\u001b[1;31mNameError\u001b[0m: name 'person' is not defined"
     ]
    }
   ],
   "source": [
    "# убедимся, что такого словаря больше нет\n",
    "\n",
    "person"
   ]
  },
  {
   "cell_type": "markdown",
   "metadata": {
    "id": "VS8k8X8kwAhj"
   },
   "source": [
    "#### Сортировка словарей"
   ]
  },
  {
   "cell_type": "markdown",
   "metadata": {
    "id": "kf6nL-Mf3Nlf"
   },
   "source": [
    "Для сортировки словарей можно использовать функцию `sorted()`."
   ]
  },
  {
   "cell_type": "code",
   "execution_count": 82,
   "metadata": {
    "id": "u3rg89UKwE1e"
   },
   "outputs": [],
   "source": [
    "# возьмем словарь\n",
    "\n",
    "dict_to_sort = {'k2' : 30, 'k1' : 20, 'k3' : 10}"
   ]
  },
  {
   "cell_type": "code",
   "execution_count": 83,
   "metadata": {
    "id": "bTwIep0qwFW8"
   },
   "outputs": [
    {
     "data": {
      "text/plain": [
       "['k1', 'k2', 'k3']"
      ]
     },
     "execution_count": 83,
     "metadata": {},
     "output_type": "execute_result"
    }
   ],
   "source": [
    "# отсортируем ключи\n",
    "\n",
    "sorted(dict_to_sort)"
   ]
  },
  {
   "cell_type": "code",
   "execution_count": 84,
   "metadata": {
    "id": "tnJvCeBxna2q"
   },
   "outputs": [
    {
     "data": {
      "text/plain": [
       "[10, 20, 30]"
      ]
     },
     "execution_count": 84,
     "metadata": {},
     "output_type": "execute_result"
    }
   ],
   "source": [
    "# и значения\n",
    "\n",
    "sorted(dict_to_sort.values())"
   ]
  },
  {
   "cell_type": "markdown",
   "metadata": {
    "id": "j1fMeafH3Nlf"
   },
   "source": [
    "Если нужно отсортировать пары ключ : значение по ключу или по значению, вначале используют метод `.items()` для извлечения этих пар (кортежей) из словаря."
   ]
  },
  {
   "cell_type": "code",
   "execution_count": 85,
   "metadata": {
    "id": "jYQNHiJrMhSA"
   },
   "outputs": [
    {
     "data": {
      "text/plain": [
       "dict_items([('k2', 30), ('k1', 20), ('k3', 10)])"
      ]
     },
     "execution_count": 85,
     "metadata": {},
     "output_type": "execute_result"
    }
   ],
   "source": [
    "# посмотрим на пары ключ : значение\n",
    "\n",
    "dict_to_sort.items()"
   ]
  },
  {
   "cell_type": "markdown",
   "metadata": {
    "id": "q3PZ3Em-3Nlf"
   },
   "source": [
    "Затем указывают эти кортежи в качестве первого аргумента функции `sorted()`. Параметру `key` этой же функции передают `lambda-функцию`, которая вернет либо ключ lambda x : x[0] каждого кортежа, либо его значение lambda x : x[1]. Именно по ним и будет произведена сортировка."
   ]
  },
  {
   "cell_type": "code",
   "execution_count": 86,
   "metadata": {
    "id": "2Lbe96f0nh85"
   },
   "outputs": [
    {
     "data": {
      "text/plain": [
       "[('k1', 20), ('k2', 30), ('k3', 10)]"
      ]
     },
     "execution_count": 86,
     "metadata": {},
     "output_type": "execute_result"
    }
   ],
   "source": [
    "# для их сортировки по ключу (индекс [0])\n",
    "# воспользуемся методом .items() и lambda-функцией\n",
    "\n",
    "sorted(dict_to_sort.items(), key = lambda x : x[0])"
   ]
  },
  {
   "cell_type": "code",
   "execution_count": 87,
   "metadata": {
    "id": "Vl9gs9fVoE-A"
   },
   "outputs": [
    {
     "data": {
      "text/plain": [
       "[('k3', 10), ('k1', 20), ('k2', 30)]"
      ]
     },
     "execution_count": 87,
     "metadata": {},
     "output_type": "execute_result"
    }
   ],
   "source": [
    "# сортировка по значению выполняется так же, однако\n",
    "# lambda-функции мы передаем индекс [1]\n",
    "\n",
    "sorted(dict_to_sort.items(), key = lambda x : x[1])"
   ]
  },
  {
   "cell_type": "markdown",
   "metadata": {
    "id": "v9aK8-q2CdXO"
   },
   "source": [
    "#### Копирование словарей"
   ]
  },
  {
   "cell_type": "code",
   "execution_count": 88,
   "metadata": {
    "id": "ysVmXSyVFZMU"
   },
   "outputs": [],
   "source": [
    "# создадим исходный словарь с количеством студентов на первом и втором курсах университета\n",
    "\n",
    "original = {'Первый курс' : 174, 'Второй курс' : 131}"
   ]
  },
  {
   "cell_type": "markdown",
   "metadata": {
    "id": "DYkMoaN3GL1X"
   },
   "source": [
    "Копирование с помощью метода `.copy()`."
   ]
  },
  {
   "cell_type": "code",
   "execution_count": 89,
   "metadata": {
    "id": "7GARkYIJ3Nlf"
   },
   "outputs": [],
   "source": [
    "# создадим копию этого словаря с помощью метода .copy()\n",
    "\n",
    "new_1 = original.copy()"
   ]
  },
  {
   "cell_type": "code",
   "execution_count": 90,
   "metadata": {
    "id": "-t7mXlsUCc2p"
   },
   "outputs": [
    {
     "name": "stdout",
     "output_type": "stream",
     "text": [
      "{'Первый курс': 174, 'Второй курс': 131}\n",
      "{'Первый курс': 174, 'Второй курс': 131, 'Третий курс': 117}\n"
     ]
    }
   ],
   "source": [
    "# добавим информацию о третьем курсе в новый словарь\n",
    "\n",
    "new_1['Третий курс'] = 117\n",
    "\n",
    "# исходный словарь не изменился\n",
    "\n",
    "print(original)\n",
    "print(new_1)"
   ]
  },
  {
   "cell_type": "markdown",
   "metadata": {
    "id": "h9IslECkGSsr"
   },
   "source": [
    "Копирование через оператор присваивания `=` (так делать не стоит!)"
   ]
  },
  {
   "cell_type": "code",
   "execution_count": 91,
   "metadata": {
    "id": "9r3DfKz83Nlg"
   },
   "outputs": [],
   "source": [
    "# передадим исходный словарь в новую переменную\n",
    "\n",
    "new_2 = original"
   ]
  },
  {
   "cell_type": "code",
   "execution_count": 92,
   "metadata": {
    "id": "cQZ-uDDpEvkO"
   },
   "outputs": [
    {
     "name": "stdout",
     "output_type": "stream",
     "text": [
      "{}\n",
      "{}\n"
     ]
    }
   ],
   "source": [
    "# удалим элементы нового словаря\n",
    "\n",
    "new_2.clear()\n",
    "\n",
    "# из исходного словаря данные также удалились\n",
    "\n",
    "print(original)\n",
    "print(new_2)"
   ]
  },
  {
   "cell_type": "markdown",
   "metadata": {
    "id": "KVhauxEM3Nlg"
   },
   "source": [
    "Данные были удалены из обоих словарей. Так быть не должно и поэтому такой метод копирования использовать не стоит."
   ]
  },
  {
   "cell_type": "markdown",
   "metadata": {
    "id": "89eAqj7A3Nlg"
   },
   "source": [
    "### Списки и словари"
   ]
  },
  {
   "cell_type": "markdown",
   "metadata": {
    "id": "-wgmqpo53Nlg"
   },
   "source": [
    "Из словарей и списков создают `сложные структуры данных`:\n",
    "- список списков, где одни списки становятся элементами другого;\n",
    "- словарь словарей — значениями одного словаря становятся другие словари;\n",
    "- словарь списков — списки выступают значениями словаря;\n",
    "- списки словарей — словари становятся элементами списка."
   ]
  },
  {
   "cell_type": "markdown",
   "metadata": {
    "id": "sotESTWI3Nlg"
   },
   "source": [
    "К значениям в списке словаря обращаются по двум «координатам»:\n",
    "- индексу списка,\n",
    "- имени ключа."
   ]
  },
  {
   "cell_type": "code",
   "execution_count": 96,
   "metadata": {
    "id": "2gUHloDp3Nlg"
   },
   "outputs": [
    {
     "data": {
      "text/plain": [
       "[{'movie_name': 'Побег из Шоушенка',\n",
       "  'country': 'США',\n",
       "  'genre': 'драма',\n",
       "  'year': 1994,\n",
       "  'duration': 142,\n",
       "  'rating': 9.111},\n",
       " {'movie_name': 'Крёстный отец',\n",
       "  'country': 'США',\n",
       "  'genre': 'драма, криминал',\n",
       "  'year': 1972,\n",
       "  'duration': 175,\n",
       "  'rating': 8.73},\n",
       " {'movie_name': 'Тёмный рыцарь',\n",
       "  'country': 'США',\n",
       "  'genre': 'фантастика, боевик, триллер',\n",
       "  'year': 2008,\n",
       "  'duration': 152,\n",
       "  'rating': 8.499}]"
      ]
     },
     "execution_count": 96,
     "metadata": {},
     "output_type": "execute_result"
    }
   ],
   "source": [
    "# пример списка словарей\n",
    "\n",
    "movies_table = [\n",
    "    {'movie_name':'Побег из Шоушенка', 'country':'США', 'genre':'драма', 'year':1994, 'duration':142, 'rating':9.111},\n",
    "    {'movie_name':'Крёстный отец', 'country':'США', 'genre':'драма, криминал', 'year':1972, 'duration':175, 'rating':8.730},\n",
    "    {'movie_name':'Тёмный рыцарь', 'country':'США', 'genre':'фантастика, боевик, триллер', 'year':2008, 'duration':152, 'rating':8.499}\n",
    "]\n",
    "\n",
    "movies_table"
   ]
  },
  {
   "cell_type": "markdown",
   "metadata": {
    "id": "XCKZ1eD83Nlg"
   },
   "source": [
    "Поэтому список словарей более всего напоминает таблицы `pandas`, где к данным обращаются по номеру строки и имени колонки:"
   ]
  },
  {
   "cell_type": "code",
   "execution_count": 97,
   "metadata": {
    "id": "5Z2rlVhx3Nlg"
   },
   "outputs": [
    {
     "data": {
      "text/html": [
       "<div>\n",
       "<style scoped>\n",
       "    .dataframe tbody tr th:only-of-type {\n",
       "        vertical-align: middle;\n",
       "    }\n",
       "\n",
       "    .dataframe tbody tr th {\n",
       "        vertical-align: top;\n",
       "    }\n",
       "\n",
       "    .dataframe thead th {\n",
       "        text-align: right;\n",
       "    }\n",
       "</style>\n",
       "<table border=\"1\" class=\"dataframe\">\n",
       "  <thead>\n",
       "    <tr style=\"text-align: right;\">\n",
       "      <th></th>\n",
       "      <th>movie_name</th>\n",
       "      <th>country</th>\n",
       "      <th>genre</th>\n",
       "      <th>year</th>\n",
       "      <th>duration</th>\n",
       "      <th>rating</th>\n",
       "    </tr>\n",
       "  </thead>\n",
       "  <tbody>\n",
       "    <tr>\n",
       "      <th>0</th>\n",
       "      <td>Побег из Шоушенка</td>\n",
       "      <td>США</td>\n",
       "      <td>драма</td>\n",
       "      <td>1994</td>\n",
       "      <td>142</td>\n",
       "      <td>9.111</td>\n",
       "    </tr>\n",
       "    <tr>\n",
       "      <th>1</th>\n",
       "      <td>Крёстный отец</td>\n",
       "      <td>США</td>\n",
       "      <td>драма, криминал</td>\n",
       "      <td>1972</td>\n",
       "      <td>175</td>\n",
       "      <td>8.730</td>\n",
       "    </tr>\n",
       "    <tr>\n",
       "      <th>2</th>\n",
       "      <td>Тёмный рыцарь</td>\n",
       "      <td>США</td>\n",
       "      <td>фантастика, боевик, триллер</td>\n",
       "      <td>2008</td>\n",
       "      <td>152</td>\n",
       "      <td>8.499</td>\n",
       "    </tr>\n",
       "  </tbody>\n",
       "</table>\n",
       "</div>"
      ],
      "text/plain": [
       "          movie_name country                        genre  year  duration  \\\n",
       "0  Побег из Шоушенка     США                        драма  1994       142   \n",
       "1      Крёстный отец     США              драма, криминал  1972       175   \n",
       "2      Тёмный рыцарь     США  фантастика, боевик, триллер  2008       152   \n",
       "\n",
       "   rating  \n",
       "0   9.111  \n",
       "1   8.730  \n",
       "2   8.499  "
      ]
     },
     "execution_count": 97,
     "metadata": {},
     "output_type": "execute_result"
    }
   ],
   "source": [
    "df = pd.DataFrame(movies_table)\n",
    "df"
   ]
  },
  {
   "cell_type": "markdown",
   "metadata": {
    "id": "cG8MukwZ3Nlg"
   },
   "source": [
    "Циклы могут обойти список словарей как обычный список. Например, так можно отфильтровать данные или посчитать сумму значений любой «колонки»."
   ]
  },
  {
   "cell_type": "code",
   "execution_count": 98,
   "metadata": {
    "id": "K9yAMMC73Nlg"
   },
   "outputs": [
    {
     "name": "stdout",
     "output_type": "stream",
     "text": [
      "469\n"
     ]
    }
   ],
   "source": [
    "total_duration = 0 # присваиваем переменной с общей длительностью стартовое значение\n",
    "\n",
    "for movie in movies_table: # перебираем каждый словарь в списке\n",
    "    total_duration += movie['duration'] # добавляем к переменной длительность фильма\n",
    "\n",
    "print(total_duration)"
   ]
  },
  {
   "cell_type": "markdown",
   "metadata": {
    "id": "kTSeFrE13Nlg"
   },
   "source": [
    "### Вывод словаря на экран"
   ]
  },
  {
   "cell_type": "markdown",
   "metadata": {
    "id": "34MJ2XB53Nlg"
   },
   "source": [
    "Чтобы список словаря было удобно прочитать, можно подготовить его к печати функцией `dumps()` из библиотеки `json`. Она добавит отступы, которые разделят две «оси координат» в списке словарей:\n",
    "- индексы списка,\n",
    "- ключи словаря."
   ]
  },
  {
   "cell_type": "code",
   "execution_count": 99,
   "metadata": {
    "id": "NB3fQLL13Nlg"
   },
   "outputs": [],
   "source": [
    "from json import dumps # подключение dumps() для красивого вывода словаря"
   ]
  },
  {
   "cell_type": "code",
   "execution_count": 100,
   "metadata": {
    "id": "6WI_lgqQ3Nlg"
   },
   "outputs": [
    {
     "name": "stdout",
     "output_type": "stream",
     "text": [
      "[\n",
      "    {\n",
      "        \"movie_name\": \"Побег из Шоушенка\",\n",
      "        \"country\": \"США\",\n",
      "        \"genre\": \"драма\",\n",
      "        \"year\": 1994,\n",
      "        \"duration\": 142,\n",
      "        \"rating\": 9.111\n",
      "    },\n",
      "    {\n",
      "        \"movie_name\": \"Крёстный отец\",\n",
      "        \"country\": \"США\",\n",
      "        \"genre\": \"драма, криминал\",\n",
      "        \"year\": 1972,\n",
      "        \"duration\": 175,\n",
      "        \"rating\": 8.73\n",
      "    },\n",
      "    {\n",
      "        \"movie_name\": \"Тёмный рыцарь\",\n",
      "        \"country\": \"США\",\n",
      "        \"genre\": \"фантастика, боевик, триллер\",\n",
      "        \"year\": 2008,\n",
      "        \"duration\": 152,\n",
      "        \"rating\": 8.499\n",
      "    }\n",
      "]\n"
     ]
    }
   ],
   "source": [
    "movies_table = [\n",
    "    {'movie_name':'Побег из Шоушенка', 'country':'США', 'genre':'драма', 'year':1994, 'duration':142, 'rating':9.111},\n",
    "    {'movie_name':'Крёстный отец', 'country':'США', 'genre':'драма, криминал', 'year':1972, 'duration':175, 'rating':8.730},\n",
    "    {'movie_name':'Тёмный рыцарь', 'country':'США', 'genre':'фантастика, боевик, триллер', 'year':2008, 'duration':152, 'rating':8.499}\n",
    "]\n",
    "\n",
    "print(dumps(movies_table, indent=4, ensure_ascii=False))"
   ]
  },
  {
   "cell_type": "markdown",
   "metadata": {
    "id": "wUTNQBXl3Nlg"
   },
   "source": [
    "Функцией `dumps()` управляют два параметра:\n",
    "- indent=4 — настроит отступ;\n",
    "- ensure_ascii=False — обработает кириллические символы."
   ]
  },
  {
   "cell_type": "markdown",
   "metadata": {
    "id": "I-UUEhQNvezN"
   },
   "source": [
    "#### Вложенные словари"
   ]
  },
  {
   "cell_type": "code",
   "execution_count": 101,
   "metadata": {
    "id": "OA69rLjwwTAc"
   },
   "outputs": [],
   "source": [
    "# возьмем словарь, ключами которого будут id сотрудников\n",
    "\n",
    "employees = {\n",
    "    'id1': {\n",
    "        'first name': 'Александр',\n",
    "        'last name' : 'Иванов',\n",
    "        'age': 30,\n",
    "        'job':'программист'\n",
    "    },\n",
    "    'id2': {\n",
    "        'first name': 'Ольга',\n",
    "        'last name' : 'Петрова',\n",
    "        'age': 35,\n",
    "        'job':'ML-engineer'\n",
    "    }\n",
    "}"
   ]
  },
  {
   "cell_type": "code",
   "execution_count": 102,
   "metadata": {
    "id": "8UNwQKCANq0J"
   },
   "outputs": [
    {
     "name": "stdout",
     "output_type": "stream",
     "text": [
      "{'first name': 'Александр', 'last name': 'Иванов', 'age': 30, 'job': 'программист'}\n",
      "{'first name': 'Ольга', 'last name': 'Петрова', 'age': 35, 'job': 'ML-engineer'}\n"
     ]
    }
   ],
   "source": [
    "# а значениями - вложенные словари с информацией о них\n",
    "\n",
    "for v in employees.values():\n",
    "    print(v)"
   ]
  },
  {
   "cell_type": "markdown",
   "metadata": {
    "id": "xBRzL0hdkF95"
   },
   "source": [
    "##### Базовый операции"
   ]
  },
  {
   "cell_type": "code",
   "execution_count": 103,
   "metadata": {
    "id": "0Hx_jDxnOBF3"
   },
   "outputs": [
    {
     "data": {
      "text/plain": [
       "30"
      ]
     },
     "execution_count": 103,
     "metadata": {},
     "output_type": "execute_result"
    }
   ],
   "source": [
    "# для того чтобы вывести значение элемента вложенного словаря,\n",
    "# воспользуемся двойным ключом\n",
    "\n",
    "employees['id1']['age']"
   ]
  },
  {
   "cell_type": "code",
   "execution_count": 104,
   "metadata": {
    "id": "Sql_bisvmTM8"
   },
   "outputs": [],
   "source": [
    "# импортируем функцию pprint() из модуля pprint\n",
    "# некоторые структуры данных она выводит лучше, чем обычная print()\n",
    "\n",
    "from pprint import pprint"
   ]
  },
  {
   "cell_type": "code",
   "execution_count": 105,
   "metadata": {
    "id": "iUNy0ji7ORNC"
   },
   "outputs": [
    {
     "name": "stdout",
     "output_type": "stream",
     "text": [
      "{'id1': {'age': 30,\n",
      "         'first name': 'Александр',\n",
      "         'job': 'программист',\n",
      "         'last name': 'Иванов'},\n",
      " 'id2': {'age': 35,\n",
      "         'first name': 'Ольга',\n",
      "         'job': 'ML-engineer',\n",
      "         'last name': 'Петрова'},\n",
      " 'id3': {'age': 27,\n",
      "         'first name': 'Дарья',\n",
      "         'job': 'веб-дизайнер',\n",
      "         'last name': 'Некрасова'}}\n"
     ]
    }
   ],
   "source": [
    "# добавим информацию о новом сотруднике\n",
    "\n",
    "employees['id3'] = {'first name': 'Дарья', 'last name' : 'Некрасова', 'age': 27, 'job' : 'веб-дизайнер' }\n",
    "\n",
    "# и выведем обновленный словарь с помощью функции pprint()\n",
    "\n",
    "pprint(employees)"
   ]
  },
  {
   "cell_type": "code",
   "execution_count": 106,
   "metadata": {
    "id": "mHmC4hPGwTC_"
   },
   "outputs": [
    {
     "name": "stdout",
     "output_type": "stream",
     "text": [
      "{'id1': {'age': 30,\n",
      "         'first name': 'Александр',\n",
      "         'job': 'программист',\n",
      "         'last name': 'Иванов'},\n",
      " 'id2': {'age': 35,\n",
      "         'first name': 'Ольга',\n",
      "         'job': 'ML-engineer',\n",
      "         'last name': 'Петрова'},\n",
      " 'id3': {'age': 26,\n",
      "         'first name': 'Дарья',\n",
      "         'job': 'веб-дизайнер',\n",
      "         'last name': 'Некрасова'}}\n"
     ]
    }
   ],
   "source": [
    "# изменить значение вложенного словаря можно также с помощью двойного ключа\n",
    "\n",
    "employees['id3']['age'] = 26\n",
    "pprint(employees)"
   ]
  },
  {
   "cell_type": "markdown",
   "metadata": {
    "id": "kP8KzxtckMf0"
   },
   "source": [
    "##### Циклы `for`"
   ]
  },
  {
   "cell_type": "code",
   "execution_count": 107,
   "metadata": {
    "id": "rfKMVzEGlUf1"
   },
   "outputs": [
    {
     "name": "stdout",
     "output_type": "stream",
     "text": [
      "{'id1': {'age': 30.0,\n",
      "         'first name': 'Александр',\n",
      "         'job': 'программист',\n",
      "         'last name': 'Иванов'},\n",
      " 'id2': {'age': 35.0,\n",
      "         'first name': 'Ольга',\n",
      "         'job': 'ML-engineer',\n",
      "         'last name': 'Петрова'},\n",
      " 'id3': {'age': 26.0,\n",
      "         'first name': 'Дарья',\n",
      "         'job': 'веб-дизайнер',\n",
      "         'last name': 'Некрасова'}}\n"
     ]
    }
   ],
   "source": [
    "# заменим тип данных в информации о возрасте с int на float\n",
    "\n",
    "# для этого вначале пройдемся по вложенным словарям,\n",
    "# т.е. по значениям info внешнего словаря employees\n",
    "\n",
    "for info in employees.values():\n",
    "\n",
    "  # затем по ключам и значениям вложенного словаря info\n",
    "  for k, v in info.items():\n",
    "\n",
    "    # если ключ совпадет со словом 'age'\n",
    "    if k == 'age':\n",
    "\n",
    "      # преобразуем значение в тип float\n",
    "      info[k] = float(v)\n",
    "\n",
    "pprint(employees)"
   ]
  },
  {
   "cell_type": "markdown",
   "metadata": {
    "id": "LAx-zGvZ3NlY"
   },
   "source": [
    "# Задание\n",
    "\n",
    "1. Запишите в словарь `movies` четыре фильма. Название послужит ключом, а год выхода — значением.\n",
    "\n",
    "* Измените словарь таким образом, чтобы ключами стали порядковые числа, а название - значением.\n",
    "* Для словаря `movies` выведите ключи, значения и пары ключ-значение.\n",
    "* Добавьте еще один фильм.\n",
    "* Используя цикл `for` выведите ключи, значения и пары ключ-значение.\n",
    "* Используя небезопасный способ выведите информацию о фильме, ключа для которого нет в словаре.\n",
    "* Повторите операцию пункта 4, используя безопасный способ.\n",
    "* Проверьте наличие в словаре конкретного (имеющегося) фильма по его ключу, по его наименованию, по паре ключ-значение.\n",
    "* Проверьте наличие в словаре конкретного (отсутствующего) фильма по его ключу, по его наименованию, по паре ключ-значение.\n",
    "\n",
    "2. Создайте карточку студента в формате словаря Python.<br>\n",
    "Укажите следующие ключи: `first name`, `last name`, `gender`, `age` (значения могут быть произвольными).\n",
    "\n",
    "* К созданной карточке студента добавьте ключ `year` (курс) и значение 3.\n",
    "* Предположим студент перешел на четвертый курс. Обновите данные в словаре.\n",
    "* Проверьте, есть ли в словаре ключ `major` (основная специальность), но так, чтобы при этом не возникло ошибки.\n",
    "* Соедините ранее созданный словарь с новым. В новом словаре должны быть следующие ключи: `major` и `sports`. Значения могут быть произвольными.\n",
    "* Удалите данные о поле студента (ключ `gender`).\n",
    "* Создайте копию получившегося словаря. Измените любое значение в копии словаря. Убедитесь, что исходный словарь не изменился.\n",
    "\n",
    "3. Создайте `список словарей`, состоящий из 5 сериалов с указанием наименования сериала, страны, жанра, канала (шоураннера) и количества серий.\n",
    "* Сформируйте `датафрейм` на основе созданного списка словарей и выведите его на экран.\n",
    "* Рассчитайте общее количество серий, используя цикл `for`.\n",
    "* Выведите список словарей на экран, используя функцию `dumps()`."
   ]
  },
  {
   "cell_type": "code",
   "execution_count": 2,
   "metadata": {
    "id": "gKl8LdUD3Nlf"
   },
   "outputs": [],
   "source": [
    "movies = {\"Пираты Карибского моря\": 2003, \"Титаник\": 1997, \"Человек-паук\": 2002, \"Третий лишний\": 2010}"
   ]
  },
  {
   "cell_type": "code",
   "execution_count": 3,
   "metadata": {},
   "outputs": [],
   "source": [
    "movies = {index + 1: title for index, title in enumerate(movies)}"
   ]
  },
  {
   "cell_type": "code",
   "execution_count": 4,
   "metadata": {},
   "outputs": [
    {
     "name": "stdout",
     "output_type": "stream",
     "text": [
      "[1, 2, 3, 4]\n",
      "['Пираты Карибского моря', 'Титаник', 'Человек-паук', 'Третий лишний']\n",
      "[(1, 'Пираты Карибского моря'), (2, 'Титаник'), (3, 'Человек-паук'), (4, 'Третий лишний')]\n"
     ]
    }
   ],
   "source": [
    "print(list(movies.keys()))\n",
    "print(list(movies.values()))\n",
    "print(list(movies.items()))"
   ]
  },
  {
   "cell_type": "code",
   "execution_count": 5,
   "metadata": {},
   "outputs": [],
   "source": [
    "movies[5] = \"Гадкий Я\""
   ]
  },
  {
   "cell_type": "code",
   "execution_count": 6,
   "metadata": {},
   "outputs": [
    {
     "name": "stdout",
     "output_type": "stream",
     "text": [
      "1\n",
      "Пираты Карибского моря\n",
      "(1, 'Пираты Карибского моря')\n",
      "2\n",
      "Титаник\n",
      "(2, 'Титаник')\n",
      "3\n",
      "Человек-паук\n",
      "(3, 'Человек-паук')\n",
      "4\n",
      "Третий лишний\n",
      "(4, 'Третий лишний')\n",
      "5\n",
      "Гадкий Я\n",
      "(5, 'Гадкий Я')\n"
     ]
    }
   ],
   "source": [
    "for key in movies:\n",
    "    print(key)\n",
    "    print(movies[key])\n",
    "    print((key, movies[key]))"
   ]
  },
  {
   "cell_type": "code",
   "execution_count": 7,
   "metadata": {},
   "outputs": [
    {
     "ename": "KeyError",
     "evalue": "6",
     "output_type": "error",
     "traceback": [
      "\u001b[1;31m---------------------------------------------------------------------------\u001b[0m",
      "\u001b[1;31mKeyError\u001b[0m                                  Traceback (most recent call last)",
      "Cell \u001b[1;32mIn[7], line 1\u001b[0m\n\u001b[1;32m----> 1\u001b[0m \u001b[38;5;28mprint\u001b[39m(movies[\u001b[38;5;241m6\u001b[39m])\n",
      "\u001b[1;31mKeyError\u001b[0m: 6"
     ]
    }
   ],
   "source": [
    "print(movies[6]) # Небезопасный способ"
   ]
  },
  {
   "cell_type": "code",
   "execution_count": 8,
   "metadata": {},
   "outputs": [
    {
     "name": "stdout",
     "output_type": "stream",
     "text": [
      "Фильм не найден\n"
     ]
    }
   ],
   "source": [
    "print(movies.get(6, \"Фильм не найден\"))"
   ]
  },
  {
   "cell_type": "code",
   "execution_count": 14,
   "metadata": {},
   "outputs": [
    {
     "name": "stdout",
     "output_type": "stream",
     "text": [
      "True\n",
      "True\n",
      "True\n"
     ]
    }
   ],
   "source": [
    "print(3 in movies)  # Проверка наличия по ключу\n",
    "print(\"Человек-паук\" in movies.values())  # Проверка наличия по наименованию\n",
    "print((3, \"Человек-паук\") in movies.items())  # Проверка наличия по паре ключ-значение"
   ]
  },
  {
   "cell_type": "code",
   "execution_count": 15,
   "metadata": {},
   "outputs": [
    {
     "name": "stdout",
     "output_type": "stream",
     "text": [
      "False\n",
      "False\n",
      "False\n"
     ]
    }
   ],
   "source": [
    "print(6 in movies)  # Проверка наличия по ключу\n",
    "print(\"Безумный Макс\" in movies.values())  # Проверка наличия по наименованию\n",
    "print((6, \"Безумный Макс\") in movies.items())  # Проверка наличия по паре ключ-значение"
   ]
  },
  {
   "cell_type": "markdown",
   "metadata": {},
   "source": [
    "### Карточка студента"
   ]
  },
  {
   "cell_type": "code",
   "execution_count": 56,
   "metadata": {},
   "outputs": [],
   "source": [
    "student = {\n",
    "\"first name\": \"Piter\",\n",
    "\"last name\": \"Parker\",\n",
    "\"gender\": \"male\",\n",
    "\"age\": 17\n",
    "}"
   ]
  },
  {
   "cell_type": "code",
   "execution_count": 57,
   "metadata": {},
   "outputs": [],
   "source": [
    "student[\"year\"] = 3"
   ]
  },
  {
   "cell_type": "code",
   "execution_count": 58,
   "metadata": {},
   "outputs": [],
   "source": [
    "student[\"year\"] = 4"
   ]
  },
  {
   "cell_type": "code",
   "execution_count": 59,
   "metadata": {},
   "outputs": [
    {
     "name": "stdout",
     "output_type": "stream",
     "text": [
      "Ключ 'major' отсутствует\n"
     ]
    }
   ],
   "source": [
    "if \"major\" in student:\n",
    "    print(\"Ключ 'major' присутствует\")\n",
    "else:\n",
    "    print(\"Ключ 'major' отсутствует\")"
   ]
  },
  {
   "cell_type": "code",
   "execution_count": 60,
   "metadata": {},
   "outputs": [],
   "source": [
    "major_sports = {\n",
    "\"major\": \"Computer Science\",\n",
    "\"sports\": \"Basketball\"\n",
    "}\n",
    "\n",
    "student_copy = student.copy()\n",
    "student_copy.update(major_sports)"
   ]
  },
  {
   "cell_type": "code",
   "execution_count": 61,
   "metadata": {},
   "outputs": [],
   "source": [
    "if \"gender\" in student_copy:\n",
    "    del student_copy[\"gender\"]"
   ]
  },
  {
   "cell_type": "code",
   "execution_count": 62,
   "metadata": {},
   "outputs": [
    {
     "name": "stdout",
     "output_type": "stream",
     "text": [
      "{'first name': 'Piter', 'last name': 'Parker', 'gender': 'male', 'age': 17, 'year': 4}\n",
      "{'first name': 'Piter', 'last name': 'Parker', 'age': 21, 'year': 4, 'major': 'Computer Science', 'sports': 'Basketball'}\n"
     ]
    }
   ],
   "source": [
    "student_card_copy = student_copy.copy()\n",
    "student_card_copy[\"age\"] = 21\n",
    "\n",
    "print(student)\n",
    "print(student_card_copy)"
   ]
  },
  {
   "cell_type": "markdown",
   "metadata": {},
   "source": [
    "### Список сериалов"
   ]
  },
  {
   "cell_type": "code",
   "execution_count": 63,
   "metadata": {},
   "outputs": [],
   "source": [
    "serials = [\n",
    "    {\n",
    "        \"Название\": \"Ходячие мертвецы\",\n",
    "        \"Страна\": \"США\",\n",
    "        \"Жанр\": \"Ужасы, Драма\",\n",
    "        \"Шоураннер\": \"Франк Дарабонт\",\n",
    "        \"Серии\": 177\n",
    "    },\n",
    "    {\n",
    "        \"Название\": \"Пацаны\",\n",
    "        \"Страна\": \"США\",\n",
    "        \"Жанр\": \"Экшн, Комедия\",\n",
    "        \"Шоураннер\": \"Эрик Крипке\",\n",
    "        \"Серии\": 45\n",
    "    },\n",
    "    {\n",
    "        \"Название\": \"Как я встретил вашу маму\",\n",
    "        \"Страна\": \"США\",\n",
    "        \"Жанр\": \"Комедия, Романтика\",\n",
    "        \"Шоураннер\": \"Картун Дараи\",\n",
    "        \"Серии\": 208\n",
    "    },\n",
    "    {\n",
    "        \"Название\": \"Бесстыжие\",\n",
    "        \"Страна\": \"США\",\n",
    "        \"Жанр\": \"Драма, Комедия\",\n",
    "        \"Шоураннер\": \"Джин Сцагноли\",\n",
    "        \"Серии\": 134\n",
    "    },\n",
    "    {\n",
    "        \"Название\": \"Теория большого взрыва\",\n",
    "        \"Страна\": \"США\",\n",
    "        \"Жанр\": \"Комедия\",\n",
    "        \"Шоураннер\": \"Чак Лорри, Билл Пради\",\n",
    "        \"Серии\": 279\n",
    "    }\n",
    "]"
   ]
  },
  {
   "cell_type": "code",
   "execution_count": 68,
   "metadata": {},
   "outputs": [],
   "source": [
    "df = pd.DataFrame(serials)"
   ]
  },
  {
   "cell_type": "code",
   "execution_count": 70,
   "metadata": {},
   "outputs": [
    {
     "data": {
      "text/html": [
       "<div>\n",
       "<style scoped>\n",
       "    .dataframe tbody tr th:only-of-type {\n",
       "        vertical-align: middle;\n",
       "    }\n",
       "\n",
       "    .dataframe tbody tr th {\n",
       "        vertical-align: top;\n",
       "    }\n",
       "\n",
       "    .dataframe thead th {\n",
       "        text-align: right;\n",
       "    }\n",
       "</style>\n",
       "<table border=\"1\" class=\"dataframe\">\n",
       "  <thead>\n",
       "    <tr style=\"text-align: right;\">\n",
       "      <th></th>\n",
       "      <th>Название</th>\n",
       "      <th>Страна</th>\n",
       "      <th>Жанр</th>\n",
       "      <th>Шоураннер</th>\n",
       "      <th>Серии</th>\n",
       "    </tr>\n",
       "  </thead>\n",
       "  <tbody>\n",
       "    <tr>\n",
       "      <th>0</th>\n",
       "      <td>Ходячие мертвецы</td>\n",
       "      <td>США</td>\n",
       "      <td>Ужасы, Драма</td>\n",
       "      <td>Франк Дарабонт</td>\n",
       "      <td>177</td>\n",
       "    </tr>\n",
       "    <tr>\n",
       "      <th>1</th>\n",
       "      <td>Пацаны</td>\n",
       "      <td>США</td>\n",
       "      <td>Экшн, Комедия</td>\n",
       "      <td>Эрик Крипке</td>\n",
       "      <td>45</td>\n",
       "    </tr>\n",
       "    <tr>\n",
       "      <th>2</th>\n",
       "      <td>Как я встретил вашу маму</td>\n",
       "      <td>США</td>\n",
       "      <td>Комедия, Романтика</td>\n",
       "      <td>Картун Дараи</td>\n",
       "      <td>208</td>\n",
       "    </tr>\n",
       "    <tr>\n",
       "      <th>3</th>\n",
       "      <td>Бесстыжие</td>\n",
       "      <td>США</td>\n",
       "      <td>Драма, Комедия</td>\n",
       "      <td>Джин Сцагноли</td>\n",
       "      <td>134</td>\n",
       "    </tr>\n",
       "    <tr>\n",
       "      <th>4</th>\n",
       "      <td>Теория большого взрыва</td>\n",
       "      <td>США</td>\n",
       "      <td>Комедия</td>\n",
       "      <td>Чак Лорри, Билл Пради</td>\n",
       "      <td>279</td>\n",
       "    </tr>\n",
       "  </tbody>\n",
       "</table>\n",
       "</div>"
      ],
      "text/plain": [
       "                   Название Страна                Жанр              Шоураннер  \\\n",
       "0          Ходячие мертвецы    США        Ужасы, Драма         Франк Дарабонт   \n",
       "1                    Пацаны    США       Экшн, Комедия            Эрик Крипке   \n",
       "2  Как я встретил вашу маму    США  Комедия, Романтика           Картун Дараи   \n",
       "3                 Бесстыжие    США      Драма, Комедия          Джин Сцагноли   \n",
       "4    Теория большого взрыва    США             Комедия  Чак Лорри, Билл Пради   \n",
       "\n",
       "   Серии  \n",
       "0    177  \n",
       "1     45  \n",
       "2    208  \n",
       "3    134  \n",
       "4    279  "
      ]
     },
     "metadata": {},
     "output_type": "display_data"
    }
   ],
   "source": [
    "display(df)"
   ]
  },
  {
   "cell_type": "code",
   "execution_count": 72,
   "metadata": {},
   "outputs": [],
   "source": [
    "total_episodes = 0\n",
    "for show in serials:\n",
    "    total_episodes += show[\"Серии\"]"
   ]
  },
  {
   "cell_type": "code",
   "execution_count": 74,
   "metadata": {},
   "outputs": [
    {
     "name": "stdout",
     "output_type": "stream",
     "text": [
      "Общее число серий: 843\n"
     ]
    }
   ],
   "source": [
    "print(\"Общее число серий:\", total_episodes)"
   ]
  },
  {
   "cell_type": "code",
   "execution_count": 77,
   "metadata": {},
   "outputs": [
    {
     "name": "stdout",
     "output_type": "stream",
     "text": [
      "[\n",
      "    {\n",
      "        \"Название\": \"Ходячие мертвецы\",\n",
      "        \"Страна\": \"США\",\n",
      "        \"Жанр\": \"Ужасы, Драма\",\n",
      "        \"Шоураннер\": \"Франк Дарабонт\",\n",
      "        \"Серии\": 177\n",
      "    },\n",
      "    {\n",
      "        \"Название\": \"Пацаны\",\n",
      "        \"Страна\": \"США\",\n",
      "        \"Жанр\": \"Экшн, Комедия\",\n",
      "        \"Шоураннер\": \"Эрик Крипке\",\n",
      "        \"Серии\": 45\n",
      "    },\n",
      "    {\n",
      "        \"Название\": \"Как я встретил вашу маму\",\n",
      "        \"Страна\": \"США\",\n",
      "        \"Жанр\": \"Комедия, Романтика\",\n",
      "        \"Шоураннер\": \"Картун Дараи\",\n",
      "        \"Серии\": 208\n",
      "    },\n",
      "    {\n",
      "        \"Название\": \"Бесстыжие\",\n",
      "        \"Страна\": \"США\",\n",
      "        \"Жанр\": \"Драма, Комедия\",\n",
      "        \"Шоураннер\": \"Джин Сцагноли\",\n",
      "        \"Серии\": 134\n",
      "    },\n",
      "    {\n",
      "        \"Название\": \"Теория большого взрыва\",\n",
      "        \"Страна\": \"США\",\n",
      "        \"Жанр\": \"Комедия\",\n",
      "        \"Шоураннер\": \"Чак Лорри, Билл Пради\",\n",
      "        \"Серии\": 279\n",
      "    }\n",
      "]\n"
     ]
    }
   ],
   "source": [
    "print(json.dumps(serials, ensure_ascii=False, indent=4))"
   ]
  },
  {
   "cell_type": "markdown",
   "metadata": {
    "id": "-7BJwOw73Nlj"
   },
   "source": [
    "# Задание\n",
    "\n",
    "Дан вложенный словарь."
   ]
  },
  {
   "cell_type": "code",
   "execution_count": 81,
   "metadata": {
    "id": "EUPLxd9I3Nlj"
   },
   "outputs": [],
   "source": [
    "writers = {\n",
    "    'Shakespeare' : {\n",
    "        'works' : ['Hamlet', 'Romeo and Juliet', 'Othello', 'King Lear'],\n",
    "        'born' : 1564,\n",
    "        'language' : 'English'\n",
    "    },\n",
    "    'Dumas' : {\n",
    "        'works' : ['Les Trois Mousquetaires', 'Le Comte de Monte-Cristo'],\n",
    "        'born': 1802,\n",
    "        'language' : 'French'\n",
    "    },\n",
    "    'Tolstoy' : {\n",
    "        'works' : ['Война и мир', 'Анна Каренина', 'Воскресение'],\n",
    "        'born' : 1908,\n",
    "        'language' : 'Russian'\n",
    "    }\n",
    "}"
   ]
  },
  {
   "cell_type": "markdown",
   "metadata": {
    "id": "PCDZ4tnQr6NX"
   },
   "source": [
    "Выведите словарь с помощью функции `pprint()`."
   ]
  },
  {
   "cell_type": "code",
   "execution_count": 82,
   "metadata": {
    "id": "M7Hf9iZNr24Q"
   },
   "outputs": [
    {
     "name": "stdout",
     "output_type": "stream",
     "text": [
      "{'Dumas': {'born': 1802,\n",
      "           'language': 'French',\n",
      "           'works': ['Les Trois Mousquetaires', 'Le Comte de Monte-Cristo']},\n",
      " 'Shakespeare': {'born': 1564,\n",
      "                 'language': 'English',\n",
      "                 'works': ['Hamlet',\n",
      "                           'Romeo and Juliet',\n",
      "                           'Othello',\n",
      "                           'King Lear']},\n",
      " 'Tolstoy': {'born': 1908,\n",
      "             'language': 'Russian',\n",
      "             'works': ['Война и мир', 'Анна Каренина', 'Воскресение']}}\n"
     ]
    }
   ],
   "source": [
    "pprint(writers)"
   ]
  },
  {
   "cell_type": "markdown",
   "metadata": {
    "id": "bAsk2WD6r_99"
   },
   "source": [
    "Выведите год рождения Дюма."
   ]
  },
  {
   "cell_type": "code",
   "execution_count": 83,
   "metadata": {
    "id": "oRgFR_RyscQn"
   },
   "outputs": [
    {
     "name": "stdout",
     "output_type": "stream",
     "text": [
      "Год рождения Дюма: 1802\n"
     ]
    }
   ],
   "source": [
    "print(\"Год рождения Дюма:\", writers['Dumas']['born'])"
   ]
  },
  {
   "cell_type": "markdown",
   "metadata": {
    "id": "kxRnBXzBsfG9"
   },
   "source": [
    "Добавьте пьесу Macbeth (Макбет) в перечень произведений Шекпира."
   ]
  },
  {
   "cell_type": "code",
   "execution_count": 84,
   "metadata": {
    "id": "ZyTprCkYtLPm"
   },
   "outputs": [],
   "source": [
    "writers['Shakespeare']['works'].append('Macbeth')"
   ]
  },
  {
   "cell_type": "markdown",
   "metadata": {
    "id": "b6C41f-dtS92"
   },
   "source": [
    "Создайте список языков, на которых писали авторы.\n",
    "\n",
    "Подсказка: используйте два цикла `for` или вложенные dict comprehension."
   ]
  },
  {
   "cell_type": "code",
   "execution_count": 85,
   "metadata": {},
   "outputs": [],
   "source": [
    "languages = [writer_info['language'] for writer_info in writers.values()]"
   ]
  },
  {
   "cell_type": "code",
   "execution_count": 87,
   "metadata": {},
   "outputs": [
    {
     "name": "stdout",
     "output_type": "stream",
     "text": [
      "Список языков: ['English', 'French', 'Russian']\n"
     ]
    }
   ],
   "source": [
    "print(\"Список языков:\", languages)"
   ]
  }
 ],
 "metadata": {
  "colab": {
   "provenance": []
  },
  "kernelspec": {
   "display_name": "Python 3 (ipykernel)",
   "language": "python",
   "name": "python3"
  },
  "language_info": {
   "codemirror_mode": {
    "name": "ipython",
    "version": 3
   },
   "file_extension": ".py",
   "mimetype": "text/x-python",
   "name": "python",
   "nbconvert_exporter": "python",
   "pygments_lexer": "ipython3",
   "version": "3.11.7"
  }
 },
 "nbformat": 4,
 "nbformat_minor": 4
}
