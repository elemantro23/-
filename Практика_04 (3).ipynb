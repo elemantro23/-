{
 "cells": [
  {
   "cell_type": "markdown",
   "id": "49628105",
   "metadata": {},
   "source": [
    "# Практика 04. Введение в модуль для работы с табличным представлением данных Pandas"
   ]
  },
  {
   "cell_type": "code",
   "execution_count": 69,
   "id": "0fb65302-5826-4ec0-a009-635e892b92f3",
   "metadata": {},
   "outputs": [
    {
     "name": "stdout",
     "output_type": "stream",
     "text": [
      "Requirement already satisfied: pandas in c:\\anaconda\\lib\\site-packages (2.1.4)\n",
      "Requirement already satisfied: numpy<2,>=1.23.2 in c:\\anaconda\\lib\\site-packages (from pandas) (1.26.4)\n",
      "Requirement already satisfied: python-dateutil>=2.8.2 in c:\\anaconda\\lib\\site-packages (from pandas) (2.8.2)\n",
      "Requirement already satisfied: pytz>=2020.1 in c:\\anaconda\\lib\\site-packages (from pandas) (2023.3.post1)\n",
      "Requirement already satisfied: tzdata>=2022.1 in c:\\anaconda\\lib\\site-packages (from pandas) (2023.3)\n",
      "Requirement already satisfied: six>=1.5 in c:\\anaconda\\lib\\site-packages (from python-dateutil>=2.8.2->pandas) (1.16.0)\n",
      "Requirement already satisfied: matplotlib in c:\\anaconda\\lib\\site-packages (3.9.0)\n",
      "Requirement already satisfied: contourpy>=1.0.1 in c:\\anaconda\\lib\\site-packages (from matplotlib) (1.2.0)\n",
      "Requirement already satisfied: cycler>=0.10 in c:\\anaconda\\lib\\site-packages (from matplotlib) (0.11.0)\n",
      "Requirement already satisfied: fonttools>=4.22.0 in c:\\anaconda\\lib\\site-packages (from matplotlib) (4.25.0)\n",
      "Requirement already satisfied: kiwisolver>=1.3.1 in c:\\anaconda\\lib\\site-packages (from matplotlib) (1.4.4)\n",
      "Requirement already satisfied: numpy>=1.23 in c:\\anaconda\\lib\\site-packages (from matplotlib) (1.26.4)\n",
      "Requirement already satisfied: packaging>=20.0 in c:\\anaconda\\lib\\site-packages (from matplotlib) (23.1)\n",
      "Requirement already satisfied: pillow>=8 in c:\\anaconda\\lib\\site-packages (from matplotlib) (10.2.0)\n",
      "Requirement already satisfied: pyparsing>=2.3.1 in c:\\anaconda\\lib\\site-packages (from matplotlib) (3.0.9)\n",
      "Requirement already satisfied: python-dateutil>=2.7 in c:\\anaconda\\lib\\site-packages (from matplotlib) (2.8.2)\n",
      "Requirement already satisfied: six>=1.5 in c:\\anaconda\\lib\\site-packages (from python-dateutil>=2.7->matplotlib) (1.16.0)\n"
     ]
    }
   ],
   "source": [
    "!pip install pandas\n",
    "!pip install matplotlib"
   ]
  },
  {
   "cell_type": "code",
   "execution_count": 70,
   "id": "9ee49d4f",
   "metadata": {
    "id": "R05H8j-Udib2"
   },
   "outputs": [],
   "source": [
    "import numpy as np\n",
    "import pandas as pd\n",
    "import matplotlib.pyplot as plt"
   ]
  },
  {
   "cell_type": "markdown",
   "id": "d5d76c4c",
   "metadata": {
    "id": "_KOpmX9C22vq"
   },
   "source": [
    "## Объекты DataFrame и Series"
   ]
  },
  {
   "cell_type": "markdown",
   "id": "55ac48bc",
   "metadata": {},
   "source": [
    "В Pandas есть два основных объекта: `DataFrame` и `Series`. Слегка упрощая, можно сказать, что `DataFrame` — это таблица (и соответственно двумерный массив), а `Series` — столбец этой таблицы (а значит одномерный массив)."
   ]
  },
  {
   "cell_type": "markdown",
   "id": "dd28d494",
   "metadata": {
    "id": "JPiD-O0g3Nc_"
   },
   "source": [
    "### Создание датафрейма"
   ]
  },
  {
   "cell_type": "markdown",
   "id": "cde6ef1e",
   "metadata": {},
   "source": [
    "Датафрейм можно создать, импортировав файлы различных форматов. На лекции уже был показан пример с файлами в формате `.csv` с помощью функции `d.read_csv()`. Аналогичным образом можно импортировать файлы и в других форматах, например MS Excel или html. Рассмотрим несколько примеров.<br>\n",
    "\n",
    "Файл `.csv` в `zip-архиве`. Если в zip-архиве содержится только один файл, его можно напрямую подгрузить в Pandas."
   ]
  },
  {
   "cell_type": "markdown",
   "id": "9bd30815",
   "metadata": {
    "id": "DAMza_uN3STN"
   },
   "source": [
    "**Способ 1**. Создание датафрейма из файла"
   ]
  },
  {
   "cell_type": "code",
   "execution_count": null,
   "id": "49869340-c33e-45c0-baa2-3af0d0d85a90",
   "metadata": {},
   "outputs": [],
   "source": [
    "# функция read_csv() распознает zip-архивы,\n",
    "# в архиве может содержаться только один файл\n",
    "\n",
    "csv_zip = pd.read_csv('yandex_music.zip')\n",
    "csv_zip.head(3)"
   ]
  },
  {
   "cell_type": "code",
   "execution_count": null,
   "id": "65bbc3f5-c75c-431b-b20e-7c47b51b40d4",
   "metadata": {},
   "outputs": [],
   "source": [
    "# импортируем данные в формате Excel, указав номер листа, который хотим использовать\n",
    "\n",
    "excel_data = pd.read_excel('iris.xlsx', sheet_name = 0)\n",
    "excel_data.head(3)"
   ]
  },
  {
   "cell_type": "code",
   "execution_count": null,
   "id": "138ea140",
   "metadata": {
    "id": "_QtgA2t-JxJE"
   },
   "outputs": [],
   "source": [
    "# импортируем таблицу со страницы про мировое население в Википедии\n",
    "# в параметре match мы передаем ключевые слова, которые помогут найти нужную таблицу\n",
    "\n",
    "html_data = pd.read_html('https://en.wikipedia.org/wiki/World_population',\n",
    "                         match = 'World population')"
   ]
  },
  {
   "cell_type": "code",
   "execution_count": null,
   "id": "99d09f77-19ba-4e38-a3ba-4548bcc801e2",
   "metadata": {},
   "outputs": [],
   "source": [
    "# мы получили пять результатов\n",
    "\n",
    "len(html_data)"
   ]
  },
  {
   "cell_type": "markdown",
   "id": "0c74e02c",
   "metadata": {
    "id": "eqSYMuu8zgVh"
   },
   "source": [
    "**Способ 2**. Подключение к базе данных SQL"
   ]
  },
  {
   "cell_type": "markdown",
   "id": "8a6b3c40",
   "metadata": {
    "id": "i71XHMyS3ZD7"
   },
   "source": [
    "**Способ 3**. Создание датафрейма из словаря"
   ]
  },
  {
   "cell_type": "code",
   "execution_count": 71,
   "id": "4564f648",
   "metadata": {
    "id": "ukbK9MlQQwxz"
   },
   "outputs": [],
   "source": [
    "# создадим несколько списков и массивов Numpy с информацией о семи странах мира\n",
    "\n",
    "country = (['Peru', 'Germany', 'Brazil', 'Spain', 'Poland', 'Norway', 'Sweden'])"
   ]
  },
  {
   "cell_type": "code",
   "execution_count": 72,
   "id": "cb7deb2e-3121-4f37-9301-3362cf9b02c5",
   "metadata": {},
   "outputs": [],
   "source": [
    "capital = (['Lima', 'Berlin', 'Brazilia', 'Barcelona', 'Warsaw', 'Oslo', 'Stockholm'])"
   ]
  },
  {
   "cell_type": "code",
   "execution_count": 73,
   "id": "6a10309d",
   "metadata": {},
   "outputs": [],
   "source": [
    "# млн. человек\n",
    "population = ([34, 84, 190, 48, 38, 5, 10])"
   ]
  },
  {
   "cell_type": "code",
   "execution_count": 74,
   "id": "440cec71",
   "metadata": {},
   "outputs": [],
   "source": [
    "# млн. кв. км.\n",
    "area = ([0.6, 0.2, 0.4, 1, 2.5, 1.1, 3.5])"
   ]
  },
  {
   "cell_type": "code",
   "execution_count": 75,
   "id": "297fd858",
   "metadata": {},
   "outputs": [],
   "source": [
    "# выход к морю (в этом списке его нет только у Боливии)\n",
    "sea = ([1, 1, 1, 0, 0, 0, 1])"
   ]
  },
  {
   "cell_type": "code",
   "execution_count": 76,
   "id": "99e6730f",
   "metadata": {
    "id": "6egVsRs4W36J"
   },
   "outputs": [],
   "source": [
    "# создадим пустой словарь\n",
    "countries_dict = {}\n",
    "\n",
    "\n",
    "# превратим эти списки в значения словаря,\n",
    "# одновременно снабдив необходимыми ключами\n",
    "countries_dict ['country'] = country\n",
    "countries_dict ['capital'] = capital\n",
    "countries_dict ['population'] = population\n",
    "countries_dict ['area'] = area\n",
    "countries_dict ['sea'] = sea"
   ]
  },
  {
   "cell_type": "code",
   "execution_count": 77,
   "id": "2283b7bc",
   "metadata": {
    "id": "X3_ql3S_oouG"
   },
   "outputs": [
    {
     "data": {
      "text/plain": [
       "{'country': ['Peru',\n",
       "  'Germany',\n",
       "  'Brazil',\n",
       "  'Spain',\n",
       "  'Poland',\n",
       "  'Norway',\n",
       "  'Sweden'],\n",
       " 'capital': ['Lima',\n",
       "  'Berlin',\n",
       "  'Brazilia',\n",
       "  'Barcelona',\n",
       "  'Warsaw',\n",
       "  'Oslo',\n",
       "  'Stockholm'],\n",
       " 'population': [34, 84, 190, 48, 38, 5, 10],\n",
       " 'area': [0.6, 0.2, 0.4, 1, 2.5, 1.1, 3.5],\n",
       " 'sea': [1, 1, 1, 0, 0, 0, 1]}"
      ]
     },
     "execution_count": 77,
     "metadata": {},
     "output_type": "execute_result"
    }
   ],
   "source": [
    "# посмотрим на результат\n",
    "countries_dict"
   ]
  },
  {
   "cell_type": "code",
   "execution_count": 78,
   "id": "1b770beb-5e65-4df7-876b-c5f265722725",
   "metadata": {},
   "outputs": [
    {
     "data": {
      "text/html": [
       "<div>\n",
       "<style scoped>\n",
       "    .dataframe tbody tr th:only-of-type {\n",
       "        vertical-align: middle;\n",
       "    }\n",
       "\n",
       "    .dataframe tbody tr th {\n",
       "        vertical-align: top;\n",
       "    }\n",
       "\n",
       "    .dataframe thead th {\n",
       "        text-align: right;\n",
       "    }\n",
       "</style>\n",
       "<table border=\"1\" class=\"dataframe\">\n",
       "  <thead>\n",
       "    <tr style=\"text-align: right;\">\n",
       "      <th></th>\n",
       "      <th>country</th>\n",
       "      <th>capital</th>\n",
       "      <th>population</th>\n",
       "      <th>area</th>\n",
       "      <th>sea</th>\n",
       "    </tr>\n",
       "  </thead>\n",
       "  <tbody>\n",
       "    <tr>\n",
       "      <th>0</th>\n",
       "      <td>Peru</td>\n",
       "      <td>Lima</td>\n",
       "      <td>34</td>\n",
       "      <td>0.6</td>\n",
       "      <td>1</td>\n",
       "    </tr>\n",
       "    <tr>\n",
       "      <th>1</th>\n",
       "      <td>Germany</td>\n",
       "      <td>Berlin</td>\n",
       "      <td>84</td>\n",
       "      <td>0.2</td>\n",
       "      <td>1</td>\n",
       "    </tr>\n",
       "    <tr>\n",
       "      <th>2</th>\n",
       "      <td>Brazil</td>\n",
       "      <td>Brazilia</td>\n",
       "      <td>190</td>\n",
       "      <td>0.4</td>\n",
       "      <td>1</td>\n",
       "    </tr>\n",
       "    <tr>\n",
       "      <th>3</th>\n",
       "      <td>Spain</td>\n",
       "      <td>Barcelona</td>\n",
       "      <td>48</td>\n",
       "      <td>1.0</td>\n",
       "      <td>0</td>\n",
       "    </tr>\n",
       "    <tr>\n",
       "      <th>4</th>\n",
       "      <td>Poland</td>\n",
       "      <td>Warsaw</td>\n",
       "      <td>38</td>\n",
       "      <td>2.5</td>\n",
       "      <td>0</td>\n",
       "    </tr>\n",
       "    <tr>\n",
       "      <th>5</th>\n",
       "      <td>Norway</td>\n",
       "      <td>Oslo</td>\n",
       "      <td>5</td>\n",
       "      <td>1.1</td>\n",
       "      <td>0</td>\n",
       "    </tr>\n",
       "    <tr>\n",
       "      <th>6</th>\n",
       "      <td>Sweden</td>\n",
       "      <td>Stockholm</td>\n",
       "      <td>10</td>\n",
       "      <td>3.5</td>\n",
       "      <td>1</td>\n",
       "    </tr>\n",
       "  </tbody>\n",
       "</table>\n",
       "</div>"
      ],
      "text/plain": [
       "   country    capital  population  area  sea\n",
       "0     Peru       Lima          34   0.6    1\n",
       "1  Germany     Berlin          84   0.2    1\n",
       "2   Brazil   Brazilia         190   0.4    1\n",
       "3    Spain  Barcelona          48   1.0    0\n",
       "4   Poland     Warsaw          38   2.5    0\n",
       "5   Norway       Oslo           5   1.1    0\n",
       "6   Sweden  Stockholm          10   3.5    1"
      ]
     },
     "execution_count": 78,
     "metadata": {},
     "output_type": "execute_result"
    }
   ],
   "source": [
    "countries = pd.DataFrame(countries_dict)\n",
    "countries"
   ]
  },
  {
   "cell_type": "code",
   "execution_count": 79,
   "id": "e7f7e60a-ca81-43c9-966e-0f34437545e2",
   "metadata": {},
   "outputs": [
    {
     "data": {
      "text/html": [
       "<div>\n",
       "<style scoped>\n",
       "    .dataframe tbody tr th:only-of-type {\n",
       "        vertical-align: middle;\n",
       "    }\n",
       "\n",
       "    .dataframe tbody tr th {\n",
       "        vertical-align: top;\n",
       "    }\n",
       "\n",
       "    .dataframe thead th {\n",
       "        text-align: right;\n",
       "    }\n",
       "</style>\n",
       "<table border=\"1\" class=\"dataframe\">\n",
       "  <thead>\n",
       "    <tr style=\"text-align: right;\">\n",
       "      <th></th>\n",
       "      <th>country</th>\n",
       "      <th>capital</th>\n",
       "      <th>population</th>\n",
       "      <th>area</th>\n",
       "      <th>sea</th>\n",
       "    </tr>\n",
       "  </thead>\n",
       "  <tbody>\n",
       "    <tr>\n",
       "      <th>0</th>\n",
       "      <td>Peru</td>\n",
       "      <td>Lima</td>\n",
       "      <td>34</td>\n",
       "      <td>0.6</td>\n",
       "      <td>1</td>\n",
       "    </tr>\n",
       "    <tr>\n",
       "      <th>1</th>\n",
       "      <td>Germany</td>\n",
       "      <td>Berlin</td>\n",
       "      <td>84</td>\n",
       "      <td>0.2</td>\n",
       "      <td>1</td>\n",
       "    </tr>\n",
       "    <tr>\n",
       "      <th>2</th>\n",
       "      <td>Brazil</td>\n",
       "      <td>Brazilia</td>\n",
       "      <td>190</td>\n",
       "      <td>0.4</td>\n",
       "      <td>1</td>\n",
       "    </tr>\n",
       "    <tr>\n",
       "      <th>3</th>\n",
       "      <td>Spain</td>\n",
       "      <td>Barcelona</td>\n",
       "      <td>48</td>\n",
       "      <td>1.0</td>\n",
       "      <td>0</td>\n",
       "    </tr>\n",
       "    <tr>\n",
       "      <th>4</th>\n",
       "      <td>Poland</td>\n",
       "      <td>Warsaw</td>\n",
       "      <td>38</td>\n",
       "      <td>2.5</td>\n",
       "      <td>0</td>\n",
       "    </tr>\n",
       "    <tr>\n",
       "      <th>5</th>\n",
       "      <td>Norway</td>\n",
       "      <td>Oslo</td>\n",
       "      <td>5</td>\n",
       "      <td>1.1</td>\n",
       "      <td>0</td>\n",
       "    </tr>\n",
       "    <tr>\n",
       "      <th>6</th>\n",
       "      <td>Sweden</td>\n",
       "      <td>Stockholm</td>\n",
       "      <td>10</td>\n",
       "      <td>3.5</td>\n",
       "      <td>1</td>\n",
       "    </tr>\n",
       "  </tbody>\n",
       "</table>\n",
       "</div>"
      ],
      "text/plain": [
       "   country    capital  population  area  sea\n",
       "0     Peru       Lima          34   0.6    1\n",
       "1  Germany     Berlin          84   0.2    1\n",
       "2   Brazil   Brazilia         190   0.4    1\n",
       "3    Spain  Barcelona          48   1.0    0\n",
       "4   Poland     Warsaw          38   2.5    0\n",
       "5   Norway       Oslo           5   1.1    0\n",
       "6   Sweden  Stockholm          10   3.5    1"
      ]
     },
     "execution_count": 79,
     "metadata": {},
     "output_type": "execute_result"
    }
   ],
   "source": [
    "countries"
   ]
  },
  {
   "cell_type": "markdown",
   "id": "b156f072",
   "metadata": {
    "id": "sbMlE7lMcx0f"
   },
   "source": [
    "**Способ 4**. Создание датафрейма из 2D массива Numpy"
   ]
  },
  {
   "cell_type": "code",
   "execution_count": 80,
   "id": "1c4d1a4a",
   "metadata": {
    "colab": {
     "base_uri": "https://localhost:8080/",
     "height": 143
    },
    "id": "pp8zD4JHc10l",
    "outputId": "078edff9-ff67-4806-ee7e-acaae7cb5617"
   },
   "outputs": [
    {
     "data": {
      "text/html": [
       "<div>\n",
       "<style scoped>\n",
       "    .dataframe tbody tr th:only-of-type {\n",
       "        vertical-align: middle;\n",
       "    }\n",
       "\n",
       "    .dataframe tbody tr th {\n",
       "        vertical-align: top;\n",
       "    }\n",
       "\n",
       "    .dataframe thead th {\n",
       "        text-align: right;\n",
       "    }\n",
       "</style>\n",
       "<table border=\"1\" class=\"dataframe\">\n",
       "  <thead>\n",
       "    <tr style=\"text-align: right;\">\n",
       "      <th></th>\n",
       "      <th>0</th>\n",
       "      <th>1</th>\n",
       "      <th>2</th>\n",
       "    </tr>\n",
       "  </thead>\n",
       "  <tbody>\n",
       "    <tr>\n",
       "      <th>0</th>\n",
       "      <td>1</td>\n",
       "      <td>1</td>\n",
       "      <td>1</td>\n",
       "    </tr>\n",
       "    <tr>\n",
       "      <th>1</th>\n",
       "      <td>2</td>\n",
       "      <td>2</td>\n",
       "      <td>2</td>\n",
       "    </tr>\n",
       "    <tr>\n",
       "      <th>2</th>\n",
       "      <td>3</td>\n",
       "      <td>3</td>\n",
       "      <td>3</td>\n",
       "    </tr>\n",
       "  </tbody>\n",
       "</table>\n",
       "</div>"
      ],
      "text/plain": [
       "   0  1  2\n",
       "0  1  1  1\n",
       "1  2  2  2\n",
       "2  3  3  3"
      ]
     },
     "execution_count": 80,
     "metadata": {},
     "output_type": "execute_result"
    }
   ],
   "source": [
    "# внешнее измерение будет столбцами, внутренее - строками\n",
    "\n",
    "arr = np.array ([[1, 1, 1],\n",
    "                [2, 2, 2],\n",
    "                [3, 3, 3]])\n",
    "pd.DataFrame(arr)"
   ]
  },
  {
   "cell_type": "markdown",
   "id": "b7585ccd",
   "metadata": {
    "id": "KT-WH08s3wAa"
   },
   "source": [
    "### Структура и свойства датафрейма"
   ]
  },
  {
   "cell_type": "code",
   "execution_count": 81,
   "id": "dae0108c",
   "metadata": {
    "colab": {
     "base_uri": "https://localhost:8080/"
    },
    "id": "4qLq5-9H3yRL",
    "outputId": "f8f4eded-74a7-4c9e-9eea-51fdd256337e"
   },
   "outputs": [
    {
     "data": {
      "text/plain": [
       "Index(['country', 'capital', 'population', 'area', 'sea'], dtype='object')"
      ]
     },
     "execution_count": 81,
     "metadata": {},
     "output_type": "execute_result"
    }
   ],
   "source": [
    "# через атрибут columns можно посмотреть название столбцов\n",
    "\n",
    "countries.columns"
   ]
  },
  {
   "cell_type": "code",
   "execution_count": 82,
   "id": "81ed0b72-06da-4cfb-8dba-373106538819",
   "metadata": {},
   "outputs": [],
   "source": [
    "columns = ['country', 'capital', 'population', 'area', 'sea']"
   ]
  },
  {
   "cell_type": "code",
   "execution_count": 83,
   "id": "e88a7cef",
   "metadata": {
    "colab": {
     "base_uri": "https://localhost:8080/"
    },
    "id": "SJ0SF5rzXkJ8",
    "outputId": "136f7cc6-3f89-45cd-c512-6fda77428759"
   },
   "outputs": [
    {
     "data": {
      "text/plain": [
       "RangeIndex(start=0, stop=7, step=1)"
      ]
     },
     "execution_count": 83,
     "metadata": {},
     "output_type": "execute_result"
    }
   ],
   "source": [
    "# атрибут index показывает, каким образом идентифицируются строки\n",
    "\n",
    "countries.index"
   ]
  },
  {
   "cell_type": "code",
   "execution_count": 84,
   "id": "033c0d83",
   "metadata": {
    "colab": {
     "base_uri": "https://localhost:8080/"
    },
    "id": "6teL5kTKXnF1",
    "outputId": "11ecf96b-4e53-4f79-ccbc-9fa0c6eeb3ea"
   },
   "outputs": [
    {
     "data": {
      "text/plain": [
       "array([['Peru', 'Lima', 34, 0.6, 1],\n",
       "       ['Germany', 'Berlin', 84, 0.2, 1],\n",
       "       ['Brazil', 'Brazilia', 190, 0.4, 1],\n",
       "       ['Spain', 'Barcelona', 48, 1.0, 0],\n",
       "       ['Poland', 'Warsaw', 38, 2.5, 0],\n",
       "       ['Norway', 'Oslo', 5, 1.1, 0],\n",
       "       ['Sweden', 'Stockholm', 10, 3.5, 1]], dtype=object)"
      ]
     },
     "execution_count": 84,
     "metadata": {},
     "output_type": "execute_result"
    }
   ],
   "source": [
    "# через values мы видим сами значения\n",
    "\n",
    "countries.values"
   ]
  },
  {
   "cell_type": "code",
   "execution_count": 85,
   "id": "d8a5deb1",
   "metadata": {
    "colab": {
     "base_uri": "https://localhost:8080/"
    },
    "id": "MkfzJSkQ3o4y",
    "outputId": "52c7c3a9-0873-4e32-bf7e-f7cdea48a6c2"
   },
   "outputs": [
    {
     "data": {
      "text/plain": [
       "RangeIndex(start=0, stop=7, step=1)"
      ]
     },
     "execution_count": 85,
     "metadata": {},
     "output_type": "execute_result"
    }
   ],
   "source": [
    "# выведем описание индекса датафрейма через атрибут axes[0]\n",
    "\n",
    "countries.axes[0]"
   ]
  },
  {
   "cell_type": "code",
   "execution_count": 86,
   "id": "22156c26",
   "metadata": {
    "colab": {
     "base_uri": "https://localhost:8080/"
    },
    "id": "72W8W-oo4I10",
    "outputId": "27cbd55a-4aab-4455-ee3b-febf8f53ee90"
   },
   "outputs": [
    {
     "data": {
      "text/plain": [
       "Index(['country', 'capital', 'population', 'area', 'sea'], dtype='object')"
      ]
     },
     "execution_count": 86,
     "metadata": {},
     "output_type": "execute_result"
    }
   ],
   "source": [
    "# axes[1] выводит названия столбцов\n",
    "\n",
    "countries.axes[1]"
   ]
  },
  {
   "cell_type": "code",
   "execution_count": 87,
   "id": "583b4663",
   "metadata": {
    "colab": {
     "base_uri": "https://localhost:8080/"
    },
    "id": "FZDYFLFYtxtu",
    "outputId": "a81f7537-fea6-4a4f-de22-736c7595f707"
   },
   "outputs": [
    {
     "data": {
      "text/plain": [
       "(2, (7, 5), 35)"
      ]
     },
     "execution_count": 87,
     "metadata": {},
     "output_type": "execute_result"
    }
   ],
   "source": [
    "# также мы можем посмотреть количество измерений, размерность и общее количество элементов\n",
    "\n",
    "countries.ndim, countries.shape, countries.size"
   ]
  },
  {
   "cell_type": "code",
   "execution_count": 88,
   "id": "0171e3fe",
   "metadata": {
    "colab": {
     "base_uri": "https://localhost:8080/"
    },
    "id": "TSov908FOLQQ",
    "outputId": "0555295f-ce92-456d-dd25-816dc20f7e35"
   },
   "outputs": [
    {
     "data": {
      "text/plain": [
       "country        object\n",
       "capital        object\n",
       "population      int64\n",
       "area          float64\n",
       "sea             int64\n",
       "dtype: object"
      ]
     },
     "execution_count": 88,
     "metadata": {},
     "output_type": "execute_result"
    }
   ],
   "source": [
    "# атрибут dtypes выдает типы данных каждого столбца\n",
    "\n",
    "countries.dtypes"
   ]
  },
  {
   "cell_type": "code",
   "execution_count": 89,
   "id": "f701f1d3",
   "metadata": {
    "colab": {
     "base_uri": "https://localhost:8080/"
    },
    "id": "FGd9cfK2t-Wj",
    "outputId": "1e84fc72-6b15-4505-8158-4a2d02605c6f"
   },
   "outputs": [
    {
     "data": {
      "text/plain": [
       "Index         132\n",
       "country        56\n",
       "capital        56\n",
       "population     56\n",
       "area           56\n",
       "sea            56\n",
       "dtype: int64"
      ]
     },
     "execution_count": 89,
     "metadata": {},
     "output_type": "execute_result"
    }
   ],
   "source": [
    "# также можно посмотреть объем занимаемой памяти по столбцам в байтах\n",
    "\n",
    "countries.memory_usage()"
   ]
  },
  {
   "cell_type": "markdown",
   "id": "e16b43ad",
   "metadata": {
    "id": "7UcK3cZbu0_X"
   },
   "source": [
    "### Индекс"
   ]
  },
  {
   "cell_type": "markdown",
   "id": "e689c0c9",
   "metadata": {
    "id": "2u7O7WRPgmi-"
   },
   "source": [
    "#### Присвоение индекса"
   ]
  },
  {
   "cell_type": "code",
   "execution_count": 90,
   "id": "496722c7-39a6-411d-bcb2-0295f337031b",
   "metadata": {},
   "outputs": [
    {
     "data": {
      "text/html": [
       "<div>\n",
       "<style scoped>\n",
       "    .dataframe tbody tr th:only-of-type {\n",
       "        vertical-align: middle;\n",
       "    }\n",
       "\n",
       "    .dataframe tbody tr th {\n",
       "        vertical-align: top;\n",
       "    }\n",
       "\n",
       "    .dataframe thead th {\n",
       "        text-align: right;\n",
       "    }\n",
       "</style>\n",
       "<table border=\"1\" class=\"dataframe\">\n",
       "  <thead>\n",
       "    <tr style=\"text-align: right;\">\n",
       "      <th></th>\n",
       "      <th>country</th>\n",
       "      <th>capital</th>\n",
       "      <th>population</th>\n",
       "      <th>area</th>\n",
       "      <th>sea</th>\n",
       "    </tr>\n",
       "  </thead>\n",
       "  <tbody>\n",
       "    <tr>\n",
       "      <th>0</th>\n",
       "      <td>Peru</td>\n",
       "      <td>Lima</td>\n",
       "      <td>34</td>\n",
       "      <td>0.6</td>\n",
       "      <td>1</td>\n",
       "    </tr>\n",
       "    <tr>\n",
       "      <th>1</th>\n",
       "      <td>Germany</td>\n",
       "      <td>Berlin</td>\n",
       "      <td>84</td>\n",
       "      <td>0.2</td>\n",
       "      <td>1</td>\n",
       "    </tr>\n",
       "    <tr>\n",
       "      <th>2</th>\n",
       "      <td>Brazil</td>\n",
       "      <td>Brazilia</td>\n",
       "      <td>190</td>\n",
       "      <td>0.4</td>\n",
       "      <td>1</td>\n",
       "    </tr>\n",
       "    <tr>\n",
       "      <th>3</th>\n",
       "      <td>Spain</td>\n",
       "      <td>Barcelona</td>\n",
       "      <td>48</td>\n",
       "      <td>1.0</td>\n",
       "      <td>0</td>\n",
       "    </tr>\n",
       "    <tr>\n",
       "      <th>4</th>\n",
       "      <td>Poland</td>\n",
       "      <td>Warsaw</td>\n",
       "      <td>38</td>\n",
       "      <td>2.5</td>\n",
       "      <td>0</td>\n",
       "    </tr>\n",
       "    <tr>\n",
       "      <th>5</th>\n",
       "      <td>Norway</td>\n",
       "      <td>Oslo</td>\n",
       "      <td>5</td>\n",
       "      <td>1.1</td>\n",
       "      <td>0</td>\n",
       "    </tr>\n",
       "    <tr>\n",
       "      <th>6</th>\n",
       "      <td>Sweden</td>\n",
       "      <td>Stockholm</td>\n",
       "      <td>10</td>\n",
       "      <td>3.5</td>\n",
       "      <td>1</td>\n",
       "    </tr>\n",
       "  </tbody>\n",
       "</table>\n",
       "</div>"
      ],
      "text/plain": [
       "   country    capital  population  area  sea\n",
       "0     Peru       Lima          34   0.6    1\n",
       "1  Germany     Berlin          84   0.2    1\n",
       "2   Brazil   Brazilia         190   0.4    1\n",
       "3    Spain  Barcelona          48   1.0    0\n",
       "4   Poland     Warsaw          38   2.5    0\n",
       "5   Norway       Oslo           5   1.1    0\n",
       "6   Sweden  Stockholm          10   3.5    1"
      ]
     },
     "execution_count": 90,
     "metadata": {},
     "output_type": "execute_result"
    }
   ],
   "source": [
    "countries"
   ]
  },
  {
   "cell_type": "code",
   "execution_count": 91,
   "id": "09b4a8e1",
   "metadata": {
    "id": "hlMn8KqPQnGX"
   },
   "outputs": [],
   "source": [
    "# в датафрейме можно задать собственный индекс (например, коды стран)\n",
    "\n",
    "custom_index = ['PU', 'GR', 'BR', 'SP', 'PL', 'NW', 'SW']"
   ]
  },
  {
   "cell_type": "code",
   "execution_count": 92,
   "id": "f7988b83",
   "metadata": {
    "colab": {
     "base_uri": "https://localhost:8080/",
     "height": 269
    },
    "id": "aFfSyH8ld1hg",
    "outputId": "1050f44a-98b7-4753-dc15-f13d6308cfad"
   },
   "outputs": [
    {
     "data": {
      "text/html": [
       "<div>\n",
       "<style scoped>\n",
       "    .dataframe tbody tr th:only-of-type {\n",
       "        vertical-align: middle;\n",
       "    }\n",
       "\n",
       "    .dataframe tbody tr th {\n",
       "        vertical-align: top;\n",
       "    }\n",
       "\n",
       "    .dataframe thead th {\n",
       "        text-align: right;\n",
       "    }\n",
       "</style>\n",
       "<table border=\"1\" class=\"dataframe\">\n",
       "  <thead>\n",
       "    <tr style=\"text-align: right;\">\n",
       "      <th></th>\n",
       "      <th>country</th>\n",
       "      <th>capital</th>\n",
       "      <th>population</th>\n",
       "      <th>area</th>\n",
       "      <th>sea</th>\n",
       "    </tr>\n",
       "  </thead>\n",
       "  <tbody>\n",
       "    <tr>\n",
       "      <th>PU</th>\n",
       "      <td>Peru</td>\n",
       "      <td>Lima</td>\n",
       "      <td>34</td>\n",
       "      <td>0.6</td>\n",
       "      <td>1</td>\n",
       "    </tr>\n",
       "    <tr>\n",
       "      <th>GR</th>\n",
       "      <td>Germany</td>\n",
       "      <td>Berlin</td>\n",
       "      <td>84</td>\n",
       "      <td>0.2</td>\n",
       "      <td>1</td>\n",
       "    </tr>\n",
       "    <tr>\n",
       "      <th>BR</th>\n",
       "      <td>Brazil</td>\n",
       "      <td>Brazilia</td>\n",
       "      <td>190</td>\n",
       "      <td>0.4</td>\n",
       "      <td>1</td>\n",
       "    </tr>\n",
       "    <tr>\n",
       "      <th>SP</th>\n",
       "      <td>Spain</td>\n",
       "      <td>Barcelona</td>\n",
       "      <td>48</td>\n",
       "      <td>1.0</td>\n",
       "      <td>0</td>\n",
       "    </tr>\n",
       "    <tr>\n",
       "      <th>PL</th>\n",
       "      <td>Poland</td>\n",
       "      <td>Warsaw</td>\n",
       "      <td>38</td>\n",
       "      <td>2.5</td>\n",
       "      <td>0</td>\n",
       "    </tr>\n",
       "    <tr>\n",
       "      <th>NW</th>\n",
       "      <td>Norway</td>\n",
       "      <td>Oslo</td>\n",
       "      <td>5</td>\n",
       "      <td>1.1</td>\n",
       "      <td>0</td>\n",
       "    </tr>\n",
       "    <tr>\n",
       "      <th>SW</th>\n",
       "      <td>Sweden</td>\n",
       "      <td>Stockholm</td>\n",
       "      <td>10</td>\n",
       "      <td>3.5</td>\n",
       "      <td>1</td>\n",
       "    </tr>\n",
       "  </tbody>\n",
       "</table>\n",
       "</div>"
      ],
      "text/plain": [
       "    country    capital  population  area  sea\n",
       "PU     Peru       Lima          34   0.6    1\n",
       "GR  Germany     Berlin          84   0.2    1\n",
       "BR   Brazil   Brazilia         190   0.4    1\n",
       "SP    Spain  Barcelona          48   1.0    0\n",
       "PL   Poland     Warsaw          38   2.5    0\n",
       "NW   Norway       Oslo           5   1.1    0\n",
       "SW   Sweden  Stockholm          10   3.5    1"
      ]
     },
     "execution_count": 92,
     "metadata": {},
     "output_type": "execute_result"
    }
   ],
   "source": [
    "# для этого при создании датафрейма используется параметр index\n",
    "\n",
    "countries_ind = pd.DataFrame(countries_dict,\n",
    "                           index = custom_index)\n",
    "countries_ind"
   ]
  },
  {
   "cell_type": "code",
   "execution_count": 93,
   "id": "1612af84",
   "metadata": {
    "colab": {
     "base_uri": "https://localhost:8080/",
     "height": 269
    },
    "id": "eFi8qCiszytX",
    "outputId": "6ea99edf-30dd-41a8-b0b1-6d7951f5459d"
   },
   "outputs": [
    {
     "data": {
      "text/html": [
       "<div>\n",
       "<style scoped>\n",
       "    .dataframe tbody tr th:only-of-type {\n",
       "        vertical-align: middle;\n",
       "    }\n",
       "\n",
       "    .dataframe tbody tr th {\n",
       "        vertical-align: top;\n",
       "    }\n",
       "\n",
       "    .dataframe thead th {\n",
       "        text-align: right;\n",
       "    }\n",
       "</style>\n",
       "<table border=\"1\" class=\"dataframe\">\n",
       "  <thead>\n",
       "    <tr style=\"text-align: right;\">\n",
       "      <th></th>\n",
       "      <th>index</th>\n",
       "      <th>country</th>\n",
       "      <th>capital</th>\n",
       "      <th>population</th>\n",
       "      <th>area</th>\n",
       "      <th>sea</th>\n",
       "    </tr>\n",
       "  </thead>\n",
       "  <tbody>\n",
       "    <tr>\n",
       "      <th>0</th>\n",
       "      <td>PU</td>\n",
       "      <td>Peru</td>\n",
       "      <td>Lima</td>\n",
       "      <td>34</td>\n",
       "      <td>0.6</td>\n",
       "      <td>1</td>\n",
       "    </tr>\n",
       "    <tr>\n",
       "      <th>1</th>\n",
       "      <td>GR</td>\n",
       "      <td>Germany</td>\n",
       "      <td>Berlin</td>\n",
       "      <td>84</td>\n",
       "      <td>0.2</td>\n",
       "      <td>1</td>\n",
       "    </tr>\n",
       "    <tr>\n",
       "      <th>2</th>\n",
       "      <td>BR</td>\n",
       "      <td>Brazil</td>\n",
       "      <td>Brazilia</td>\n",
       "      <td>190</td>\n",
       "      <td>0.4</td>\n",
       "      <td>1</td>\n",
       "    </tr>\n",
       "    <tr>\n",
       "      <th>3</th>\n",
       "      <td>SP</td>\n",
       "      <td>Spain</td>\n",
       "      <td>Barcelona</td>\n",
       "      <td>48</td>\n",
       "      <td>1.0</td>\n",
       "      <td>0</td>\n",
       "    </tr>\n",
       "    <tr>\n",
       "      <th>4</th>\n",
       "      <td>PL</td>\n",
       "      <td>Poland</td>\n",
       "      <td>Warsaw</td>\n",
       "      <td>38</td>\n",
       "      <td>2.5</td>\n",
       "      <td>0</td>\n",
       "    </tr>\n",
       "    <tr>\n",
       "      <th>5</th>\n",
       "      <td>NW</td>\n",
       "      <td>Norway</td>\n",
       "      <td>Oslo</td>\n",
       "      <td>5</td>\n",
       "      <td>1.1</td>\n",
       "      <td>0</td>\n",
       "    </tr>\n",
       "    <tr>\n",
       "      <th>6</th>\n",
       "      <td>SW</td>\n",
       "      <td>Sweden</td>\n",
       "      <td>Stockholm</td>\n",
       "      <td>10</td>\n",
       "      <td>3.5</td>\n",
       "      <td>1</td>\n",
       "    </tr>\n",
       "  </tbody>\n",
       "</table>\n",
       "</div>"
      ],
      "text/plain": [
       "  index  country    capital  population  area  sea\n",
       "0    PU     Peru       Lima          34   0.6    1\n",
       "1    GR  Germany     Berlin          84   0.2    1\n",
       "2    BR   Brazil   Brazilia         190   0.4    1\n",
       "3    SP    Spain  Barcelona          48   1.0    0\n",
       "4    PL   Poland     Warsaw          38   2.5    0\n",
       "5    NW   Norway       Oslo           5   1.1    0\n",
       "6    SW   Sweden  Stockholm          10   3.5    1"
      ]
     },
     "execution_count": 93,
     "metadata": {},
     "output_type": "execute_result"
    }
   ],
   "source": [
    "# этот индекс можно сбросить\n",
    "# параметр inplace = True сохраняет изменения\n",
    "\n",
    "countries_ind.reset_index(inplace = True)\n",
    "countries_ind"
   ]
  },
  {
   "cell_type": "markdown",
   "id": "d3d151ed",
   "metadata": {
    "id": "G7kNCOeQ4B8b"
   },
   "source": [
    "### Преобразование в другие форматы"
   ]
  },
  {
   "cell_type": "code",
   "execution_count": 94,
   "id": "ba796d2c",
   "metadata": {
    "colab": {
     "base_uri": "https://localhost:8080/"
    },
    "id": "anrHqaycY3xr",
    "outputId": "84941e31-2a8c-4594-9448-ac1d28142115"
   },
   "outputs": [
    {
     "name": "stdout",
     "output_type": "stream",
     "text": [
      "{'country': {0: 'Peru', 1: 'Germany', 2: 'Brazil', 3: 'Spain', 4: 'Poland', 5: 'Norway', 6: 'Sweden'}, 'capital': {0: 'Lima', 1: 'Berlin', 2: 'Brazilia', 3: 'Barcelona', 4: 'Warsaw', 5: 'Oslo', 6: 'Stockholm'}, 'population': {0: 34, 1: 84, 2: 190, 3: 48, 4: 38, 5: 5, 6: 10}, 'area': {0: 0.6, 1: 0.2, 2: 0.4, 3: 1.0, 4: 2.5, 5: 1.1, 6: 3.5}, 'sea': {0: 1, 1: 1, 2: 1, 3: 0, 4: 0, 5: 0, 6: 1}}\n"
     ]
    }
   ],
   "source": [
    "# получившийся датафрейм можно преобразовать в словарь\n",
    "\n",
    "print(countries.to_dict())"
   ]
  },
  {
   "cell_type": "code",
   "execution_count": 95,
   "id": "3c907beb",
   "metadata": {
    "colab": {
     "base_uri": "https://localhost:8080/"
    },
    "id": "oVY1bRd_njsZ",
    "outputId": "3aacf6c8-a8b8-48cf-c841-a6b9225f2d41"
   },
   "outputs": [
    {
     "data": {
      "text/plain": [
       "array([['Peru', 'Lima', 34, 0.6, 1],\n",
       "       ['Germany', 'Berlin', 84, 0.2, 1],\n",
       "       ['Brazil', 'Brazilia', 190, 0.4, 1],\n",
       "       ['Spain', 'Barcelona', 48, 1.0, 0],\n",
       "       ['Poland', 'Warsaw', 38, 2.5, 0],\n",
       "       ['Norway', 'Oslo', 5, 1.1, 0],\n",
       "       ['Sweden', 'Stockholm', 10, 3.5, 1]], dtype=object)"
      ]
     },
     "execution_count": 95,
     "metadata": {},
     "output_type": "execute_result"
    }
   ],
   "source": [
    "# или массив Numpy\n",
    "\n",
    "countries.to_numpy()"
   ]
  },
  {
   "cell_type": "code",
   "execution_count": 96,
   "id": "bfcb5c1a",
   "metadata": {
    "id": "7h_t5gg94EtE"
   },
   "outputs": [],
   "source": [
    "# или поместить в файл (появится в \"Сессионном хранилище\")\n",
    "# по умолчанию, индекс также станет частью .csv файла\n",
    "# параметр index = False позволит этого избежать\n",
    "\n",
    "countries.to_csv('coutries.csv', index = False)"
   ]
  },
  {
   "cell_type": "code",
   "execution_count": 97,
   "id": "3f292a61",
   "metadata": {
    "colab": {
     "base_uri": "https://localhost:8080/"
    },
    "id": "I2r2Kzd1cB2e",
    "outputId": "809028d4-413a-4635-9bc2-74f88881351b"
   },
   "outputs": [
    {
     "name": "stdout",
     "output_type": "stream",
     "text": [
      "['Peru', 'Germany', 'Brazil', 'Spain', 'Poland', 'Norway', 'Sweden']\n"
     ]
    }
   ],
   "source": [
    "# столбец (Series) можно преобразовать в список, датафрейм - нельзя\n",
    "\n",
    "print(countries.country.to_list())"
   ]
  },
  {
   "cell_type": "markdown",
   "id": "7701608f",
   "metadata": {
    "id": "mKLUWO7A357s"
   },
   "source": [
    "### Создание Series"
   ]
  },
  {
   "cell_type": "markdown",
   "id": "38b6a1fb",
   "metadata": {
    "id": "HmLSguljbIwv"
   },
   "source": [
    "Создание Series из списка"
   ]
  },
  {
   "cell_type": "code",
   "execution_count": 98,
   "id": "a3264ef9",
   "metadata": {
    "id": "xURXfYir374s"
   },
   "outputs": [],
   "source": [
    "# создадим список с названиями стран\n",
    "country_list = ['Peru', 'Germany', 'Brazil', 'Spain', 'Poland', 'Norway', 'Sweden']\n"
   ]
  },
  {
   "cell_type": "code",
   "execution_count": 99,
   "id": "d91fdbbd",
   "metadata": {
    "colab": {
     "base_uri": "https://localhost:8080/"
    },
    "id": "RqtzFMLPZmlh",
    "outputId": "1541acda-febe-4eab-f978-c20b09d9514e"
   },
   "outputs": [
    {
     "data": {
      "text/plain": [
       "0       Peru\n",
       "1    Germany\n",
       "2     Brazil\n",
       "3      Spain\n",
       "4     Poland\n",
       "5     Norway\n",
       "6     Sweden\n",
       "dtype: object"
      ]
     },
     "execution_count": 99,
     "metadata": {},
     "output_type": "execute_result"
    }
   ],
   "source": [
    "# передадим его в функцию pd.Series()\n",
    "country_series = pd.Series(country_list)\n",
    "country_series"
   ]
  },
  {
   "cell_type": "code",
   "execution_count": 100,
   "id": "9d3449e0",
   "metadata": {
    "colab": {
     "base_uri": "https://localhost:8080/",
     "height": 36
    },
    "id": "rh2u7dftQIP6",
    "outputId": "76cdc6b6-f16f-435d-aec6-77b332186a34"
   },
   "outputs": [
    {
     "data": {
      "text/plain": [
       "'Norway'"
      ]
     },
     "execution_count": 100,
     "metadata": {},
     "output_type": "execute_result"
    }
   ],
   "source": [
    "# по числовому индексу можно получить доступ к первому элементу\n",
    "country_series[5]\n"
   ]
  },
  {
   "cell_type": "markdown",
   "id": "7c6a7bfd",
   "metadata": {
    "id": "xP9AB0MMbMyP"
   },
   "source": [
    "Создание Series из словаря"
   ]
  },
  {
   "cell_type": "code",
   "execution_count": 101,
   "id": "713411d4",
   "metadata": {
    "id": "KF0SzRyYZpka"
   },
   "outputs": [],
   "source": [
    "# создадим словарь с кодами и названиями стран\n",
    "country_dict = {\n",
    "    'PR': 'Peru',\n",
    "    'GM': 'Germany',\n",
    "    'BZ': 'Brazil',\n",
    "    'SN': 'Spain',\n",
    "    'PN': 'Poland',\n",
    "    'NW': 'Norway',\n",
    "    'SW': 'Sweden'\n",
    "}\n"
   ]
  },
  {
   "cell_type": "code",
   "execution_count": 102,
   "id": "5fe266bc",
   "metadata": {
    "colab": {
     "base_uri": "https://localhost:8080/"
    },
    "id": "R4W-_mvya5Rb",
    "outputId": "ae6aa3cc-6b99-45b3-b43d-1a3a19b999fb"
   },
   "outputs": [
    {
     "data": {
      "text/plain": [
       "PR       Peru\n",
       "GM    Germany\n",
       "BZ     Brazil\n",
       "SN      Spain\n",
       "PN     Poland\n",
       "NW     Norway\n",
       "SW     Sweden\n",
       "dtype: object"
      ]
     },
     "execution_count": 102,
     "metadata": {},
     "output_type": "execute_result"
    }
   ],
   "source": [
    "# передадим его в функцию pd.Series(), ключи в этом случае станут индексом\n",
    "country_series = pd.Series(country_dict)\n",
    "country_series\n"
   ]
  },
  {
   "cell_type": "code",
   "execution_count": 103,
   "id": "025dd6ff",
   "metadata": {
    "colab": {
     "base_uri": "https://localhost:8080/",
     "height": 36
    },
    "id": "B6Yi2vv6QWfP",
    "outputId": "db98c551-e957-4d59-9be3-76535796d47c"
   },
   "outputs": [
    {
     "data": {
      "text/plain": [
       "'Norway'"
      ]
     },
     "execution_count": 103,
     "metadata": {},
     "output_type": "execute_result"
    }
   ],
   "source": [
    "# теперь для доступа к элементам можно использовать коды стран\n",
    "country_series['NW']\n"
   ]
  },
  {
   "cell_type": "markdown",
   "id": "0b92f55b",
   "metadata": {
    "id": "ZIV5yezZlcP-"
   },
   "source": [
    "## Доступ к строкам и столбцам"
   ]
  },
  {
   "cell_type": "code",
   "execution_count": 104,
   "id": "21e22324-8d7d-4b42-ad6c-d0883e04246c",
   "metadata": {},
   "outputs": [
    {
     "data": {
      "text/html": [
       "<div>\n",
       "<style scoped>\n",
       "    .dataframe tbody tr th:only-of-type {\n",
       "        vertical-align: middle;\n",
       "    }\n",
       "\n",
       "    .dataframe tbody tr th {\n",
       "        vertical-align: top;\n",
       "    }\n",
       "\n",
       "    .dataframe thead th {\n",
       "        text-align: right;\n",
       "    }\n",
       "</style>\n",
       "<table border=\"1\" class=\"dataframe\">\n",
       "  <thead>\n",
       "    <tr style=\"text-align: right;\">\n",
       "      <th></th>\n",
       "      <th>country</th>\n",
       "      <th>capital</th>\n",
       "      <th>population</th>\n",
       "      <th>area</th>\n",
       "      <th>sea</th>\n",
       "    </tr>\n",
       "  </thead>\n",
       "  <tbody>\n",
       "    <tr>\n",
       "      <th>0</th>\n",
       "      <td>Peru</td>\n",
       "      <td>Lima</td>\n",
       "      <td>34</td>\n",
       "      <td>0.6</td>\n",
       "      <td>1</td>\n",
       "    </tr>\n",
       "    <tr>\n",
       "      <th>1</th>\n",
       "      <td>Germany</td>\n",
       "      <td>Berlin</td>\n",
       "      <td>84</td>\n",
       "      <td>0.2</td>\n",
       "      <td>1</td>\n",
       "    </tr>\n",
       "    <tr>\n",
       "      <th>2</th>\n",
       "      <td>Brazil</td>\n",
       "      <td>Brazilia</td>\n",
       "      <td>190</td>\n",
       "      <td>0.4</td>\n",
       "      <td>1</td>\n",
       "    </tr>\n",
       "    <tr>\n",
       "      <th>3</th>\n",
       "      <td>Spain</td>\n",
       "      <td>Barcelona</td>\n",
       "      <td>48</td>\n",
       "      <td>1.0</td>\n",
       "      <td>0</td>\n",
       "    </tr>\n",
       "    <tr>\n",
       "      <th>4</th>\n",
       "      <td>Poland</td>\n",
       "      <td>Warsaw</td>\n",
       "      <td>38</td>\n",
       "      <td>2.5</td>\n",
       "      <td>0</td>\n",
       "    </tr>\n",
       "    <tr>\n",
       "      <th>5</th>\n",
       "      <td>Norway</td>\n",
       "      <td>Oslo</td>\n",
       "      <td>5</td>\n",
       "      <td>1.1</td>\n",
       "      <td>0</td>\n",
       "    </tr>\n",
       "    <tr>\n",
       "      <th>6</th>\n",
       "      <td>Sweden</td>\n",
       "      <td>Stockholm</td>\n",
       "      <td>10</td>\n",
       "      <td>3.5</td>\n",
       "      <td>1</td>\n",
       "    </tr>\n",
       "  </tbody>\n",
       "</table>\n",
       "</div>"
      ],
      "text/plain": [
       "   country    capital  population  area  sea\n",
       "0     Peru       Lima          34   0.6    1\n",
       "1  Germany     Berlin          84   0.2    1\n",
       "2   Brazil   Brazilia         190   0.4    1\n",
       "3    Spain  Barcelona          48   1.0    0\n",
       "4   Poland     Warsaw          38   2.5    0\n",
       "5   Norway       Oslo           5   1.1    0\n",
       "6   Sweden  Stockholm          10   3.5    1"
      ]
     },
     "execution_count": 104,
     "metadata": {},
     "output_type": "execute_result"
    }
   ],
   "source": [
    "countries"
   ]
  },
  {
   "cell_type": "markdown",
   "id": "7037a1a3",
   "metadata": {
    "id": "X3PBwrwfljVQ"
   },
   "source": [
    "### Циклы в датафрейме"
   ]
  },
  {
   "cell_type": "code",
   "execution_count": 105,
   "id": "751d7d93",
   "metadata": {
    "colab": {
     "base_uri": "https://localhost:8080/"
    },
    "id": "kFbAeE9xlHcW",
    "outputId": "f6a5dbc1-1186-4a04-c305-b15880bb427f"
   },
   "outputs": [
    {
     "name": "stdout",
     "output_type": "stream",
     "text": [
      "country\n",
      "capital\n",
      "population\n",
      "area\n",
      "sea\n"
     ]
    }
   ],
   "source": [
    "# мы можем получить доступ к названиям столбцов с помощью цикла for\n",
    "for column in countries:\n",
    "    print(column)\n"
   ]
  },
  {
   "cell_type": "code",
   "execution_count": 106,
   "id": "307e8436",
   "metadata": {
    "colab": {
     "base_uri": "https://localhost:8080/"
    },
    "id": "Bm-tn_dzl1ex",
    "outputId": "48f9f15c-b4c0-4ac3-8c56-6c24cc62fa98"
   },
   "outputs": [
    {
     "name": "stdout",
     "output_type": "stream",
     "text": [
      "0\n",
      "country       Peru\n",
      "capital       Lima\n",
      "population      34\n",
      "area           0.6\n",
      "sea              1\n",
      "Name: 0, dtype: object\n",
      "...\n",
      "1\n",
      "country       Germany\n",
      "capital        Berlin\n",
      "population         84\n",
      "area              0.2\n",
      "sea                 1\n",
      "Name: 1, dtype: object\n",
      "...\n",
      "2\n",
      "country         Brazil\n",
      "capital       Brazilia\n",
      "population         190\n",
      "area               0.4\n",
      "sea                  1\n",
      "Name: 2, dtype: object\n",
      "...\n",
      "3\n",
      "country           Spain\n",
      "capital       Barcelona\n",
      "population           48\n",
      "area                1.0\n",
      "sea                   0\n",
      "Name: 3, dtype: object\n",
      "...\n",
      "4\n",
      "country       Poland\n",
      "capital       Warsaw\n",
      "population        38\n",
      "area             2.5\n",
      "sea                0\n",
      "Name: 4, dtype: object\n",
      "...\n",
      "5\n",
      "country       Norway\n",
      "capital         Oslo\n",
      "population         5\n",
      "area             1.1\n",
      "sea                0\n",
      "Name: 5, dtype: object\n",
      "...\n",
      "6\n",
      "country          Sweden\n",
      "capital       Stockholm\n",
      "population           10\n",
      "area                3.5\n",
      "sea                   1\n",
      "Name: 6, dtype: object\n",
      "...\n"
     ]
    }
   ],
   "source": [
    "# метод .iterrows() возвращает индекс строки и ее содержимое в формате Series\n",
    "for index, row in countries.iterrows():\n",
    "    print(index)\n",
    "    print(row)\n",
    "    print('...')\n"
   ]
  },
  {
   "cell_type": "code",
   "execution_count": 107,
   "id": "7451a860",
   "metadata": {
    "colab": {
     "base_uri": "https://localhost:8080/"
    },
    "id": "evefadAhmDfj",
    "outputId": "d735925e-3da6-475a-b778-504d91844058"
   },
   "outputs": [
    {
     "name": "stdout",
     "output_type": "stream",
     "text": [
      "Lima is the capital of Peru\n"
     ]
    }
   ],
   "source": [
    "# получить доступ к данным одной строки можно по индексу Series\n",
    "for _, row in countries.iterrows():\n",
    "    print(row['capital'] + ' is the capital of ' + row ['country'])\n",
    "    break"
   ]
  },
  {
   "cell_type": "markdown",
   "id": "cf809243",
   "metadata": {
    "id": "U9iI0E8bnl_b"
   },
   "source": [
    "### Доступ к столбцам"
   ]
  },
  {
   "cell_type": "code",
   "execution_count": 108,
   "id": "4411286f",
   "metadata": {
    "colab": {
     "base_uri": "https://localhost:8080/"
    },
    "id": "Mmjsbh0knpvC",
    "outputId": "993792b5-6438-4ed6-b48f-91fe07ba2ad1"
   },
   "outputs": [
    {
     "data": {
      "text/plain": [
       "0         Lima\n",
       "1       Berlin\n",
       "2     Brazilia\n",
       "3    Barcelona\n",
       "4       Warsaw\n",
       "5         Oslo\n",
       "6    Stockholm\n",
       "Name: capital, dtype: object"
      ]
     },
     "execution_count": 108,
     "metadata": {},
     "output_type": "execute_result"
    }
   ],
   "source": [
    "# в отличие от Series, в датафрейме через квадратные скобки\n",
    "# мы получаем доступ к столбцам\n",
    "\n",
    "countries['capital']\n"
   ]
  },
  {
   "cell_type": "code",
   "execution_count": 109,
   "id": "e5205608",
   "metadata": {
    "colab": {
     "base_uri": "https://localhost:8080/"
    },
    "id": "VSD0c3kun7RB",
    "outputId": "d3ddeea7-2cb7-4a77-bc24-a0e82a840544"
   },
   "outputs": [
    {
     "data": {
      "text/plain": [
       "0         Lima\n",
       "1       Berlin\n",
       "2     Brazilia\n",
       "3    Barcelona\n",
       "4       Warsaw\n",
       "5         Oslo\n",
       "6    Stockholm\n",
       "Name: capital, dtype: object"
      ]
     },
     "execution_count": 109,
     "metadata": {},
     "output_type": "execute_result"
    }
   ],
   "source": [
    "# можно также указать название столбца через точку\n",
    "# однако в этом случае название не должно содержать пробелов\n",
    "\n",
    "countries.capital"
   ]
  },
  {
   "cell_type": "code",
   "execution_count": 110,
   "id": "138b06e6",
   "metadata": {
    "colab": {
     "base_uri": "https://localhost:8080/"
    },
    "id": "swIYQlkHoryC",
    "outputId": "88a8a9bb-c92b-4ffb-ba4d-5e635546beec"
   },
   "outputs": [
    {
     "data": {
      "text/plain": [
       "pandas.core.series.Series"
      ]
     },
     "execution_count": 110,
     "metadata": {},
     "output_type": "execute_result"
    }
   ],
   "source": [
    "# отдельные столбцы в датафрейме имеют тип данных Series\n",
    "\n",
    "type(countries.capital)\n"
   ]
  },
  {
   "cell_type": "code",
   "execution_count": 111,
   "id": "e098ba8b",
   "metadata": {
    "colab": {
     "base_uri": "https://localhost:8080/",
     "height": 269
    },
    "id": "JW-UGoiFobM8",
    "outputId": "cd2a5224-7159-41b4-a27a-e46cf23052f6"
   },
   "outputs": [
    {
     "data": {
      "text/html": [
       "<div>\n",
       "<style scoped>\n",
       "    .dataframe tbody tr th:only-of-type {\n",
       "        vertical-align: middle;\n",
       "    }\n",
       "\n",
       "    .dataframe tbody tr th {\n",
       "        vertical-align: top;\n",
       "    }\n",
       "\n",
       "    .dataframe thead th {\n",
       "        text-align: right;\n",
       "    }\n",
       "</style>\n",
       "<table border=\"1\" class=\"dataframe\">\n",
       "  <thead>\n",
       "    <tr style=\"text-align: right;\">\n",
       "      <th></th>\n",
       "      <th>capital</th>\n",
       "    </tr>\n",
       "  </thead>\n",
       "  <tbody>\n",
       "    <tr>\n",
       "      <th>0</th>\n",
       "      <td>Lima</td>\n",
       "    </tr>\n",
       "    <tr>\n",
       "      <th>1</th>\n",
       "      <td>Berlin</td>\n",
       "    </tr>\n",
       "    <tr>\n",
       "      <th>2</th>\n",
       "      <td>Brazilia</td>\n",
       "    </tr>\n",
       "    <tr>\n",
       "      <th>3</th>\n",
       "      <td>Barcelona</td>\n",
       "    </tr>\n",
       "    <tr>\n",
       "      <th>4</th>\n",
       "      <td>Warsaw</td>\n",
       "    </tr>\n",
       "    <tr>\n",
       "      <th>5</th>\n",
       "      <td>Oslo</td>\n",
       "    </tr>\n",
       "    <tr>\n",
       "      <th>6</th>\n",
       "      <td>Stockholm</td>\n",
       "    </tr>\n",
       "  </tbody>\n",
       "</table>\n",
       "</div>"
      ],
      "text/plain": [
       "     capital\n",
       "0       Lima\n",
       "1     Berlin\n",
       "2   Brazilia\n",
       "3  Barcelona\n",
       "4     Warsaw\n",
       "5       Oslo\n",
       "6  Stockholm"
      ]
     },
     "execution_count": 111,
     "metadata": {},
     "output_type": "execute_result"
    }
   ],
   "source": [
    "# одинарные скобки дают Series, двойные - датафрейм\n",
    "# логика в том, что внутрениие скобки - это список, внешние - оператор индексации\n",
    "\n",
    "countries[['capital']]\n"
   ]
  },
  {
   "cell_type": "code",
   "execution_count": 112,
   "id": "107ef33e",
   "metadata": {
    "colab": {
     "base_uri": "https://localhost:8080/",
     "height": 269
    },
    "id": "76J3TSJRoyXb",
    "outputId": "9a30288c-7688-4f54-9f4c-6e01ebab5759"
   },
   "outputs": [
    {
     "data": {
      "text/html": [
       "<div>\n",
       "<style scoped>\n",
       "    .dataframe tbody tr th:only-of-type {\n",
       "        vertical-align: middle;\n",
       "    }\n",
       "\n",
       "    .dataframe tbody tr th {\n",
       "        vertical-align: top;\n",
       "    }\n",
       "\n",
       "    .dataframe thead th {\n",
       "        text-align: right;\n",
       "    }\n",
       "</style>\n",
       "<table border=\"1\" class=\"dataframe\">\n",
       "  <thead>\n",
       "    <tr style=\"text-align: right;\">\n",
       "      <th></th>\n",
       "      <th>country</th>\n",
       "      <th>capital</th>\n",
       "      <th>area</th>\n",
       "    </tr>\n",
       "  </thead>\n",
       "  <tbody>\n",
       "    <tr>\n",
       "      <th>0</th>\n",
       "      <td>Peru</td>\n",
       "      <td>Lima</td>\n",
       "      <td>0.6</td>\n",
       "    </tr>\n",
       "    <tr>\n",
       "      <th>1</th>\n",
       "      <td>Germany</td>\n",
       "      <td>Berlin</td>\n",
       "      <td>0.2</td>\n",
       "    </tr>\n",
       "    <tr>\n",
       "      <th>2</th>\n",
       "      <td>Brazil</td>\n",
       "      <td>Brazilia</td>\n",
       "      <td>0.4</td>\n",
       "    </tr>\n",
       "    <tr>\n",
       "      <th>3</th>\n",
       "      <td>Spain</td>\n",
       "      <td>Barcelona</td>\n",
       "      <td>1.0</td>\n",
       "    </tr>\n",
       "    <tr>\n",
       "      <th>4</th>\n",
       "      <td>Poland</td>\n",
       "      <td>Warsaw</td>\n",
       "      <td>2.5</td>\n",
       "    </tr>\n",
       "    <tr>\n",
       "      <th>5</th>\n",
       "      <td>Norway</td>\n",
       "      <td>Oslo</td>\n",
       "      <td>1.1</td>\n",
       "    </tr>\n",
       "    <tr>\n",
       "      <th>6</th>\n",
       "      <td>Sweden</td>\n",
       "      <td>Stockholm</td>\n",
       "      <td>3.5</td>\n",
       "    </tr>\n",
       "  </tbody>\n",
       "</table>\n",
       "</div>"
      ],
      "text/plain": [
       "   country    capital  area\n",
       "0     Peru       Lima   0.6\n",
       "1  Germany     Berlin   0.2\n",
       "2   Brazil   Brazilia   0.4\n",
       "3    Spain  Barcelona   1.0\n",
       "4   Poland     Warsaw   2.5\n",
       "5   Norway       Oslo   1.1\n",
       "6   Sweden  Stockholm   3.5"
      ]
     },
     "execution_count": 112,
     "metadata": {},
     "output_type": "execute_result"
    }
   ],
   "source": [
    "# так мы можем получить доступ к нескольким столбцам\n",
    "\n",
    "countries[['country', 'capital', 'area']]\n"
   ]
  },
  {
   "cell_type": "code",
   "execution_count": 113,
   "id": "38fe5425",
   "metadata": {
    "colab": {
     "base_uri": "https://localhost:8080/",
     "height": 269
    },
    "id": "8F1OHB1DpAjB",
    "outputId": "a4659152-7401-4667-c0c7-400a86d74a22"
   },
   "outputs": [
    {
     "data": {
      "text/html": [
       "<div>\n",
       "<style scoped>\n",
       "    .dataframe tbody tr th:only-of-type {\n",
       "        vertical-align: middle;\n",
       "    }\n",
       "\n",
       "    .dataframe tbody tr th {\n",
       "        vertical-align: top;\n",
       "    }\n",
       "\n",
       "    .dataframe thead th {\n",
       "        text-align: right;\n",
       "    }\n",
       "</style>\n",
       "<table border=\"1\" class=\"dataframe\">\n",
       "  <thead>\n",
       "    <tr style=\"text-align: right;\">\n",
       "      <th></th>\n",
       "      <th>country</th>\n",
       "      <th>capital</th>\n",
       "    </tr>\n",
       "  </thead>\n",
       "  <tbody>\n",
       "    <tr>\n",
       "      <th>0</th>\n",
       "      <td>Peru</td>\n",
       "      <td>Lima</td>\n",
       "    </tr>\n",
       "    <tr>\n",
       "      <th>1</th>\n",
       "      <td>Germany</td>\n",
       "      <td>Berlin</td>\n",
       "    </tr>\n",
       "    <tr>\n",
       "      <th>2</th>\n",
       "      <td>Brazil</td>\n",
       "      <td>Brazilia</td>\n",
       "    </tr>\n",
       "    <tr>\n",
       "      <th>3</th>\n",
       "      <td>Spain</td>\n",
       "      <td>Barcelona</td>\n",
       "    </tr>\n",
       "    <tr>\n",
       "      <th>4</th>\n",
       "      <td>Poland</td>\n",
       "      <td>Warsaw</td>\n",
       "    </tr>\n",
       "    <tr>\n",
       "      <th>5</th>\n",
       "      <td>Norway</td>\n",
       "      <td>Oslo</td>\n",
       "    </tr>\n",
       "    <tr>\n",
       "      <th>6</th>\n",
       "      <td>Sweden</td>\n",
       "      <td>Stockholm</td>\n",
       "    </tr>\n",
       "  </tbody>\n",
       "</table>\n",
       "</div>"
      ],
      "text/plain": [
       "   country    capital\n",
       "0     Peru       Lima\n",
       "1  Germany     Berlin\n",
       "2   Brazil   Brazilia\n",
       "3    Spain  Barcelona\n",
       "4   Poland     Warsaw\n",
       "5   Norway       Oslo\n",
       "6   Sweden  Stockholm"
      ]
     },
     "execution_count": 113,
     "metadata": {},
     "output_type": "execute_result"
    }
   ],
   "source": [
    "# доступ к столбцам можно также получить через метод .filter()\n",
    "# с параметром items\n",
    "\n",
    "countries.filter(items = ['country', 'capital'])\n"
   ]
  },
  {
   "cell_type": "markdown",
   "id": "79d02988",
   "metadata": {
    "id": "dLTw9rOBohz5"
   },
   "source": [
    "### Доступ к строкам"
   ]
  },
  {
   "cell_type": "code",
   "execution_count": 114,
   "id": "4e2dc550",
   "metadata": {
    "colab": {
     "base_uri": "https://localhost:8080/",
     "height": 175
    },
    "id": "dLLXUgqPoe6s",
    "outputId": "465a1e66-a719-4971-dc4b-cf8fe961140e"
   },
   "outputs": [
    {
     "data": {
      "text/html": [
       "<div>\n",
       "<style scoped>\n",
       "    .dataframe tbody tr th:only-of-type {\n",
       "        vertical-align: middle;\n",
       "    }\n",
       "\n",
       "    .dataframe tbody tr th {\n",
       "        vertical-align: top;\n",
       "    }\n",
       "\n",
       "    .dataframe thead th {\n",
       "        text-align: right;\n",
       "    }\n",
       "</style>\n",
       "<table border=\"1\" class=\"dataframe\">\n",
       "  <thead>\n",
       "    <tr style=\"text-align: right;\">\n",
       "      <th></th>\n",
       "      <th>country</th>\n",
       "      <th>capital</th>\n",
       "      <th>population</th>\n",
       "      <th>area</th>\n",
       "      <th>sea</th>\n",
       "    </tr>\n",
       "  </thead>\n",
       "  <tbody>\n",
       "    <tr>\n",
       "      <th>1</th>\n",
       "      <td>Germany</td>\n",
       "      <td>Berlin</td>\n",
       "      <td>84</td>\n",
       "      <td>0.2</td>\n",
       "      <td>1</td>\n",
       "    </tr>\n",
       "    <tr>\n",
       "      <th>2</th>\n",
       "      <td>Brazil</td>\n",
       "      <td>Brazilia</td>\n",
       "      <td>190</td>\n",
       "      <td>0.4</td>\n",
       "      <td>1</td>\n",
       "    </tr>\n",
       "    <tr>\n",
       "      <th>3</th>\n",
       "      <td>Spain</td>\n",
       "      <td>Barcelona</td>\n",
       "      <td>48</td>\n",
       "      <td>1.0</td>\n",
       "      <td>0</td>\n",
       "    </tr>\n",
       "    <tr>\n",
       "      <th>4</th>\n",
       "      <td>Poland</td>\n",
       "      <td>Warsaw</td>\n",
       "      <td>38</td>\n",
       "      <td>2.5</td>\n",
       "      <td>0</td>\n",
       "    </tr>\n",
       "  </tbody>\n",
       "</table>\n",
       "</div>"
      ],
      "text/plain": [
       "   country    capital  population  area  sea\n",
       "1  Germany     Berlin          84   0.2    1\n",
       "2   Brazil   Brazilia         190   0.4    1\n",
       "3    Spain  Barcelona          48   1.0    0\n",
       "4   Poland     Warsaw          38   2.5    0"
      ]
     },
     "execution_count": 114,
     "metadata": {},
     "output_type": "execute_result"
    }
   ],
   "source": [
    "# доступ к строкам можно получить через срез индекса\n",
    "# выведем строки со второй по пятую (не включительно)\n",
    "\n",
    "countries[1:5]"
   ]
  }
 ],
 "metadata": {
  "colab": {
   "provenance": [],
   "toc_visible": true
  },
  "kernelspec": {
   "display_name": "Python 3 (ipykernel)",
   "language": "python",
   "name": "python3"
  },
  "language_info": {
   "codemirror_mode": {
    "name": "ipython",
    "version": 3
   },
   "file_extension": ".py",
   "mimetype": "text/x-python",
   "name": "python",
   "nbconvert_exporter": "python",
   "pygments_lexer": "ipython3",
   "version": "3.11.7"
  }
 },
 "nbformat": 4,
 "nbformat_minor": 5
}
