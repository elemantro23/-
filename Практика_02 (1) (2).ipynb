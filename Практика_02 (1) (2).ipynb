{
 "cells": [
  {
   "cell_type": "markdown",
   "metadata": {
    "id": "aQrobhvn4bdA"
   },
   "source": [
    "# Практика 02. Базовые конструкции языка Python. Коллекции данных: строки, списки, кортежи, множества, словари. Решение прикладных задач"
   ]
  },
  {
   "cell_type": "markdown",
   "metadata": {
    "id": "S17wgxLn1e-U"
   },
   "source": [
    "## Часть 01. Проверка условий"
   ]
  },
  {
   "cell_type": "markdown",
   "metadata": {
    "id": "QP_1FV4o1e-U"
   },
   "source": [
    "### Проверка условий"
   ]
  },
  {
   "cell_type": "markdown",
   "metadata": {
    "id": "p-gekj4j1e-U"
   },
   "source": [
    "Начнем с известных всем операторов. Проверим,\n",
    "\n",
    "* правда ли, что 8 меньше 9;\n",
    "* правда ли, что 9 больше 10."
   ]
  },
  {
   "cell_type": "code",
   "execution_count": 1,
   "metadata": {
    "id": "xgNvCQv31e-V",
    "outputId": "b4ff962b-45a0-410f-b709-692cf66d7f38"
   },
   "outputs": [
    {
     "data": {
      "text/plain": [
       "True"
      ]
     },
     "execution_count": 1,
     "metadata": {},
     "output_type": "execute_result"
    }
   ],
   "source": [
    "8 < 9 # правда"
   ]
  },
  {
   "cell_type": "code",
   "execution_count": 2,
   "metadata": {
    "id": "8bFtv6Tl1e-V",
    "outputId": "67096fef-3461-45ef-9092-72ff2fbf3fa4"
   },
   "outputs": [
    {
     "data": {
      "text/plain": [
       "False"
      ]
     },
     "execution_count": 2,
     "metadata": {},
     "output_type": "execute_result"
    }
   ],
   "source": [
    "9 > 10 # неправда"
   ]
  },
  {
   "cell_type": "markdown",
   "metadata": {
    "id": "XnZkxS1o1e-W"
   },
   "source": [
    "Результат такой проверки имеет логический тип (*boolean*)."
   ]
  },
  {
   "cell_type": "code",
   "execution_count": 3,
   "metadata": {
    "id": "YOZqjNg51e-W",
    "outputId": "44a91a4c-9199-4356-a278-0e2f098de5cd"
   },
   "outputs": [
    {
     "data": {
      "text/plain": [
       "True"
      ]
     },
     "execution_count": 3,
     "metadata": {},
     "output_type": "execute_result"
    }
   ],
   "source": [
    "res = 8 < 9\n",
    "res"
   ]
  },
  {
   "cell_type": "markdown",
   "metadata": {
    "id": "xYKgibFS1e-W"
   },
   "source": [
    "Как мы уже обсуждали, переменные такого типа могут принимать два значения `True` или `False`. Обратите внимание, что `True` и `False` не заключены в кавычки – добавив кавычки, мы получим строки \"True\" и \"False\" (тип *string*)."
   ]
  },
  {
   "cell_type": "code",
   "execution_count": 4,
   "metadata": {
    "id": "zPtn7Oxl1e-W",
    "outputId": "73472bb2-0455-4ad0-ec67-3ac8220d371a"
   },
   "outputs": [
    {
     "data": {
      "text/plain": [
       "False"
      ]
     },
     "execution_count": 4,
     "metadata": {},
     "output_type": "execute_result"
    }
   ],
   "source": [
    "'True' == True"
   ]
  },
  {
   "cell_type": "markdown",
   "metadata": {
    "id": "4HztSI8W1e-W"
   },
   "source": [
    "При проверке равенства двух частей (переменных, списков и так далее) используется двойной знак равенства."
   ]
  },
  {
   "cell_type": "code",
   "execution_count": 5,
   "metadata": {
    "id": "R4GHTj8F1e-W",
    "outputId": "0144720c-8b18-463a-ffd8-824ea529caea"
   },
   "outputs": [
    {
     "data": {
      "text/plain": [
       "True"
      ]
     },
     "execution_count": 5,
     "metadata": {},
     "output_type": "execute_result"
    }
   ],
   "source": [
    "6 == 6"
   ]
  },
  {
   "cell_type": "markdown",
   "metadata": {
    "id": "5KnXDaO-1e-X"
   },
   "source": [
    "Одинарный знак «равно» используется для присваивания значений. Так ничего не сравним, но сохраним в переменную `a` число 6:"
   ]
  },
  {
   "cell_type": "code",
   "execution_count": 6,
   "metadata": {
    "id": "Q5lPY-eT1e-X",
    "outputId": "291c31c3-3ae4-4bc8-d160-f8a378c6a1b7"
   },
   "outputs": [
    {
     "data": {
      "text/plain": [
       "6"
      ]
     },
     "execution_count": 6,
     "metadata": {},
     "output_type": "execute_result"
    }
   ],
   "source": [
    "a = 6\n",
    "a"
   ]
  },
  {
   "cell_type": "markdown",
   "metadata": {
    "id": "tqUpz0An1e-X"
   },
   "source": [
    "А так уже проверим условия:"
   ]
  },
  {
   "cell_type": "code",
   "execution_count": 7,
   "metadata": {
    "id": "zHvoAfGV1e-X",
    "outputId": "a4f43b02-d2e9-44f9-8ede-24ed6b35b8aa"
   },
   "outputs": [
    {
     "name": "stdout",
     "output_type": "stream",
     "text": [
      "True\n",
      "False\n"
     ]
    }
   ],
   "source": [
    "print(a == 6)\n",
    "print(a == 9)"
   ]
  },
  {
   "cell_type": "markdown",
   "metadata": {
    "id": "G_iPh_Oo1e-X"
   },
   "source": [
    "Отрицание равенства в Python обозначается с помощью оператора `!=` (вообще `!` в программировании используется для отрицания)."
   ]
  },
  {
   "cell_type": "code",
   "execution_count": 8,
   "metadata": {
    "id": "x1L0JatT1e-X",
    "outputId": "b95e1ac8-f1c5-4f3e-ebb8-23d3b373c4d6"
   },
   "outputs": [
    {
     "data": {
      "text/plain": [
       "True"
      ]
     },
     "execution_count": 8,
     "metadata": {},
     "output_type": "execute_result"
    }
   ],
   "source": [
    "6 != 7"
   ]
  },
  {
   "cell_type": "markdown",
   "metadata": {
    "id": "xEvd4rle1e-X"
   },
   "source": [
    "Стоит отметить, что Python достаточно лояльно относится к разделению между типам данных. Например, если мы сравним целое число и то же число, но с плавающей точкой (с дробной частью равной 0), Python сообщит, что эти числа совпадают."
   ]
  },
  {
   "cell_type": "code",
   "execution_count": 9,
   "metadata": {
    "id": "1XsYUQnq1e-X",
    "outputId": "166befc6-762f-4c9b-b278-27507c27a3db"
   },
   "outputs": [
    {
     "data": {
      "text/plain": [
       "True"
      ]
     },
     "execution_count": 9,
     "metadata": {},
     "output_type": "execute_result"
    }
   ],
   "source": [
    "6 == 6.0 # верно"
   ]
  },
  {
   "cell_type": "markdown",
   "metadata": {
    "id": "kqJn4YdC1e-X"
   },
   "source": [
    "### Сложные условия"
   ]
  },
  {
   "cell_type": "markdown",
   "metadata": {
    "id": "TqqzVS4k1e-X"
   },
   "source": [
    "Пусть у нас есть три целочисленные переменные `a`, `b` и `c`, и мы планируем составлять сложные, составные уcловия, касающиеся этих переменных."
   ]
  },
  {
   "cell_type": "code",
   "execution_count": 10,
   "metadata": {
    "id": "u85ga9At1e-X"
   },
   "outputs": [],
   "source": [
    "a = 3\n",
    "b = 7\n",
    "c = 1"
   ]
  },
  {
   "cell_type": "markdown",
   "metadata": {
    "id": "YqEr9Xnq1e-X"
   },
   "source": [
    "Помогут операторы `and` и `or`. Оператор `and` соответствует одновременному выполнению условий, оператор `or` соответствует ситуации, когда хотя бы одно из условий выполняется. Оператор `or` в Python – обычное «или», не исключающее: либо верно первое условие, либо второе, либо оба."
   ]
  },
  {
   "cell_type": "markdown",
   "metadata": {
    "id": "QVmOwG092NTJ"
   },
   "source": [
    "(15 < 17) and (17 > 10)<br>\n",
    "True   and  True -> True"
   ]
  },
  {
   "cell_type": "code",
   "execution_count": 11,
   "metadata": {
    "id": "YQo92Uok1e-X",
    "outputId": "66f64e11-6655-45a3-c937-476c52e9eae1"
   },
   "outputs": [
    {
     "data": {
      "text/plain": [
       "True"
      ]
     },
     "execution_count": 11,
     "metadata": {},
     "output_type": "execute_result"
    }
   ],
   "source": [
    "(a < b) and (b > c) # оба верны"
   ]
  },
  {
   "cell_type": "markdown",
   "metadata": {
    "id": "OqlyGdNL2RfY"
   },
   "source": [
    "(15 < 17) and (10 > 17)<br>\n",
    "True  and False -> False"
   ]
  },
  {
   "cell_type": "code",
   "execution_count": 12,
   "metadata": {
    "id": "Iz-st07i1e-Y",
    "outputId": "b99bef82-5ff7-4b23-e121-5ae83106ba41"
   },
   "outputs": [
    {
     "data": {
      "text/plain": [
       "False"
      ]
     },
     "execution_count": 12,
     "metadata": {},
     "output_type": "execute_result"
    }
   ],
   "source": [
    "(a < b) and (c > b) # второе неверно -> все неверно"
   ]
  },
  {
   "cell_type": "markdown",
   "metadata": {
    "id": "Bz_LjpZM1e-Y"
   },
   "source": [
    "Вместо `and` можно использовать оператор `&`, он нам ещё пригодится при работе с датафреймами `pandas`:"
   ]
  },
  {
   "cell_type": "code",
   "execution_count": 13,
   "metadata": {
    "id": "dKQuHOJd1e-Y",
    "outputId": "f79425b4-1cf4-47cd-86be-0bd8dfbac0ef"
   },
   "outputs": [
    {
     "data": {
      "text/plain": [
       "False"
      ]
     },
     "execution_count": 13,
     "metadata": {},
     "output_type": "execute_result"
    }
   ],
   "source": [
    "(a < b) & (c > b)"
   ]
  },
  {
   "cell_type": "markdown",
   "metadata": {
    "id": "w8T7Z6Km2Vl4"
   },
   "source": [
    "(15 < 17) or (15 > 10)<br>\n",
    "True or True - > True"
   ]
  },
  {
   "cell_type": "code",
   "execution_count": 14,
   "metadata": {
    "id": "fisT2s0X1e-Y",
    "outputId": "1f93f441-e94d-432a-9657-0586230406f7"
   },
   "outputs": [
    {
     "data": {
      "text/plain": [
       "True"
      ]
     },
     "execution_count": 14,
     "metadata": {},
     "output_type": "execute_result"
    }
   ],
   "source": [
    "(a < b) or (a > c) # первое верное -> хотя бы одно верно"
   ]
  },
  {
   "cell_type": "markdown",
   "metadata": {
    "id": "4i0fmZwm1e-Y"
   },
   "source": [
    "Вместо `or` можно использовать оператор `|`:"
   ]
  },
  {
   "cell_type": "code",
   "execution_count": 15,
   "metadata": {
    "id": "t8Kp8bzg1e-Y",
    "outputId": "803620d5-fa69-4186-cce7-4acf3b9ff249"
   },
   "outputs": [
    {
     "data": {
      "text/plain": [
       "True"
      ]
     },
     "execution_count": 15,
     "metadata": {},
     "output_type": "execute_result"
    }
   ],
   "source": [
    "(a < b) | (a > c)"
   ]
  },
  {
   "cell_type": "markdown",
   "metadata": {
    "id": "SHfMiwA81e-Y"
   },
   "source": [
    "Кроме `and` и `or` в Python есть еще полезные операторы: оператор принадлежности `in` и оператор отрицания `not`."
   ]
  },
  {
   "cell_type": "markdown",
   "metadata": {
    "id": "Fa91HkOm1e-Y"
   },
   "source": [
    "Пусть у нас есть списки отличных, хороших, удовлетворительных и плохих оценок."
   ]
  },
  {
   "cell_type": "code",
   "execution_count": 16,
   "metadata": {
    "id": "dlXqM6-K1e-Y"
   },
   "outputs": [],
   "source": [
    "excel = [8, 9, 10]\n",
    "good = [6, 7]\n",
    "sat = [4, 5]\n",
    "bad = [1, 2, 3]"
   ]
  },
  {
   "cell_type": "markdown",
   "metadata": {
    "id": "mzEvbfQM1e-Y"
   },
   "source": [
    "Проверим, лежит ли оценка 8 в плохих:"
   ]
  },
  {
   "cell_type": "code",
   "execution_count": 17,
   "metadata": {
    "id": "O3Fwc3Qj1e-Y",
    "outputId": "6efa61d2-73e8-4071-93ec-252a1ce98c6f"
   },
   "outputs": [
    {
     "data": {
      "text/plain": [
       "False"
      ]
     },
     "execution_count": 17,
     "metadata": {},
     "output_type": "execute_result"
    }
   ],
   "source": [
    "8 in bad"
   ]
  },
  {
   "cell_type": "markdown",
   "metadata": {
    "id": "VU_0Er8Z1e-Y"
   },
   "source": [
    "Применим отрицание:"
   ]
  },
  {
   "cell_type": "code",
   "execution_count": 18,
   "metadata": {
    "id": "KGESCxBY1e-Y",
    "outputId": "c7ecdccf-c47a-437c-c7ed-8f7b5ad859ba"
   },
   "outputs": [
    {
     "data": {
      "text/plain": [
       "True"
      ]
     },
     "execution_count": 18,
     "metadata": {},
     "output_type": "execute_result"
    }
   ],
   "source": [
    "8 not in bad # верно!"
   ]
  },
  {
   "cell_type": "markdown",
   "metadata": {
    "id": "4FWN8G5W1e-Y"
   },
   "source": [
    "## Часть 02. Условные конструкции"
   ]
  },
  {
   "cell_type": "markdown",
   "metadata": {
    "id": "hhU9KeK-2rqX"
   },
   "source": [
    "<b>Условные операторы</b> в языках программирования (в том числе и в Python) необходимы в ситуациях, когда перед программой поставлена проблема выбора действия в зависимости от состояния переменных: если условие выполняется, то должен выполняться один набор действий, если нет – другой набор действий.<br>\n",
    "Конструкцию <b>if-elif-else</b> еще называют <b>оператором ветвления</b>."
   ]
  },
  {
   "cell_type": "markdown",
   "metadata": {
    "id": "BG_m1Ta12zaI"
   },
   "source": [
    "Синтаксис инструкции изображают в следующем виде:"
   ]
  },
  {
   "cell_type": "code",
   "execution_count": 19,
   "metadata": {
    "id": "cL0DLBe_2yq5"
   },
   "outputs": [
    {
     "ename": "SyntaxError",
     "evalue": "invalid character '…' (U+2026) (1139886720.py, line 6)",
     "output_type": "error",
     "traceback": [
      "\u001b[1;36m  Cell \u001b[1;32mIn[19], line 6\u001b[1;36m\u001b[0m\n\u001b[1;33m    …\u001b[0m\n\u001b[1;37m    ^\u001b[0m\n\u001b[1;31mSyntaxError\u001b[0m\u001b[1;31m:\u001b[0m invalid character '…' (U+2026)\n"
     ]
    }
   ],
   "source": [
    "if <условие 1>:\n",
    "    <выражение 1>\n",
    "elif <условие 2>:\n",
    "    <выражение 2>\n",
    "\n",
    "…\n",
    "\n",
    "elif <условие n>:\n",
    "    <выражение n>\n",
    "else:\n",
    "    <выражение n + 1>"
   ]
  },
  {
   "cell_type": "markdown",
   "metadata": {
    "id": "by8LgY5P25Ww"
   },
   "source": [
    "Структура следующая:<br>\n",
    "\n",
    "- Всегда присутствует инструкция <b>if</b>;\n",
    "- Ноль, одно или несколько выражений <b>elif</b>;\n",
    "- Конечный оператор <b>else</b> не обязателен, но может использоваться, если все вышестоящие не сработали."
   ]
  },
  {
   "cell_type": "markdown",
   "metadata": {
    "id": "7Pa2Ibdk28rI"
   },
   "source": [
    "Рассмотрим синтаксис условного оператора на примере.<br>\n",
    "Пусть от пользователя требуется ввести два целых числа: температуру на улице вчера и сегодня.<br>\n",
    "А программа ответит — сегодня теплее, холоднее или же температура не изменилась."
   ]
  },
  {
   "cell_type": "code",
   "execution_count": 20,
   "metadata": {
    "id": "WNgk2UsH2-OI"
   },
   "outputs": [
    {
     "name": "stdin",
     "output_type": "stream",
     "text": [
      " 3\n",
      " 5\n"
     ]
    }
   ],
   "source": [
    "yesterday_temp = int(input())\n",
    "\n",
    "today_temp = int(input())"
   ]
  },
  {
   "cell_type": "code",
   "execution_count": 21,
   "metadata": {
    "id": "TwD2GPIc2_9P"
   },
   "outputs": [
    {
     "name": "stdout",
     "output_type": "stream",
     "text": [
      "Сегодня теплее, чем вчера!\n"
     ]
    }
   ],
   "source": [
    "if today_temp > yesterday_temp:\n",
    "    print('Сегодня теплее, чем вчера!')\n",
    "\n",
    "elif today_temp < yesterday_temp:\n",
    "    print('Сегодня холоднее, чем вчера!')\n",
    "\n",
    "else:\n",
    "    print('Сегодня такая же температура, как вчера!')"
   ]
  },
  {
   "cell_type": "markdown",
   "metadata": {
    "id": "q03ewLTk3CAo"
   },
   "source": [
    "Оператор `if` является началом условной конструкции.<br>\n",
    "Далее идёт условие, которое возвращает логическое значение `True` (истина) или `False` (ложь).<br>\n",
    "Завершается условие символом «двоеточие».<br>\n",
    "Затем — обязательный отступ в четыре пробела, он показывает, что строки объединяются в один блок.<br>\n",
    "Отступ аналогичен использованию фигурных скобок или ключевых слов begin и end в других языках программирования."
   ]
  },
  {
   "cell_type": "markdown",
   "metadata": {
    "id": "dRqFYAXa3EFY"
   },
   "source": [
    "Тело условной конструкции может содержать одно или несколько выражений (строк).<br>\n",
    "По завершении тела может идти следующее условие, которое начинается с оператора `elif` (сокращение от else if — «иначе если»). Оно проверяется `только в случае`, если предыдущее условие `не было истинным`."
   ]
  },
  {
   "cell_type": "markdown",
   "metadata": {
    "id": "5iSugPlP3F4f"
   },
   "source": [
    "Синтаксис в `elif` аналогичен `if`.<br>\n",
    "Операторов `elif` для одного блока условного оператора может быть несколько, а может не быть совсем.<br>\n",
    "Последним идёт оператор `else`, который не содержит условия, а выполняется, только если ни одно из предыдущих условий в `if` и `elif` не выполнилось.<br>\n",
    "Оператор `else` не является обязательным."
   ]
  },
  {
   "cell_type": "markdown",
   "metadata": {
    "id": "HNulra2o3H-n"
   },
   "source": [
    "В качестве условия может выступать результат операции сравнения:\n",
    "\n",
    "- `>` (больше);\n",
    "- `>=` (больше или равно);\n",
    "- `<` (меньше);\n",
    "- `<=` (меньше или равно);\n",
    "- `==` (равно);\n",
    "- `!=` (не равно)."
   ]
  },
  {
   "cell_type": "markdown",
   "metadata": {
    "id": "OPr3Wn1I3J-H"
   },
   "source": [
    "Для записи <b>сложных условий<b> можно применять логические операции:<br>\n",
    "\n",
    "`and` — логическое «И» для двух условий. Возвращает True, если оба условия истинны, иначе возвращает False;<br>\n",
    "`or` — логическое «ИЛИ» для двух условий. Возвращает False, если оба условия ложны, иначе возвращает True;<br>\n",
    "`not` — логическое «НЕ» для одного условия. Возвращает False для истинного условия, и наоборот."
   ]
  },
  {
   "cell_type": "markdown",
   "metadata": {
    "id": "cxlgmom-1jV6"
   },
   "source": [
    "Изменим условие задачи.<br>\n",
    "Пусть от пользователя требуется ввести два целых числа: температуру на улице вчера и сегодня.<br>\n",
    "А программа ответит — сегодня теплее, если температура сегодня выше температуры вчера."
   ]
  },
  {
   "cell_type": "code",
   "execution_count": 22,
   "metadata": {
    "id": "2y4f_N3q1jV6"
   },
   "outputs": [
    {
     "name": "stdout",
     "output_type": "stream",
     "text": [
      "Сегодня теплее, чем вчера!\n"
     ]
    }
   ],
   "source": [
    "if today_temp > yesterday_temp:\n",
    "    print('Сегодня теплее, чем вчера!')"
   ]
  },
  {
   "cell_type": "markdown",
   "metadata": {
    "id": "S9cHeMmO1jV6"
   },
   "source": [
    "Пусть от пользователя требуется ввести два целых числа: температуру на улице вчера и сегодня.<br>\n",
    "А программа ответит — сегодня теплее, если температура сегодня выше температуры вчера,<br>\n",
    "сегодня холоднее, если температура сегодня ниже температуры вчера."
   ]
  },
  {
   "cell_type": "code",
   "execution_count": 23,
   "metadata": {
    "id": "zHWINX8l1jV6",
    "outputId": "a0f2c373-1388-4138-bdee-c89175a87e53"
   },
   "outputs": [
    {
     "name": "stdin",
     "output_type": "stream",
     "text": [
      " 11\n",
      " 33\n"
     ]
    }
   ],
   "source": [
    "yesterday_temp = int(input())\n",
    "\n",
    "today_temp = int(input())"
   ]
  },
  {
   "cell_type": "code",
   "execution_count": 24,
   "metadata": {
    "id": "TqfFPbhd1jV6",
    "outputId": "625247ff-2b4c-49be-befc-0147801039f0"
   },
   "outputs": [
    {
     "name": "stdout",
     "output_type": "stream",
     "text": [
      "Сегодня теплее, чем вчера!\n"
     ]
    }
   ],
   "source": [
    "if today_temp > yesterday_temp:\n",
    "    print('Сегодня теплее, чем вчера!')\n",
    "\n",
    "elif today_temp < yesterday_temp:\n",
    "    print('Сегодня холоднее, чем вчера!')"
   ]
  },
  {
   "cell_type": "markdown",
   "metadata": {
    "id": "B75nXRID1jV6"
   },
   "source": [
    "Пусть от пользователя требуется ввести два целых числа: температуру на улице вчера и сегодня.<br>\n",
    "А программа ответит — сегодня теплее, если температура сегодня выше температуры вчера,<br>\n",
    "иначе - сегодня холоднее."
   ]
  },
  {
   "cell_type": "code",
   "execution_count": 25,
   "metadata": {
    "id": "O_Op6BhW1jV6",
    "outputId": "2cca5e50-de0e-44de-cde4-ed63169cbd1b"
   },
   "outputs": [
    {
     "name": "stdout",
     "output_type": "stream",
     "text": [
      "Сегодня теплее, чем вчера!\n"
     ]
    }
   ],
   "source": [
    "if today_temp > yesterday_temp:\n",
    "    print('Сегодня теплее, чем вчера!')\n",
    "\n",
    "else:\n",
    "    print('Сегодня холоднее, чем вчера!')"
   ]
  },
  {
   "cell_type": "markdown",
   "metadata": {
    "id": "yroxsL5B1jV6"
   },
   "source": [
    "# Задание\n",
    "\n",
    "1. Напишите программу, которая будет проверять, какое число сохранено в переменной <b>result</b> (значение вводится с клавиатуры).<br>\n",
    "И если это число <b>меньше 25</b>, на экран будет выводиться сообщение `Слишком мало`, <b>иначе</b> - `Слишком много`.<br>\n",
    "\n",
    "2. Изменим условие задачи.<br>\n",
    "\n",
    "Если это число <b>меньше 25</b>, на экран будет выводиться сообщение `Слишком мало`, <b>меньше 50</b> - сообщение `Мало`, <b>равно 50</b> - сообщение `Отлично!`, <b>больше 50 (!но меньше 75)</b> - сообщение `Много`, <b>больше 75</b> - `Слишком много`.<br>\n",
    "Подумайте, как оптимально можно реализовать условие: больше 50 (!но меньше 75).<br>\n",
    "\n",
    "3. Продумайте и запишите <b>собственное условие задачи<b> с учетом трех вариантов ее решения:\n",
    "- без использования конструкций `elif`, `else`;\n",
    "- без использования конструкции `elif`, но с конструкцией `else`;\n",
    "- без использования конструкций `else`, но с конструкцией `elif`.<br>\n",
    "\n",
    "Напишите программы решения всех трех вариантов предложенной задачи."
   ]
  },
  {
   "cell_type": "code",
   "execution_count": 32,
   "metadata": {
    "id": "HTKOKgxj1jV7"
   },
   "outputs": [
    {
     "name": "stdin",
     "output_type": "stream",
     "text": [
      "Введите число:  36\n"
     ]
    }
   ],
   "source": [
    "result = int(input(\"Введите число: \"))"
   ]
  },
  {
   "cell_type": "code",
   "execution_count": 33,
   "metadata": {},
   "outputs": [
    {
     "name": "stdout",
     "output_type": "stream",
     "text": [
      "Слишком много\n"
     ]
    }
   ],
   "source": [
    "if result < 25:\n",
    "    print(\"Слишком мало\")\n",
    "else:\n",
    "    print(\"Слишком много\")"
   ]
  },
  {
   "cell_type": "code",
   "execution_count": 34,
   "metadata": {},
   "outputs": [
    {
     "name": "stdout",
     "output_type": "stream",
     "text": [
      "Мало\n"
     ]
    }
   ],
   "source": [
    "if result < 25:\n",
    "    print(\"Слишком мало\")\n",
    "elif result < 50:\n",
    "    print(\"Мало\")\n",
    "elif result == 50:\n",
    "    print(\"Отлично!\")\n",
    "elif result < 75:\n",
    "    print(\"Много\")\n",
    "else:\n",
    "    print(\"Слишком много\")"
   ]
  },
  {
   "cell_type": "markdown",
   "metadata": {},
   "source": [
    "## Без использования конструкций elif, else"
   ]
  },
  {
   "cell_type": "code",
   "execution_count": 35,
   "metadata": {},
   "outputs": [
    {
     "name": "stdout",
     "output_type": "stream",
     "text": [
      "Мало\n"
     ]
    }
   ],
   "source": [
    "if result < 25:\n",
    "    print(\"Слишком мало\")\n",
    "if 25 <= result < 50:\n",
    "    print(\"Мало\")\n",
    "if result == 50:\n",
    "    print(\"Отлично!\")\n",
    "if 50 < result < 75:\n",
    "    print(\"Много\")\n",
    "if result >= 75:\n",
    "    print(\"Слишком много\")"
   ]
  },
  {
   "cell_type": "markdown",
   "metadata": {},
   "source": [
    "## Без использования конструкции elif, но с конструкцией else"
   ]
  },
  {
   "cell_type": "code",
   "execution_count": 36,
   "metadata": {},
   "outputs": [
    {
     "name": "stdout",
     "output_type": "stream",
     "text": [
      "Мало\n"
     ]
    }
   ],
   "source": [
    "if result < 25:\n",
    "    print(\"Слишком мало\")\n",
    "else:\n",
    "    if result < 50:\n",
    "        print(\"Мало\")\n",
    "    else:\n",
    "        if result == 50:\n",
    "            print(\"Отлично!\")\n",
    "        else:\n",
    "            if 50 < result < 75:\n",
    "                print(\"Много\")\n",
    "            else:\n",
    "                print(\"Слишком много\")"
   ]
  },
  {
   "cell_type": "markdown",
   "metadata": {},
   "source": [
    "## Без использования конструкций else, но с конструкцией elif"
   ]
  },
  {
   "cell_type": "code",
   "execution_count": 37,
   "metadata": {},
   "outputs": [
    {
     "name": "stdout",
     "output_type": "stream",
     "text": [
      "Мало\n"
     ]
    }
   ],
   "source": [
    "if result < 25:\n",
    "    print(\"Слишком мало\")\n",
    "elif result < 50:\n",
    "    print(\"Мало\")\n",
    "elif result == 50:\n",
    "    print(\"Отлично!\")\n",
    "elif 50 < result < 75:\n",
    "    print(\"Много\")\n",
    "elif result >= 75:\n",
    "    print(\"Слишком много\")"
   ]
  },
  {
   "cell_type": "markdown",
   "metadata": {
    "id": "Lq1JQ-gH1jV7"
   },
   "source": [
    "Обратите внимание, что если в задаче несколько условий, то решение можно реализовать несколькими способами: через инструкцию `elif` или через `вложенную условную конструкцию`."
   ]
  },
  {
   "cell_type": "markdown",
   "metadata": {
    "id": "PtJgHOe31jV7"
   },
   "source": [
    "*Например*,<br>\n",
    "мы просим пользователя ввести число, и если число больше 10, на экране должно появиться сообщение \"больше 10\",<br>\n",
    "если равно 10 – \"равно 10\", если меньше – \"меньше 10\".<br>\n",
    "Условные конструкции можно вкладывать друг друга, главное не забывать при этом про отступы:"
   ]
  },
  {
   "cell_type": "code",
   "execution_count": 38,
   "metadata": {
    "id": "x60I_1av1jV7"
   },
   "outputs": [],
   "source": [
    "x = 7"
   ]
  },
  {
   "cell_type": "code",
   "execution_count": 39,
   "metadata": {
    "id": "CmKWjx3W1jV7",
    "outputId": "59346f04-8f0e-435c-bfac-724a46b7a936"
   },
   "outputs": [
    {
     "name": "stdout",
     "output_type": "stream",
     "text": [
      "меньше 10\n"
     ]
    }
   ],
   "source": [
    "if x < 10:\n",
    "    print('меньше 10')\n",
    "\n",
    "else:\n",
    "    if x == 10:\n",
    "        print('равно 10')\n",
    "\n",
    "    else:\n",
    "        print('больше 10')"
   ]
  },
  {
   "cell_type": "markdown",
   "metadata": {
    "id": "8TAtihn21jV7"
   },
   "source": [
    "Можно воспользоваться оператором `elif`, который по смыслу является сочетанием `else + if`: если предыдущее условие невыполнено, то нужно проверить следующее условие, и если оно тоже не выполнено, то уже перейти к ветке с `else`."
   ]
  },
  {
   "cell_type": "code",
   "execution_count": 40,
   "metadata": {
    "id": "BMomeCi51jV7",
    "outputId": "e2dc6d54-008e-4664-da12-8091999a8a50"
   },
   "outputs": [
    {
     "name": "stdout",
     "output_type": "stream",
     "text": [
      "меньше 10\n"
     ]
    }
   ],
   "source": [
    "if x < 10:\n",
    "    print('меньше 10')\n",
    "\n",
    "elif x == 10:\n",
    "    print('равно 10')\n",
    "\n",
    "else:\n",
    "    print('больше 10')"
   ]
  },
  {
   "cell_type": "markdown",
   "metadata": {
    "id": "xMgoH3V91jV7"
   },
   "source": [
    "Ответвлений с `elif` может быть несколько: сколько условий, столько и выражений с `elif`."
   ]
  },
  {
   "cell_type": "markdown",
   "metadata": {
    "id": "Sg9LvNTe1jV7"
   },
   "source": [
    "А можно ли обойтись совсем без `elif`, просто записав несколько выражений с `if`?<br>\n",
    "Все зависит от ситуации. Иногда решения использовать `elif` и `if` будут равнозначными, иногда – нет."
   ]
  },
  {
   "cell_type": "markdown",
   "metadata": {
    "id": "3wWll_a61jV7"
   },
   "source": [
    "*Рассмотрим задачу*.<br>\n",
    "В переменной `mark` хранится оценка по 10-балльной шкале. Нужно вывести текстовый комментарий (\"Excellent\", \"Good\", \"Satisfactory\" или \"Bad\") в соотвествии с оценкой. Решим эту задачу с помощью `elif`:"
   ]
  },
  {
   "cell_type": "code",
   "execution_count": 41,
   "metadata": {
    "id": "PtrZxlnm1jV7"
   },
   "outputs": [],
   "source": [
    "excel = [8, 9, 10]\n",
    "good = [6, 7]\n",
    "sat = [4, 5]\n",
    "bad = [1, 2, 3]"
   ]
  },
  {
   "cell_type": "code",
   "execution_count": 42,
   "metadata": {
    "id": "Fy3pMiU61jV7"
   },
   "outputs": [],
   "source": [
    "mark = 6"
   ]
  },
  {
   "cell_type": "code",
   "execution_count": 43,
   "metadata": {
    "id": "TrPYM13R1jV7",
    "outputId": "d6230703-2ae9-4763-82f5-e17ea4893efa"
   },
   "outputs": [
    {
     "name": "stdout",
     "output_type": "stream",
     "text": [
      "Good\n"
     ]
    }
   ],
   "source": [
    "if mark >= 8:\n",
    "    print('Excellent')\n",
    "\n",
    "elif mark >= 6:\n",
    "    print('Good')\n",
    "\n",
    "elif mark >= 4:\n",
    "    print('Satisfactory')\n",
    "\n",
    "else:\n",
    "    print('Bad')"
   ]
  },
  {
   "cell_type": "markdown",
   "metadata": {
    "id": "rIiq0BSh1jV8"
   },
   "source": [
    "Почему мы можем сделать так? Потому что на каждом шаге, при проверке нового условия, мы сужаем круг интересующих нас исходов: если оценка не больше или равна 8, то она точно меньше 8 и сравнивать ее нужно только со следующей «пограничной» оценкой 6, далее, если оценка оказалась меньше 6, остается сравнить ее только с 4 и все."
   ]
  },
  {
   "cell_type": "markdown",
   "metadata": {
    "id": "eVFQ9QSD1jV8"
   },
   "source": [
    "Можно решить эту задачу без `elif`, а с помощью сложных условий:"
   ]
  },
  {
   "cell_type": "code",
   "execution_count": 44,
   "metadata": {
    "id": "zjnZE2ts1jV8"
   },
   "outputs": [],
   "source": [
    "mark = 6"
   ]
  },
  {
   "cell_type": "code",
   "execution_count": 45,
   "metadata": {
    "id": "bwiu1XwK1jV8",
    "outputId": "9bfb507f-1f69-4eb0-cd01-469454f507f9"
   },
   "outputs": [
    {
     "name": "stdout",
     "output_type": "stream",
     "text": [
      "Good\n"
     ]
    }
   ],
   "source": [
    "if mark >= 8:\n",
    "    print('Excellent')\n",
    "\n",
    "if (mark < 8) and (mark >= 6):\n",
    "    print('Good')\n",
    "\n",
    "if (mark < 6) and (mark >= 4):\n",
    "    print('Satisfactory')\n",
    "\n",
    "if (mark < 4):\n",
    "    print('Bad')"
   ]
  },
  {
   "cell_type": "markdown",
   "metadata": {
    "id": "Z18H3-oo1jV8"
   },
   "source": [
    "В логическом операторе можно использовать **двойное неравенство**. Например, неравенство"
   ]
  },
  {
   "cell_type": "code",
   "execution_count": 46,
   "metadata": {
    "id": "quCmzKj71jV8"
   },
   "outputs": [],
   "source": [
    "if x >= 0 and x < 100:\n",
    "    ..."
   ]
  },
  {
   "cell_type": "markdown",
   "metadata": {
    "id": "rIHlCTUK1jV8"
   },
   "source": [
    "лучше записать так:"
   ]
  },
  {
   "cell_type": "code",
   "execution_count": 47,
   "metadata": {
    "id": "2e9_eer01jV8"
   },
   "outputs": [],
   "source": [
    "if 0 <= x < 100:\n",
    "        ..."
   ]
  },
  {
   "cell_type": "markdown",
   "metadata": {
    "id": "yAac4sRW1jV8"
   },
   "source": [
    "Если бы в конце вместо последнего `if` мы написали конструкцию с `else`, результат был бы другим:"
   ]
  },
  {
   "cell_type": "code",
   "execution_count": 48,
   "metadata": {
    "id": "yLCqBbmR1jV8"
   },
   "outputs": [],
   "source": [
    "mark = 9"
   ]
  },
  {
   "cell_type": "code",
   "execution_count": 49,
   "metadata": {
    "id": "seHmeFaT1jV8",
    "outputId": "a635d37c-9d10-438b-adc0-468b7e87260e"
   },
   "outputs": [
    {
     "name": "stdout",
     "output_type": "stream",
     "text": [
      "Excellent\n",
      "Bad\n"
     ]
    }
   ],
   "source": [
    "if mark >= 8:\n",
    "    print('Excellent')\n",
    "\n",
    "if (mark < 8) and (mark >= 6):\n",
    "    print('Good')\n",
    "\n",
    "if (mark < 6) and (mark >= 4):\n",
    "    print('Satisfactory')\n",
    "\n",
    "else:\n",
    "    print('Bad')"
   ]
  },
  {
   "cell_type": "markdown",
   "metadata": {
    "id": "8l_Ah35X1jV8"
   },
   "source": [
    "Почему? Потому что в этом случае часть с `else` относится не ко всем частям с `if` выше, а только к последней, где проверяется принадлежность `mark` промежутку от 6 до 8."
   ]
  },
  {
   "cell_type": "markdown",
   "metadata": {
    "id": "oVZKXgF21jV8"
   },
   "source": [
    "Рассмотрим еще один пример. Пользователь должен ввести первую и последнюю буквы русского алфавита. Ввод производится в двух отдельных строках и в любом регистре."
   ]
  },
  {
   "cell_type": "code",
   "execution_count": 50,
   "metadata": {
    "id": "PsE2LjeG1jV8",
    "outputId": "a5fffb6a-4cf3-458f-a4c9-70ae956b7b6d"
   },
   "outputs": [
    {
     "name": "stdout",
     "output_type": "stream",
     "text": [
      "Введите первую и последнюю буквы русского алфавита\n"
     ]
    },
    {
     "name": "stdin",
     "output_type": "stream",
     "text": [
      " а\n",
      " я\n"
     ]
    }
   ],
   "source": [
    "print('Введите первую и последнюю буквы русского алфавита')\n",
    "\n",
    "first_letter = input()\n",
    "last_letter = input()"
   ]
  },
  {
   "cell_type": "markdown",
   "metadata": {
    "id": "oIvrV-dt1jV8"
   },
   "source": [
    "Затем программа проверяет введенные символы и выводит на экран сообщение `Верно!`, если пользователь правильно ввел обе буквы, в противном случае - сообщение `Неверно!`."
   ]
  },
  {
   "cell_type": "code",
   "execution_count": 51,
   "metadata": {
    "id": "VKQA_2kp1jV8",
    "outputId": "23340980-3076-4292-881e-34f9d573fd16"
   },
   "outputs": [
    {
     "name": "stdout",
     "output_type": "stream",
     "text": [
      "Верно!\n"
     ]
    }
   ],
   "source": [
    "if (first_letter == 'а' or first_letter == 'А') and (\n",
    "    last_letter == 'я' or last_letter == 'Я'):\n",
    "\n",
    "    print('Верно!')\n",
    "\n",
    "else:\n",
    "    print('Неверно!')"
   ]
  },
  {
   "cell_type": "markdown",
   "metadata": {
    "id": "mL_rJ0gP1jV8"
   },
   "source": [
    "**Строки** также **можно сравнивать между собой** с помощью операций >, < и т.д.<br>\n",
    "В отличие от чисел, строки сравниваются посимвольно в соответствии с кодами символов в таблице кодировки (в Python рекомендуется использовать кодировку `UTF-8`)."
   ]
  },
  {
   "cell_type": "markdown",
   "metadata": {
    "id": "34mf76131jV8"
   },
   "source": [
    "Компьютер изначально работает только с двоичными числами. Поэтому для работы с символами им назначаются коды — числа, а сами таблицы соответствия символов и кодов называются `таблицами кодировки`. Кодировок существует достаточно много, одной из самых популярных на данный момент является `UTF-8`. Например, сравним две односимвольные строки:"
   ]
  },
  {
   "cell_type": "code",
   "execution_count": 52,
   "metadata": {
    "id": "ndhHpfAO1jV9",
    "outputId": "21bc86fc-8679-4cd9-9b7a-4fc5b55c0b19"
   },
   "outputs": [
    {
     "name": "stdout",
     "output_type": "stream",
     "text": [
      "False\n"
     ]
    }
   ],
   "source": [
    "letter_1 = 't'\n",
    "letter_2 = 'w'\n",
    "\n",
    "print(letter_1 > letter_2)"
   ]
  },
  {
   "cell_type": "markdown",
   "metadata": {
    "id": "ZotWC1hK1jV9"
   },
   "source": [
    "Программа выведет False, поскольку символ t стоит в таблице кодировки раньше, чем w (как и по алфавиту, то есть лексикографически). Чтобы убедиться в этом, можно использовать встроенную функцию `ord()`, которая возвращает код символа из таблицы кодировки:"
   ]
  },
  {
   "cell_type": "code",
   "execution_count": 53,
   "metadata": {
    "id": "GFiLjAr31jV9",
    "outputId": "9f75e694-a25c-4e4a-dac4-f209512cb055"
   },
   "outputs": [
    {
     "name": "stdout",
     "output_type": "stream",
     "text": [
      "116 119\n"
     ]
    }
   ],
   "source": [
    "print(ord('t'), ord('w'))"
   ]
  },
  {
   "cell_type": "code",
   "execution_count": 54,
   "metadata": {
    "id": "C33AG9e_1jV9",
    "outputId": "09d983ea-470a-4ff1-9931-b9959cdbf12f"
   },
   "outputs": [
    {
     "name": "stdout",
     "output_type": "stream",
     "text": [
      "1065 1098\n"
     ]
    }
   ],
   "source": [
    "print(ord('Щ'), ord('ъ'))"
   ]
  },
  {
   "cell_type": "markdown",
   "metadata": {
    "id": "KRdAdNA-1jV9"
   },
   "source": [
    "Поскольку 116 меньше 119, в предыдущем примере мы и получили False.<br>\n",
    "Чтобы получить символ по его коду, необходимо вызвать встроенную функцию `chr()` с соответствующим кодом:"
   ]
  },
  {
   "cell_type": "code",
   "execution_count": 55,
   "metadata": {
    "id": "tjOnrH2t1jV9",
    "outputId": "8e514dca-7178-4ef9-d852-9cf4c14630bf"
   },
   "outputs": [
    {
     "name": "stdout",
     "output_type": "stream",
     "text": [
      "t w\n"
     ]
    }
   ],
   "source": [
    "print(chr(116), chr(119))"
   ]
  },
  {
   "cell_type": "markdown",
   "metadata": {
    "id": "kMztTLz21jV9"
   },
   "source": [
    "В таблице кодировки большие и маленькие буквы являются различными символами с разными кодами (из разных диапазонов). Поэтому для корректного сравнения строки должны быть в одном регистре."
   ]
  },
  {
   "cell_type": "markdown",
   "metadata": {
    "id": "-mkEidS01jV9"
   },
   "source": [
    "Для проверки условия наличия подстроки в строке используется оператор `in`. Например, проверим, что во введённой строке встречается корень «добр» (для слов «добрый», «доброе» и подобных):"
   ]
  },
  {
   "cell_type": "code",
   "execution_count": 56,
   "metadata": {
    "id": "z4YqKYS_1jV9",
    "outputId": "b70b461a-202f-4836-e425-3838f079dae6"
   },
   "outputs": [
    {
     "name": "stdin",
     "output_type": "stream",
     "text": [
      " добрый день\n"
     ]
    }
   ],
   "source": [
    "text = input()"
   ]
  },
  {
   "cell_type": "code",
   "execution_count": 57,
   "metadata": {
    "id": "9_BjU-QM1jV9",
    "outputId": "8c47fa65-600d-439a-904b-7c824ec781a1"
   },
   "outputs": [
    {
     "name": "stdout",
     "output_type": "stream",
     "text": [
      "Встретилось 'доброе' слово\n"
     ]
    }
   ],
   "source": [
    "if 'добр' in text:\n",
    "    print(\"Встретилось 'доброе' слово\")\n",
    "\n",
    "else:\n",
    "    print(\"Добрых слов не найдено\")"
   ]
  },
  {
   "cell_type": "markdown",
   "metadata": {
    "id": "gDMLprXl1jV9"
   },
   "source": [
    "Попробуем сравнить строки:"
   ]
  },
  {
   "cell_type": "code",
   "execution_count": 58,
   "metadata": {
    "id": "2sjE49Fs1jV9",
    "outputId": "67df2921-4778-45ec-9db2-38b5d3361ec3"
   },
   "outputs": [
    {
     "data": {
      "text/plain": [
       "True"
      ]
     },
     "execution_count": 58,
     "metadata": {},
     "output_type": "execute_result"
    }
   ],
   "source": [
    "'11' > '100'"
   ]
  },
  {
   "cell_type": "code",
   "execution_count": 59,
   "metadata": {
    "id": "1gHDUkLR1jV9",
    "outputId": "163eccbf-da21-4130-d5b4-7445ed4ea9b9"
   },
   "outputs": [
    {
     "name": "stdout",
     "output_type": "stream",
     "text": [
      "49 48\n"
     ]
    }
   ],
   "source": [
    "print(ord('1'), ord('0'))"
   ]
  },
  {
   "cell_type": "code",
   "execution_count": 60,
   "metadata": {
    "id": "Aavdw0Dg1jV9",
    "outputId": "172f00a3-d768-4c62-8b81-120896384a0f"
   },
   "outputs": [
    {
     "data": {
      "text/plain": [
       "False"
      ]
     },
     "execution_count": 60,
     "metadata": {},
     "output_type": "execute_result"
    }
   ],
   "source": [
    "'Москва' > 'Челябинск'"
   ]
  },
  {
   "cell_type": "code",
   "execution_count": 61,
   "metadata": {
    "id": "HkUwH9XJ1jV9",
    "outputId": "6163922f-ab54-4b0f-d942-4234a176e67d"
   },
   "outputs": [
    {
     "data": {
      "text/plain": [
       "True"
      ]
     },
     "execution_count": 61,
     "metadata": {},
     "output_type": "execute_result"
    }
   ],
   "source": [
    "'Москва' > 'Миасс'"
   ]
  },
  {
   "cell_type": "markdown",
   "metadata": {
    "id": "JvBLwbL81jV-"
   },
   "source": [
    "Разберём другой пример. Нам необходимо обеспечить ввод имени, причём такого, чтобы оно было больше 3 символов, но меньше 50.<br>\n",
    "Для начала надо задать переменную и ввести имя через клавиатуру:"
   ]
  },
  {
   "cell_type": "code",
   "execution_count": 62,
   "metadata": {
    "id": "JgOxhFP-1jV-"
   },
   "outputs": [
    {
     "name": "stdin",
     "output_type": "stream",
     "text": [
      "Введите имя:  Вадим\n"
     ]
    }
   ],
   "source": [
    "name = input('Введите имя: ')"
   ]
  },
  {
   "cell_type": "markdown",
   "metadata": {
    "id": "h_RJXX-x1jV-"
   },
   "source": [
    "Теперь пропишем условия. «len» определяет длину слова, не забываем, что отсчёт начинается с «0»."
   ]
  },
  {
   "cell_type": "code",
   "execution_count": 63,
   "metadata": {
    "id": "zpYbS5qL1jV-"
   },
   "outputs": [
    {
     "name": "stdout",
     "output_type": "stream",
     "text": [
      "Имя введено верно\n"
     ]
    }
   ],
   "source": [
    "if len(name) < 3:\n",
    "    print('Имя должно состоять хотя бы из трех символов')\n",
    "\n",
    "elif len(name) > 50:\n",
    "    print('Имя не должно быть более 50 символов')\n",
    "\n",
    "else:\n",
    "    print('Имя введено верно')"
   ]
  },
  {
   "cell_type": "markdown",
   "metadata": {
    "id": "KH2JlFX51jV-"
   },
   "source": [
    "# Задание\n",
    "\n",
    "1. Пользователь вводит с клавиатуры два числа через пробел.<br>\n",
    "Напишите код, который возвращает максимальное из двух введенных значений.\n",
    "\n",
    "<b>Пример: </b>\n",
    "\n",
    "Ввод:\n",
    "\n",
    "    Введите два числа: 5.7 8\n",
    "    \n",
    "Вывод:\n",
    "\n",
    "    8\n",
    "    \n",
    "*Подсказка:* вспомните работу со списками и функцию *split* из предыдущих лекций.\n",
    "\n",
    "2. Дан список `N` из целых чисел. Напишите код, который делает следующее: выводит каждый элемент списка на экран и для каждого элемента либо выводит комментарий \"Это четное число\", либо комментарии \"Это нечетное число\".\n",
    "\n",
    "*Подсказка:* используйте цикл for, оператор для нахождения остатка от деления – это `%`.\n",
    "\n",
    "3. У питона есть набор любимых чисел.\n",
    "\n",
    "    favorites = [3, 7, 11, 23, 18, 48, 81]\n",
    "\n",
    "Напишите программу, которая просит пользователя ввести целое число, и если оно нравится питону, на экран будет выводиться сообщение: `\"Мое любимое число!\"`, если нет ‒ `\"Эх, ну почему?\"`."
   ]
  },
  {
   "cell_type": "code",
   "execution_count": 1,
   "metadata": {
    "id": "cxga5Em_1jV-"
   },
   "outputs": [
    {
     "name": "stdin",
     "output_type": "stream",
     "text": [
      "Введите два числа через пробел:  22 11\n"
     ]
    },
    {
     "name": "stdout",
     "output_type": "stream",
     "text": [
      "Максимальное число: 22\n"
     ]
    }
   ],
   "source": [
    "numbers = input(\"Введите два числа через пробел: \")\n",
    "\n",
    "number1, number2 = map(int, numbers.split())\n",
    "\n",
    "max_number = max(number1, number2)\n",
    "\n",
    "print(f\"Максимальное число: {max_number}\")"
   ]
  },
  {
   "cell_type": "code",
   "execution_count": 1,
   "metadata": {
    "id": "5SG-cagE1jV-"
   },
   "outputs": [
    {
     "name": "stdout",
     "output_type": "stream",
     "text": [
      "11 - Это нечетное число\n",
      "22 - Это четное число\n",
      "33 - Это нечетное число\n",
      "45 - Это нечетное число\n",
      "56 - Это четное число\n",
      "68 - Это четное число\n",
      "77 - Это нечетное число\n",
      "86 - Это четное число\n",
      "97 - Это нечетное число\n",
      "1070 - Это четное число\n"
     ]
    }
   ],
   "source": [
    "N = [11, 22, 33, 45, 56, 68, 77, 86, 97, 1070]\n",
    "\n",
    "for number in N:\n",
    "    if number % 2 == 0:\n",
    "        print(f\"{number} - Это четное число\")\n",
    "    else:\n",
    "        print(f\"{number} - Это нечетное число\")"
   ]
  },
  {
   "cell_type": "code",
   "execution_count": 2,
   "metadata": {},
   "outputs": [
    {
     "name": "stdin",
     "output_type": "stream",
     "text": [
      "Введите целое число:  11\n"
     ]
    },
    {
     "name": "stdout",
     "output_type": "stream",
     "text": [
      "Мое любимое число!\n"
     ]
    }
   ],
   "source": [
    "favorites = [3, 7, 11, 23, 18, 48, 81]\n",
    "\n",
    "user_number = int(input(\"Введите целое число: \"))\n",
    "\n",
    "if user_number in favorites:\n",
    "    print(\"Мое любимое число!\")\n",
    "else:\n",
    "    print(\"Эх, ну почему?\")"
   ]
  },
  {
   "cell_type": "markdown",
   "metadata": {
    "id": "CExcSe_B4HtI"
   },
   "source": [
    "## Часть 03. Циклы в Python"
   ]
  },
  {
   "cell_type": "markdown",
   "metadata": {
    "id": "NeyodBtC4Hiw"
   },
   "source": [
    "- цикл с проверкой условия (**while**-loop)\n",
    "- цикл с перебором значений (**for**-loop)"
   ]
  },
  {
   "cell_type": "markdown",
   "metadata": {
    "id": "o8LT8Ty11e-d"
   },
   "source": [
    "## Часть 04. Цикл for\n",
    "\n",
    "Раз есть списки, хочется научиться «пробегаться» по их элементам. Например, выводить на экран не весь список `age` сразу, а постепенно, каждый элемент с новой строчки. Для этого есть циклы. Рассмотрим цикл *for*."
   ]
  },
  {
   "cell_type": "code",
   "execution_count": 3,
   "metadata": {
    "id": "CfUaHw3k1e-d",
    "outputId": "043561fb-933b-4088-c480-b797d7e96c56"
   },
   "outputs": [
    {
     "data": {
      "text/plain": [
       "[23, 25, 32, 48, 19]"
      ]
     },
     "execution_count": 3,
     "metadata": {},
     "output_type": "execute_result"
    }
   ],
   "source": [
    "age = [23, 25, 32, 48, 19]  # возраст\n",
    "age"
   ]
  },
  {
   "cell_type": "code",
   "execution_count": 4,
   "metadata": {
    "id": "t9LqBdQN1e-d",
    "outputId": "63b12a56-90dc-45ea-ee8f-f5d004585c96"
   },
   "outputs": [
    {
     "name": "stdout",
     "output_type": "stream",
     "text": [
      "23\n",
      "25\n",
      "32\n",
      "48\n",
      "19\n"
     ]
    }
   ],
   "source": [
    "for i in age:\n",
    "    print(i)"
   ]
  },
  {
   "cell_type": "markdown",
   "metadata": {
    "id": "6wcBGFRb1e-d"
   },
   "source": [
    "Как устроен цикл выше? Кодом выше мы доносим до Python мысль:\n",
    "\n",
    "* пробегайся по всем элементам списка `age` (`for i in age`);\n",
    "* выводи каждый элемент на экран (`print(i)`).\n",
    "\n",
    "Вообще любой цикл *for* имеет такую структуру: сначала указывается, по каким значениям нужно итерировать «пробегаться», а затем, что нужно делать. Действия, которые нужно выполнить в цикле, указываются после двоеточия в *for* – эта часть называется *телом* цикла.  \n",
    "\n",
    "Буквы в конструкции *for* могут быть любые, совсем необязательно брать букву `i`. Python сам поймет, что мы имеем в виду, запуская цикл.\n",
    "\n",
    "В качестве еще одного примера давайте для каждого элемента списка выведем на экран сообщение вида:\n",
    "\n",
    "    x^2 – квадрат числа x."
   ]
  },
  {
   "cell_type": "code",
   "execution_count": 5,
   "metadata": {
    "id": "4ilU1fme1e-d",
    "outputId": "5e238d5f-1c08-4086-e749-b7a3959fc7c1"
   },
   "outputs": [
    {
     "name": "stdout",
     "output_type": "stream",
     "text": [
      "529 – квадрат числа 23\n",
      "625 – квадрат числа 25\n",
      "1024 – квадрат числа 32\n",
      "2304 – квадрат числа 48\n",
      "361 – квадрат числа 19\n"
     ]
    }
   ],
   "source": [
    "# вместо i напишем a\n",
    "for a in age:\n",
    "    print(a ** 2, '– квадрат числа', a)"
   ]
  },
  {
   "cell_type": "markdown",
   "metadata": {
    "id": "zU0hqMw51e-d"
   },
   "source": [
    "Теперь, используя цикл и специальный метод `.append()`, создадим новый список на основе старого – дополним пустой список преобразованными элементами старого списка. Метод `.append()` работает просто: он приписывает элемент в конец списка. Например, так:"
   ]
  },
  {
   "cell_type": "code",
   "execution_count": 6,
   "metadata": {
    "id": "nzonE5-s1e-d",
    "outputId": "8d360d92-308b-45cc-a299-d04bd6fe67a5"
   },
   "outputs": [
    {
     "name": "stdout",
     "output_type": "stream",
     "text": [
      "[23, 25, 32, 48, 19]\n",
      "[23, 25, 32, 48, 19, 76]\n"
     ]
    }
   ],
   "source": [
    "print(age)  # до\n",
    "\n",
    "age.append(76)\n",
    "\n",
    "print(age)  # после"
   ]
  },
  {
   "cell_type": "markdown",
   "metadata": {
    "id": "vM8MVOcA1e-d"
   },
   "source": [
    "Теперь создадим на основе старого списка `age` список `age2` с квадратами значений возраста:"
   ]
  },
  {
   "cell_type": "code",
   "execution_count": 7,
   "metadata": {
    "id": "NxediTpf1e-d"
   },
   "outputs": [],
   "source": [
    "age2 = []  # пока пустой список"
   ]
  },
  {
   "cell_type": "code",
   "execution_count": 8,
   "metadata": {
    "id": "dtM6uxs_1e-d",
    "outputId": "1520e573-9d91-4248-e90b-8d2c712affba"
   },
   "outputs": [
    {
     "data": {
      "text/plain": [
       "[529, 625, 1024, 2304, 361, 5776]"
      ]
     },
     "execution_count": 8,
     "metadata": {},
     "output_type": "execute_result"
    }
   ],
   "source": [
    "for a in age:\n",
    "    age2.append(a ** 2)\n",
    "\n",
    "age2  # сработало!"
   ]
  },
  {
   "cell_type": "markdown",
   "metadata": {
    "id": "XE3g6Iet1e-d"
   },
   "source": [
    "Конечно, циклы нужны не только для того, чтобы работать со списками. С помощью циклов можно решить любую задачу, которая требует повторения одинаковых действий.<br>\n",
    "Например, решим задачу про питона, который греется на солнышке и каждый день увеличивает время пребывания на солнце. Воспользуемся циклом."
   ]
  },
  {
   "cell_type": "code",
   "execution_count": 9,
   "metadata": {
    "id": "f8l9Hczb1e-d"
   },
   "outputs": [],
   "source": [
    "# создадим список с номерами дней\n",
    "\n",
    "days = [2, 3, 4, 5, 6, 7, 8, 9, 10]"
   ]
  },
  {
   "cell_type": "code",
   "execution_count": 10,
   "metadata": {
    "id": "PmGTZLVO1e-d",
    "outputId": "7947d6c7-b08c-45c3-ab64-24151d2edd4e"
   },
   "outputs": [
    {
     "name": "stdout",
     "output_type": "stream",
     "text": [
      "1 1\n"
     ]
    }
   ],
   "source": [
    "# начальное значение времени, которое питон проводит на солнце\n",
    "\n",
    "time = 1\n",
    "\n",
    "print(1, time)"
   ]
  },
  {
   "cell_type": "code",
   "execution_count": 11,
   "metadata": {
    "id": "v4mrHiI-1e-e",
    "outputId": "77b0148e-a56d-4ae2-d998-fb30608ff230"
   },
   "outputs": [
    {
     "name": "stdout",
     "output_type": "stream",
     "text": [
      "2 3\n",
      "3 5\n",
      "4 7\n",
      "5 9\n",
      "6 11\n",
      "7 13\n",
      "8 15\n",
      "9 17\n",
      "10 19\n"
     ]
    }
   ],
   "source": [
    "# теперь будем изменять значение time в цикле\n",
    "# и выводить на экран номер дня и время\n",
    "\n",
    "for d in days:\n",
    "\n",
    "    time = time + 2\n",
    "    print(d, time)"
   ]
  },
  {
   "cell_type": "markdown",
   "metadata": {
    "id": "AWS4dN723oFV"
   },
   "source": [
    "**Цикл с перебором значений**<br>\n",
    "Выполняется для всех элементов коллекции или последовательности<br>\n",
    "\n",
    "- диапазон целых чисел range\n",
    "- элементы списка или множества\n",
    "- отдельные буквы строки\n",
    "- специальные функции, порождающие последовательности"
   ]
  },
  {
   "cell_type": "markdown",
   "metadata": {
    "id": "5_qfUT673oFV"
   },
   "source": [
    "Цикл **for**, также называемый **циклом с параметром**, в языке Python богат возможностями. В цикле **for** указывается **переменная** и множество значений, по которому будет пробегать переменная. Множество значений может быть задано *списком, кортежем, строкой или диапазоном*."
   ]
  },
  {
   "cell_type": "markdown",
   "metadata": {
    "id": "jt_7IHx43oFV"
   },
   "source": [
    "Простейший пример использования цикла, где в качестве множества значений используется кортеж:"
   ]
  },
  {
   "cell_type": "code",
   "execution_count": 12,
   "metadata": {
    "id": "MhZXSBsP3oFV"
   },
   "outputs": [
    {
     "name": "stdout",
     "output_type": "stream",
     "text": [
      "#1 color of rainbow is red\n",
      "#2 color of rainbow is orange\n",
      "#3 color of rainbow is yellow\n",
      "#4 color of rainbow is green\n",
      "#5 color of rainbow is cyan\n",
      "#6 color of rainbow is blue\n",
      "#7 color of rainbow is violet\n"
     ]
    }
   ],
   "source": [
    "i = 1\n",
    "\n",
    "for color in 'red', 'orange', 'yellow', 'green', 'cyan', 'blue', 'violet':\n",
    "\n",
    "    print('#', i, ' color of rainbow is ', color, sep = '')\n",
    "\n",
    "    i += 1"
   ]
  },
  {
   "cell_type": "markdown",
   "metadata": {
    "id": "KwO4G73f3oFV"
   },
   "source": [
    "В этом примере переменная `color` последовательно принимает значения 'red', 'orange' и т.д. В теле цикла выводится сообщение, которое содержит название цвета, то есть значение переменной `color`, а также номер итерации цикла - число, которое сначала равно 1, а затем увеличивается на один (инструкцией i += 1 с каждым проходом цикла)."
   ]
  },
  {
   "cell_type": "markdown",
   "metadata": {
    "id": "3tfge-Yz3oFV"
   },
   "source": [
    "Инструкция `i += 1` эквивалентна конструкции `i = i + 1` (это просто сокращенная запись). Такую сокращенную запись можно использовать для всех арифметических операций: `*=, -=, /=, %=`..."
   ]
  },
  {
   "cell_type": "markdown",
   "metadata": {
    "id": "oqOSkQqJ3oFW"
   },
   "source": [
    "В списке значений могут быть выражения различных типов, например:"
   ]
  },
  {
   "cell_type": "code",
   "execution_count": 13,
   "metadata": {
    "id": "X7Z2zKTf3oFW"
   },
   "outputs": [
    {
     "name": "stdout",
     "output_type": "stream",
     "text": [
      "1\n",
      "2\n",
      "3\n",
      "one\n",
      "two\n",
      "three\n"
     ]
    }
   ],
   "source": [
    "for i in 1, 2, 3, 'one', 'two', 'three':\n",
    "    print(i)"
   ]
  },
  {
   "cell_type": "markdown",
   "metadata": {
    "id": "F4C_XREK3oFW"
   },
   "source": [
    "При первых трех итерациях цикла переменная `i` будет принимать значение типа `int`, при последующих трех — типа `str`."
   ]
  },
  {
   "cell_type": "markdown",
   "metadata": {
    "id": "A6XTRlL_3oFW"
   },
   "source": [
    "**Итерация** — это повтор какого-либо действия. То есть один шаг цикла. Например, цикл из пяти повторений — пять итераций.<br>\n",
    "\n",
    "**Итератор** — это интерфейс, который позволяет получить следующий объект последовательности.<br>\n",
    "\n",
    "**Итерируемые объекты** — это объекты, которые можно повторять."
   ]
  },
  {
   "cell_type": "markdown",
   "metadata": {
    "id": "qFQzplXP3oFW"
   },
   "source": [
    "**Схема работы цикла for:**<br>\n",
    "https://sky.pro/media/wp-content/webp-express/webp-images/uploads/2022/04/infografika-e1649859094396.png.webp"
   ]
  },
  {
   "cell_type": "markdown",
   "metadata": {
    "id": "2NfqwAVK3oFW"
   },
   "source": [
    "**Синтаксис цикла for:**"
   ]
  },
  {
   "cell_type": "code",
   "execution_count": 14,
   "metadata": {
    "id": "56c4ww-W3oFW"
   },
   "outputs": [
    {
     "ename": "SyntaxError",
     "evalue": "invalid syntax (3680973736.py, line 1)",
     "output_type": "error",
     "traceback": [
      "\u001b[1;36m  Cell \u001b[1;32mIn[14], line 1\u001b[1;36m\u001b[0m\n\u001b[1;33m    for <переменная> in <последовательность>:\u001b[0m\n\u001b[1;37m        ^\u001b[0m\n\u001b[1;31mSyntaxError\u001b[0m\u001b[1;31m:\u001b[0m invalid syntax\n"
     ]
    }
   ],
   "source": [
    "for <переменная> in <последовательность>:\n",
    "    <действие>\n",
    "else:\n",
    "    <действие>"
   ]
  },
  {
   "cell_type": "markdown",
   "metadata": {
    "id": "uq3MhSN23oFW"
   },
   "source": [
    "В Python цикл начинается с ключевого слова `for`, за которым следует произвольное имя переменной, которое будет хранить значения следующего объекта последовательности. Элементы «последовательности» перебираются один за другим «переменной» цикла; если быть точным, переменная указывает на элементы. Для каждого элемента выполняется «действие»."
   ]
  },
  {
   "cell_type": "markdown",
   "metadata": {
    "id": "advBJLV33oFW"
   },
   "source": [
    "Блок `else` является особенным. Он будет выполнен только в том случае, если цикл не был «остановлен» оператором `break`. Таким образом, он будет выполнен только после того, как все элементы последовательности будут пройдены."
   ]
  },
  {
   "cell_type": "code",
   "execution_count": 15,
   "metadata": {},
   "outputs": [
    {
     "name": "stdout",
     "output_type": "stream",
     "text": [
      "1\n",
      "2\n",
      "3\n",
      "one\n",
      "two\n",
      "three\n",
      "else\n"
     ]
    }
   ],
   "source": [
    "for i in 1, 2, 3, 'one', 'two', 'three':\n",
    "    print(i)\n",
    "else:\n",
    "    print('else')"
   ]
  },
  {
   "cell_type": "markdown",
   "metadata": {
    "id": "Y_RConcO3oFW"
   },
   "source": [
    "#### Оператор прерывания в python — break"
   ]
  },
  {
   "cell_type": "markdown",
   "metadata": {
    "id": "Wqmm2wJQ3oFW"
   },
   "source": [
    "Если в программе цикл `for` должен быть прерван оператором `break`, цикл будет завершен, и поток программы будет продолжен без выполнения действий из `else`."
   ]
  },
  {
   "cell_type": "markdown",
   "metadata": {
    "id": "h2eN_Rv63oFW"
   },
   "source": [
    "Обычно фразы `break` в pyton связаны с условными операторами."
   ]
  },
  {
   "cell_type": "code",
   "execution_count": 16,
   "metadata": {
    "id": "pbRdnZD53oFW"
   },
   "outputs": [],
   "source": [
    "dinner = ['отбивные', 'пельмени', 'яйца', 'орехи']"
   ]
  },
  {
   "cell_type": "code",
   "execution_count": 17,
   "metadata": {
    "id": "nrwmSih43oFW"
   },
   "outputs": [
    {
     "name": "stdout",
     "output_type": "stream",
     "text": [
      "Отлично, вкусные отбивные\n",
      "Я не ем пельмени!\n",
      "Ужин окончен\n"
     ]
    }
   ],
   "source": [
    "for food in dinner:\n",
    "\n",
    "    if food == 'пельмени':\n",
    "        print('Я не ем пельмени!')\n",
    "\n",
    "        break\n",
    "\n",
    "    print('Отлично, вкусные ' + food)\n",
    "\n",
    "else:\n",
    "    print('Хорошо, что не было пельменей!')\n",
    "\n",
    "print('Ужин окончен')"
   ]
  },
  {
   "cell_type": "markdown",
   "metadata": {
    "id": "yiTOlfwx3oFW"
   },
   "source": [
    "Удалим «пельмени» из списка еды и получим следующее:"
   ]
  },
  {
   "cell_type": "code",
   "execution_count": 18,
   "metadata": {},
   "outputs": [],
   "source": [
    "dinner = ['отбивные', 'яйца', 'орехи']"
   ]
  },
  {
   "cell_type": "code",
   "execution_count": 19,
   "metadata": {
    "id": "dqogUGPx3oFW"
   },
   "outputs": [
    {
     "name": "stdout",
     "output_type": "stream",
     "text": [
      "Отлично, вкусные отбивные\n",
      "Отлично, вкусные яйца\n",
      "Отлично, вкусные орехи\n",
      "Хорошо, что не было пельменей!\n",
      "Ужин окончен\n"
     ]
    }
   ],
   "source": [
    "for food in dinner:\n",
    "\n",
    "    if food == 'пельмени':\n",
    "        print('Я не ем пельмени!')\n",
    "\n",
    "        break\n",
    "\n",
    "    print('Отлично, вкусные ' + food)\n",
    "\n",
    "else:\n",
    "    print('Хорошо, что не было пельменей!')\n",
    "\n",
    "print('Ужин окончен')"
   ]
  },
  {
   "cell_type": "markdown",
   "metadata": {
    "id": "p7s9HeWw3oFW"
   },
   "source": [
    "Еще один пример: необходимо прервать цикл, например, когда ожидали символ, а получили число, используем инструкцию `break`."
   ]
  },
  {
   "cell_type": "code",
   "execution_count": 20,
   "metadata": {
    "id": "N-iBrFJ63oFX"
   },
   "outputs": [
    {
     "name": "stdout",
     "output_type": "stream",
     "text": [
      "T\n",
      "h\n",
      "e\n",
      " \n",
      "t\n"
     ]
    }
   ],
   "source": [
    "for chr in 'The t3st string':\n",
    "\n",
    "    if chr.isdigit():\n",
    "        break\n",
    "\n",
    "    print(chr)"
   ]
  },
  {
   "cell_type": "markdown",
   "metadata": {
    "id": "Goyf7sXW3oFX"
   },
   "source": [
    "Дальше вывод не пойдет, так как слово t3st написано через тройку.<br>\n",
    "Перейти на следующий шаг цикла можно с помощью инструкции `continue`."
   ]
  },
  {
   "cell_type": "markdown",
   "metadata": {
    "id": "Ib6NfOfZ3oFX"
   },
   "source": [
    "#### Оператор пропуска python — continue"
   ]
  },
  {
   "cell_type": "markdown",
   "metadata": {
    "id": "nyynFyx-3oFX"
   },
   "source": [
    "Предположим, «пельмени» нам нужно просто пропустить и продолжить прием пищи. Тогда нужно использовать оператор `continue` для перехода к следующему элементу."
   ]
  },
  {
   "cell_type": "markdown",
   "metadata": {
    "id": "bKE26yRD3oFX"
   },
   "source": [
    "В следующем маленьком скрипте `python` используем `continue`, чтобы продолжить, итерацию по списку, когда сталкиваемся с пельменями."
   ]
  },
  {
   "cell_type": "code",
   "execution_count": 21,
   "metadata": {
    "id": "ZUSzvArO3oFX"
   },
   "outputs": [],
   "source": [
    "dinner = ['отбивные', 'пельмени', 'яйца', 'орехи']"
   ]
  },
  {
   "cell_type": "code",
   "execution_count": 22,
   "metadata": {
    "id": "4iuJzwR83oFX"
   },
   "outputs": [
    {
     "name": "stdout",
     "output_type": "stream",
     "text": [
      "Отлично, вкусные отбивные\n",
      "Я не ем пельмени!\n",
      "Отлично, вкусные яйца\n",
      "Отлично, вкусные орехи\n",
      "Ненавижу пельмени!\n",
      "Ужин окончен\n"
     ]
    }
   ],
   "source": [
    "for food in dinner:\n",
    "\n",
    "    if food == 'пельмени':\n",
    "        print('Я не ем пельмени!')\n",
    "\n",
    "        continue\n",
    "\n",
    "    print('Отлично, вкусные ' + food)\n",
    "\n",
    "else:\n",
    "    print('Ненавижу пельмени!')\n",
    "\n",
    "print('Ужин окончен')"
   ]
  },
  {
   "cell_type": "code",
   "execution_count": 23,
   "metadata": {
    "id": "GdPs0tQ83oFX"
   },
   "outputs": [
    {
     "name": "stdout",
     "output_type": "stream",
     "text": [
      "T\n",
      "h\n",
      "e\n",
      " \n",
      "t\n",
      "s\n",
      "t\n",
      " \n",
      "s\n",
      "t\n",
      "r\n",
      "i\n",
      "n\n",
      "g\n"
     ]
    }
   ],
   "source": [
    "for chr in 'The t3st string':\n",
    "\n",
    "    if chr.isdigit():\n",
    "        continue\n",
    "\n",
    "    print(chr)"
   ]
  },
  {
   "cell_type": "code",
   "execution_count": 24,
   "metadata": {
    "id": "G-01MsaK3oFX"
   },
   "outputs": [
    {
     "name": "stdout",
     "output_type": "stream",
     "text": [
      "1\n",
      "2\n",
      "4\n",
      "5\n",
      "7\n",
      "8\n"
     ]
    }
   ],
   "source": [
    "for i in range(10):\n",
    "\n",
    "    if i % 3 == 0:\n",
    "        continue\n",
    "\n",
    "    print(i)"
   ]
  },
  {
   "cell_type": "markdown",
   "metadata": {
    "id": "fj6bOxw33oFX"
   },
   "source": [
    "#### Итерация по спискам с функцией range()"
   ]
  },
  {
   "cell_type": "markdown",
   "metadata": {
    "id": "9t7b8P4b3oFX"
   },
   "source": [
    "Как правило, циклы `for` используются либо для повторения какой-либо последовательности действий заданное число раз, либо для изменения значения переменной в цикле от некоторого начального значения до некоторого конечного."
   ]
  },
  {
   "cell_type": "markdown",
   "metadata": {
    "id": "_AW6NIzB3oFX"
   },
   "source": [
    "Для повторения цикла некоторое заданное число раз `n` можно использовать цикл `for` вместе с функцией `range`:"
   ]
  },
  {
   "cell_type": "code",
   "execution_count": 25,
   "metadata": {
    "id": "DIhd_evT3oFX"
   },
   "outputs": [
    {
     "name": "stdout",
     "output_type": "stream",
     "text": [
      "0\n",
      "0\n",
      "1\n",
      "1\n",
      "2\n",
      "4\n",
      "3\n",
      "9\n",
      "Конец цикла\n"
     ]
    }
   ],
   "source": [
    "for i in range(4):  # равносильно инструкции for i in 0, 1, 2, 3:\n",
    "\n",
    "    # здесь можно выполнять циклические действия\n",
    "    print(i)\n",
    "    print(i ** 2)\n",
    "\n",
    "# цикл закончился, поскольку закончился блок с отступом\n",
    "\n",
    "print('Конец цикла')"
   ]
  },
  {
   "cell_type": "markdown",
   "metadata": {
    "id": "sB96PKv_3oFY"
   },
   "source": [
    "В качестве `n` может использоваться числовая константа, переменная или произвольное арифметическое выражение (например, 2 ** 10). Если значение `n` равно нулю или отрицательное, то тело цикла не выполнится ни разу."
   ]
  },
  {
   "cell_type": "code",
   "execution_count": 26,
   "metadata": {
    "id": "EYJ4rPKj3oFY"
   },
   "outputs": [
    {
     "name": "stdout",
     "output_type": "stream",
     "text": [
      "Конец цикла\n"
     ]
    }
   ],
   "source": [
    "for i in range(-5):  # равносильно инструкции for i in 0, 1, 2, 3:\n",
    "\n",
    "    # здесь можно выполнять циклические действия\n",
    "    print(i)\n",
    "    print(i ** 2)\n",
    "\n",
    "# цикл закончился, поскольку закончился блок с отступом\n",
    "\n",
    "print('Конец цикла')"
   ]
  },
  {
   "cell_type": "markdown",
   "metadata": {
    "id": "MDxK3g_33oFY"
   },
   "source": [
    "Функция `range` может также принимать не один, а два параметра. Вызов `range(a, b)` означает, что индексная переменная будеть принимать значения `от a до b - 1`, то есть первый параметр функции `range`, вызываемой с двумя параметрами, задает начальное значение индексной переменной, а второй параметр — первое значение, которое индексная переменная принимать не будет. Если же `a≥b`, то цикл не будет выполнен ни разу. Например, для того, чтобы просуммировать значения чисел `от 1 до n` можно воспользоваться следующей программой:"
   ]
  },
  {
   "cell_type": "code",
   "execution_count": 27,
   "metadata": {
    "id": "MJGUWXdc3oFY"
   },
   "outputs": [
    {
     "name": "stdout",
     "output_type": "stream",
     "text": [
      "15\n"
     ]
    }
   ],
   "source": [
    "sum = 0\n",
    "n = 5\n",
    "\n",
    "for i in range(1, n + 1):\n",
    "    sum += i\n",
    "\n",
    "print(sum)"
   ]
  },
  {
   "cell_type": "markdown",
   "metadata": {
    "id": "pzXUE3PT3oFY"
   },
   "source": [
    "В этом примере переменная `i` принимает значения `1, 2, ..., n`, и значение переменной `sum` последовательно увеличивается на указанные значения."
   ]
  },
  {
   "cell_type": "markdown",
   "metadata": {
    "id": "v7J1QgTX3oFY"
   },
   "source": [
    "Наконец, чтобы организовать цикл, в котором индексная переменная будет уменьшаться, необходимо использовать функцию `range` с тремя параметрами. Первый параметр задает начальное значение индексной переменной, второй параметр — значение, до которого будет изменяться индексная переменная (не включая его!), а третий параметр — величину изменения индексной переменной. Например, сделать цикл по всем нечетным числам `от 1 до 99` можно при помощи функции `range(1, 100, 2)`, а сделать цикл по всем числам `от 100 до 1` можно при помощи `range(100, 0, -1)`."
   ]
  },
  {
   "cell_type": "markdown",
   "metadata": {
    "id": "sRcpvn523oFY"
   },
   "source": [
    "Если нужно получить доступ к `индексам списка`, не очевидно как использовать цикл `for` для этой задачи.<br>\n",
    "Мы можем получить доступ ко всем элементам, но индекс элемента остается недоступным.<br>\n",
    "Есть способ получить доступ как к индексу элемента, так и к самому элементу.<br>\n",
    "Для этого используйте функцию `range()` в сочетании с функцией длины `len()`:"
   ]
  },
  {
   "cell_type": "code",
   "execution_count": 28,
   "metadata": {
    "id": "Kw9Ijtb63oFY"
   },
   "outputs": [],
   "source": [
    "fibonacci = [0, 1, 1, 2, 3, 5, 8, 13, 21]"
   ]
  },
  {
   "cell_type": "code",
   "execution_count": 29,
   "metadata": {},
   "outputs": [
    {
     "name": "stdout",
     "output_type": "stream",
     "text": [
      "0\n",
      "1\n",
      "1\n",
      "2\n",
      "3\n",
      "5\n",
      "8\n",
      "13\n",
      "21\n"
     ]
    }
   ],
   "source": [
    "for i in fibonacci:\n",
    "\n",
    "    print(i)"
   ]
  },
  {
   "cell_type": "code",
   "execution_count": 30,
   "metadata": {
    "id": "Zn-M-lZ33oFY"
   },
   "outputs": [
    {
     "name": "stdout",
     "output_type": "stream",
     "text": [
      "0 0\n",
      "1 1\n",
      "2 1\n",
      "3 2\n",
      "4 3\n",
      "5 5\n",
      "6 8\n",
      "7 13\n",
      "8 21\n"
     ]
    }
   ],
   "source": [
    "for i in range(len(fibonacci)):\n",
    "\n",
    "    print(i,fibonacci[i])"
   ]
  },
  {
   "cell_type": "markdown",
   "metadata": {
    "id": "QO4To3Mi3oFY"
   },
   "source": [
    "*Примечание*. Если применить len() к list или tuple, получим соответствующее количество элементов этой последовательности."
   ]
  },
  {
   "cell_type": "markdown",
   "metadata": {
    "id": "F2BtIUIX3oFY"
   },
   "source": [
    "#### Enumerate в python 3"
   ]
  },
  {
   "cell_type": "markdown",
   "metadata": {
    "id": "V54yKbnE3oFY"
   },
   "source": [
    "`Enumerate` — встроенная функция Python. Она позволяет автоматически считать итерации цикла."
   ]
  },
  {
   "cell_type": "code",
   "execution_count": 31,
   "metadata": {
    "id": "dqOQpfma3oFY"
   },
   "outputs": [
    {
     "ename": "NameError",
     "evalue": "name 'some_list' is not defined",
     "output_type": "error",
     "traceback": [
      "\u001b[1;31m---------------------------------------------------------------------------\u001b[0m",
      "\u001b[1;31mNameError\u001b[0m                                 Traceback (most recent call last)",
      "Cell \u001b[1;32mIn[31], line 1\u001b[0m\n\u001b[1;32m----> 1\u001b[0m \u001b[38;5;28;01mfor\u001b[39;00m counter, value \u001b[38;5;129;01min\u001b[39;00m \u001b[38;5;28menumerate\u001b[39m(some_list):\n\u001b[0;32m      2\u001b[0m     \u001b[38;5;28mprint\u001b[39m(counter, value)\n",
      "\u001b[1;31mNameError\u001b[0m: name 'some_list' is not defined"
     ]
    }
   ],
   "source": [
    "for counter, value in enumerate(some_list):\n",
    "    print(counter, value)"
   ]
  },
  {
   "cell_type": "code",
   "execution_count": null,
   "metadata": {
    "id": "mAv8iV4w3oFY"
   },
   "outputs": [],
   "source": [
    "my_list = ['яблоко', 'банан', 'вишня', 'персик']"
   ]
  },
  {
   "cell_type": "code",
   "execution_count": null,
   "metadata": {
    "id": "Tsr-mbtc3oFY"
   },
   "outputs": [],
   "source": [
    "for c, value in enumerate(my_list, 1):\n",
    "    print(c, value)"
   ]
  },
  {
   "cell_type": "markdown",
   "metadata": {
    "id": "KNMFoHjK3oFY"
   },
   "source": [
    "Функция `enumerate` принимает необязательный аргумент (значение начала отсчета, по умолчанию 0), который делает ее еще более полезной."
   ]
  },
  {
   "cell_type": "markdown",
   "metadata": {},
   "source": [
    "# Задание\r\n",
    "Напишите программу, которая получает от пользователя **строку целых чисел**, и выводит:\r\n",
    "\r\n",
    "- Количество положительных чисел.\r\n",
    "- Произведение всех отрицательных чисел.\r\n",
    "- Минимальное и максимальное числа **без** использования функций **min()** и **max()**.\r\n",
    "\r\n",
    "**Пример:**\r\n",
    "\r\n",
    "*Входные данные:*\r\n",
    "        \r\n",
    "3 -5 2 4 12 7 3 4 6 9 25 -50 12 35 2 11\r\n",
    "    \r\n",
    "*Выходные данные:*\r\n",
    "        \r\n",
    "Количество положительных чисел: 14<br>\r\n",
    "Произведение отрицательных чисел: 250<br>\r\n",
    "Минимальное число: -50<br>\r\n",
    "Максимальное число: 35\r\n",
    "\r\n",
    "*Подсказка: в цикле используйте условный оператор*"
   ]
  },
  {
   "cell_type": "code",
   "execution_count": 33,
   "metadata": {},
   "outputs": [
    {
     "name": "stdin",
     "output_type": "stream",
     "text": [
      "Введите строку целых чисел через пробел:  3 -5 2 4 12 7 3 4 6 9 25 -50 12 35 2 11\n"
     ]
    },
    {
     "name": "stdout",
     "output_type": "stream",
     "text": [
      "Количество положительных чисел: 14\n",
      "Произведение отрицательных чисел: 250\n",
      "Минимальное число: -50\n",
      "Максимальное число: 35\n"
     ]
    }
   ],
   "source": [
    "numbers = input(\"Введите строку целых чисел через пробел: \")\n",
    "numbers_list = list(map(int, numbers.split()))\n",
    "\n",
    "positive_count = 0\n",
    "negative_product = 1  \n",
    "minimum = maximum = numbers_list[0]\n",
    "\n",
    "for num in numbers_list:\n",
    "    if num > 0:\n",
    "        positive_count += 1\n",
    "    if num < 0:\n",
    "        negative_product *= num\n",
    "    if num < minimum:\n",
    "        minimum = num\n",
    "    if num > maximum:\n",
    "        maximum = num\n",
    "\n",
    "print(f\"Количество положительных чисел: {positive_count}\")\n",
    "print(f\"Произведение отрицательных чисел: {negative_product}\")\n",
    "print(f\"Минимальное число: {minimum}\")\n",
    "print(f\"Максимальное число: {maximum}\")"
   ]
  },
  {
   "cell_type": "markdown",
   "metadata": {
    "id": "DsSnhurg3oFY"
   },
   "source": [
    "### Как работать с циклом for в Python"
   ]
  },
  {
   "cell_type": "markdown",
   "metadata": {
    "id": "sMF1zaCb3oFY"
   },
   "source": [
    "Цикл `for` работает со встроенными типами данных. Например, строки, списки, множества, кортежи, словари и даже файлы."
   ]
  },
  {
   "cell_type": "markdown",
   "metadata": {
    "id": "mkvlnkfX3oFZ"
   },
   "source": [
    "**Циклы в строках**<br>\n",
    "Символы в строке можно вывести один за другим с помощью цикла for."
   ]
  },
  {
   "cell_type": "code",
   "execution_count": 34,
   "metadata": {
    "id": "xB_d9Qxs3oFZ"
   },
   "outputs": [
    {
     "name": "stdout",
     "output_type": "stream",
     "text": [
      "П\n",
      "и\n",
      "т\n",
      "о\n",
      "н\n"
     ]
    }
   ],
   "source": [
    "# выведем буквы в слове Питон\n",
    "\n",
    "for i in 'Питон':\n",
    "    print(i)"
   ]
  },
  {
   "cell_type": "markdown",
   "metadata": {
    "id": "6zPKvhCx3oFZ"
   },
   "source": [
    "Иногда в алгоритмах нужно применять альтернативные инструкции для объектов, которые не проходят проверку. Выведем на печать каждый символ строки, меняя нижний регистр на верхний:"
   ]
  },
  {
   "cell_type": "code",
   "execution_count": 35,
   "metadata": {
    "id": "p6jxezcf3oFZ"
   },
   "outputs": [
    {
     "name": "stdout",
     "output_type": "stream",
     "text": [
      "T\n",
      "H\n",
      "I\n",
      "S\n",
      " \n",
      "I\n",
      "S\n",
      " \n",
      "T\n",
      "H\n",
      "E\n",
      " \n",
      "T\n",
      "E\n",
      "S\n",
      "T\n",
      " \n",
      "S\n",
      "T\n",
      "R\n",
      "I\n",
      "N\n",
      "G\n"
     ]
    }
   ],
   "source": [
    "for chr in \"THis is THe TEst sTRinG\":\n",
    "\n",
    "    if chr.islower():\n",
    "        print(chr.upper())\n",
    "\n",
    "    else:\n",
    "        print(chr)"
   ]
  },
  {
   "cell_type": "markdown",
   "metadata": {
    "id": "zOYtj77h3oFZ"
   },
   "source": [
    "**Циклы в списках**<br>"
   ]
  },
  {
   "cell_type": "code",
   "execution_count": 36,
   "metadata": {
    "id": "WJgikcAL3oFZ"
   },
   "outputs": [],
   "source": [
    "# поочередно выведем элементы списка\n",
    "\n",
    "number_list = [1, 2, 3]"
   ]
  },
  {
   "cell_type": "code",
   "execution_count": 37,
   "metadata": {
    "id": "A3GWvb12a6Ra"
   },
   "outputs": [
    {
     "name": "stdout",
     "output_type": "stream",
     "text": [
      "1\n",
      "2\n",
      "3\n"
     ]
    }
   ],
   "source": [
    "# не забывая про двоеточие и отступ\n",
    "\n",
    "for number in number_list:\n",
    "    print(number)"
   ]
  },
  {
   "cell_type": "markdown",
   "metadata": {
    "id": "TzN9RqR-3oFZ"
   },
   "source": [
    "Такого же результата можно добиться с помощью функции `range`, которая генерирует последовательность чисел."
   ]
  },
  {
   "cell_type": "code",
   "execution_count": 38,
   "metadata": {
    "id": "o3X4tYEM3oFZ"
   },
   "outputs": [],
   "source": [
    "# список\n",
    "\n",
    "elems = [0, 1, 2, 3, 4, 5, 6, 7, 8, 9]"
   ]
  },
  {
   "cell_type": "code",
   "execution_count": 39,
   "metadata": {
    "id": "nxJMUI0W3oFZ"
   },
   "outputs": [
    {
     "name": "stdout",
     "output_type": "stream",
     "text": [
      "0\n",
      "1\n",
      "2\n",
      "3\n",
      "4\n",
      "5\n",
      "6\n",
      "7\n",
      "8\n",
      "9\n"
     ]
    }
   ],
   "source": [
    "# итерация по списку\n",
    "\n",
    "for item in elems:\n",
    "    print(item)"
   ]
  },
  {
   "cell_type": "code",
   "execution_count": 40,
   "metadata": {
    "id": "qxyEoyqP3oFZ"
   },
   "outputs": [
    {
     "name": "stdout",
     "output_type": "stream",
     "text": [
      "0\n",
      "1\n",
      "2\n",
      "3\n",
      "4\n",
      "5\n",
      "6\n",
      "7\n",
      "8\n",
      "9\n"
     ]
    }
   ],
   "source": [
    "# итерация по числам с нуля до 10 не включительно\n",
    "\n",
    "for i in range(0, 10):\n",
    "    print(i)"
   ]
  },
  {
   "cell_type": "markdown",
   "metadata": {
    "id": "BOn1EV1x3oFZ"
   },
   "source": [
    "**Циклы с шагом**<br>"
   ]
  },
  {
   "cell_type": "markdown",
   "metadata": {
    "id": "_4nexx3f3oFZ"
   },
   "source": [
    "Например, если нужно отобразить каждое второе число из списка, можно сделать проверку на деление с остатком. Алгоритм:\n",
    "\n",
    "- получить размерность множества;<br>\n",
    "↓\n",
    "- отнять от этого числа единицу;<br>\n",
    "↓\n",
    "- итерировать по множеству чисел с нуля до полученного числа включительно;<br>\n",
    "↓\n",
    "- получить элементы списка, используя индексацию."
   ]
  },
  {
   "cell_type": "code",
   "execution_count": 41,
   "metadata": {
    "id": "Lnq6L51A3oFZ"
   },
   "outputs": [],
   "source": [
    "# кортеж\n",
    "\n",
    "elems = (0, 1, 2, 3, 4, 5, 6, 7, 8, 9)\n",
    "\n",
    "# получаем размерность\n",
    "\n",
    "length = len(elems)"
   ]
  },
  {
   "cell_type": "code",
   "execution_count": 42,
   "metadata": {
    "id": "Xr2rSb4V3oFZ"
   },
   "outputs": [
    {
     "name": "stdout",
     "output_type": "stream",
     "text": [
      "0\n",
      "2\n",
      "4\n",
      "6\n",
      "8\n"
     ]
    }
   ],
   "source": [
    "# нам не нужно отнимать единицу, так как\n",
    "# крайнее число в range не входит в последовательность\n",
    "# первое число тоже не указываем\n",
    "# по умолчанию — оно равно нулю\n",
    "\n",
    "for i in range(length):\n",
    "\n",
    "    # если остатка нет — выводим число\n",
    "    if i % 2 == 0:\n",
    "        print(elems[i])"
   ]
  },
  {
   "cell_type": "markdown",
   "metadata": {
    "id": "qPvHDVd43oFZ"
   },
   "source": [
    "А можно выполнить с помощью шага в функции `range`:"
   ]
  },
  {
   "cell_type": "code",
   "execution_count": 43,
   "metadata": {
    "id": "yGFTW5Cf3oFZ"
   },
   "outputs": [
    {
     "name": "stdout",
     "output_type": "stream",
     "text": [
      "0\n",
      "2\n",
      "4\n",
      "6\n",
      "8\n"
     ]
    }
   ],
   "source": [
    "# каждое второе число от 0 до 10\n",
    "\n",
    "for i in range(0, 10, 2):\n",
    "    print(i)"
   ]
  },
  {
   "cell_type": "markdown",
   "metadata": {
    "id": "kftJk0OA3oFa"
   },
   "source": [
    "**Циклы в словарях**<br>"
   ]
  },
  {
   "cell_type": "markdown",
   "metadata": {
    "id": "nHpz3caV3oFa"
   },
   "source": [
    "Итерацию по словарю проводят тремя способами. Первый и второй способ дают очередной ключ и очередное значение словаря на каждом шаге. Третий — и ключ, и значение за один шаг."
   ]
  },
  {
   "cell_type": "code",
   "execution_count": 44,
   "metadata": {
    "id": "zF5Gzh8h3oFa"
   },
   "outputs": [],
   "source": [
    "mydict = {1: \"one\", 2: \"two\", 3: \"three\", 4: \"four\", 5: \"five\"}"
   ]
  },
  {
   "cell_type": "code",
   "execution_count": 45,
   "metadata": {
    "id": "gZEqVTJn3oFa"
   },
   "outputs": [
    {
     "name": "stdout",
     "output_type": "stream",
     "text": [
      "1 :: one\n",
      "2 :: two\n",
      "3 :: three\n",
      "4 :: four\n",
      "5 :: five\n"
     ]
    }
   ],
   "source": [
    "# итерация по ключам\n",
    "\n",
    "for key in mydict:\n",
    "\n",
    "    print(f\"{key} :: {mydict[key]}\")"
   ]
  },
  {
   "cell_type": "code",
   "execution_count": 46,
   "metadata": {
    "id": "_tRq-l973oFa"
   },
   "outputs": [
    {
     "name": "stdout",
     "output_type": "stream",
     "text": [
      "1 :: one\n",
      "2 :: two\n",
      "3 :: three\n",
      "4 :: four\n",
      "5 :: five\n"
     ]
    }
   ],
   "source": [
    "# по ключам с явным указанием\n",
    "\n",
    "for key in mydict.keys():\n",
    "\n",
    "    print(f\"{key} :: {mydict[key]}\")"
   ]
  },
  {
   "cell_type": "code",
   "execution_count": 47,
   "metadata": {
    "id": "QCwnbjfG3oFa"
   },
   "outputs": [
    {
     "name": "stdout",
     "output_type": "stream",
     "text": [
      "one\n",
      "two\n",
      "three\n",
      "four\n",
      "five\n"
     ]
    }
   ],
   "source": [
    "# итерация по значениям\n",
    "\n",
    "for value in mydict.values():\n",
    "\n",
    "    print(value)"
   ]
  },
  {
   "cell_type": "code",
   "execution_count": 48,
   "metadata": {
    "id": "bxk0uyZZ3oFa"
   },
   "outputs": [
    {
     "name": "stdout",
     "output_type": "stream",
     "text": [
      "1 one\n",
      "2 two\n",
      "3 three\n",
      "4 four\n",
      "5 five\n"
     ]
    }
   ],
   "source": [
    "# итерация по ключам и значениям\n",
    "# применяется распаковка кортежа вида (ключ, значение)\n",
    "\n",
    "for key, value in mydict.items():\n",
    "\n",
    "    print(key, value)"
   ]
  },
  {
   "cell_type": "code",
   "execution_count": 49,
   "metadata": {
    "id": "nIrD5ArAb8ih"
   },
   "outputs": [],
   "source": [
    "# создадим словарь, значениями которого будут списки из двух элементов\n",
    "\n",
    "d = {'apple' : [3, 'kg'], 'tomato' : [6, 'pcs'], 'carrot' : [2, 'kg']}"
   ]
  },
  {
   "cell_type": "code",
   "execution_count": 50,
   "metadata": {
    "id": "QD9h9pplgDVI"
   },
   "outputs": [
    {
     "name": "stdout",
     "output_type": "stream",
     "text": [
      "apple [3, 'kg']\n",
      "tomato [6, 'pcs']\n",
      "carrot [2, 'kg']\n"
     ]
    }
   ],
   "source": [
    "# затем создадим две переменные-контейнера и применим метод .items()\n",
    "\n",
    "for k, v in d.items():\n",
    "    print(k, v)"
   ]
  },
  {
   "cell_type": "markdown",
   "metadata": {
    "id": "3dkQiLUH3oFa"
   },
   "source": [
    "Помимо этого мы можем вывести только ключи или только значения с помощью методов .keys() и .values() соответственно."
   ]
  },
  {
   "cell_type": "code",
   "execution_count": 51,
   "metadata": {
    "id": "QV1uyoe0gFLh"
   },
   "outputs": [
    {
     "name": "stdout",
     "output_type": "stream",
     "text": [
      "3\n",
      "6\n",
      "2\n"
     ]
    }
   ],
   "source": [
    "# возьмем только одну переменную и применим метод .values()\n",
    "\n",
    "for v in d.values():\n",
    "\n",
    "  # значение представляет собой список, выведем его первый элемент с индексом [0]\n",
    "  print(v[0])"
   ]
  },
  {
   "cell_type": "markdown",
   "metadata": {
    "id": "jsL1sqCs3oFa"
   },
   "source": [
    "Помимо этого мы можем вложить один цикл for в другой (nested for loops). Предположим, что у нас есть следующая база данных клиентов."
   ]
  },
  {
   "cell_type": "code",
   "execution_count": 52,
   "metadata": {
    "id": "8WzO673x-n7b"
   },
   "outputs": [],
   "source": [
    "# предположим, что у нас есть следующая база данных клиентов\n",
    "\n",
    "clients = {1: {'name': 'Анна', 'age': 24, 'sex': 'male', 'revenue': 12000},\n",
    "           2: {'name': 'Илья', 'age': 18, 'sex': 'female', 'revenue': 8000}}"
   ]
  },
  {
   "cell_type": "markdown",
   "metadata": {
    "id": "XQmLdqPC3oFa"
   },
   "source": [
    "База данных представляет собой словарь. Ключами являются id клиентов. Значениями — еще один (вложенный) словарь с информацией о каждом клиенте."
   ]
  },
  {
   "cell_type": "markdown",
   "metadata": {
    "id": "uqMgG4KP3oFb"
   },
   "source": [
    "Ключами второго (вложенного) словаря выступают названия полей (ФИО, возраст, пол и выручка с клиента), а значениями — соответствующая информация. Выведем все эти данные."
   ]
  },
  {
   "cell_type": "code",
   "execution_count": 53,
   "metadata": {
    "id": "zYoothSRM7T9"
   },
   "outputs": [
    {
     "name": "stdout",
     "output_type": "stream",
     "text": [
      "client ID: 1\n",
      "name: Анна\n",
      "age: 24\n",
      "sex: male\n",
      "revenue: 12000\n",
      "\n",
      "client ID: 2\n",
      "name: Илья\n",
      "age: 18\n",
      "sex: female\n",
      "revenue: 8000\n",
      "\n"
     ]
    }
   ],
   "source": [
    "# в первом цикле for поместим id и информацию о клиентах в переменные id и info\n",
    "\n",
    "for id, info in clients.items():\n",
    "\n",
    "  # выведем id клиента\n",
    "  print('client ID: ' + str(id))\n",
    "\n",
    "  # во втором цикле возьмем информацию об этом клиенте (это тоже словарь)\n",
    "  for k, v in info.items():\n",
    "\n",
    "    # и выведем каждый ключ (название поля) и значение (саму информацию)\n",
    "    print(k + ': ' + str(v))\n",
    "\n",
    "  # добавим пустую строку после того, как выведем информацию об одном клиенте\n",
    "  print()"
   ]
  },
  {
   "cell_type": "markdown",
   "metadata": {
    "id": "suwMXv203oFb"
   },
   "source": [
    "*Примечание*\n",
    "\n",
    "- Обратите особое внимание на отступы слева, они указывают на очередность выполнения операций. Например, пустая команда print() (и соответственно пустая строка) имеет один отступ, чтобы исполниться после каждого клиента, а не после каждого поля с информацией о клиенте.\n",
    "- При использовании функции print() мы можем объединить несколько строк, а вот объединить строку и число нельзя. Так как id, значение возраста (age) и значение выручки (revenue) являются числами (тип int), их нужно сначала принудительно сделать строкой через функцию str()."
   ]
  },
  {
   "cell_type": "markdown",
   "metadata": {
    "id": "Q3CB7PzqYZ_L"
   },
   "source": [
    "**Функция range() для списков и цикла for**"
   ]
  },
  {
   "cell_type": "markdown",
   "metadata": {
    "id": "ogL4YE7V3oFb"
   },
   "source": [
    "Иногда нам нужно создать последовательность чисел и пройтись по ней в цикле. Конечно, можно создать список и заполнить его нужными элементами, но, во-первых, для этого надо написать много кода, во-вторых, это будет неэффективно с точки зрения памяти компьютера. Для этого есть специальная функция range()."
   ]
  },
  {
   "cell_type": "markdown",
   "metadata": {
    "id": "aIZlzb4x3oFb"
   },
   "source": [
    "Функция range() принимает от одного до трех параметров.\n",
    "\n",
    "- Если передать только один параметр, то мы начнем последовательность с нуля и закончим на элементе, предшествующем нашему параметру. В примере выше мы передали параметр «пять» (range(5)) и получили последовательность 0, 1, 2, 3, 4.\n",
    "- Если указать два параметра, то мы начнем последовательность с первого параметра и законим на элементе, предшествующем второму параметру. В частности, если написать range(1, 6), то получится 1, 2, 3, 4, 5.\n",
    "- Третий параметр устанавливает шаг. По умолчанию он равен единице, однако если, например, написать, range(0, 6, 2), то мы получим 0, 2, 4."
   ]
  },
  {
   "cell_type": "code",
   "execution_count": 54,
   "metadata": {
    "id": "HtJWgzs2OEG_"
   },
   "outputs": [
    {
     "name": "stdout",
     "output_type": "stream",
     "text": [
      "0\n",
      "1\n",
      "2\n",
      "3\n",
      "4\n"
     ]
    }
   ],
   "source": [
    "# создадим последовательность от 0 до 4\n",
    "\n",
    "for i in range(5):\n",
    "    print(i)"
   ]
  },
  {
   "cell_type": "code",
   "execution_count": 55,
   "metadata": {
    "id": "UI24as2nYzR1"
   },
   "outputs": [
    {
     "name": "stdout",
     "output_type": "stream",
     "text": [
      "1\n",
      "2\n",
      "3\n",
      "4\n",
      "5\n"
     ]
    }
   ],
   "source": [
    "# от 1 до 5\n",
    "\n",
    "for i in range(1, 6):\n",
    "    print(i)"
   ]
  },
  {
   "cell_type": "code",
   "execution_count": 56,
   "metadata": {
    "id": "qN0SAaPXdILc"
   },
   "outputs": [
    {
     "name": "stdout",
     "output_type": "stream",
     "text": [
      "0\n",
      "2\n",
      "4\n"
     ]
    }
   ],
   "source": [
    "# и от 0 до 5 с шагом 2 (то есть будем выводить числа через одно)\n",
    "\n",
    "for i in range(0, 6, 2):\n",
    "    print(i)"
   ]
  },
  {
   "cell_type": "code",
   "execution_count": 57,
   "metadata": {
    "id": "8GQZbHG83oFb"
   },
   "outputs": [],
   "source": [
    "# возьмем месяцы года\n",
    "\n",
    "months = ['Январь', 'Февраль', 'Март', 'Апрель', 'Май', 'Июнь', 'Июль', 'Август', 'Сентябрь', 'Октябрь', 'Ноябрь', 'Декабрь']\n",
    "\n",
    "# и продажи мороженого в тыс. рублей в каждый из месяцев\n",
    "\n",
    "sales = [47, 75, 79, 94, 123, 209, 233, 214, 197, 130, 87, 55]"
   ]
  },
  {
   "cell_type": "markdown",
   "metadata": {
    "id": "-6lNVvaE3oFb"
   },
   "source": [
    "Что интересно, если совместить range() с функцией len(), то такую конструкцию можно использовать для того, чтобы в одном цикле вывести все элементы, например, двух списков по их индексу."
   ]
  },
  {
   "cell_type": "code",
   "execution_count": 58,
   "metadata": {
    "id": "8dUjujIG3cph"
   },
   "outputs": [
    {
     "name": "stdout",
     "output_type": "stream",
     "text": [
      "Январь 47\n",
      "Февраль 75\n",
      "Март 79\n",
      "Апрель 94\n",
      "Май 123\n",
      "Июнь 209\n",
      "Июль 233\n",
      "Август 214\n",
      "Сентябрь 197\n",
      "Октябрь 130\n",
      "Ноябрь 87\n",
      "Декабрь 55\n"
     ]
    }
   ],
   "source": [
    "# задав последовательность через range(len())\n",
    "\n",
    "for i in range(len(months)):\n",
    "\n",
    "  # мы можем вывести каждый из элементов обоих списков в одном цикле\n",
    "  print(months[i], sales[i])"
   ]
  },
  {
   "cell_type": "markdown",
   "metadata": {
    "id": "c4X4Nw2Yf2IH"
   },
   "source": [
    "**Функция enumerate() для списков и цикла for**"
   ]
  },
  {
   "cell_type": "markdown",
   "metadata": {
    "id": "-G-ymLaU3oFb"
   },
   "source": [
    "Мы можем использовать эту функцию, если у нас есть, например, список и, проходясь в цикле по этому списку, мы хотим также получить порядковый номер (индекс) элементов списка."
   ]
  },
  {
   "cell_type": "code",
   "execution_count": 59,
   "metadata": {
    "id": "b9nt093_3oFb"
   },
   "outputs": [],
   "source": [
    "# пусть дан список со днями недели\n",
    "\n",
    "days = ['Понедельник', 'Вторник', 'Среда', 'Четверг', 'Пятница', 'Суббота', 'Воскресенье']"
   ]
  },
  {
   "cell_type": "code",
   "execution_count": 60,
   "metadata": {
    "id": "5a3gqF7-foJY"
   },
   "outputs": [
    {
     "name": "stdout",
     "output_type": "stream",
     "text": [
      "0 Понедельник\n",
      "1 Вторник\n",
      "2 Среда\n",
      "3 Четверг\n",
      "4 Пятница\n",
      "5 Суббота\n",
      "6 Воскресенье\n"
     ]
    }
   ],
   "source": [
    "# выведем индекс (i) и сами элементы списка (day)\n",
    "\n",
    "for i, day in enumerate(days):\n",
    "    print(i, day)"
   ]
  },
  {
   "cell_type": "markdown",
   "metadata": {
    "id": "qK4T9z9e3oFb"
   },
   "source": [
    "Все бы хорошо, но неделю логичнее начинать с первого дня, а не с нулевого. Для этого функции enumerate() можно передать начальное значение."
   ]
  },
  {
   "cell_type": "code",
   "execution_count": 61,
   "metadata": {
    "id": "qrn0qMjWlgg4"
   },
   "outputs": [
    {
     "name": "stdout",
     "output_type": "stream",
     "text": [
      "1 Понедельник\n",
      "2 Вторник\n",
      "3 Среда\n",
      "4 Четверг\n",
      "5 Пятница\n",
      "6 Суббота\n",
      "7 Воскресенье\n"
     ]
    }
   ],
   "source": [
    "# так же выведем индекс и элементы списка, но начнем с 1\n",
    "\n",
    "for i, day in enumerate(days, 1):\n",
    "    print(i, day)"
   ]
  },
  {
   "cell_type": "markdown",
   "metadata": {
    "id": "_mSbZrl_3oFc"
   },
   "source": [
    "**Обратный цикл**"
   ]
  },
  {
   "cell_type": "markdown",
   "metadata": {
    "id": "p1aes8lc3oFc"
   },
   "source": [
    "Встроенная функция `reversed` и слайсинги (срезы) позволяют проводить итерацию по объекту в обратном порядке."
   ]
  },
  {
   "cell_type": "code",
   "execution_count": 62,
   "metadata": {
    "id": "EbYHjvIT3oFc"
   },
   "outputs": [],
   "source": [
    "elems = (0, 1, 2, 3, 4, 5, 6, 7, 8, 9)"
   ]
  },
  {
   "cell_type": "code",
   "execution_count": 63,
   "metadata": {
    "id": "7P20ODsd3oFc"
   },
   "outputs": [
    {
     "name": "stdout",
     "output_type": "stream",
     "text": [
      "9\n",
      "8\n",
      "7\n",
      "6\n",
      "5\n",
      "4\n",
      "3\n",
      "2\n",
      "1\n",
      "0\n"
     ]
    }
   ],
   "source": [
    "# пример\n",
    "\n",
    "for item in reversed(elems):\n",
    "    print(item)"
   ]
  },
  {
   "cell_type": "code",
   "execution_count": 64,
   "metadata": {
    "id": "ITuNxDqN3oFc"
   },
   "outputs": [
    {
     "name": "stdout",
     "output_type": "stream",
     "text": [
      "9\n",
      "8\n",
      "7\n",
      "6\n",
      "5\n",
      "4\n",
      "3\n",
      "2\n",
      "1\n",
      "0\n"
     ]
    }
   ],
   "source": [
    "# пример использования слайсингов\n",
    "\n",
    "for item in elems[::-1]:\n",
    "    print(item)"
   ]
  },
  {
   "cell_type": "markdown",
   "metadata": {
    "id": "xAU0I-m93oFc"
   },
   "source": [
    "**Генератор**"
   ]
  },
  {
   "cell_type": "markdown",
   "metadata": {
    "id": "TN9sJDbi3oFc"
   },
   "source": [
    "Инструкция `for` есть в различных выражениях-генераторах, например, генераторе списка или словаря."
   ]
  },
  {
   "cell_type": "code",
   "execution_count": 65,
   "metadata": {
    "id": "xWJvnqjs3oFc"
   },
   "outputs": [],
   "source": [
    "import random"
   ]
  },
  {
   "cell_type": "code",
   "execution_count": 66,
   "metadata": {
    "id": "9XrfUpEU3oFc"
   },
   "outputs": [
    {
     "data": {
      "text/plain": [
       "[1, 0, 5, 3, 8, 3, 2, 4, 9, 3, 10, 3, 7, 5, 8, 5, 0, 5, 7, 9]"
      ]
     },
     "execution_count": 66,
     "metadata": {},
     "output_type": "execute_result"
    }
   ],
   "source": [
    "# так мы сделаем список из 20 случайно сгенерированных чисел\n",
    "\n",
    "mylist = [random.randint(0, 11) for _ in range(20)]\n",
    "mylist"
   ]
  },
  {
   "cell_type": "markdown",
   "metadata": {
    "id": "esIlSNoa3oFc"
   },
   "source": [
    "**Главное о цикле for**\n",
    "- For перебирает элементы и выполняет код, который записан в теле цикла. В его основе лежат последовательности.\n",
    "- Главное условие успешной работы цикла — объект должен быть итерируемым.\n",
    "- Итерацию проводят по многим встроенным структурам данных: строки, словари, списки, множества, кортежи. Внутри инструкции создают ветвления в алгоритме с помощью проверок.\n",
    "- Чтобы прервать цикл, используйте ключевое слово break. Чтобы пропустить элемент итерируемого множества — continue."
   ]
  },
  {
   "cell_type": "markdown",
   "metadata": {
    "id": "PED3yOQG1e-e"
   },
   "source": [
    "## Часть 05. Цикл `while`"
   ]
  },
  {
   "cell_type": "markdown",
   "metadata": {
    "id": "4p-yFZZT1e-e"
   },
   "source": [
    "С циклом `for` мы уже знакомы. Сейчас мы познакомимся с циклом `while`, логика которого отличается от `for`. Конструкции с циклом `while` устроены следующим образом: действия, которые указаны в теле цикла, должны выполняться до тех пор, пока верно условие, прописанное после `while` (отсюда и название). Если в цикле `for` мы указывали некоторый промежуток, по которому в ходе цикла мы будем «пробегаться», то в случае с циклом `while` мы просто фиксируем стартовую точку, а конечную точку никак не указываем: программа сама остановится, когда условие в цикле перестанет выполняться."
   ]
  },
  {
   "cell_type": "markdown",
   "metadata": {
    "id": "FrVaqxN71e-e"
   },
   "source": [
    "Давайте, используя цикл `while`, будем выводить на экран элементы списка `turnout` до тех пор, пока не столкнемся со странным значением явки (больше 100).<br>\n",
    "`turnout` - процент явки на выборы по регионам"
   ]
  },
  {
   "cell_type": "code",
   "execution_count": 67,
   "metadata": {
    "id": "cO9XlFNF1e-e"
   },
   "outputs": [],
   "source": [
    "turnout = [68, 45, 98, 56, 70, 146, 56, 67]"
   ]
  },
  {
   "cell_type": "code",
   "execution_count": 68,
   "metadata": {
    "id": "kWmeAF7V1e-e"
   },
   "outputs": [],
   "source": [
    "i = 0 # начинаем с индекса i=0"
   ]
  },
  {
   "cell_type": "code",
   "execution_count": 69,
   "metadata": {
    "id": "38gCCBpv1e-e",
    "outputId": "d9d318d0-d5ab-4028-f4f7-f9f5e128451d"
   },
   "outputs": [
    {
     "name": "stdout",
     "output_type": "stream",
     "text": [
      "68\n",
      "45\n",
      "98\n",
      "56\n",
      "70\n"
     ]
    }
   ],
   "source": [
    "while turnout[i] < 100: # пока элемент nums[i] >= 0\n",
    "\n",
    "    print(turnout[i]) # выводим элемент на экран\n",
    "    i = i + 1 # переходим к следующему элементу"
   ]
  },
  {
   "cell_type": "markdown",
   "metadata": {
    "id": "nT3JUV5q1e-e"
   },
   "source": [
    "На значении 70 мы остановились: за ним идет значение 146, для которого условие `turnout[i] < 100` не выполняется. Python не ожидал такого подвоха и перестал с нами разговаривать :)\n",
    "\n",
    "Давайте теперь попробуем переписать код так, чтобы он работал точно так же, но только чтобы в нем использовался цикл `for`, а не `while`. Вообще почти любой код с `while` можно переписать через `for`, и иногда это полезно: код с циклом `while` обычно более медленный, плюс, склонен к зацикливанию."
   ]
  },
  {
   "cell_type": "code",
   "execution_count": 70,
   "metadata": {
    "id": "i-c5mrlo1e-e",
    "outputId": "a56116eb-5e70-4acc-b4e1-99ac048c476b"
   },
   "outputs": [
    {
     "name": "stdout",
     "output_type": "stream",
     "text": [
      "68\n",
      "45\n",
      "98\n",
      "56\n",
      "70\n"
     ]
    }
   ],
   "source": [
    "for t in turnout:\n",
    "\n",
    "    if t < 100:\n",
    "        print(t)\n",
    "\n",
    "    else:\n",
    "        break # выходим из цикла"
   ]
  },
  {
   "cell_type": "markdown",
   "metadata": {
    "id": "pScsY4Ys1e-e"
   },
   "source": [
    "В коде выше мы использовали оператор `break`, который позволяет выйти из цикла, то есть закончить исполнение строк кода в теле цикла и перейти к коду дальше.  "
   ]
  },
  {
   "cell_type": "code",
   "execution_count": 71,
   "metadata": {},
   "outputs": [
    {
     "name": "stdout",
     "output_type": "stream",
     "text": [
      "68\n",
      "45\n",
      "98\n",
      "56\n",
      "70\n",
      "56\n",
      "67\n"
     ]
    }
   ],
   "source": [
    "for t in turnout:\n",
    "\n",
    "    if t < 100:\n",
    "        print(t)"
   ]
  },
  {
   "cell_type": "markdown",
   "metadata": {
    "id": "x7KwHQMJ1e-e"
   },
   "source": [
    "Если бы мы хотели модифицировать код таким образом, чтобы он пропускал странное значение, ничего не делал, можно было бы добавить оператор `pass` вместо `break` (отвечает за отсутсвие действия):"
   ]
  },
  {
   "cell_type": "code",
   "execution_count": 72,
   "metadata": {
    "id": "4UEMRYe41e-e",
    "outputId": "9a9b438c-8e49-4994-8246-d580a4b4ac58"
   },
   "outputs": [
    {
     "name": "stdout",
     "output_type": "stream",
     "text": [
      "68\n",
      "45\n",
      "98\n",
      "56\n",
      "70\n",
      "56\n",
      "67\n"
     ]
    }
   ],
   "source": [
    "for t in turnout:\n",
    "\n",
    "    if t < 100:\n",
    "        print(t)\n",
    "\n",
    "    else:\n",
    "        pass"
   ]
  },
  {
   "cell_type": "markdown",
   "metadata": {
    "id": "xxx8ATGg1e-e"
   },
   "source": [
    "А теперь напишем маленькую игру-угадайку. Программа будет загадывать целое число от 1 до 100, а пользователь его угадывать. Как программа будет загадывать число? Выбирать случайным образом из интервала [1, 100] (на самом деле псевдослучайным образом, так как абсолютной случайности не получится, генерирование чисел происходит по фиксированным алгоритмам)."
   ]
  },
  {
   "cell_type": "code",
   "execution_count": 73,
   "metadata": {
    "id": "aoJPnocx1e-e"
   },
   "outputs": [],
   "source": [
    "from random import randrange # импортируем модуль для функии randrange"
   ]
  },
  {
   "cell_type": "code",
   "execution_count": 74,
   "metadata": {
    "id": "0Dc0hPhx1e-e"
   },
   "outputs": [],
   "source": [
    "n = randrange(1, 101) # n и есть загаданное число"
   ]
  },
  {
   "cell_type": "markdown",
   "metadata": {
    "id": "hspEtA6c1e-f"
   },
   "source": [
    "Осталось написать цикл. До тех пор, пока пользователь не угадает число, программа не будет останавливаться, но зато она будет давать подсказки: если введенное пользователем число больше загаданного, то будет выводиться сообщение \"Вы ввели слишком большое число.\", если меньше – \"Вы ввели слишком маленькое число.\""
   ]
  },
  {
   "cell_type": "code",
   "execution_count": 75,
   "metadata": {
    "id": "94Dz-cW61e-f",
    "outputId": "adda14b9-5009-487b-a433-84ee2d617904"
   },
   "outputs": [
    {
     "name": "stdin",
     "output_type": "stream",
     "text": [
      "Ваша попытка: 21\n"
     ]
    },
    {
     "name": "stdout",
     "output_type": "stream",
     "text": [
      "Вы ввели слишком маленькое число.\n"
     ]
    },
    {
     "name": "stdin",
     "output_type": "stream",
     "text": [
      "Ваша попытка: 222\n"
     ]
    },
    {
     "name": "stdout",
     "output_type": "stream",
     "text": [
      "Вы ввели слишком большое число.\n"
     ]
    },
    {
     "name": "stdin",
     "output_type": "stream",
     "text": [
      "Ваша попытка: 100\n"
     ]
    },
    {
     "name": "stdout",
     "output_type": "stream",
     "text": [
      "Вы ввели слишком большое число.\n"
     ]
    },
    {
     "name": "stdin",
     "output_type": "stream",
     "text": [
      "Ваша попытка: 50\n"
     ]
    },
    {
     "name": "stdout",
     "output_type": "stream",
     "text": [
      "Вы ввели слишком большое число.\n"
     ]
    },
    {
     "name": "stdin",
     "output_type": "stream",
     "text": [
      "Ваша попытка: 40\n"
     ]
    },
    {
     "name": "stdout",
     "output_type": "stream",
     "text": [
      "Вы ввели слишком большое число.\n"
     ]
    },
    {
     "name": "stdin",
     "output_type": "stream",
     "text": [
      "Ваша попытка: 30\n"
     ]
    },
    {
     "name": "stdout",
     "output_type": "stream",
     "text": [
      "Вы ввели слишком большое число.\n"
     ]
    },
    {
     "name": "stdin",
     "output_type": "stream",
     "text": [
      "Ваша попытка: 22\n"
     ]
    },
    {
     "name": "stdout",
     "output_type": "stream",
     "text": [
      "Вы ввели слишком маленькое число.\n"
     ]
    },
    {
     "name": "stdin",
     "output_type": "stream",
     "text": [
      "Ваша попытка: 25\n"
     ]
    },
    {
     "name": "stdout",
     "output_type": "stream",
     "text": [
      "Вы ввели слишком маленькое число.\n"
     ]
    },
    {
     "name": "stdin",
     "output_type": "stream",
     "text": [
      "Ваша попытка: 26\n"
     ]
    },
    {
     "name": "stdout",
     "output_type": "stream",
     "text": [
      "Вы ввели слишком маленькое число.\n"
     ]
    },
    {
     "name": "stdin",
     "output_type": "stream",
     "text": [
      "Ваша попытка: 27\n"
     ]
    },
    {
     "name": "stdout",
     "output_type": "stream",
     "text": [
      "Вы ввели слишком маленькое число.\n"
     ]
    },
    {
     "name": "stdin",
     "output_type": "stream",
     "text": [
      "Ваша попытка: 28\n"
     ]
    },
    {
     "name": "stdout",
     "output_type": "stream",
     "text": [
      "Вы выиграли!\n"
     ]
    }
   ],
   "source": [
    "while True:\n",
    "    guess = int(input('Ваша попытка:'))\n",
    "\n",
    "    if guess == n:\n",
    "        print('Вы выиграли!')\n",
    "        break\n",
    "\n",
    "    elif guess > n:\n",
    "        print('Вы ввели слишком большое число.')\n",
    "\n",
    "    else:\n",
    "        print('Вы ввели слишком маленькое число.')"
   ]
  },
  {
   "cell_type": "markdown",
   "metadata": {
    "id": "GTUjL9_Y1e-f"
   },
   "source": [
    "В коде выше в `while` мы не написали никакого условия явно, вместо этого мы написали `while True`. Это выражение означает «до тех пор, пока мы не вышли из цикла». В нашем случае это равносильно «до тех пор, пока не столкнулись с `break`», пока наш ответ не совпал с загаданным числом. Неформально можно считать, что конструкция `while True` – своеобразная альтернатива «бесконечному» циклу `for`."
   ]
  },
  {
   "cell_type": "markdown",
   "metadata": {},
   "source": [
    "### Рассмотрим теорию по циклу While"
   ]
  },
  {
   "cell_type": "markdown",
   "metadata": {
    "id": "mpSWcsFe3oFc"
   },
   "source": [
    "**Цикл с проверкой условия**<br>\n",
    "Выполняется до тех пор, пока условие не станет ложным, или пока явно не сделать выход из цикла (break) или из функции (return)."
   ]
  },
  {
   "cell_type": "markdown",
   "metadata": {
    "id": "j13hssTD3oFc"
   },
   "source": [
    "Цикл **while** будет выполняться до тех пор, пока верно заданное в нем условие."
   ]
  },
  {
   "cell_type": "markdown",
   "metadata": {
    "id": "vc30I3dR3oFc"
   },
   "source": [
    "В целом все просто, но есть один нюанс.<br>\n",
    "**Условие должно в какой-то момент перестать быть верным**, иначе цикл станет бесконечным. Для этого существует счетчик (counter)."
   ]
  },
  {
   "cell_type": "code",
   "execution_count": 76,
   "metadata": {
    "id": "7dWKX2p8pZCl"
   },
   "outputs": [
    {
     "name": "stdout",
     "output_type": "stream",
     "text": [
      "Текущее значение счетчика:  0\n",
      "Новое значение счетчика:    1\n",
      "\n",
      "Текущее значение счетчика:  1\n",
      "Новое значение счетчика:    2\n",
      "\n",
      "Текущее значение счетчика:  2\n",
      "Новое значение счетчика:    3\n",
      "\n"
     ]
    }
   ],
   "source": [
    "# зададим начальное значение счетчика\n",
    "\n",
    "i = 0\n",
    "\n",
    "# пока счетчик меньше трех\n",
    "\n",
    "while i < 3:\n",
    "\n",
    "  # в каждом цикле будем выводить его текущее значение\n",
    "  print('Текущее значение счетчика:  ' + str(i))\n",
    "\n",
    "  # внутри цикла не забудем \"нарастить\" счетчик\n",
    "  i = i + 1\n",
    "\n",
    "  # и выведем новое значение\n",
    "  print('Новое значение счетчика:    ' + str(i))\n",
    "\n",
    "  # добавим пустую строку\n",
    "  print()"
   ]
  },
  {
   "cell_type": "markdown",
   "metadata": {
    "id": "h71qh9Gi3oFc"
   },
   "source": [
    "Рассмотрим еще раз, как мы получили такой результат.\n",
    "\n",
    "- У нас есть начальное значение счетчика, равное нулю (i = 0) (хотя конечно значение счетчика может быть любым)\n",
    "- При первой итерации, так как 0 < 3, исполняем код в цикле и увеличиваем счетчик на 1 (теперь i = 1)\n",
    "- На второй итерации, 1 < 3, условие по-прежнему верно, снова исполняем код и увеличиваем счетчик на 1 (i = 2)\n",
    "- На третьей итерации, 2 < 3, условие верно, исполняем код и увеличиваем счетчик на 1 (i = 3)\n",
    "- Далее, алгоритм пытается выполнить четвертую итерацию цикла, однако так как 3 < 3 неверно, цикл прерывается"
   ]
  },
  {
   "cell_type": "code",
   "execution_count": 77,
   "metadata": {
    "id": "AsLYv9o-mpy2"
   },
   "outputs": [
    {
     "name": "stdout",
     "output_type": "stream",
     "text": [
      "0\n",
      "1\n",
      "2\n"
     ]
    }
   ],
   "source": [
    "# тот же код можно упростить\n",
    "\n",
    "i = 0\n",
    "\n",
    "while i < 3:\n",
    "    print(i)\n",
    "\n",
    "    # в частности, оператор += сразу увеличивает и присваивает новое значение\n",
    "\n",
    "    i += 1"
   ]
  },
  {
   "cell_type": "code",
   "execution_count": 78,
   "metadata": {
    "id": "ec5wfxA_3oFc"
   },
   "outputs": [],
   "source": [
    "x = 0\n",
    "y = 5"
   ]
  },
  {
   "cell_type": "code",
   "execution_count": 79,
   "metadata": {
    "id": "2hdiIOup3oFc",
    "tags": []
   },
   "outputs": [
    {
     "name": "stdout",
     "output_type": "stream",
     "text": [
      "0 1 2 3 4 "
     ]
    }
   ],
   "source": [
    "while x < y:\n",
    "\n",
    "    print(x, end=' ')\n",
    "    x += 1  # Или x = x + 1"
   ]
  },
  {
   "cell_type": "code",
   "execution_count": 80,
   "metadata": {
    "id": "ECC1XHjt3oFd"
   },
   "outputs": [],
   "source": [
    "x = 0\n",
    "y = 5"
   ]
  },
  {
   "cell_type": "code",
   "execution_count": 81,
   "metadata": {
    "id": "7HwCcaL13oFd",
    "tags": []
   },
   "outputs": [
    {
     "name": "stdout",
     "output_type": "stream",
     "text": [
      "0 1 2 3 4 Happy End!\n"
     ]
    }
   ],
   "source": [
    "while x < y:\n",
    "\n",
    "    print(x, end=' ')\n",
    "    x += 1  # Или x = x + 1\n",
    "\n",
    "else:\n",
    "    print('Happy End!')"
   ]
  },
  {
   "cell_type": "code",
   "execution_count": 82,
   "metadata": {
    "id": "mnzbwLkH3oFd"
   },
   "outputs": [],
   "source": [
    "x = 0\n",
    "y = 5"
   ]
  },
  {
   "cell_type": "code",
   "execution_count": 83,
   "metadata": {
    "id": "E9CDQrz33oFd",
    "tags": []
   },
   "outputs": [
    {
     "name": "stdout",
     "output_type": "stream",
     "text": [
      "0 1 2 3 "
     ]
    }
   ],
   "source": [
    "while x < y:\n",
    "\n",
    "    print(x, end=' ')\n",
    "    x += 1\n",
    "\n",
    "    if x > y-2: break\n",
    "else:\n",
    "    print('Happy End!')"
   ]
  },
  {
   "cell_type": "markdown",
   "metadata": {
    "id": "N6Djl9Shdkxh"
   },
   "source": [
    "#### Break, continue в цикле while"
   ]
  },
  {
   "cell_type": "markdown",
   "metadata": {
    "id": "ATzNZBDg3oFd"
   },
   "source": [
    "Ходом исполнения цикла можно управлять."
   ]
  },
  {
   "cell_type": "markdown",
   "metadata": {
    "id": "ZCW-rwAFggXA"
   },
   "source": [
    "**Оператор break**"
   ]
  },
  {
   "cell_type": "markdown",
   "metadata": {
    "id": "1jZFD0gD3oFd"
   },
   "source": [
    "Представьте, что вы пишете цикл, который затем примените к очень длинному словарю или списку (в нем, например, 10 тыс. элементов), но вы не уверены в своем коде. Если цикл применить сразу ко всему объекту и при этом окажется, что код делает не совсем то, что вы хотите, то придется ждать, пока компьютер выведет все 10 тыс. записей.<br>\n",
    "\n",
    "Логично протестировать код на первой записи, а уже потом двигаться дальше. В этом нам поможет оператор break (прерывание цикла)."
   ]
  },
  {
   "cell_type": "code",
   "execution_count": 84,
   "metadata": {
    "id": "I4O09ZwT3oFd"
   },
   "outputs": [],
   "source": [
    "# вновь возьмем словарь clients\n",
    "\n",
    "clients = {1: {'name': 'Анна', 'age': 24, 'sex': 'male', 'revenue': 12000},\n",
    "           2: {'name': 'Илья', 'age': 18, 'sex': 'female', 'revenue': 8000}}"
   ]
  },
  {
   "cell_type": "code",
   "execution_count": 85,
   "metadata": {
    "id": "RBHU-9AMtfWx"
   },
   "outputs": [
    {
     "name": "stdout",
     "output_type": "stream",
     "text": [
      "1 {'name': 'Анна', 'age': 24, 'sex': 'male', 'revenue': 12000}\n"
     ]
    }
   ],
   "source": [
    "# в цикле пройдемся по ключам и значениям словаря\n",
    "\n",
    "for id, info in clients.items():\n",
    "\n",
    "  # и выведем их\n",
    "  print(id, info)\n",
    "\n",
    "  # однако уже после первого исполнения цикла, прервем его\n",
    "  break"
   ]
  },
  {
   "cell_type": "markdown",
   "metadata": {
    "id": "X03K_dMj3oFd"
   },
   "source": [
    "Цикл можно также прерывать при наступлении определенного условия."
   ]
  },
  {
   "cell_type": "code",
   "execution_count": 86,
   "metadata": {
    "id": "SFqkq_3lfqrn"
   },
   "outputs": [
    {
     "name": "stdout",
     "output_type": "stream",
     "text": [
      "6\n",
      "5\n",
      "4\n",
      "3\n",
      "2\n",
      "1\n"
     ]
    }
   ],
   "source": [
    "# начальное значение счетчика\n",
    "x = 6\n",
    "\n",
    "# будем исполнять цикл пока x не равен нулю\n",
    "\n",
    "while x != 0:\n",
    "\n",
    "  # выведем текущее значение счетчика\n",
    "  print(x)\n",
    "\n",
    "  # и уменьшим (!) его на 1\n",
    "  x -= 1\n",
    "\n",
    "  # если значение счетчика станет равным 3, прервем цикл\n",
    "  # if x == 3:\n",
    "    # break"
   ]
  },
  {
   "cell_type": "markdown",
   "metadata": {
    "id": "7irtPBXt3oFd"
   },
   "source": [
    "Мы прервали цикл, когда значение счетчика стало равно трем.<br>\n",
    "\n",
    "Также обратите внимание, что здесь цикл двигается в сторону уменьшения (с помощью -=). Мы начали с x = 6 и должны были вывести значения 6, 5, 4, 3, 2, 1, если бы условие не прервало выполнение цикла."
   ]
  },
  {
   "cell_type": "markdown",
   "metadata": {
    "id": "L3Mf_VrMjX_9"
   },
   "source": [
    "**Оператор continue**"
   ]
  },
  {
   "cell_type": "markdown",
   "metadata": {
    "id": "naTQb-gK3oFd"
   },
   "source": [
    "Иногда цикл не нужно прерывать, но нужно как бы «перескочить» одну или несколько итераций этого цикла. В этом случае применяется оператор continue.<br>\n",
    "\n",
    "Предположим, нам нужно создать последовательность целых чисел от 1 до 10 включительно и вывести только четные числа."
   ]
  },
  {
   "cell_type": "code",
   "execution_count": 87,
   "metadata": {
    "id": "fQOiiMyTjdic"
   },
   "outputs": [
    {
     "name": "stdout",
     "output_type": "stream",
     "text": [
      "2\n",
      "4\n",
      "6\n",
      "8\n",
      "10\n"
     ]
    }
   ],
   "source": [
    "# выведем все четные числа в диапазоне от 1 до 10 включительно.\n",
    "\n",
    "# с помощью функции range создадим последовательность от 1 до 10 с шагом 1\n",
    "for i in range(1, 11):\n",
    "\n",
    "  # если остаток от деления на два не равен нулю (то есть число нечетное)\n",
    "  if i % 2 != 0:\n",
    "\n",
    "    # идем к следующему числу последовательности\n",
    "    continue\n",
    "\n",
    "  # в противном случае выводим число\n",
    "  else:\n",
    "    print(i)"
   ]
  },
  {
   "cell_type": "code",
   "execution_count": 88,
   "metadata": {
    "id": "QpDsG9Qu3oFd"
   },
   "outputs": [],
   "source": [
    "a = 15"
   ]
  },
  {
   "cell_type": "code",
   "execution_count": 89,
   "metadata": {
    "id": "7u-CwJLc3oFd",
    "tags": []
   },
   "outputs": [
    {
     "name": "stdout",
     "output_type": "stream",
     "text": [
      "14 12 10 8 6 4 2 0 "
     ]
    }
   ],
   "source": [
    "while a:\n",
    "\n",
    "    a = a - 1 # a -= 1\n",
    "\n",
    "    if a % 2 != 0: continue\n",
    "    print(a, end=' ')"
   ]
  },
  {
   "cell_type": "code",
   "execution_count": 90,
   "metadata": {
    "id": "MenDiM7T3oFd"
   },
   "outputs": [],
   "source": [
    "my_sum = 0"
   ]
  },
  {
   "cell_type": "code",
   "execution_count": 91,
   "metadata": {
    "id": "BowTm6zo3oFd",
    "tags": []
   },
   "outputs": [
    {
     "name": "stdin",
     "output_type": "stream",
     "text": [
      "Введите значение:  12\n"
     ]
    },
    {
     "name": "stdout",
     "output_type": "stream",
     "text": [
      "Текущая сумма:  12\n"
     ]
    },
    {
     "name": "stdin",
     "output_type": "stream",
     "text": [
      "Введите значение:  32\n"
     ]
    },
    {
     "name": "stdout",
     "output_type": "stream",
     "text": [
      "Текущая сумма:  44\n"
     ]
    },
    {
     "name": "stdin",
     "output_type": "stream",
     "text": [
      "Введите значение:  23\n"
     ]
    },
    {
     "name": "stdout",
     "output_type": "stream",
     "text": [
      "Текущая сумма:  67\n"
     ]
    },
    {
     "name": "stdin",
     "output_type": "stream",
     "text": [
      "Введите значение:  11\n"
     ]
    },
    {
     "name": "stdout",
     "output_type": "stream",
     "text": [
      "Текущая сумма:  78\n"
     ]
    },
    {
     "name": "stdin",
     "output_type": "stream",
     "text": [
      "Введите значение:  2\n"
     ]
    },
    {
     "name": "stdout",
     "output_type": "stream",
     "text": [
      "Текущая сумма:  80\n"
     ]
    },
    {
     "name": "stdin",
     "output_type": "stream",
     "text": [
      "Введите значение:  1\n"
     ]
    },
    {
     "name": "stdout",
     "output_type": "stream",
     "text": [
      "Текущая сумма:  81\n"
     ]
    },
    {
     "name": "stdin",
     "output_type": "stream",
     "text": [
      "Введите значение:  3\n"
     ]
    },
    {
     "name": "stdout",
     "output_type": "stream",
     "text": [
      "Текущая сумма:  84\n"
     ]
    },
    {
     "name": "stdin",
     "output_type": "stream",
     "text": [
      "Введите значение:  0\n"
     ]
    },
    {
     "name": "stdout",
     "output_type": "stream",
     "text": [
      "Конечная сумма:  84\n"
     ]
    }
   ],
   "source": [
    "while True:\n",
    "\n",
    "    val = int(input('Введите значение: '))\n",
    "\n",
    "    if val == 0: break\n",
    "    my_sum += val\n",
    "\n",
    "    print('Текущая сумма: ', my_sum)\n",
    "\n",
    "print('Конечная сумма: ', my_sum)"
   ]
  },
  {
   "cell_type": "markdown",
   "metadata": {},
   "source": [
    "# Задание\r\n",
    "Напишите программу, которая составляет **строку из полученных от пользователя слов**, пока длина строки не достигнет 50 символов. Слова, начинающиеся с гласных, в строку не включаются.\r\n",
    "\r\n",
    "**Пример:**\r\n",
    "\r\n",
    "*Входные данные:*\r\n",
    "       \r\n",
    "о<br>\r\n",
    "бойся<br>\r\n",
    "Бармаглота<br>\r\n",
    "сын<br>\r\n",
    "он<br>\r\n",
    "так<br>\r\n",
    "свиреп<br>\r\n",
    "и<br>\r\n",
    "лик<br>\r\n",
    "а<br>\r\n",
    "в глуще<br>\r\n",
    "рымит\r\n",
    "    \r\n",
    "*Выходные данные:*\r\n",
    "        \r\n",
    "бойся Бармаглота сын так свиреп лик в глуще рымит"
   ]
  },
  {
   "cell_type": "code",
   "execution_count": 101,
   "metadata": {},
   "outputs": [],
   "source": [
    "def is_vowel(word):\n",
    "    vowels = 'аеёиоуыэюяАЕЁИОУЫЭЮЯ'\n",
    "    return word[0].lower() in vowels\n",
    "\n",
    "result = ''\n",
    "length = 0"
   ]
  },
  {
   "cell_type": "code",
   "execution_count": 102,
   "metadata": {},
   "outputs": [
    {
     "name": "stdin",
     "output_type": "stream",
     "text": [
      "Введите слово:  о\n",
      "Введите слово:  бойся\n",
      "Введите слово:  Бармаглота\n",
      "Введите слово:  сын\n",
      "Введите слово:  он\n",
      "Введите слово:  так\n",
      "Введите слово:  свиреп\n",
      "Введите слово:  и\n",
      "Введите слово:  лик\n",
      "Введите слово:  а\n",
      "Введите слово:  в глуще\n",
      "Введите слово:  рымит\n"
     ]
    }
   ],
   "source": [
    "while length < 50:\n",
    "    word = input(\"Введите слово: \")\n",
    "    if not is_vowel(word):\n",
    "        if length + len(word) + 1 <= 50:\n",
    "            if length > 0:\n",
    "                result += \" \"\n",
    "            result += word\n",
    "            length += len(word) + 1"
   ]
  },
  {
   "cell_type": "code",
   "execution_count": 103,
   "metadata": {},
   "outputs": [
    {
     "name": "stdout",
     "output_type": "stream",
     "text": [
      "бойся Бармаглота сын так свиреп лик в глуще рымит\n"
     ]
    }
   ],
   "source": [
    "print(result)"
   ]
  }
 ],
 "metadata": {
  "colab": {
   "provenance": []
  },
  "kernelspec": {
   "display_name": "Python 3 (ipykernel)",
   "language": "python",
   "name": "python3"
  },
  "language_info": {
   "codemirror_mode": {
    "name": "ipython",
    "version": 3
   },
   "file_extension": ".py",
   "mimetype": "text/x-python",
   "name": "python",
   "nbconvert_exporter": "python",
   "pygments_lexer": "ipython3",
   "version": "3.11.7"
  }
 },
 "nbformat": 4,
 "nbformat_minor": 4
}
