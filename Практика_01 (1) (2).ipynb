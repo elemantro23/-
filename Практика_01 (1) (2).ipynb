{
 "cells": [
  {
   "cell_type": "markdown",
   "id": "70bce946-e597-45fa-b8b9-365b450577fe",
   "metadata": {
    "id": "70bce946-e597-45fa-b8b9-365b450577fe"
   },
   "source": [
    "# Практика 01. Базовые конструкции языка Python. Коллекции данных: строки, списки, кортежи, множества, словари. Решение прикладных задач"
   ]
  },
  {
   "cell_type": "markdown",
   "id": "090ac3ff-70c0-4002-b246-1f84ffbdbafa",
   "metadata": {
    "id": "090ac3ff-70c0-4002-b246-1f84ffbdbafa"
   },
   "source": [
    "## Часть 01. Документация по практике"
   ]
  },
  {
   "cell_type": "markdown",
   "id": "61ddec85-164f-41ff-9aa5-f298652e070f",
   "metadata": {
    "id": "61ddec85-164f-41ff-9aa5-f298652e070f"
   },
   "source": [
    "1. **Дневник по практике**: 2 недели - практика по Python, 2 недели - приемная комиссия. Дневник практики заполняется на 4 недели, все дни, кроме воскресений. К дневнику практики распечатываются титульный лист и последний лист, подписываются студентом и руководителем практики. Дневник сдается в электронном виде с двумя сканами распечатанных и подписанных листов **до 05.09.2024**.\n",
    "2. **Практические задачи (практики 1-8)** выполняются студентами индивидуально, во время практических занятий. Сдаются в виде ноутбуков (.ipynb). Решения и ответы на контрольные вопросы приводятся в отчете по практике.\n",
    "3. **Индивидуальное задание на практику (бланк с заданием)** распечатывается, подписывается студентом и руководителем практики, прикладывается к отчету по практике **до 05.09.2024**.\n",
    "4. **Индивидуальное задание** выполнятся студентом индивидуально в соответствии с полученным заданием (файлы Индивидуальное задание (часть 1). Предобработка данных, Индивидуальное задание (часть 2). Иссл анализ данных) на выбранном датасете. Сдается в виде ноутбука (.ipynb).\n",
    "5. Ноутбук с индивидуальным заданием загружается на GiHub через Git.\n",
    "6. **Отчет по практике** оформляется по практическим задачам и индивидуальному заданию. Приводятся задачи, код решения с пояснениями, выводы к каждому этапу индивидуального задания, скриншоты рабочего кода. Отчет по практике защищается в очном формате и сдается в электронном виде **до 05.09.2024**.\n",
    "7. **Презентация к отчету по практике** для защиты работы - по желанию, для добора баллов, сдается **до 05.09.2024**.\n",
    "    ___\n",
    "9. **ГОТОВОЕ ИНДИВИДУАЛЬНОЕ ЗАДАНИЕ И ОТЧЕТ ПЕРЕД ЗАЩИТОЙ ДОЛЖНЫ БЫТЬ ЗАГРУЖЕНЫ В ЭЛЕКТРОННЫЙ ЮУРГУ ДО 25.08.2024**."
   ]
  },
  {
   "cell_type": "markdown",
   "id": "491194a5-9629-4dc3-bc44-f4f3d22e9db7",
   "metadata": {
    "id": "491194a5-9629-4dc3-bc44-f4f3d22e9db7"
   },
   "source": [
    "## Часть 02. Ноутбуки, маркдауны"
   ]
  },
  {
   "cell_type": "markdown",
   "id": "0cb95401-ac05-49c2-aef7-fad7b54d7205",
   "metadata": {
    "id": "0cb95401-ac05-49c2-aef7-fad7b54d7205"
   },
   "source": [
    "### 1. Установка Jupyter\n",
    "\n",
    "Инструкция по установке Jupyter Notebook: http://jupyter.readthedocs.org/en/latest/install.html\n",
    "\n",
    "После установки запуск осуществляется командой в консоли:  \n",
    "\n",
    "`jupyter notebook`\n",
    "\n",
    "Через несколько секунд должна открыться страница в браузере со списком файлов директории, в которой была запущена команда (можно не ждать и самим перейти по http://localhost:8888/ - обычно там располагается локальный \"сервер\" Jupyter Notebook`а)."
   ]
  },
  {
   "cell_type": "markdown",
   "id": "af95f82e-b9ad-47fe-ad92-007fc57ada10",
   "metadata": {
    "id": "af95f82e-b9ad-47fe-ad92-007fc57ada10"
   },
   "source": [
    "### 2. Онлайн Jupyter Notebook\n",
    "\n",
    "Можно ничего не устанавливать и работать с сайтом https://try.jupyter.org/\n",
    "\n",
    "На сайте можно создать новый файл `(New -> Python 2/3)` или загрузить файл с компьютера с помощью `Upload`.\n",
    "\n",
    "Будьте внимательны!\n",
    "<b>Сайт не сохраняет ваши файлы</b> и удаляет их после закрытия страницы.<br>\n",
    "Чтобы сохранить файл, откройте его, нажмите `File -> Download as -> ipynb`."
   ]
  },
  {
   "cell_type": "markdown",
   "id": "6559c388-593c-46ea-884b-73f14c3e7c2f",
   "metadata": {
    "id": "6559c388-593c-46ea-884b-73f14c3e7c2f"
   },
   "source": [
    "### 3. Google Colab\n",
    "**Google Colab** — это бесплатная среда для разработки и выполнения программного кода в облаке. Она предоставляет возможность писать и запускать код на языке Python, используя только браузер, без установки специальных программ на компьютер.\n",
    "\n",
    "**Google Colab** основан на Jupyter Notebook, популярном ПО для написания и запуска кода. Он поддерживает интерактивное программирование. Код можно писать в отдельных ячейках и выполнять их по порядку, просматривая результаты выполнения после блока с кодом.\n",
    "\n",
    "В Colab можно использовать различные библиотеки Python, включая популярные библиотеки для анализа данных и машинного обучения: NumPy, Pandas и TensorFlow. Также можно загружать и обрабатывать свои данные или работать с данными из интернета.\n",
    "\n",
    "Одно из главных преимуществ Google Colab для программирования Python ― возможность использовать GPU (графический процессор) или TPU (процессор для машинного обучения Tensor Processing Unit) для выполнения вычислительно интенсивных задач, таких как обучение глубоких нейронных сетей. Это делает Colab особенно полезным для работы с машинным обучением и искусственным интеллектом.\n",
    "\n",
    "**Все данные и код хранятся в облаке Google**."
   ]
  },
  {
   "cell_type": "markdown",
   "id": "42722866-e290-4696-a654-967a61a069f5",
   "metadata": {
    "id": "42722866-e290-4696-a654-967a61a069f5"
   },
   "source": [
    "**С Google Colab работают через Google Colab notebooks (блокноты). Вот пошаговое руководство, как начать работу:**\n",
    "1. Открыть браузер и перейти на сайт Google Colab. Для входа потребуется учетная запись Google.<br>\n",
    "2. На главной странице сразу будет несколько примеров текста и кода — можно попробовать что-то в них изменить и посмотреть, как это работает.<br>\n",
    "3. Создать новый блокнот, нажав на кнопку «Файл → Создать блокнот». Также можно открыть уже существующий с компьютера.<br>\n",
    "4. В открывшемся файле будут ячейки кода. В них можно писать код.<br>\n",
    "5. Когда код написан, можно навести на ячейку и нажать на появившуюся иконку в виде стрелочки. Код сразу выполнится.<br>\n",
    "6. Чтобы вставить новые ячейки кода, нужно нажать кнопку «+ Код». Ячейки можно добавлять и удалять.<br>\n",
    "7. Кроме кода можно вставлять текст, например для пояснений.<br>\n",
    "8. В меню доступно множество других инструментов: сохранение блокнотов на Google Drive, загрузка и сохранение данных и библиотек, работа с графиками, коллаборация с другими пользователями и многое другое.<br>\n",
    "9. После окончания работы можно сохранить блокнот на Google Drive или скачать на компьютер в различных форматах.<br>"
   ]
  },
  {
   "cell_type": "markdown",
   "id": "7c2c4c4d-3d93-427b-a45a-c80b10fba747",
   "metadata": {
    "id": "7c2c4c4d-3d93-427b-a45a-c80b10fba747"
   },
   "source": [
    "https://colab.research.google.com/"
   ]
  },
  {
   "cell_type": "markdown",
   "id": "6dcba696-e128-4bbd-8bd3-89e7ea727df7",
   "metadata": {
    "id": "6dcba696-e128-4bbd-8bd3-89e7ea727df7"
   },
   "source": [
    "### 4. Работа с Python в Jupyter Notebook\n",
    "\n",
    "Чтобы создать новый файл, кликните File -> New -> Notebook\n",
    "\n",
    "Ноутбук состоит из ячеек (cells), которые бывают текстовыми (Markdown) и кодовыми (Code).\n",
    "Выбрать тип ячейки можно на панели управления.\n",
    "\n",
    "Работа с ячейками:\n",
    "<ul>\n",
    "    <li> Выбор ячейки — нажмите на нее мышкой.</li>\n",
    "    <li> Редактирование — нажмите на нее два раза.</li>\n",
    "    <li> Запуск ячейки — `SHIFT+ENTER` или нажмите на кнопку <button class='fa fa-play icon-play btn btn-xs btn-default'></button> на панели.</li>\n",
    "    <li> Добавление новой ячейки — нажмите на кнопку <button class='fa fa-plus icon-plus btn btn-xs btn-default'></button> на панели.</li>\n",
    "    <li> Удаление ячейки — нажмите на кнопку <button class='fa fa-cut icon-cut btn btn-xs btn-default'></button> на панели.</li>\n",
    "    <li> Перемещение ячейки — нажмите на вертикальные стрелки.</li>\n",
    "</ul>"
   ]
  },
  {
   "cell_type": "markdown",
   "id": "f6b77c33-181a-45b6-9bbe-a5eec3237170",
   "metadata": {
    "id": "f6b77c33-181a-45b6-9bbe-a5eec3237170"
   },
   "source": [
    "### 5. Текстовые ячейки\n",
    "Текстовые ячейки содержат в себе обычный текст, который может включать в себя формулы $\\LaTeX$ и `html`-команды:  \n",
    "\n",
    "$$f(x) = \\frac{1}{x}$$  \n",
    "\n",
    "$\\LaTeX$ cheat sheet -  https://wch.github.io/latexsheet/"
   ]
  },
  {
   "cell_type": "markdown",
   "id": "3cd2a9f2-eafd-449f-b3f6-c136ac9265b7",
   "metadata": {
    "id": "3cd2a9f2-eafd-449f-b3f6-c136ac9265b7"
   },
   "source": [
    "### 6. IPython и Jupyter для воспроизводимых исследований\n",
    "То, что вы сейчас видите - это тетрадка IPython (IPython notebook), интерактивная среда для вычислений, способная совмещать код, картинки, markdown-разметку и графики.\n",
    "\n",
    "Пример с сайта http://ipython.org/\n",
    "\n",
    "Тетрадка IPython имеет расширение *.ipynb* и запускается локально командой\n",
    "<p><i><b>>> ipython notebook</b></i></p>\n",
    "\n",
    "Выполнять и редактировать тетрадку можно в браузере http://localhost:8888/\n",
    "\n",
    "Начиная с версии IPython 4.0, большая часть проекта перешла в Jupyter.<br>\n",
    "<a href=\"http://jupyter.org/\">Jupyter</a> - это веб-приложение для обмена документами, в которых можно выполнять код на 40 популярных в анализе данных языках, включая Python, R, Julia и Scala.\n",
    "\n",
    "Тетрадки IPython - отличный способ представить идею, сразу поделиться кодом, хороши для воспроизводимости исследований, включающих написание кода."
   ]
  },
  {
   "cell_type": "markdown",
   "id": "68ddc73b-0c49-49cb-944a-405fc1c890b4",
   "metadata": {
    "id": "68ddc73b-0c49-49cb-944a-405fc1c890b4"
   },
   "source": [
    "### 7. Маркдауны\n",
    "**Markdown** - это облегчённый язык разметки, который преобразует текст в структурированный HTML. Следующее руководство поможет вам разобраться, как использовать Markdown.<br>\n",
    "https://gist.github.com/Jekins/2bf2d0638163f1294637<br>\n",
    "https://paulradzkov.com/2014/markdown_cheatsheet/"
   ]
  },
  {
   "cell_type": "markdown",
   "id": "20ca03f5-3641-487e-9f8b-bad61c0a72d5",
   "metadata": {
    "id": "20ca03f5-3641-487e-9f8b-bad61c0a72d5"
   },
   "source": [
    "# Задание\n",
    "Оформите ниже **два абзаца текста с использованием синтаксиса Markdown**. В оформленном тексте должны присутствовать:\n",
    "1. три заголовках различных уровней;\n",
    "2. маркированный список;\n",
    "3. многоуровневый список;\n",
    "4. цитата;\n",
    "5. ссылка, отделенная от текста горизонтальной линией;\n",
    "6. различные начертания для слов внутри текста (курсив, жирный, зачеркнутый);\n",
    "7. встроенное изображение;\n",
    "8. чек-лист."
   ]
  },
  {
   "cell_type": "markdown",
   "id": "671b71fe-1c6a-4acd-baeb-ac7c86a5125a",
   "metadata": {
    "id": "671b71fe-1c6a-4acd-baeb-ac7c86a5125a"
   },
   "source": [
    "![](https://avatars.mds.yandex.net/get-entity_search/1380855/729294373/S600xU_2x)"
   ]
  },
  {
   "cell_type": "markdown",
   "id": "aedfe2ec-a285-48e8-a83f-57a6d678d2a6",
   "metadata": {
    "id": "671b71fe-1c6a-4acd-baeb-ac7c86a5125a"
   },
   "source": [
    "# Виктор Пелевин  \n"
   ]
  },
  {
   "cell_type": "markdown",
   "id": "91b49999-0771-449d-bfe6-12265df3f798",
   "metadata": {
    "id": "671b71fe-1c6a-4acd-baeb-ac7c86a5125a"
   },
   "source": [
    "### Русский советский и российский писатель\n"
   ]
  },
  {
   "cell_type": "markdown",
   "id": "d9747932-dc05-4913-a75c-707ce2497bbd",
   "metadata": {},
   "source": [
    "- Желтая стрела\n",
    "- Хрустальный мир"
   ]
  },
  {
   "cell_type": "markdown",
   "id": "e504a755-73a2-4edc-a774-cf630550a68c",
   "metadata": {},
   "source": [
    "1. ~~Список~~ ***книг***\n",
    "   - Подземное небо\n",
    "   - Жизнь насекомых"
   ]
  },
  {
   "cell_type": "markdown",
   "id": "fd83e5ae-f347-4a37-9036-b40dc099a434",
   "metadata": {},
   "source": [
    "## *Абзац* №2"
   ]
  },
  {
   "cell_type": "markdown",
   "id": "2f6b4f81-3369-448a-a08a-88940b4ee8bb",
   "metadata": {},
   "source": [
    ">Все на свете — просто водоворот мыслей, и мир вокруг нас делается\n",
    ">>реальным только потому, что ты становишься этим водоворотом сам.\r\n"
   ]
  },
  {
   "cell_type": "markdown",
   "id": "19592dc2-8d97-4eb2-bd6c-ad3ec87135d9",
   "metadata": {},
   "source": [
    "- [x] Про этот мир вообще никто\n",
    "- [ ] ничего по-настоящему не понимает."
   ]
  },
  {
   "cell_type": "markdown",
   "id": "48e75074-cdc8-4bd9-84cf-4a2d7df4961a",
   "metadata": {
    "id": "48e75074-cdc8-4bd9-84cf-4a2d7df4961a"
   },
   "source": [
    "## Часть 03. Философия Python, стандарты, PEP 8"
   ]
  },
  {
   "cell_type": "markdown",
   "id": "8128d3db-d883-43b6-837f-de43e2cf7362",
   "metadata": {
    "id": "8128d3db-d883-43b6-837f-de43e2cf7362"
   },
   "source": [
    "**Название** - **«Питон» или «Пайтон»** (в честь комедийных серий BBC «Летающий цирк Монти-Пайтона»)  \n",
    "**Создатель** - **голландец Гвидо ван Россум (Guido van Rossum)** (в 1991 году)  \n",
    "\n",
    "**Особенности**:  \n",
    "- интерпретируемый\n",
    "- объектно-ориентированный\n",
    "- высокоуровневый язык\n",
    "- встроенные высокоуровневые структуры данных\n",
    "- динамическая типизация\n",
    "- синтаксис прост в изучении\n",
    "- поддержка модулей и пакетов (большинство библиотек\n",
    "бесплатны)\n",
    "- универсальный\n",
    "- интеграция с другими языками (C (Cython), C++, Java (JPython))  "
   ]
  },
  {
   "cell_type": "markdown",
   "id": "c63c3ec0-0030-43f2-a89e-0bda59ff1c21",
   "metadata": {
    "id": "c63c3ec0-0030-43f2-a89e-0bda59ff1c21"
   },
   "source": [
    "**Python** - это свободный интерпретируемый объектно-ориентированный расширяемый встраиваемый язык программирования очень высокого уровня (Г.Россум, Ф.Л.Дж.Дрейк, Д.С.Откидач \"Язык программирования Python\")\n",
    " - свободный - все исходные тексты открыты для любого использования, даже коммерческого\n",
    " - интерпретируемый - использует \"позднее связывание\"\n",
    " - объектно-ориентированный - классическая ОО модель с множественным наследованием\n",
    " - расширяемый - имеет строго определенные API для создания модулей, типов и классов на C или C++\n",
    " - встраиваемый - имеет строго определенные API для встраивания интерпретатора в другие программы\n",
    " - очень высокого уровня - динамическая типизация, встроенные типы данных высокого уровня (например, словари), классы, модули, исключения"
   ]
  },
  {
   "cell_type": "markdown",
   "id": "8ee2c23f-630d-4d8c-b97d-c7967f867da6",
   "metadata": {
    "id": "8ee2c23f-630d-4d8c-b97d-c7967f867da6"
   },
   "source": [
    "Код на Python чаще всего намного более читаемый, чем на C или C++, потому что:\n",
    "- типы данных высокого уровня позволяют выражать сложные операции одной или несколькими простыми командами\n",
    "- группирование инструкций выполняется отступами, а не фигурными скобками\n",
    "- не надо объявлять переменные"
   ]
  },
  {
   "cell_type": "markdown",
   "id": "c3dec714-fd3f-4f35-a53f-2b30b0d062fd",
   "metadata": {
    "id": "c3dec714-fd3f-4f35-a53f-2b30b0d062fd"
   },
   "source": [
    "**Стиль оформления кода** - **PEP8** (если Вы хороший человек).  \n",
    "\n",
    "*Самое главное из PEP8:*  \n",
    "- отступ – 4 пробела\n",
    "- длина строки < 80 символов\n",
    "- переменные: var_recommended\n",
    "- константы: CONST_RECOMMENDED"
   ]
  },
  {
   "cell_type": "markdown",
   "id": "4cf96f73-b317-464b-81e9-37212cd14359",
   "metadata": {
    "id": "4cf96f73-b317-464b-81e9-37212cd14359"
   },
   "source": [
    "https://netology-university.bitbucket.io/codestyle/python/<br>\n",
    "https://peps.python.org/pep-0008/"
   ]
  },
  {
   "cell_type": "markdown",
   "id": "daace445-ffb8-4de7-90b9-a7dfc86388b4",
   "metadata": {
    "id": "daace445-ffb8-4de7-90b9-a7dfc86388b4"
   },
   "source": [
    "<p><i><b>>> python</b></i></p>"
   ]
  },
  {
   "cell_type": "markdown",
   "id": "fe3db5d8-f3a9-4954-86c1-fe4328a50cb2",
   "metadata": {
    "id": "fe3db5d8-f3a9-4954-86c1-fe4328a50cb2"
   },
   "source": [
    "Программирование на Python в настоящее время придерживается целой философии, называемой «The Zen of Python» («Дзен Питона»), автором которой является Тим Петерс."
   ]
  },
  {
   "cell_type": "markdown",
   "id": "27aa754f-dbda-4de2-9b47-1d5cb8fef111",
   "metadata": {
    "id": "27aa754f-dbda-4de2-9b47-1d5cb8fef111"
   },
   "source": [
    "Дзен языка Python"
   ]
  },
  {
   "cell_type": "code",
   "execution_count": null,
   "id": "fda5e8dc-f633-4443-ae08-70b85e2443d8",
   "metadata": {
    "id": "fda5e8dc-f633-4443-ae08-70b85e2443d8",
    "outputId": "74469ee5-a062-4034-8f91-acba56195e81"
   },
   "outputs": [],
   "source": [
    "import this"
   ]
  },
  {
   "cell_type": "markdown",
   "id": "39e95cbf-68bd-461e-b787-723fd5a7b1ff",
   "metadata": {
    "id": "39e95cbf-68bd-461e-b787-723fd5a7b1ff"
   },
   "source": [
    "# Задание\n",
    "1. Напишите **произвольный код из 7 строчек** с нарушением стиля оформления кода PEP8, допустите **более 10 различных ошибок**.\n",
    "2. Перепишите **код** без ошибок **в стиле PEP8**."
   ]
  },
  {
   "cell_type": "code",
   "execution_count": 15,
   "id": "a5d53f08-37c9-41c1-8b67-c996aba4e8e8",
   "metadata": {
    "id": "a5d53f08-37c9-41c1-8b67-c996aba4e8e8"
   },
   "outputs": [
    {
     "name": "stdout",
     "output_type": "stream",
     "text": [
      "12\n"
     ]
    }
   ],
   "source": [
    "def q(  sksksk,\n",
    "      kkk ):\n",
    "    lol =    sksksk*kkk\n",
    "    return lol\n",
    "kek =     4\n",
    "wal=3\n",
    "print(  q( kek,   wal  )  )"
   ]
  },
  {
   "cell_type": "code",
   "execution_count": 12,
   "id": "aa989d2e-692f-476b-b452-fcf9ca734b28",
   "metadata": {
    "id": "aa989d2e-692f-476b-b452-fcf9ca734b28"
   },
   "outputs": [
    {
     "name": "stdout",
     "output_type": "stream",
     "text": [
      "12\n"
     ]
    }
   ],
   "source": [
    "def area_rectangle(length, width):\n",
    "    area = length * width\n",
    "    return area\n",
    "\n",
    "length_rectangle = 4\n",
    "width_rectangle = 3\n",
    "\n",
    "print(area_rectangle(length_rectangle, width_rectangle))"
   ]
  },
  {
   "cell_type": "markdown",
   "id": "5ed5b6f1-6688-4b98-8b40-e0e821a11267",
   "metadata": {
    "id": "5ed5b6f1-6688-4b98-8b40-e0e821a11267"
   },
   "source": [
    "## Часть 04. Основы языка Python. Типы и структуры данных"
   ]
  },
  {
   "cell_type": "markdown",
   "id": "941085bc-15b7-4239-a502-acf3588906d4",
   "metadata": {},
   "source": [
    "**Переменная** – это именованная область памяти, в которой во время выполнения программы хранятся данные определенного типа.<br>\r\n",
    "В стандартах оформления кода PEP8 даны рекомендации по названиям переменных:\r\n",
    "\r\n",
    "- Названия не должны начинаться с цифры, но могут заканчиваться цифрой. Например, назвать переменную 7up – неправильно, а так – seven11n– можно.\r\n",
    "- Названия могут состоять из комбинации строчных, заглавных букв, цифр и символов подчеркивания: lower_case, mixedCase, CapitalizedCase, UPPER_CASE, lower123.\r\n",
    "- Не следует давать переменным названия, совпадающие со служебными словами, названиями встроенных функций и методов, к примеру – print, list, dict, set, pass, break, raise.\r\n",
    "- Следует избегать использования отдельных букв, которые могут быть ошибочно приняты друг за друга – l (L в нижнем регистре), I (i в верхнем регистре) или за нуль – 0.\r\n",
    "- В названиях не должно быть пробелов, дефисов и специальных символов, например, 'или $.\r\n",
    "- Главный принцип именования переменных – осмысленность. По названию переменной должно быть понятно, какого рода данные в ней хранятся – например, car_model, petName, CARD_NUMBER более информативны, чем a, а1, а2.\r\n",
    "\r\n",
    "Переменные выполняют две важные функции:\r\n",
    "\r\n",
    "- делают код понятнее;\r\n",
    "- дают возможность многократно использовать введенные данные."
   ]
  },
  {
   "cell_type": "code",
   "execution_count": 1,
   "id": "9cbb34db-e73f-4fb7-9dce-a7ad87788d96",
   "metadata": {},
   "outputs": [
    {
     "name": "stdin",
     "output_type": "stream",
     "text": [
      " Вадим\n",
      " Гелалов\n",
      " 19\n"
     ]
    }
   ],
   "source": [
    "first_name = input()\n",
    "last_name = input()\n",
    "age = input()"
   ]
  },
  {
   "cell_type": "code",
   "execution_count": 2,
   "id": "545f824a-7050-4bb7-abb0-455aaef94c54",
   "metadata": {},
   "outputs": [
    {
     "name": "stdout",
     "output_type": "stream",
     "text": [
      "Вадим\n",
      "Гелалов\n",
      "19\n"
     ]
    }
   ],
   "source": [
    "print(first_name)\n",
    "print(last_name)\n",
    "print(age)"
   ]
  },
  {
   "cell_type": "code",
   "execution_count": 3,
   "id": "a3319080-8b12-48b8-aaed-1a5304d4be20",
   "metadata": {},
   "outputs": [
    {
     "name": "stdin",
     "output_type": "stream",
     "text": [
      " Вадим\n",
      " Гелалов\n",
      " 19\n"
     ]
    }
   ],
   "source": [
    "first_name, last_name, age = input(), input(), input()"
   ]
  },
  {
   "cell_type": "code",
   "execution_count": 4,
   "id": "2e8ab896-d3fe-46ed-9b0c-a19be4dc05a6",
   "metadata": {},
   "outputs": [
    {
     "name": "stdout",
     "output_type": "stream",
     "text": [
      "Вадим Гелалов 19\n"
     ]
    }
   ],
   "source": [
    "print(first_name, last_name, age)"
   ]
  },
  {
   "cell_type": "code",
   "execution_count": 5,
   "id": "b88c483d-23e4-4c56-97d6-00f5c1b21372",
   "metadata": {},
   "outputs": [
    {
     "name": "stdin",
     "output_type": "stream",
     "text": [
      " 2\n"
     ]
    }
   ],
   "source": [
    "x1 = x2 = x3 = input()"
   ]
  },
  {
   "cell_type": "code",
   "execution_count": 6,
   "id": "a0342e9c-002b-4480-9b98-2de018cab26e",
   "metadata": {},
   "outputs": [
    {
     "name": "stdout",
     "output_type": "stream",
     "text": [
      "2 2 2\n"
     ]
    }
   ],
   "source": [
    "print(x1, x2, x3)"
   ]
  },
  {
   "cell_type": "markdown",
   "id": "HzbZpv-_eKoq",
   "metadata": {
    "id": "HzbZpv-_eKoq"
   },
   "source": [
    "**Все типы данных** в Python относятся к одной из **2-х категорий**: **изменяемые (mutable)** и **неизменяемые (unmutable)**.   \n",
    "\n",
    "*Неизменяемые объекты*:  \n",
    "* числовые данные (int, float),\n",
    "* bool,\n",
    "* None,\n",
    "* символьные строки (class 'str'),\n",
    "* кортежи (tuple).  \n",
    "\n",
    "*Изменяемые объекты*:  \n",
    "* списки (list),\n",
    "* множества (set),\n",
    "* словари (dict).  \n",
    "\n",
    "Вновь определяемые пользователем типы (классы) могут быть определены как неизменяемые или изменяемые. Изменяемость объектов определённого типа является принципиально важной характеристикой, определяющей, может ли объект такого типа **выступать в качестве ключа для словарей (dict)** или нет."
   ]
  },
  {
   "cell_type": "markdown",
   "id": "J3frjmb_eKor",
   "metadata": {
    "id": "J3frjmb_eKor"
   },
   "source": [
    "Рассмотрим следующие встроенные типы данных:\n",
    " - Числа (7382, 3.14, 3+4j, Decimal, Fraction)\n",
    " - Строки ('net', \"your's\", u'радость')<br>\n",
    " - Списки ([1, [2, 'three'], 4])\n",
    " - Словари ({'Alex': 2, 'Brian': 4})\n",
    " - Кортежи ('Leo', 21.7, 'single')\n",
    " - Множества (set(1,2,3), {'a', 'b', 'c'})"
   ]
  },
  {
   "cell_type": "markdown",
   "id": "0tpXdSszeKor",
   "metadata": {
    "id": "0tpXdSszeKor"
   },
   "source": [
    "### Числа"
   ]
  },
  {
   "cell_type": "markdown",
   "id": "mvndNO2zeKor",
   "metadata": {
    "id": "mvndNO2zeKor"
   },
   "source": [
    "Числа в Python бывают разные:\n",
    " - Целые числа (int): 122, -4, 99999999999, 0o177, 0x9ff, 0b101010\n",
    " - Вещественные числа (float): 1.0, 3.14, .5, 4E21, 4.0e21\n",
    " - Комплексные числа (complex): 3 + 4j, 3.0 + 4.0j,  \n",
    " - Числа фиксированной точности: decimal.Decimal('0.1')\n",
    " - Рациональные числа: fractions.Fraction(3, 4)"
   ]
  },
  {
   "cell_type": "markdown",
   "id": "sts3H0kMeKor",
   "metadata": {
    "id": "sts3H0kMeKor"
   },
   "source": [
    "### Операции с целыми и вещественными числами\n",
    "\n",
    "<img src=\"https://raw.githubusercontent.com/Yorko/python_intro/9b8b6017ad3f44b99fb6d30c9e4f6c3ef2682ee1/img/operations.png\" height=\"1201\" width=\"681\">"
   ]
  },
  {
   "cell_type": "markdown",
   "id": "xFx1ZnPPeKor",
   "metadata": {
    "id": "xFx1ZnPPeKor"
   },
   "source": [
    "### Целые числа / int"
   ]
  },
  {
   "cell_type": "code",
   "execution_count": 7,
   "id": "YPgeeOhteKor",
   "metadata": {
    "id": "YPgeeOhteKor",
    "outputId": "9f88198e-8440-4c6f-84c6-0bb11da6e2fb"
   },
   "outputs": [
    {
     "name": "stdout",
     "output_type": "stream",
     "text": [
      "5\n"
     ]
    }
   ],
   "source": [
    "print(3 + 2)"
   ]
  },
  {
   "cell_type": "code",
   "execution_count": 8,
   "id": "ogb8oKDieKos",
   "metadata": {
    "id": "ogb8oKDieKos",
    "outputId": "8a27e221-6395-43c6-8f08-118ffbf1f977"
   },
   "outputs": [
    {
     "name": "stdout",
     "output_type": "stream",
     "text": [
      "1\n"
     ]
    }
   ],
   "source": [
    "print(3 - 2)"
   ]
  },
  {
   "cell_type": "code",
   "execution_count": 9,
   "id": "SsP-z4SNeKos",
   "metadata": {
    "id": "SsP-z4SNeKos",
    "outputId": "526c57e1-79be-49b0-91f4-3f48146be9a2"
   },
   "outputs": [
    {
     "name": "stdout",
     "output_type": "stream",
     "text": [
      "6\n"
     ]
    }
   ],
   "source": [
    "print(3 * 2)"
   ]
  },
  {
   "cell_type": "code",
   "execution_count": 10,
   "id": "crmU9keWeKos",
   "metadata": {
    "id": "crmU9keWeKos",
    "outputId": "5c5d050d-e3b9-42ad-9f44-71a4829e62a2"
   },
   "outputs": [
    {
     "name": "stdout",
     "output_type": "stream",
     "text": [
      "1.5\n"
     ]
    }
   ],
   "source": [
    "print(3 / 2)"
   ]
  },
  {
   "cell_type": "code",
   "execution_count": 11,
   "id": "69b15080-5871-408f-bb23-1b9cb08d9b1b",
   "metadata": {},
   "outputs": [
    {
     "name": "stdout",
     "output_type": "stream",
     "text": [
      "2.0\n"
     ]
    }
   ],
   "source": [
    "print(4 / 2)"
   ]
  },
  {
   "cell_type": "code",
   "execution_count": 12,
   "id": "nffA5b4GeKos",
   "metadata": {
    "id": "nffA5b4GeKos",
    "outputId": "cfa625fa-a364-4dcf-89ea-5155de5a6ee2"
   },
   "outputs": [
    {
     "name": "stdout",
     "output_type": "stream",
     "text": [
      "9\n"
     ]
    }
   ],
   "source": [
    "print(3 ** 2)"
   ]
  },
  {
   "cell_type": "markdown",
   "id": "z397bVLAeKos",
   "metadata": {
    "id": "z397bVLAeKos"
   },
   "source": [
    "Можно использовать скобки для управления порядком операций."
   ]
  },
  {
   "cell_type": "code",
   "execution_count": 13,
   "id": "uB9fEUlCeKos",
   "metadata": {
    "id": "uB9fEUlCeKos",
    "outputId": "2a696859-50da-40c0-9667-c0b43af263e1"
   },
   "outputs": [
    {
     "name": "stdout",
     "output_type": "stream",
     "text": [
      "14\n",
      "20\n"
     ]
    }
   ],
   "source": [
    "standard_order = 2 + 3 * 4\n",
    "\n",
    "print(standard_order)\n",
    "\n",
    "my_order = (2 + 3) * 4\n",
    "\n",
    "print(my_order)"
   ]
  },
  {
   "cell_type": "code",
   "execution_count": 14,
   "id": "0QT1rSnveKos",
   "metadata": {
    "id": "0QT1rSnveKos",
    "outputId": "8ab625b8-67f7-43a7-f449-6d0e5175de5f"
   },
   "outputs": [
    {
     "name": "stdout",
     "output_type": "stream",
     "text": [
      "5 | <class 'int'>\n"
     ]
    }
   ],
   "source": [
    "x = 5\n",
    "\n",
    "print(x, '|', type(x))"
   ]
  },
  {
   "cell_type": "code",
   "execution_count": 15,
   "id": "h_iIGEoseKot",
   "metadata": {
    "id": "h_iIGEoseKot",
    "outputId": "4b836642-3d57-4ee8-d1c8-c86e156553a5"
   },
   "outputs": [
    {
     "name": "stdout",
     "output_type": "stream",
     "text": [
      "9 20 1\n"
     ]
    }
   ],
   "source": [
    "a = 4 + 5\n",
    "b = 4 * 5\n",
    "c = 5 // 4\n",
    "\n",
    "print(a, b, c)"
   ]
  },
  {
   "cell_type": "code",
   "execution_count": 16,
   "id": "6V0CLyq7eKot",
   "metadata": {
    "id": "6V0CLyq7eKot",
    "outputId": "95ba5345-4064-4a88-fe3c-d532f8d6d93a"
   },
   "outputs": [
    {
     "name": "stdout",
     "output_type": "stream",
     "text": [
      "-1\n"
     ]
    }
   ],
   "source": [
    "print(-(5 // 4))"
   ]
  },
  {
   "cell_type": "code",
   "execution_count": 17,
   "id": "tKyKOD1VeKot",
   "metadata": {
    "id": "tKyKOD1VeKot",
    "outputId": "4179387c-e43d-427e-cffb-81c7a2d2a672"
   },
   "outputs": [
    {
     "name": "stdout",
     "output_type": "stream",
     "text": [
      "-2\n"
     ]
    }
   ],
   "source": [
    "print(-5 // 4)"
   ]
  },
  {
   "cell_type": "code",
   "execution_count": 18,
   "id": "iQzhvWjTeKot",
   "metadata": {
    "id": "iQzhvWjTeKot",
    "outputId": "6a2d183e-ada3-4ee7-9fce-4c9d1d2f503f"
   },
   "outputs": [
    {
     "name": "stdout",
     "output_type": "stream",
     "text": [
      "5000000000000000000000000001 | <class 'int'>\n"
     ]
    }
   ],
   "source": [
    "x = 5 * 1000000000 * 1000000000 * 10**9 + 1\n",
    "print(x, '|', type(x))"
   ]
  },
  {
   "cell_type": "markdown",
   "id": "9pfREHUneKot",
   "metadata": {
    "id": "9pfREHUneKot"
   },
   "source": [
    "### Вещественные числа / float"
   ]
  },
  {
   "cell_type": "code",
   "execution_count": 19,
   "id": "GHOLer1XeKot",
   "metadata": {
    "id": "GHOLer1XeKot",
    "outputId": "5c324fbb-2753-4370-cd18-4ae8199da63c"
   },
   "outputs": [
    {
     "name": "stdout",
     "output_type": "stream",
     "text": [
      "0.2\n"
     ]
    }
   ],
   "source": [
    "print(.1 + .1)"
   ]
  },
  {
   "cell_type": "code",
   "execution_count": 20,
   "id": "1hEtfk3zeKot",
   "metadata": {
    "id": "1hEtfk3zeKot",
    "outputId": "928a39ae-edf7-44de-ee98-346ac2cdfa69"
   },
   "outputs": [
    {
     "name": "stdout",
     "output_type": "stream",
     "text": [
      "12.345 <class 'float'>\n"
     ]
    }
   ],
   "source": [
    "y = 12.345\n",
    "\n",
    "print(y, type(y))"
   ]
  },
  {
   "cell_type": "code",
   "execution_count": 21,
   "id": "RvpAWC-UeKot",
   "metadata": {
    "id": "RvpAWC-UeKot",
    "outputId": "075daec1-9f08-4abb-92d9-e95f95bf2d47"
   },
   "outputs": [
    {
     "name": "stdout",
     "output_type": "stream",
     "text": [
      "9.3 21.419999999999998 1.25\n"
     ]
    }
   ],
   "source": [
    "a = 4.2 + 5.1\n",
    "b = 4.2 * 5.1\n",
    "c = 5.0 / 4.0\n",
    "\n",
    "print(a, b, c)"
   ]
  },
  {
   "cell_type": "code",
   "execution_count": 22,
   "id": "FCImDjm4eKot",
   "metadata": {
    "id": "FCImDjm4eKot",
    "outputId": "393c63c2-a488-4e71-b24b-d98c5982195d"
   },
   "outputs": [
    {
     "name": "stdout",
     "output_type": "stream",
     "text": [
      "1.25\n"
     ]
    }
   ],
   "source": [
    "a = 5\n",
    "b = 4\n",
    "\n",
    "print(float(a) / float(b))"
   ]
  },
  {
   "cell_type": "code",
   "execution_count": 23,
   "id": "0nWQGSlKeKot",
   "metadata": {
    "id": "0nWQGSlKeKot",
    "outputId": "5e4d99a3-4842-4591-9357-00ea9a538824"
   },
   "outputs": [
    {
     "name": "stdout",
     "output_type": "stream",
     "text": [
      "1.25\n"
     ]
    }
   ],
   "source": [
    "print(a / b)"
   ]
  },
  {
   "cell_type": "markdown",
   "id": "ruvYMGmSeKot",
   "metadata": {
    "id": "ruvYMGmSeKot"
   },
   "source": [
    "### Целые числа в Python 2 и Python 3\n",
    "В Python 2 результат деления двух челых чисел - тоже целое, а в Python 3 - float."
   ]
  },
  {
   "cell_type": "code",
   "execution_count": 24,
   "id": "k90JJhBneKot",
   "metadata": {
    "id": "k90JJhBneKot",
    "outputId": "27d97dcc-cbb9-4717-9f12-9ed78bab994f"
   },
   "outputs": [
    {
     "name": "stdout",
     "output_type": "stream",
     "text": [
      "1.5\n"
     ]
    }
   ],
   "source": [
    "print(3 / 2)"
   ]
  },
  {
   "cell_type": "markdown",
   "id": "rzRYSy4-eKot",
   "metadata": {
    "id": "rzRYSy4-eKot"
   },
   "source": [
    "В Python 3 результат - 1.5, в Python 2 (без подключения future) - 1"
   ]
  },
  {
   "cell_type": "code",
   "execution_count": 25,
   "id": "n8mPwrLreKou",
   "metadata": {
    "id": "n8mPwrLreKou",
    "outputId": "af88c5cb-7e5d-4582-c99c-497832b7f948"
   },
   "outputs": [
    {
     "name": "stdout",
     "output_type": "stream",
     "text": [
      "2.0\n"
     ]
    }
   ],
   "source": [
    "print(4 / 2)"
   ]
  },
  {
   "cell_type": "markdown",
   "id": "LtJoWTfmeKou",
   "metadata": {
    "id": "LtJoWTfmeKou"
   },
   "source": [
    "### Приоритет арифметических операций в Python\n",
    "\n",
    "<img src=\"https://raw.githubusercontent.com/Yorko/python_intro/9b8b6017ad3f44b99fb6d30c9e4f6c3ef2682ee1/img/operations_priority.png\" height=\"1217\" width=\"532\">"
   ]
  },
  {
   "cell_type": "markdown",
   "id": "5nfKulbBeKou",
   "metadata": {
    "id": "5nfKulbBeKou"
   },
   "source": [
    "### Логический тип, bool"
   ]
  },
  {
   "cell_type": "code",
   "execution_count": 26,
   "id": "E4mczIvDeKow",
   "metadata": {
    "id": "E4mczIvDeKow",
    "outputId": "31b14502-ce10-45ee-dcbd-5c9ffebe18c1"
   },
   "outputs": [
    {
     "name": "stdout",
     "output_type": "stream",
     "text": [
      "True | <class 'bool'>\n",
      "False | <class 'bool'>\n"
     ]
    }
   ],
   "source": [
    "a = True\n",
    "b = False\n",
    "\n",
    "print(a, '|', type(a))\n",
    "\n",
    "print(b, '|', type(b))"
   ]
  },
  {
   "cell_type": "code",
   "execution_count": 27,
   "id": "aJNUAdmfeKox",
   "metadata": {
    "id": "aJNUAdmfeKox",
    "outputId": "25aca805-dd23-42ed-87d3-7f009a065d68"
   },
   "outputs": [
    {
     "name": "stdout",
     "output_type": "stream",
     "text": [
      "1\n",
      "2\n",
      "0\n"
     ]
    }
   ],
   "source": [
    "print(a + b)\n",
    "print(a + a)\n",
    "print(b + b)"
   ]
  },
  {
   "cell_type": "code",
   "execution_count": 28,
   "id": "ZwtNVE0KeKox",
   "metadata": {
    "id": "ZwtNVE0KeKox",
    "outputId": "74ef61ae-e25b-4b5c-b8b0-affefa5f5321"
   },
   "outputs": [
    {
     "name": "stdout",
     "output_type": "stream",
     "text": [
      "1 0\n"
     ]
    }
   ],
   "source": [
    "print(int(a), int(b))"
   ]
  },
  {
   "cell_type": "code",
   "execution_count": 29,
   "id": "1ohnjcS1eKox",
   "metadata": {
    "id": "1ohnjcS1eKox",
    "outputId": "a43a2f24-346c-484b-c17d-52f3532c4052"
   },
   "outputs": [
    {
     "name": "stdout",
     "output_type": "stream",
     "text": [
      "False \n",
      "\n",
      "True \n",
      "\n",
      "True \n",
      "\n"
     ]
    }
   ],
   "source": [
    "print(True and False, '\\n')\n",
    "\n",
    "print(True or True, '\\n')\n",
    "\n",
    "print(not False, '\\n')"
   ]
  },
  {
   "cell_type": "markdown",
   "id": "3MmsNoKYeKox",
   "metadata": {
    "id": "3MmsNoKYeKox"
   },
   "source": [
    "### None (неопределенное значение переменной)"
   ]
  },
  {
   "cell_type": "code",
   "execution_count": 30,
   "id": "_z_9QRHSeKox",
   "metadata": {
    "id": "_z_9QRHSeKox",
    "outputId": "6a9db956-c595-49d3-a3f6-9d6907879949"
   },
   "outputs": [
    {
     "name": "stdout",
     "output_type": "stream",
     "text": [
      "None | <class 'NoneType'>\n"
     ]
    }
   ],
   "source": [
    "zero = None\n",
    "print(zero, '|', type(zero))"
   ]
  },
  {
   "cell_type": "code",
   "execution_count": 31,
   "id": "qF1WxKW-eKox",
   "metadata": {
    "id": "qF1WxKW-eKox",
    "outputId": "3fe916e5-0ac1-44fd-8f71-1faf3de4e31b"
   },
   "outputs": [
    {
     "ename": "TypeError",
     "evalue": "int() argument must be a string, a bytes-like object or a real number, not 'NoneType'",
     "output_type": "error",
     "traceback": [
      "\u001b[1;31m---------------------------------------------------------------------------\u001b[0m",
      "\u001b[1;31mTypeError\u001b[0m                                 Traceback (most recent call last)",
      "Cell \u001b[1;32mIn[31], line 1\u001b[0m\n\u001b[1;32m----> 1\u001b[0m \u001b[38;5;28mint\u001b[39m(zero)\n",
      "\u001b[1;31mTypeError\u001b[0m: int() argument must be a string, a bytes-like object or a real number, not 'NoneType'"
     ]
    }
   ],
   "source": [
    "int(zero)\n",
    "\n",
    "#ошибка!"
   ]
  },
  {
   "cell_type": "code",
   "execution_count": null,
   "id": "CJVEbm5reKox",
   "metadata": {
    "id": "CJVEbm5reKox",
    "outputId": "cdbce8d6-a733-4267-a549-4555f25f1bfe"
   },
   "outputs": [],
   "source": [
    "if zero is None:\n",
    "    zero = 'I am None!'\n",
    "zero"
   ]
  },
  {
   "cell_type": "markdown",
   "id": "86f30a7d-2281-47e5-9abd-89d0b73d596a",
   "metadata": {},
   "source": [
    "### Приведение типов"
   ]
  },
  {
   "cell_type": "markdown",
   "id": "ddfb246e-ce0a-4483-94f4-52f21566d7b7",
   "metadata": {},
   "source": [
    "Иногда требуется преобразовать тип переменной, например, из числа с плавающей точкой сделать целое число. Зачем это бывает нужно? Для удобства и для более корректной выдачи результатов. Например, у нас есть база данных по респондентам, в которой указан их год рождения, и мы хотим добавить столбец с возрастом респондентов (числом полных лет). Из-за того, что кто-то ввёл год в виде 1993.0, возраст при вычислениях тоже получится числом с плавающей точкой — 25.0. Так как мы знаем, что возраст всегда будет целым, чтобы дробная часть не смущала, можно привести все значения к целочисленному типу.\r\n",
    "\r\n",
    "Функции для изменения типа переменных называются так же, как сами типы или их сокращённые названия (если таковые предусмотрены). Рассмотрим приведение типов на примерах.\r\n",
    "\r\n",
    "Превратим возраст с нулевой дробной частью в целое число:"
   ]
  },
  {
   "cell_type": "code",
   "execution_count": 32,
   "id": "661a58e9-da02-48c8-8d43-510ed34a68ef",
   "metadata": {},
   "outputs": [
    {
     "name": "stdout",
     "output_type": "stream",
     "text": [
      "25\n"
     ]
    }
   ],
   "source": [
    "age = 25.0\n",
    "age2 = int(age)\n",
    "\n",
    "print(age2)"
   ]
  },
  {
   "cell_type": "code",
   "execution_count": 33,
   "id": "d902ebb3-6674-4472-b9bf-938d5d263eee",
   "metadata": {},
   "outputs": [
    {
     "data": {
      "text/plain": [
       "23.0"
      ]
     },
     "execution_count": 33,
     "metadata": {},
     "output_type": "execute_result"
    }
   ],
   "source": [
    "float(23)"
   ]
  },
  {
   "cell_type": "code",
   "execution_count": 34,
   "id": "7ce285b9-dddd-4d3d-85e4-8fb64ffaee62",
   "metadata": {},
   "outputs": [
    {
     "data": {
      "text/plain": [
       "'2'"
      ]
     },
     "execution_count": 34,
     "metadata": {},
     "output_type": "execute_result"
    }
   ],
   "source": [
    "str(2)"
   ]
  },
  {
   "cell_type": "code",
   "execution_count": 35,
   "id": "f9205d76-9652-4426-9f65-d762ad384544",
   "metadata": {},
   "outputs": [
    {
     "data": {
      "text/plain": [
       "'56.7'"
      ]
     },
     "execution_count": 35,
     "metadata": {},
     "output_type": "execute_result"
    }
   ],
   "source": [
    "str(56.7)"
   ]
  },
  {
   "cell_type": "code",
   "execution_count": 36,
   "id": "0006aa14-5caf-4a15-942a-b8247ad942e2",
   "metadata": {},
   "outputs": [
    {
     "data": {
      "text/plain": [
       "23.9"
      ]
     },
     "execution_count": 36,
     "metadata": {},
     "output_type": "execute_result"
    }
   ],
   "source": [
    "float('23.9')"
   ]
  },
  {
   "cell_type": "code",
   "execution_count": 37,
   "id": "34f814ce-c1fa-4bf9-a8ac-56649b2aeb6a",
   "metadata": {},
   "outputs": [
    {
     "data": {
      "text/plain": [
       "23"
      ]
     },
     "execution_count": 37,
     "metadata": {},
     "output_type": "execute_result"
    }
   ],
   "source": [
    "int('23')"
   ]
  },
  {
   "cell_type": "code",
   "execution_count": 38,
   "id": "3a4e73d5-35ce-48cd-9641-cead7f0ba3e4",
   "metadata": {},
   "outputs": [
    {
     "ename": "ValueError",
     "evalue": "could not convert string to float: '23,56'",
     "output_type": "error",
     "traceback": [
      "\u001b[1;31m---------------------------------------------------------------------------\u001b[0m",
      "\u001b[1;31mValueError\u001b[0m                                Traceback (most recent call last)",
      "Cell \u001b[1;32mIn[38], line 1\u001b[0m\n\u001b[1;32m----> 1\u001b[0m \u001b[38;5;28mfloat\u001b[39m(\u001b[38;5;124m'\u001b[39m\u001b[38;5;124m23,56\u001b[39m\u001b[38;5;124m'\u001b[39m)\n",
      "\u001b[1;31mValueError\u001b[0m: could not convert string to float: '23,56'"
     ]
    }
   ],
   "source": [
    "float('23,56')"
   ]
  },
  {
   "cell_type": "code",
   "execution_count": 39,
   "id": "423d4eb4-b96d-4fdb-b50c-ef97b867532e",
   "metadata": {},
   "outputs": [
    {
     "name": "stdin",
     "output_type": "stream",
     "text": [
      "Введите число:  30\n"
     ]
    }
   ],
   "source": [
    "num = input('Введите число: ')"
   ]
  },
  {
   "cell_type": "code",
   "execution_count": 40,
   "id": "39ea77e6-e44b-48cd-ac3d-1e0ed35484f2",
   "metadata": {},
   "outputs": [
    {
     "ename": "TypeError",
     "evalue": "unsupported operand type(s) for /: 'str' and 'int'",
     "output_type": "error",
     "traceback": [
      "\u001b[1;31m---------------------------------------------------------------------------\u001b[0m",
      "\u001b[1;31mTypeError\u001b[0m                                 Traceback (most recent call last)",
      "Cell \u001b[1;32mIn[40], line 1\u001b[0m\n\u001b[1;32m----> 1\u001b[0m num \u001b[38;5;241m/\u001b[39m \u001b[38;5;241m5\u001b[39m\n",
      "\u001b[1;31mTypeError\u001b[0m: unsupported operand type(s) for /: 'str' and 'int'"
     ]
    }
   ],
   "source": [
    "num / 5"
   ]
  },
  {
   "cell_type": "markdown",
   "id": "57ef4ffb-30b0-451d-943a-29478d28e3f9",
   "metadata": {},
   "source": [
    "Функция `input()` всегда возвращает обект типа *string*. Тут нам и пригодится преобразование типов переменных:"
   ]
  },
  {
   "cell_type": "code",
   "execution_count": 41,
   "id": "91864a3b-629c-4b4f-ba0e-775d2fc14fdd",
   "metadata": {},
   "outputs": [
    {
     "name": "stdin",
     "output_type": "stream",
     "text": [
      "Введите число:  30\n"
     ]
    },
    {
     "name": "stdout",
     "output_type": "stream",
     "text": [
      "30 <class 'int'>\n"
     ]
    }
   ],
   "source": [
    "num = int(input('Введите число: '))\n",
    "\n",
    "print(num, type(num))"
   ]
  },
  {
   "cell_type": "code",
   "execution_count": 42,
   "id": "274e2eb6-2fc2-465d-9c47-3db179e06a91",
   "metadata": {},
   "outputs": [
    {
     "name": "stdin",
     "output_type": "stream",
     "text": [
      "Введите число:  35\n"
     ]
    },
    {
     "name": "stdout",
     "output_type": "stream",
     "text": [
      "35.0\n"
     ]
    }
   ],
   "source": [
    "num = float(input('Введите число: '))\n",
    "\n",
    "print(num)"
   ]
  },
  {
   "cell_type": "markdown",
   "id": "d8753561-9f4d-4bb7-a4c7-32d94767087b",
   "metadata": {},
   "source": [
    "# Задание (модуль math)\n",
    "Напишите **программу**, реализующую следующие действия:\n",
    "\n",
    "1. Инициализировать переменную `x`\n",
    "2. Вычислить:\n",
    "    - $|x|$\n",
    "    - $\\sqrt{x}$\n",
    "    - $x^3$\n",
    "    - $sin(x)$\n",
    "    - $cos(x)$\n",
    "    - $e^x$\n",
    "3. Инициализировать переменные `a`, `b`, 0 < `b` < 10 \n",
    "4. Вычислить:<br>\n",
    "$$\n",
    "\\begin{align}\n",
    "\\sqrt{0.45 + a^3} + ln|b - 10| - \\frac{e^{b - a}}{cos^2(\\pi + 1/2)}\n",
    "\\end{align}\n",
    "$$"
   ]
  },
  {
   "cell_type": "code",
   "execution_count": 17,
   "id": "27a8d545-dba7-472f-81b5-4c4f962798b4",
   "metadata": {},
   "outputs": [],
   "source": [
    "import math"
   ]
  },
  {
   "cell_type": "code",
   "execution_count": 18,
   "id": "52d63d89-3d33-47ab-b871-6cd23cae3849",
   "metadata": {},
   "outputs": [],
   "source": [
    "x = 9"
   ]
  },
  {
   "cell_type": "code",
   "execution_count": 19,
   "id": "4a296c36-65a3-4ba9-8bb2-f6cd9d353f8b",
   "metadata": {},
   "outputs": [
    {
     "data": {
      "text/plain": [
       "9"
      ]
     },
     "execution_count": 19,
     "metadata": {},
     "output_type": "execute_result"
    }
   ],
   "source": [
    "abs(x)"
   ]
  },
  {
   "cell_type": "code",
   "execution_count": 20,
   "id": "b2043764-9f7e-436b-a0dd-430e44e4ae15",
   "metadata": {},
   "outputs": [
    {
     "data": {
      "text/plain": [
       "3.0"
      ]
     },
     "execution_count": 20,
     "metadata": {},
     "output_type": "execute_result"
    }
   ],
   "source": [
    "math.sqrt(x)"
   ]
  },
  {
   "cell_type": "code",
   "execution_count": 21,
   "id": "77225237-6c6f-4f54-9ecb-686c8aedc777",
   "metadata": {},
   "outputs": [
    {
     "data": {
      "text/plain": [
       "729"
      ]
     },
     "execution_count": 21,
     "metadata": {},
     "output_type": "execute_result"
    }
   ],
   "source": [
    "x**3"
   ]
  },
  {
   "cell_type": "code",
   "execution_count": 22,
   "id": "bde28b53-a074-4551-ae97-dd75217e6b63",
   "metadata": {},
   "outputs": [
    {
     "data": {
      "text/plain": [
       "0.4121184852417566"
      ]
     },
     "execution_count": 22,
     "metadata": {},
     "output_type": "execute_result"
    }
   ],
   "source": [
    "math.sin(x)"
   ]
  },
  {
   "cell_type": "code",
   "execution_count": 23,
   "id": "9fdfb004-2a59-4fb1-8b75-34a41a192749",
   "metadata": {},
   "outputs": [
    {
     "data": {
      "text/plain": [
       "-0.9111302618846769"
      ]
     },
     "execution_count": 23,
     "metadata": {},
     "output_type": "execute_result"
    }
   ],
   "source": [
    "math.cos(x)"
   ]
  },
  {
   "cell_type": "code",
   "execution_count": 24,
   "id": "31524e11-fcdc-4c92-b127-0e4f4913d888",
   "metadata": {},
   "outputs": [
    {
     "data": {
      "text/plain": [
       "8103.083927575384"
      ]
     },
     "execution_count": 24,
     "metadata": {},
     "output_type": "execute_result"
    }
   ],
   "source": [
    "math.exp(x)"
   ]
  },
  {
   "cell_type": "code",
   "execution_count": 25,
   "id": "5678ac19-ee0c-45dd-94fc-293923ed58ab",
   "metadata": {},
   "outputs": [],
   "source": [
    "a = 1"
   ]
  },
  {
   "cell_type": "code",
   "execution_count": 26,
   "id": "990f16a1-5ce7-4a97-92f5-23d35adb5f12",
   "metadata": {},
   "outputs": [],
   "source": [
    "b = 2"
   ]
  },
  {
   "cell_type": "code",
   "execution_count": 27,
   "id": "2e73bdb0-9024-40c5-a170-5f57c83f6837",
   "metadata": {},
   "outputs": [
    {
     "data": {
      "text/plain": [
       "-0.24594228308502109"
      ]
     },
     "execution_count": 27,
     "metadata": {},
     "output_type": "execute_result"
    }
   ],
   "source": [
    "math.sqrt(0.45 + a**3) + math.log(abs(b - 10)) - (math.exp(b - a)) / (math.cos(math.pi + 0.5)**2)"
   ]
  },
  {
   "cell_type": "markdown",
   "id": "2fc1979c-7640-49f4-9b6e-7130eccb14fa",
   "metadata": {},
   "source": [
    "### Операторы сравнения. Логические операции"
   ]
  },
  {
   "cell_type": "markdown",
   "id": "afca92f0-c787-4afc-9d0a-49e5a3a66ff6",
   "metadata": {},
   "source": [
    "Операция           | Название    | Семантика\n",
    "--------           | --------    | --------\n",
    "оператор  ==       | равенство   | Проверяет, равны ли операнды между собой. Если они равны, то выражение становится истинным\n",
    "оператор  !=       | неравенство | Проверяет, равны ли операнды между собой. Если они не равны, то выражение становится истинным\n",
    "оператор  >        | больше      | Проверяет, больше ли левый операнд чем правый, если больше, то выражение становится истинным\n",
    "оператор  <        | меньше      | Проверяет, меньше ли левый операнд чем правый, если меньше, то выражение становится истинным\n",
    "оператор  >=       | не меньше   | Проверяет, больше левый операнд, чем правый, или равен ему. Если больше или равен, то выражение становится истинным\n",
    "оператор  <=       | не больше   | Проверяет, меньше левый операнд, чем правый, или равен ему. Если меньше или равен, то выражение становится истинным"
   ]
  },
  {
   "cell_type": "markdown",
   "id": "bcdb17ae-4fec-491d-ba84-8564f3751e3e",
   "metadata": {},
   "source": [
    "### Логические операторы"
   ]
  },
  {
   "cell_type": "markdown",
   "id": "fe2c1250-5f99-4348-9ca3-df4aafceff59",
   "metadata": {},
   "source": [
    "**and** - Логический оператор \"И\". Условие будет истинным, если оба операнда истина.\n",
    "\n",
    "```\n",
    "True and True = True\n",
    "\n",
    "True and False = False\n",
    "\n",
    "False and True = False\n",
    "\n",
    "False and False = False\n",
    "```\n",
    "\n",
    "\n",
    "**or** - Логический оператор \"ИЛИ\". Если хотя бы один из операндов истинный, то и все выражение будет истинным.\n",
    "\n",
    "```\n",
    "True or True = True\n",
    "\n",
    "True or False = True\n",
    "\n",
    "False or True = True\n",
    "\n",
    "False or False = False\n",
    "```\n",
    "\n",
    "**not** - Логический оператор \"НЕ\". Изменяет логическое значение операнда на противоположное (инверсия).\n",
    "\n",
    "```\n",
    "not True = False\n",
    "\n",
    "not False = True\n",
    "```"
   ]
  },
  {
   "cell_type": "markdown",
   "id": "c9MjHceleKox",
   "metadata": {
    "id": "c9MjHceleKox"
   },
   "source": [
    "### Строки"
   ]
  },
  {
   "cell_type": "markdown",
   "id": "-mm5O3jUeKox",
   "metadata": {
    "id": "-mm5O3jUeKox"
   },
   "source": [
    "#### Строки выделяются одинарными или двойными кавычками"
   ]
  },
  {
   "cell_type": "code",
   "execution_count": 43,
   "id": "GfPdvyhUeKox",
   "metadata": {
    "id": "GfPdvyhUeKox",
    "outputId": "258bf0ff-cacb-4158-838d-dba064aa1871"
   },
   "outputs": [
    {
     "name": "stdout",
     "output_type": "stream",
     "text": [
      "This is a double-quoted string.\n",
      "This is a double-quoted string. | <class 'str'>\n",
      "This is a single-quoted string.\n",
      "This is a single-quoted string. | <class 'str'>\n"
     ]
    }
   ],
   "source": [
    "my_string = \"This is a double-quoted string.\"\n",
    "\n",
    "print(my_string)\n",
    "print(my_string, '|', type(my_string))\n",
    "\n",
    "my_string = 'This is a single-quoted string.'\n",
    "\n",
    "print(my_string)\n",
    "print(my_string, '|', type(my_string))"
   ]
  },
  {
   "cell_type": "code",
   "execution_count": 44,
   "id": "b9CvnxmkeKox",
   "metadata": {
    "id": "b9CvnxmkeKox",
    "outputId": "cc286508-a551-47cd-95cf-0dea51b390f2"
   },
   "outputs": [
    {
     "name": "stdout",
     "output_type": "stream",
     "text": [
      "Linus Torvalds once said, 'Any program is only as good as it is useful.'\n"
     ]
    }
   ],
   "source": [
    "quote = \"Linus Torvalds once said, 'Any program is only as good as it is useful.'\"\n",
    "\n",
    "print(quote)"
   ]
  },
  {
   "cell_type": "code",
   "execution_count": 45,
   "id": "ouL0MIU5eKox",
   "metadata": {
    "id": "ouL0MIU5eKox",
    "outputId": "bc4b911f-e816-4928-8cfd-b24b466dc8f9"
   },
   "outputs": [
    {
     "name": "stdout",
     "output_type": "stream",
     "text": [
      "eric\n",
      "Eric\n"
     ]
    }
   ],
   "source": [
    "first_name = 'eric'\n",
    "\n",
    "print(first_name)\n",
    "print(first_name.title())"
   ]
  },
  {
   "cell_type": "markdown",
   "id": "21LkO-FqeKoy",
   "metadata": {
    "id": "21LkO-FqeKoy"
   },
   "source": [
    "#### Разные регистры"
   ]
  },
  {
   "cell_type": "code",
   "execution_count": 46,
   "id": "dHhs-mnieKoy",
   "metadata": {
    "id": "dHhs-mnieKoy",
    "outputId": "65b027d3-de1a-493d-d026-05d3b3fcfb33"
   },
   "outputs": [
    {
     "name": "stdout",
     "output_type": "stream",
     "text": [
      "eric\n",
      "Eric\n",
      "ERIC\n",
      "eric\n"
     ]
    }
   ],
   "source": [
    "first_name = 'eric'\n",
    "\n",
    "print(first_name)\n",
    "print(first_name.title())\n",
    "print(first_name.upper())\n",
    "\n",
    "first_name = 'Eric'\n",
    "print(first_name.lower())"
   ]
  },
  {
   "cell_type": "markdown",
   "id": "a02Ivsq3eKoy",
   "metadata": {
    "id": "a02Ivsq3eKoy"
   },
   "source": [
    "*upper()*, *lower()* и *title()* - это методы.\n",
    "\n",
    "Синтаксис: variable_name.action()\n",
    "\n",
    "*action* - это название метода, который можно применить к переменной *variable_name*. В скобках можно указывать другие переменные (аргументы) метода."
   ]
  },
  {
   "cell_type": "markdown",
   "id": "-VJwR3yreKoy",
   "metadata": {
    "id": "-VJwR3yreKoy"
   },
   "source": [
    "#### Конкатенация (\"склеивание\") строк"
   ]
  },
  {
   "cell_type": "code",
   "execution_count": 47,
   "id": "R-juxwY6eKoy",
   "metadata": {
    "id": "R-juxwY6eKoy",
    "outputId": "64944c83-1bc9-4879-9bb2-822a0afebd7d"
   },
   "outputs": [
    {
     "name": "stdout",
     "output_type": "stream",
     "text": [
      "Ada Lovelace\n"
     ]
    }
   ],
   "source": [
    "first_name = 'ada'\n",
    "last_name = 'lovelace'\n",
    "\n",
    "full_name = first_name + ' ' + last_name\n",
    "\n",
    "print(full_name.title())"
   ]
  },
  {
   "cell_type": "code",
   "execution_count": 48,
   "id": "FK3bZohqeKoy",
   "metadata": {
    "id": "FK3bZohqeKoy",
    "outputId": "3035b97a-f6b0-4c77-98a4-268abfa80ee1"
   },
   "outputs": [
    {
     "name": "stdout",
     "output_type": "stream",
     "text": [
      "Ada Lovelace was considered the world's first computer programmer.\n"
     ]
    }
   ],
   "source": [
    "first_name = 'ada'\n",
    "last_name = 'lovelace'\n",
    "full_name = first_name + ' ' + last_name\n",
    "\n",
    "message = full_name.title() + ' ' + \"was considered the world's first computer programmer.\"\n",
    "\n",
    "print(message)"
   ]
  },
  {
   "cell_type": "markdown",
   "id": "ssO8csmdeKoy",
   "metadata": {
    "id": "ssO8csmdeKoy"
   },
   "source": [
    "#### Пробельные символы (whitespaces)\n",
    " - \" \" - пробел (очевидно)\n",
    " - \"\\t\" - табуляция\n",
    " - \"\\n\" - перенос строки"
   ]
  },
  {
   "cell_type": "code",
   "execution_count": 49,
   "id": "_jkTdtoWeKoy",
   "metadata": {
    "id": "_jkTdtoWeKoy",
    "outputId": "98b9fac1-a01e-4a78-da4f-2ac2ebac5478"
   },
   "outputs": [
    {
     "name": "stdout",
     "output_type": "stream",
     "text": [
      "Hello everyone!\n"
     ]
    }
   ],
   "source": [
    "print(\"Hello everyone!\")"
   ]
  },
  {
   "cell_type": "code",
   "execution_count": 50,
   "id": "WUyI0509eKoy",
   "metadata": {
    "id": "WUyI0509eKoy",
    "outputId": "ad055f89-e307-4f05-f7ab-21a0b0593f60"
   },
   "outputs": [
    {
     "name": "stdout",
     "output_type": "stream",
     "text": [
      "\tHello everyone!\n"
     ]
    }
   ],
   "source": [
    "print(\"\\tHello everyone!\")"
   ]
  },
  {
   "cell_type": "code",
   "execution_count": 51,
   "id": "hHu4bWqteKoy",
   "metadata": {
    "id": "hHu4bWqteKoy",
    "outputId": "622eb4b6-84b4-4138-d4e6-ecfdc6197329"
   },
   "outputs": [
    {
     "name": "stdout",
     "output_type": "stream",
     "text": [
      "Hello \teveryone!\n"
     ]
    }
   ],
   "source": [
    "print(\"Hello \\teveryone!\")"
   ]
  },
  {
   "cell_type": "code",
   "execution_count": 52,
   "id": "argHmmEjeKoy",
   "metadata": {
    "id": "argHmmEjeKoy",
    "outputId": "2a9f40da-6cdf-4285-e17f-32ba05e2b3c3"
   },
   "outputs": [
    {
     "name": "stdout",
     "output_type": "stream",
     "text": [
      "Hello!\n",
      "\n",
      "Hello everyone!\n"
     ]
    }
   ],
   "source": [
    "print(\"Hello!\")\n",
    "print(\"\\nHello everyone!\")"
   ]
  },
  {
   "cell_type": "code",
   "execution_count": 53,
   "id": "tnX6Pw6deKoz",
   "metadata": {
    "id": "tnX6Pw6deKoz",
    "outputId": "1ca66008-b232-44b3-dd67-3438126b0e41"
   },
   "outputs": [
    {
     "name": "stdout",
     "output_type": "stream",
     "text": [
      "Hello \n",
      "everyone!\n"
     ]
    }
   ],
   "source": [
    "print(\"Hello \\neveryone!\")"
   ]
  },
  {
   "cell_type": "code",
   "execution_count": 54,
   "id": "PeKQcEDMeKoz",
   "metadata": {
    "id": "PeKQcEDMeKoz",
    "outputId": "785ef893-1246-4fca-e112-343358de2a56"
   },
   "outputs": [
    {
     "name": "stdout",
     "output_type": "stream",
     "text": [
      "\n",
      "\n",
      "\n",
      "Hello everyone!\n"
     ]
    }
   ],
   "source": [
    "print(\"\\n\\n\\nHello everyone!\")"
   ]
  },
  {
   "cell_type": "markdown",
   "id": "HHLOItZBeKoz",
   "metadata": {
    "id": "HHLOItZBeKoz"
   },
   "source": [
    "#### Удаление лишних пробельных символов\n",
    "\n",
    "Часто при заполнении веб-форм появляются лишние пробелы слева и/или справа. От них можно избавиться."
   ]
  },
  {
   "cell_type": "code",
   "execution_count": 55,
   "id": "zC3XxjWkeKoz",
   "metadata": {
    "id": "zC3XxjWkeKoz",
    "outputId": "2aa40f36-d527-4ef2-a8c3-9c70104866e5"
   },
   "outputs": [
    {
     "name": "stdout",
     "output_type": "stream",
     "text": [
      "eric \n",
      " eric\n",
      "eric\n"
     ]
    }
   ],
   "source": [
    "name = ' eric '\n",
    "\n",
    "print(name.lstrip())\n",
    "print(name.rstrip())\n",
    "print(name.strip())"
   ]
  },
  {
   "cell_type": "markdown",
   "id": "C3A9yxhSeKoz",
   "metadata": {
    "id": "C3A9yxhSeKoz"
   },
   "source": [
    "Так нагляднее:"
   ]
  },
  {
   "cell_type": "code",
   "execution_count": 56,
   "id": "bWLpEjTfeKoz",
   "metadata": {
    "id": "bWLpEjTfeKoz",
    "outputId": "0ef32f56-beaf-4dfd-e41b-717014addc9f"
   },
   "outputs": [
    {
     "name": "stdout",
     "output_type": "stream",
     "text": [
      "-eric -\n",
      "- eric-\n",
      "-eric-\n"
     ]
    }
   ],
   "source": [
    "name = ' eric '\n",
    "\n",
    "print('-' + name.lstrip() + '-')\n",
    "print('-' + name.rstrip() + '-')\n",
    "print('-' + name.strip() + '-')"
   ]
  },
  {
   "cell_type": "markdown",
   "id": "DDYJhi8HeKoz",
   "metadata": {
    "id": "DDYJhi8HeKoz"
   },
   "source": [
    "Избавляться можно не только от пробелов. Здесь ',' - аргумент методов *lstrip()*, *rstrip()* и *strip()*"
   ]
  },
  {
   "cell_type": "code",
   "execution_count": 57,
   "id": "FQklIX8eeKoz",
   "metadata": {
    "id": "FQklIX8eeKoz",
    "outputId": "9eb3fba2-9bc1-4114-c502-c4a3350ae65a"
   },
   "outputs": [
    {
     "name": "stdout",
     "output_type": "stream",
     "text": [
      "-eric,,-\n",
      "-,,eric-\n",
      "-eric-\n"
     ]
    }
   ],
   "source": [
    "name = ',,eric,,'\n",
    "\n",
    "print('-' + name.lstrip(',') + '-')\n",
    "print('-' + name.rstrip(',') + '-')\n",
    "print('-' + name.strip(',') + '-')"
   ]
  },
  {
   "cell_type": "markdown",
   "id": "h23UtcBQeKoz",
   "metadata": {
    "id": "h23UtcBQeKoz"
   },
   "source": [
    "### Методы для работы со строками\n",
    "Обзор на <a href=\"http://pythonworld.ru/tipy-dannyx-v-python/stroki-funkcii-i-metody-strok.html\">Pythonworld</a>\n",
    "\n",
    "Все методы строк:"
   ]
  },
  {
   "cell_type": "code",
   "execution_count": 58,
   "id": "6dooDGD8eKoz",
   "metadata": {
    "id": "6dooDGD8eKoz",
    "outputId": "9b1010c0-f80a-42f9-b09a-69ba4aecdb5f"
   },
   "outputs": [
    {
     "data": {
      "text/plain": [
       "['__add__',\n",
       " '__class__',\n",
       " '__contains__',\n",
       " '__delattr__',\n",
       " '__dir__',\n",
       " '__doc__',\n",
       " '__eq__',\n",
       " '__format__',\n",
       " '__ge__',\n",
       " '__getattribute__',\n",
       " '__getitem__',\n",
       " '__getnewargs__',\n",
       " '__getstate__',\n",
       " '__gt__',\n",
       " '__hash__',\n",
       " '__init__',\n",
       " '__init_subclass__',\n",
       " '__iter__',\n",
       " '__le__',\n",
       " '__len__',\n",
       " '__lt__',\n",
       " '__mod__',\n",
       " '__mul__',\n",
       " '__ne__',\n",
       " '__new__',\n",
       " '__reduce__',\n",
       " '__reduce_ex__',\n",
       " '__repr__',\n",
       " '__rmod__',\n",
       " '__rmul__',\n",
       " '__setattr__',\n",
       " '__sizeof__',\n",
       " '__str__',\n",
       " '__subclasshook__',\n",
       " 'capitalize',\n",
       " 'casefold',\n",
       " 'center',\n",
       " 'count',\n",
       " 'encode',\n",
       " 'endswith',\n",
       " 'expandtabs',\n",
       " 'find',\n",
       " 'format',\n",
       " 'format_map',\n",
       " 'index',\n",
       " 'isalnum',\n",
       " 'isalpha',\n",
       " 'isascii',\n",
       " 'isdecimal',\n",
       " 'isdigit',\n",
       " 'isidentifier',\n",
       " 'islower',\n",
       " 'isnumeric',\n",
       " 'isprintable',\n",
       " 'isspace',\n",
       " 'istitle',\n",
       " 'isupper',\n",
       " 'join',\n",
       " 'ljust',\n",
       " 'lower',\n",
       " 'lstrip',\n",
       " 'maketrans',\n",
       " 'partition',\n",
       " 'removeprefix',\n",
       " 'removesuffix',\n",
       " 'replace',\n",
       " 'rfind',\n",
       " 'rindex',\n",
       " 'rjust',\n",
       " 'rpartition',\n",
       " 'rsplit',\n",
       " 'rstrip',\n",
       " 'split',\n",
       " 'splitlines',\n",
       " 'startswith',\n",
       " 'strip',\n",
       " 'swapcase',\n",
       " 'title',\n",
       " 'translate',\n",
       " 'upper',\n",
       " 'zfill']"
      ]
     },
     "execution_count": 58,
     "metadata": {},
     "output_type": "execute_result"
    }
   ],
   "source": [
    "dir(str)"
   ]
  },
  {
   "cell_type": "markdown",
   "id": "jOO4Dx0ZeKoz",
   "metadata": {
    "id": "jOO4Dx0ZeKoz"
   },
   "source": [
    "**find** - поиск подстроки в строке. Возвращает номер первого вхождения или -1"
   ]
  },
  {
   "cell_type": "code",
   "execution_count": 59,
   "id": "pGyP85xReKoz",
   "metadata": {
    "id": "pGyP85xReKoz",
    "outputId": "17e30ca1-1c9f-41f5-cde3-a32f3061eabf"
   },
   "outputs": [
    {
     "data": {
      "text/plain": [
       "0"
      ]
     },
     "execution_count": 59,
     "metadata": {},
     "output_type": "execute_result"
    }
   ],
   "source": [
    "\"we bought a new house and we are happy\".find(\"we\")"
   ]
  },
  {
   "cell_type": "code",
   "execution_count": 60,
   "id": "4-SS2SKceKoz",
   "metadata": {
    "id": "4-SS2SKceKoz",
    "outputId": "b71d3e08-567c-4f4d-f73a-bcf91165e7ab"
   },
   "outputs": [
    {
     "data": {
      "text/plain": [
       "12"
      ]
     },
     "execution_count": 60,
     "metadata": {},
     "output_type": "execute_result"
    }
   ],
   "source": [
    "\"we bought a new house and we are happy\".find(\"new\")"
   ]
  },
  {
   "cell_type": "code",
   "execution_count": 61,
   "id": "cvtmmq6beKoz",
   "metadata": {
    "id": "cvtmmq6beKoz",
    "outputId": "ae0f0fa0-5618-45d0-d947-cd82559a5787"
   },
   "outputs": [
    {
     "data": {
      "text/plain": [
       "-1"
      ]
     },
     "execution_count": 61,
     "metadata": {},
     "output_type": "execute_result"
    }
   ],
   "source": [
    "\"we bought a new house and we are happy\".find(\"up\")"
   ]
  },
  {
   "cell_type": "markdown",
   "id": "qzhPrzkVeKoz",
   "metadata": {
    "id": "qzhPrzkVeKoz"
   },
   "source": [
    "**rfind** - поиск подстроки в строке. Возвращает номер последнего вхождения или -1"
   ]
  },
  {
   "cell_type": "code",
   "execution_count": 62,
   "id": "8RN0JXCdeKo0",
   "metadata": {
    "id": "8RN0JXCdeKo0",
    "outputId": "b3aa1fed-02db-48b8-fcb5-c69dd24869cf"
   },
   "outputs": [
    {
     "data": {
      "text/plain": [
       "26"
      ]
     },
     "execution_count": 62,
     "metadata": {},
     "output_type": "execute_result"
    }
   ],
   "source": [
    "\"we bought a new house and we are happy\".rfind(\"we\")"
   ]
  },
  {
   "cell_type": "markdown",
   "id": "NwUqzXy5eKo0",
   "metadata": {
    "id": "NwUqzXy5eKo0"
   },
   "source": [
    "**index** - поиск подстроки в строке. Возвращает номер первого вхождения или вызывает ValueError"
   ]
  },
  {
   "cell_type": "code",
   "execution_count": 63,
   "id": "IkS3qbR7eKo0",
   "metadata": {
    "id": "IkS3qbR7eKo0",
    "outputId": "b1a4a21a-2c48-471d-cb4c-0161060e14af"
   },
   "outputs": [
    {
     "data": {
      "text/plain": [
       "0"
      ]
     },
     "execution_count": 63,
     "metadata": {},
     "output_type": "execute_result"
    }
   ],
   "source": [
    "\"we bought a new house and we are happy\".index(\"we\")"
   ]
  },
  {
   "cell_type": "code",
   "execution_count": 64,
   "id": "eSbwJ2bseKo0",
   "metadata": {
    "id": "eSbwJ2bseKo0",
    "outputId": "5e5d59c2-9507-4a78-f71e-177e7c78c4bc"
   },
   "outputs": [
    {
     "ename": "ValueError",
     "evalue": "substring not found",
     "output_type": "error",
     "traceback": [
      "\u001b[1;31m---------------------------------------------------------------------------\u001b[0m",
      "\u001b[1;31mValueError\u001b[0m                                Traceback (most recent call last)",
      "Cell \u001b[1;32mIn[64], line 1\u001b[0m\n\u001b[1;32m----> 1\u001b[0m \u001b[38;5;124m\"\u001b[39m\u001b[38;5;124mwe bought a new house and we are happy\u001b[39m\u001b[38;5;124m\"\u001b[39m\u001b[38;5;241m.\u001b[39mindex(\u001b[38;5;124m\"\u001b[39m\u001b[38;5;124mland\u001b[39m\u001b[38;5;124m\"\u001b[39m)\n",
      "\u001b[1;31mValueError\u001b[0m: substring not found"
     ]
    }
   ],
   "source": [
    "\"we bought a new house and we are happy\".index(\"land\")"
   ]
  },
  {
   "cell_type": "markdown",
   "id": "okQO7Zm-eKo0",
   "metadata": {
    "id": "okQO7Zm-eKo0"
   },
   "source": [
    "**rindex** - поиск подстроки в строке. Возвращает номер последнего вхождения или вызывает ValueError"
   ]
  },
  {
   "cell_type": "code",
   "execution_count": 65,
   "id": "I4OJZhG_eKo0",
   "metadata": {
    "id": "I4OJZhG_eKo0",
    "outputId": "faac7bea-e79b-42e6-adbd-1189cc0710a8"
   },
   "outputs": [
    {
     "data": {
      "text/plain": [
       "26"
      ]
     },
     "execution_count": 65,
     "metadata": {},
     "output_type": "execute_result"
    }
   ],
   "source": [
    "\"we bought a new house and we are happy\".rindex(\"we\")"
   ]
  },
  {
   "cell_type": "code",
   "execution_count": 66,
   "id": "UQzjrDdseKo0",
   "metadata": {
    "id": "UQzjrDdseKo0",
    "outputId": "588f9ee4-26c1-484d-d68c-1664208ff17d"
   },
   "outputs": [
    {
     "ename": "ValueError",
     "evalue": "substring not found",
     "output_type": "error",
     "traceback": [
      "\u001b[1;31m---------------------------------------------------------------------------\u001b[0m",
      "\u001b[1;31mValueError\u001b[0m                                Traceback (most recent call last)",
      "Cell \u001b[1;32mIn[66], line 1\u001b[0m\n\u001b[1;32m----> 1\u001b[0m \u001b[38;5;124m\"\u001b[39m\u001b[38;5;124mwe bought a new house and we are happy\u001b[39m\u001b[38;5;124m\"\u001b[39m\u001b[38;5;241m.\u001b[39mrindex(\u001b[38;5;124m\"\u001b[39m\u001b[38;5;124mland\u001b[39m\u001b[38;5;124m\"\u001b[39m)\n",
      "\u001b[1;31mValueError\u001b[0m: substring not found"
     ]
    }
   ],
   "source": [
    "\"we bought a new house and we are happy\".rindex(\"land\")"
   ]
  },
  {
   "cell_type": "markdown",
   "id": "_IE1AWz7eKo0",
   "metadata": {
    "id": "_IE1AWz7eKo0"
   },
   "source": [
    "**replace** - замена по шаблону"
   ]
  },
  {
   "cell_type": "code",
   "execution_count": 67,
   "id": "HwzYP1m8eKo0",
   "metadata": {
    "id": "HwzYP1m8eKo0",
    "outputId": "f31325ed-be83-4b4e-ab66-7939dc004cfb"
   },
   "outputs": [
    {
     "name": "stdout",
     "output_type": "stream",
     "text": [
      "Help on method_descriptor:\n",
      "\n",
      "replace(self, old, new, count=-1, /)\n",
      "    Return a copy with all occurrences of substring old replaced by new.\n",
      "    \n",
      "      count\n",
      "        Maximum number of occurrences to replace.\n",
      "        -1 (the default value) means replace all occurrences.\n",
      "    \n",
      "    If the optional argument count is given, only the first count occurrences are\n",
      "    replaced.\n",
      "\n"
     ]
    }
   ],
   "source": [
    "help(str.replace)"
   ]
  },
  {
   "cell_type": "code",
   "execution_count": 68,
   "id": "DQXWsqEXeKo0",
   "metadata": {
    "id": "DQXWsqEXeKo0",
    "outputId": "e3a52825-f053-4604-82b8-498ef9a7aedc"
   },
   "outputs": [
    {
     "data": {
      "text/plain": [
       "'we bought a new building'"
      ]
     },
     "execution_count": 68,
     "metadata": {},
     "output_type": "execute_result"
    }
   ],
   "source": [
    "\"we bought a new house\".replace(\"house\", \"building\")"
   ]
  },
  {
   "cell_type": "code",
   "execution_count": 69,
   "id": "6c0yWAvqeKo0",
   "metadata": {
    "id": "6c0yWAvqeKo0",
    "outputId": "266ca38c-b786-483b-d07f-53b3a3fb4893"
   },
   "outputs": [
    {
     "data": {
      "text/plain": [
       "'wow wow wow'"
      ]
     },
     "execution_count": 69,
     "metadata": {},
     "output_type": "execute_result"
    }
   ],
   "source": [
    "\"bla bla bla\".replace(\"bla\", \"wow\", 3)"
   ]
  },
  {
   "cell_type": "markdown",
   "id": "zC9tTaQheKo0",
   "metadata": {
    "id": "zC9tTaQheKo0"
   },
   "source": [
    "**split** - разбиение строки по разделителю"
   ]
  },
  {
   "cell_type": "code",
   "execution_count": 70,
   "id": "tKcmDB1feKo0",
   "metadata": {
    "id": "tKcmDB1feKo0",
    "outputId": "17a20726-5f14-4613-868b-00c4ca5c7eea"
   },
   "outputs": [
    {
     "data": {
      "text/plain": [
       "['hello', 'great', 'to', 'see', 'you']"
      ]
     },
     "execution_count": 70,
     "metadata": {},
     "output_type": "execute_result"
    }
   ],
   "source": [
    "\"hello#$great#$to#$see#$you\".split(\"#$\")"
   ]
  },
  {
   "cell_type": "markdown",
   "id": "pAS-oRPweKo0",
   "metadata": {
    "id": "pAS-oRPweKo0"
   },
   "source": [
    "- **isdigit** - состоит ли строка из цифр;\n",
    "- **isalpha** - состоит ли строка из букв;\n",
    "- **isalnum** - состоит ли строка из цифр или букв;\n",
    "- **islower** - состоит ли строка из символов в нижнем регистре;\n",
    "- **isupper** - состоит ли строка из символов в верхнем регистре;\n",
    "- **istitle** - начинаются ли слова в строке с заглавной буквы."
   ]
  },
  {
   "cell_type": "code",
   "execution_count": 71,
   "id": "YsRlLa-1eKo0",
   "metadata": {
    "id": "YsRlLa-1eKo0",
    "outputId": "04c6046f-e3ac-4fc0-b864-146bd22c65f8"
   },
   "outputs": [
    {
     "name": "stdout",
     "output_type": "stream",
     "text": [
      "['Райгородский', 'Андрей', 'Михайлович']\n"
     ]
    }
   ],
   "source": [
    "splitted_line = \"Райгородский Андрей Михайлович\".split(' ')\n",
    "print(splitted_line)"
   ]
  },
  {
   "cell_type": "code",
   "execution_count": 72,
   "id": "zkRkyvFXeKo1",
   "metadata": {
    "id": "zkRkyvFXeKo1",
    "outputId": "3585a4c9-a8cc-48d2-8ea8-56a2cc0a1571"
   },
   "outputs": [
    {
     "data": {
      "text/plain": [
       "False"
      ]
     },
     "execution_count": 72,
     "metadata": {},
     "output_type": "execute_result"
    }
   ],
   "source": [
    "\"hello#$great#$to#$see#$you\".isdigit()"
   ]
  },
  {
   "cell_type": "code",
   "execution_count": 73,
   "id": "cYFfD-L9eKo1",
   "metadata": {
    "id": "cYFfD-L9eKo1",
    "outputId": "13d99988-c79a-4131-a37f-a5d44b5f2ed8"
   },
   "outputs": [
    {
     "data": {
      "text/plain": [
       "True"
      ]
     },
     "execution_count": 73,
     "metadata": {},
     "output_type": "execute_result"
    }
   ],
   "source": [
    "\"454654546546\".isdigit()"
   ]
  },
  {
   "cell_type": "markdown",
   "id": "ix2tUFHxeKo1",
   "metadata": {
    "collapsed": true,
    "id": "ix2tUFHxeKo1",
    "jupyter": {
     "outputs_hidden": true
    }
   },
   "source": [
    "**join** - сборка строки из списка по разделителю, применяется к разделителю"
   ]
  },
  {
   "cell_type": "code",
   "execution_count": 74,
   "id": "eyLJqabCeKo1",
   "metadata": {
    "id": "eyLJqabCeKo1",
    "outputId": "4f2724bc-d30c-4570-e0b9-a5f0b6302d6d"
   },
   "outputs": [
    {
     "data": {
      "text/plain": [
       "'Ann,Leo,Tiffany'"
      ]
     },
     "execution_count": 74,
     "metadata": {},
     "output_type": "execute_result"
    }
   ],
   "source": [
    "\",\".join([\"Ann\", \"Leo\", \"Tiffany\"])"
   ]
  },
  {
   "cell_type": "markdown",
   "id": "XFiQilCieKo1",
   "metadata": {
    "id": "XFiQilCieKo1"
   },
   "source": [
    "**len()** - длина строки"
   ]
  },
  {
   "cell_type": "code",
   "execution_count": 75,
   "id": "qr0xeED_eKo1",
   "metadata": {
    "id": "qr0xeED_eKo1"
   },
   "outputs": [],
   "source": [
    "a = 'Андрей'\n",
    "b = \"Михайлович\""
   ]
  },
  {
   "cell_type": "code",
   "execution_count": 76,
   "id": "jqRzU2ACeKo1",
   "metadata": {
    "id": "jqRzU2ACeKo1",
    "outputId": "392b180b-9dc6-43ba-8e43-a535bc3f8175"
   },
   "outputs": [
    {
     "name": "stdout",
     "output_type": "stream",
     "text": [
      "6\n"
     ]
    }
   ],
   "source": [
    "print(len(a))"
   ]
  },
  {
   "cell_type": "markdown",
   "id": "65400cf6-845a-4eb8-bdcd-870ddc6a3313",
   "metadata": {},
   "source": [
    "**Срезы**"
   ]
  },
  {
   "cell_type": "code",
   "execution_count": 77,
   "id": "P7Swf1ngeKo1",
   "metadata": {
    "id": "P7Swf1ngeKo1",
    "outputId": "777757c2-faa9-43b9-8b41-626bb687c80b"
   },
   "outputs": [
    {
     "name": "stdout",
     "output_type": "stream",
     "text": [
      "Андрей\n",
      "А\n",
      "н\n",
      "Анд\n",
      "й\n",
      "Pндрей\n"
     ]
    }
   ],
   "source": [
    "print(a)\n",
    "print(a[0])\n",
    "print(a[1])\n",
    "print(a[0:3])\n",
    "print(a[-1])\n",
    "print('P' + a[1:])"
   ]
  },
  {
   "cell_type": "markdown",
   "id": "0888fff0-8fdb-4300-ae49-468952723c0a",
   "metadata": {},
   "source": [
    "В примере выше: 'P' + s[1:] использовалась очень популярная операция над последовательностями в Питоне — взятие среза.\n",
    "\n",
    "В срезе s[i:j] полученная подпоследовательность включает в себя элементы с индексами из $[i, j)$."
   ]
  },
  {
   "cell_type": "markdown",
   "id": "30166de3-fe1a-433c-a15e-093251e8392d",
   "metadata": {},
   "source": [
    "Срез — извлечение из последовательности одного элемента или некоторого фрагмента (подпоследовательности).\n",
    "\n",
    "Синтаксис среза:\n",
    "\n",
    "\n",
    "``` python\n",
    "[<начало> : <конец> : <шаг>]\n",
    "```\n",
    "где\n",
    "* начало -  начало диапазона индексов\n",
    "* конец -  конец диапазона индексов\n",
    "* шаг - шаг диапазона (не обязательный параметр)\n"
   ]
  },
  {
   "cell_type": "code",
   "execution_count": 78,
   "id": "zbKGQFugeKo1",
   "metadata": {
    "id": "zbKGQFugeKo1",
    "outputId": "9a772182-1d77-4f83-9ccc-9d91e430df93"
   },
   "outputs": [
    {
     "name": "stdout",
     "output_type": "stream",
     "text": [
      "Ад\n"
     ]
    }
   ],
   "source": [
    "print(a[0:4:2])"
   ]
  },
  {
   "cell_type": "code",
   "execution_count": 79,
   "id": "ee6f5f49-8734-4ff9-9254-65ae53ff8370",
   "metadata": {},
   "outputs": [],
   "source": [
    "s = 'python'"
   ]
  },
  {
   "cell_type": "code",
   "execution_count": 80,
   "id": "0df08fed-dcae-4ad6-bb32-6f232401f876",
   "metadata": {},
   "outputs": [
    {
     "data": {
      "text/plain": [
       "'ython'"
      ]
     },
     "execution_count": 80,
     "metadata": {},
     "output_type": "execute_result"
    }
   ],
   "source": [
    "s[1:] # от s[1] до s[len(s) - 1]"
   ]
  },
  {
   "cell_type": "code",
   "execution_count": 81,
   "id": "b202c936-a2b2-4ef2-a90d-2745ac6e0cb7",
   "metadata": {},
   "outputs": [
    {
     "data": {
      "text/plain": [
       "'pyt'"
      ]
     },
     "execution_count": 81,
     "metadata": {},
     "output_type": "execute_result"
    }
   ],
   "source": [
    "s[:3] # от s[0] до s[2]"
   ]
  },
  {
   "cell_type": "markdown",
   "id": "51b8ff1a-8251-4835-826c-d4eb717f0474",
   "metadata": {},
   "source": [
    "Индекс -1 обозначает индекс последнего элемента последовательности. В общем случае обращение по отрицательному индексу `s[-i]` трактуется, как `s[len(s) - i]`."
   ]
  },
  {
   "cell_type": "code",
   "execution_count": 82,
   "id": "7db39d99-cb5b-4d86-8fd5-ebb9d7286da2",
   "metadata": {},
   "outputs": [
    {
     "data": {
      "text/plain": [
       "('n', 'ytho', 'ytho')"
      ]
     },
     "execution_count": 82,
     "metadata": {},
     "output_type": "execute_result"
    }
   ],
   "source": [
    "s[-1], s[-5:-1], s[len(s) - 5:len(s) - 1]"
   ]
  },
  {
   "cell_type": "code",
   "execution_count": 83,
   "id": "a987902c-39f4-426c-a59a-bdd4fde0f6c6",
   "metadata": {},
   "outputs": [
    {
     "data": {
      "text/plain": [
       "'ytho'"
      ]
     },
     "execution_count": 83,
     "metadata": {},
     "output_type": "execute_result"
    }
   ],
   "source": [
    "s[1:-1] # от s[1] до s[len(s) - 2]"
   ]
  },
  {
   "cell_type": "code",
   "execution_count": 84,
   "id": "186b2837-1342-453c-a19a-7cde13712d9f",
   "metadata": {},
   "outputs": [
    {
     "data": {
      "text/plain": [
       "'pto'"
      ]
     },
     "execution_count": 84,
     "metadata": {},
     "output_type": "execute_result"
    }
   ],
   "source": [
    "s[::2] # от s[0] до s[len(s) - 1] с шагом 2"
   ]
  },
  {
   "cell_type": "markdown",
   "id": "33b4cfbd-4e0b-4fe3-9daa-1292ad25face",
   "metadata": {},
   "source": [
    "Для неизменяемой последовательности, примером которой является строка, определен ряд общих операций:\n",
    "\n",
    "| Операция         | Описание                                |\n",
    "|------------------|-----------------------------------------|\n",
    "|      x in s      | Проверка на наличие x в s             |\n",
    "|    x not in s    | Проверка на отсутствие x в s            |\n",
    "|      s1 + s2     | Соединение последовательностей          |\n",
    "| s * n            | Последовательность из n повторений s    |\n",
    "| s[i]             | Получение элемента по индексу           |\n",
    "| s[i:j], s[i:j:k] | Получение подпоследовательности (среза) |\n",
    "| len(s)           | Длина s                                 |\n",
    "| max(s), min(s)   | Максимальный/минимальный элемент в s    |\n",
    "| s.index(x)       | Индекс первого вхождения x в s          |\n",
    "| s.count(x)       | Количество вхождений x в s              |"
   ]
  },
  {
   "cell_type": "markdown",
   "id": "ac07c0bf-af34-422c-be1f-ae0a083dea54",
   "metadata": {},
   "source": [
    "Для экранирования специальных символов в Питоне используются знакомые программистам на C++ средства:"
   ]
  },
  {
   "cell_type": "code",
   "execution_count": 85,
   "id": "82b20a02-0217-48db-9a3f-4d76e7985c11",
   "metadata": {},
   "outputs": [
    {
     "name": "stdout",
     "output_type": "stream",
     "text": [
      "first\n",
      "second\n"
     ]
    }
   ],
   "source": [
    "print('first\\nsecond')"
   ]
  },
  {
   "cell_type": "markdown",
   "id": "0e627814-be35-40fb-acc7-df1768023b3b",
   "metadata": {},
   "source": [
    "При необходимости, интерпретацию специальных символов можно отключить при использовании строкового литерала с префиксом r:"
   ]
  },
  {
   "cell_type": "code",
   "execution_count": 86,
   "id": "70872b05-4a34-44a4-b094-ac937c750bfe",
   "metadata": {},
   "outputs": [
    {
     "name": "stdout",
     "output_type": "stream",
     "text": [
      "first\\nsecond\n"
     ]
    }
   ],
   "source": [
    "print(r'first\\nsecond')"
   ]
  },
  {
   "cell_type": "markdown",
   "id": "f7026343-3a66-4a21-8c09-44fb062c3ff3",
   "metadata": {},
   "source": [
    "Следует избегать построения длинных строк с помощью тяжеловесной операции `+` (конкатенации). Большей производительности можно достичь с помощью метода `join()`, как показано ниже:"
   ]
  },
  {
   "cell_type": "code",
   "execution_count": 87,
   "id": "9b5af45e-da6e-4ce3-9a18-77d702533763",
   "metadata": {},
   "outputs": [
    {
     "data": {
      "text/plain": [
       "'АБВГДЕЖЗИЙКЛМНОПРСТУФХЦЧШЩЪЫЬЭЮЯ'"
      ]
     },
     "execution_count": 87,
     "metadata": {},
     "output_type": "execute_result"
    }
   ],
   "source": [
    "alpha = range(ord('А'), ord('Я') + 1)\n",
    "\n",
    "''.join([chr(c) for c in alpha])"
   ]
  },
  {
   "cell_type": "markdown",
   "id": "7bb7ae0e-ef00-4d45-ba31-b929224f79c9",
   "metadata": {},
   "source": [
    "Описание других методов для работы со строками в Питоне можно найти в [официальной документации](https://docs.python.org/3/library/stdtypes.html#string-methods)."
   ]
  },
  {
   "cell_type": "code",
   "execution_count": 88,
   "id": "4fO3W_ATeKo1",
   "metadata": {
    "id": "4fO3W_ATeKo1",
    "outputId": "4ca1e4dc-cd1f-4f25-bcfd-c0979a65d58e"
   },
   "outputs": [
    {
     "name": "stdout",
     "output_type": "stream",
     "text": [
      "Винни Пух и Пятачок <class 'str'>\n",
      "\n",
      "b'\\xd0\\x92\\xd0\\xb8\\xd0\\xbd\\xd0\\xbd\\xd0\\xb8 \\xd0\\x9f\\xd1\\x83\\xd1\\x85 \\xd0\\xb8 \\xd0\\x9f\\xd1\\x8f\\xd1\\x82\\xd0\\xb0\\xd1\\x87\\xd0\\xbe\\xd0\\xba' <class 'bytes'>\n",
      "\n",
      "Винни Пух и Пятачок <class 'str'>\n",
      "\n",
      "Р’РёРЅРЅРё РџСѓС… Рё РџСЏС‚Р°С‡РѕРє <class 'str'>\n"
     ]
    }
   ],
   "source": [
    "x = 'Винни Пух и Пятачок'\n",
    "\n",
    "print(x, type(x))\n",
    "print()\n",
    "\n",
    "y = x.encode('utf-8')\n",
    "\n",
    "print(y, type(y))\n",
    "print()\n",
    "\n",
    "w = y.decode('utf-8')\n",
    "\n",
    "print(w, type(w))\n",
    "print()\n",
    "\n",
    "q = y.decode('cp1251')\n",
    "\n",
    "print(q, type(q))"
   ]
  },
  {
   "cell_type": "markdown",
   "id": "984819df-bb00-464a-a13b-264a4bda015e",
   "metadata": {
    "id": "f607fb1c-4a58-4828-8ce1-de5626f554d9"
   },
   "source": [
    "# Задание\n",
    "Дана произвольная строка.\n",
    "1. Сначала выведите третий символ этой строки (считая, что нумерация символов начинается с 1).\n",
    "2. Во второй строке выведите предпоследний символ этой строки.\n",
    "3. В третьей строке выведите первые пять символов этой строки.\n",
    "4. В четвертой строке выведите всю строку, кроме последних двух символов.\n",
    "5. В пятой строке выведите все символы с четными индексами (считая, что индексация начинается с 0).\n",
    "6. В шестой строке выведите все символы с нечетными индексами (считая, что индексация начинается с 0).\n",
    "7. В седьмой строке выведите все символы в обратном порядке.\n",
    "8. В восьмой строке выведите все символы строки через один в обратном порядке, начиная с последнего.\n",
    "9. В девятой строке выведите длину данной строки.\n",
    "\n",
    "**Пример:**\n",
    "\n",
    "*Входные данные:*\n",
    "\n",
    "    Abrakadabra\n",
    "\n",
    "*Выходные данные:*\n",
    "\n",
    "    r\n",
    "    r\n",
    "    Abrak\n",
    "    Abrakadab\n",
    "    Arkdba\n",
    "    baaar\n",
    "    arbadakarbA\n",
    "    abdkrA\n",
    "    11"
   ]
  },
  {
   "cell_type": "code",
   "execution_count": 1,
   "id": "847b51d1-18ea-4c2c-834d-66dce26c6d97",
   "metadata": {},
   "outputs": [],
   "source": [
    "name = \"Simsalabim\""
   ]
  },
  {
   "cell_type": "code",
   "execution_count": 7,
   "id": "40f0ec85-048f-435e-a871-0123f8671f49",
   "metadata": {},
   "outputs": [
    {
     "data": {
      "text/plain": [
       "'m'"
      ]
     },
     "execution_count": 7,
     "metadata": {},
     "output_type": "execute_result"
    }
   ],
   "source": [
    "name[2]"
   ]
  },
  {
   "cell_type": "code",
   "execution_count": 3,
   "id": "6790183d-f5af-4974-a224-7a0df28d7548",
   "metadata": {},
   "outputs": [
    {
     "data": {
      "text/plain": [
       "'i'"
      ]
     },
     "execution_count": 3,
     "metadata": {},
     "output_type": "execute_result"
    }
   ],
   "source": [
    "name[-2]"
   ]
  },
  {
   "cell_type": "code",
   "execution_count": 8,
   "id": "b4d431e6-fce4-41e9-9021-1c7a7d3b6d05",
   "metadata": {},
   "outputs": [
    {
     "data": {
      "text/plain": [
       "'Simsa'"
      ]
     },
     "execution_count": 8,
     "metadata": {},
     "output_type": "execute_result"
    }
   ],
   "source": [
    "name[:5]"
   ]
  },
  {
   "cell_type": "code",
   "execution_count": 9,
   "id": "59fcdb10-9bbf-46fb-bd51-d59e929715ce",
   "metadata": {},
   "outputs": [
    {
     "data": {
      "text/plain": [
       "'Simsalab'"
      ]
     },
     "execution_count": 9,
     "metadata": {},
     "output_type": "execute_result"
    }
   ],
   "source": [
    "name[:-2]"
   ]
  },
  {
   "cell_type": "code",
   "execution_count": 10,
   "id": "a5d10e8e-71ea-4b3f-8825-d71f00a8d9ea",
   "metadata": {},
   "outputs": [
    {
     "data": {
      "text/plain": [
       "'Smaai'"
      ]
     },
     "execution_count": 10,
     "metadata": {},
     "output_type": "execute_result"
    }
   ],
   "source": [
    "name[::2]"
   ]
  },
  {
   "cell_type": "code",
   "execution_count": 11,
   "id": "2a12fb5d-bf32-4d36-af23-00f224497b0d",
   "metadata": {},
   "outputs": [
    {
     "data": {
      "text/plain": [
       "'islbm'"
      ]
     },
     "execution_count": 11,
     "metadata": {},
     "output_type": "execute_result"
    }
   ],
   "source": [
    "name[1::2]"
   ]
  },
  {
   "cell_type": "code",
   "execution_count": 12,
   "id": "64bfaa21-dba3-498e-8105-41a71f4c0c49",
   "metadata": {},
   "outputs": [
    {
     "data": {
      "text/plain": [
       "'mibalasmiS'"
      ]
     },
     "execution_count": 12,
     "metadata": {},
     "output_type": "execute_result"
    }
   ],
   "source": [
    "name[::-1]"
   ]
  },
  {
   "cell_type": "code",
   "execution_count": 13,
   "id": "400d0c9e-57ad-4821-9ef3-308df112422e",
   "metadata": {},
   "outputs": [
    {
     "data": {
      "text/plain": [
       "'mblsi'"
      ]
     },
     "execution_count": 13,
     "metadata": {},
     "output_type": "execute_result"
    }
   ],
   "source": [
    "name[::-2]"
   ]
  },
  {
   "cell_type": "code",
   "execution_count": 14,
   "id": "e03c7b45-dc93-41fe-8103-eba8f65a8c3e",
   "metadata": {},
   "outputs": [
    {
     "data": {
      "text/plain": [
       "10"
      ]
     },
     "execution_count": 14,
     "metadata": {},
     "output_type": "execute_result"
    }
   ],
   "source": [
    "len(name)"
   ]
  },
  {
   "cell_type": "markdown",
   "id": "da8eb74c-7fcb-4e01-b71d-dc0360d3eeb2",
   "metadata": {},
   "source": [
    "### Операции над строками\n",
    "\n",
    "Что мы можем с ними делать?\n",
    "\n",
    "- проверять условия\n",
    "- искать подстроки\n",
    "- превращать\n",
    "- разбивать\n",
    "- складывать"
   ]
  },
  {
   "cell_type": "markdown",
   "id": "608357e9-2610-45fd-a3f0-9f2a68c5a33e",
   "metadata": {},
   "source": [
    "### Условия\n",
    "\n",
    "- пустота\n",
    "- равенство\n",
    "- сравнения\n",
    "- вхождение подстроки"
   ]
  },
  {
   "cell_type": "code",
   "execution_count": 89,
   "id": "57550194-a985-48c8-ac30-bf19e77b2e56",
   "metadata": {},
   "outputs": [
    {
     "data": {
      "text/plain": [
       "True"
      ]
     },
     "execution_count": 89,
     "metadata": {},
     "output_type": "execute_result"
    }
   ],
   "source": [
    "'two' in 'one, two, tree'"
   ]
  },
  {
   "cell_type": "code",
   "execution_count": 90,
   "id": "ed95fb81-a9c2-4be7-84b1-e9ffd34b643a",
   "metadata": {},
   "outputs": [
    {
     "data": {
      "text/plain": [
       "True"
      ]
     },
     "execution_count": 90,
     "metadata": {},
     "output_type": "execute_result"
    }
   ],
   "source": [
    "'four' not in 'one, two, tree'"
   ]
  },
  {
   "cell_type": "code",
   "execution_count": 91,
   "id": "a786ff05-9070-4f3e-bffd-52ac61a0a30d",
   "metadata": {},
   "outputs": [
    {
     "name": "stdout",
     "output_type": "stream",
     "text": [
      "True\n"
     ]
    }
   ],
   "source": [
    "# Условия вхождения\n",
    "# входит ли символ в строку?\n",
    "\n",
    "print('a' in 'abracadabra')"
   ]
  },
  {
   "cell_type": "code",
   "execution_count": 92,
   "id": "28be7179-2487-4628-8bda-b61097f4842f",
   "metadata": {},
   "outputs": [
    {
     "name": "stdout",
     "output_type": "stream",
     "text": [
      "True\n"
     ]
    }
   ],
   "source": [
    "# более обще: входит ли подстрока в строку?\n",
    "\n",
    "print('cad' in 'abracadabra')"
   ]
  },
  {
   "cell_type": "code",
   "execution_count": 93,
   "id": "f4dbee37-4f12-442b-8ce7-ecb9f8b9279b",
   "metadata": {},
   "outputs": [
    {
     "name": "stdout",
     "output_type": "stream",
     "text": [
      "True\n"
     ]
    }
   ],
   "source": [
    "# \"не входит ли?\"\n",
    "\n",
    "print('bad' not in 'abracadabra')    "
   ]
  },
  {
   "cell_type": "code",
   "execution_count": 94,
   "id": "60f7a76f-5eaa-4b43-ae11-45e4b166c261",
   "metadata": {},
   "outputs": [],
   "source": [
    "digits = '0123456789'"
   ]
  },
  {
   "cell_type": "code",
   "execution_count": 95,
   "id": "13a4f6fe-195e-428d-a02c-ce428bc219b6",
   "metadata": {},
   "outputs": [
    {
     "name": "stdout",
     "output_type": "stream",
     "text": [
      "012 3456 789\n"
     ]
    }
   ],
   "source": [
    "# полуинтервалы\n",
    "\n",
    "print(digits[:3], digits[3:7], digits[7:])"
   ]
  },
  {
   "cell_type": "code",
   "execution_count": 96,
   "id": "822fc5d8-75aa-4a82-a184-1a72a7ccc3c9",
   "metadata": {},
   "outputs": [
    {
     "name": "stdout",
     "output_type": "stream",
     "text": [
      "2345 2345\n"
     ]
    }
   ],
   "source": [
    "# индексы можно отсчитывать и от конца: -N = len(s)-N\n",
    "\n",
    "print(digits[2:-4], digits[-8:6])   "
   ]
  },
  {
   "cell_type": "code",
   "execution_count": 97,
   "id": "d63a1743-90fe-4264-b400-3fdb29078b05",
   "metadata": {},
   "outputs": [
    {
     "name": "stdout",
     "output_type": "stream",
     "text": [
      "9876543210\n"
     ]
    }
   ],
   "source": [
    "# полуинтервалы с произвольным шагом\n",
    "# разворот строки: \"от начала до конца с шагом -1\"\n",
    "\n",
    "print(digits[::-1])   "
   ]
  },
  {
   "cell_type": "code",
   "execution_count": 98,
   "id": "a06f3dc9-ef8a-4d68-97f2-cb7f88e91ca5",
   "metadata": {},
   "outputs": [
    {
     "name": "stdout",
     "output_type": "stream",
     "text": [
      "98 7654 3210\n"
     ]
    }
   ],
   "source": [
    "print(digits[:7:-1], digits[7:3:-1], digits[3::-1])"
   ]
  },
  {
   "cell_type": "code",
   "execution_count": 99,
   "id": "f610e3c8-d842-43ec-801d-13b89d69c4a0",
   "metadata": {},
   "outputs": [
    {
     "name": "stdout",
     "output_type": "stream",
     "text": [
      "02468 13579\n"
     ]
    }
   ],
   "source": [
    "# каждый второй символ (начиная с начала, начиная с первого)\n",
    "\n",
    "print(digits[::2], digits[1::2])    "
   ]
  },
  {
   "cell_type": "code",
   "execution_count": 100,
   "id": "f1c0bbf5-f83b-4c37-afa1-96f6c90917ce",
   "metadata": {},
   "outputs": [
    {
     "name": "stdout",
     "output_type": "stream",
     "text": [
      "['много', 'слов', 'со', 'всякими', 'пробелами']\n",
      "['', '', '', 'слова', 'разделённые', '', 'двоеточиями', '']\n"
     ]
    }
   ],
   "source": [
    "# разбиения по символу-разделителю\n",
    "\n",
    "print('   много слов  со  \\n\\t\\t всякими пробелами   '.split())\n",
    "print(':::слова:разделённые::двоеточиями:'.split(':'))"
   ]
  },
  {
   "cell_type": "code",
   "execution_count": 101,
   "id": "cb9ce567-b757-432d-96b8-b4af2b507331",
   "metadata": {},
   "outputs": [],
   "source": [
    "text = '''\n",
    "здесь будет\n",
    "несколько\n",
    "строк текста\n",
    "'''"
   ]
  },
  {
   "cell_type": "code",
   "execution_count": 102,
   "id": "42b1f6a9-89bf-4730-b149-4dbf8d99c9f3",
   "metadata": {},
   "outputs": [
    {
     "data": {
      "text/plain": [
       "'\\nздесь будет\\nнесколько\\nстрок текста\\n'"
      ]
     },
     "execution_count": 102,
     "metadata": {},
     "output_type": "execute_result"
    }
   ],
   "source": [
    "text"
   ]
  },
  {
   "cell_type": "code",
   "execution_count": 103,
   "id": "d8d79d50-5c9d-4a35-9cbb-bd824a6338a8",
   "metadata": {},
   "outputs": [
    {
     "name": "stdout",
     "output_type": "stream",
     "text": [
      "['', 'здесь будет', 'несколько', 'строк текста']\n",
      "['\\n', 'здесь будет\\n', 'несколько\\n', 'строк текста\\n']\n"
     ]
    }
   ],
   "source": [
    "print(text.splitlines())\n",
    "print(text.splitlines(True)) # не откусывать перевод строки на новую строку"
   ]
  },
  {
   "cell_type": "markdown",
   "id": "211e1a27-ac9b-4221-afbd-44374803ec0b",
   "metadata": {},
   "source": [
    "### Склеивание\n",
    "\n",
    "- с разделителем и без\n",
    "- фиксированное и произвольное количество строк\n",
    "- умножение"
   ]
  },
  {
   "cell_type": "code",
   "execution_count": 104,
   "id": "1d82e68a-3ffc-4239-8d4a-cfd8d670d4a2",
   "metadata": {},
   "outputs": [],
   "source": [
    "x, y, k = '<iks>', '<igrek>', '<kei>'"
   ]
  },
  {
   "cell_type": "code",
   "execution_count": 105,
   "id": "616f40f7-7db6-4417-b315-3d9fd208cbb9",
   "metadata": {},
   "outputs": [
    {
     "name": "stdout",
     "output_type": "stream",
     "text": [
      "<iks><iks><iks><iks><iks>\n"
     ]
    }
   ],
   "source": [
    "# сразу посмотрим на умножение\n",
    "\n",
    "print(x * 5)"
   ]
  },
  {
   "cell_type": "code",
   "execution_count": 106,
   "id": "a267294b-ccc5-40f4-aeae-7a5dec0f72e9",
   "metadata": {},
   "outputs": [
    {
     "name": "stdout",
     "output_type": "stream",
     "text": [
      "<iks><igrek><kei>\n"
     ]
    }
   ],
   "source": [
    "# можно просто сложить\n",
    "\n",
    "print(x + y + k)"
   ]
  },
  {
   "cell_type": "code",
   "execution_count": 107,
   "id": "86e2d1bf-e077-44f6-9955-66fa918ba449",
   "metadata": {},
   "outputs": [
    {
     "name": "stdout",
     "output_type": "stream",
     "text": [
      "<iks><igrek><kei>\n"
     ]
    }
   ],
   "source": [
    "# или склеить функцией join\n",
    "\n",
    "print(''.join([x, y, k]))"
   ]
  },
  {
   "cell_type": "code",
   "execution_count": 108,
   "id": "8370b5bf-0bdc-46b4-96fc-7152ddf5572e",
   "metadata": {},
   "outputs": [
    {
     "name": "stdout",
     "output_type": "stream",
     "text": [
      "<iks> : <igrek> : <kei>\n",
      "<iks> : <igrek> : <kei>\n",
      "<iks> : <igrek> : <kei>\n"
     ]
    }
   ],
   "source": [
    "print(x + ' : ' + y + ' : ' + k)\n",
    "\n",
    "print(f'{x} : {y} : {k}')\n",
    "\n",
    "print(' : '.join([x, y, k]))"
   ]
  },
  {
   "cell_type": "code",
   "execution_count": 109,
   "id": "18224808-8568-4145-bfd9-0af5643a10fb",
   "metadata": {},
   "outputs": [
    {
     "name": "stdout",
     "output_type": "stream",
     "text": [
      "h:e:l:l:o\n",
      "hello\n"
     ]
    }
   ],
   "source": [
    "print(':'.join('hello'))   # функции join всё равно,\n",
    "print(':'.join(['hello'])) # с элементами чего иметь дело"
   ]
  },
  {
   "cell_type": "markdown",
   "id": "c84357ae-92fe-4b1a-93c6-de666c9159ba",
   "metadata": {},
   "source": [
    "# Задание (исходные данные придумываете индивидуально)\n",
    "1. Напишите программу, которая берет строку \"1; 2; 3; 100\" и возвращает:\n",
    "\n",
    "* список из целых чисел\n",
    "* список из чисел с плавающей точкой\n",
    "\n",
    "**Подсказка:** используйте метод `.split()` и конвертацию числа из одного типа в другой.\n",
    "\n",
    "2. Напишите программу, которая запрашивает у пользователя номер мобильного телефона, введенный через дефис, а возвращает номер, записанный без дефисов и пробелов.\n",
    "\n",
    "*Входные данные:*\n",
    "\n",
    "    8-900-123-45-67\n",
    "\n",
    "*Выходные данные:*\n",
    "\n",
    "    89001234567\n",
    "    \n",
    "**Подсказка:** используйте методы `.split()` и `.join()`.\n",
    "\n",
    "3. Напишите программу, которая принимает на вход список слов такого вида:\n",
    "\n",
    "    words = [\"Speak \",\"to\", \"me \", \"of\", \"Florence\" ,\"And \", \"of\", \"the\", \"Renaissance\"]\n",
    "\n",
    "а возвращает список\n",
    "\n",
    "    words_clean = [\"speak\", \"to\", \"me\", \"of\", \"florence\", \"and\", \"of\", \"the\", \"renaissance\"]\n",
    "\n",
    "Другими словами, программа убирает пробелы в словах и приводит все слова к нижнему регистру.\n",
    "\n",
    "**Подсказка:** запросите `help()`  по  методам `.strip()` и `.lower()`."
   ]
  },
  {
   "cell_type": "code",
   "execution_count": 110,
   "id": "00f671e3-8197-4ce1-834d-2b02fb3de96b",
   "metadata": {},
   "outputs": [
    {
     "name": "stdout",
     "output_type": "stream",
     "text": [
      "[11, 22, 33, 111]\n",
      "[11.0, 22.0, 33.0, 111.0]\n"
     ]
    }
   ],
   "source": [
    "string = \"11; 22; 33; 111\"\n",
    "\n",
    "int_list = [int(num) for num in string.split('; ')]\n",
    "float_list = [float(num) for num in string.split('; ')]\n",
    "\n",
    "print(int_list)\n",
    "print(float_list)"
   ]
  },
  {
   "cell_type": "code",
   "execution_count": 1,
   "id": "2d87b85c-1c8d-4c56-b7ca-56f0ecc7d8f9",
   "metadata": {},
   "outputs": [
    {
     "name": "stdin",
     "output_type": "stream",
     "text": [
      "Введите номер мобильного телефона через дефис:  8-982-310-53-45\n"
     ]
    },
    {
     "name": "stdout",
     "output_type": "stream",
     "text": [
      "89823105345\n"
     ]
    }
   ],
   "source": [
    "hyphenated_number = input(\"Введите номер мобильного телефона через дефис: \")\n",
    "mobile_number = \"\".join(hyphenated_number.split(\"-\"))\n",
    "\n",
    "print(mobile_number)"
   ]
  },
  {
   "cell_type": "code",
   "execution_count": 17,
   "id": "80264b21-d2fb-4d55-970c-7171cbe1dc49",
   "metadata": {
    "id": "80264b21-d2fb-4d55-970c-7171cbe1dc49"
   },
   "outputs": [
    {
     "name": "stdout",
     "output_type": "stream",
     "text": [
      "['sing', 'who', 'we', 'with', 'venice', 'undo', 'with', 'this', 'gothic']\n"
     ]
    }
   ],
   "source": [
    "words = [\"Sing\", \"who\", \"we \", \"with\", \"Venice\", \"Undo\", \"with\", \"this\", \"Gothic\"] \n",
    "\n",
    "words_clean = [word.lower().strip() for word in words]\n",
    "\n",
    "print(words_clean)"
   ]
  }
 ],
 "metadata": {
  "colab": {
   "provenance": []
  },
  "kernelspec": {
   "display_name": "Python 3 (ipykernel)",
   "language": "python",
   "name": "python3"
  },
  "language_info": {
   "codemirror_mode": {
    "name": "ipython",
    "version": 3
   },
   "file_extension": ".py",
   "mimetype": "text/x-python",
   "name": "python",
   "nbconvert_exporter": "python",
   "pygments_lexer": "ipython3",
   "version": "3.11.7"
  }
 },
 "nbformat": 4,
 "nbformat_minor": 5
}
