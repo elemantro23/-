{
 "cells": [
  {
   "cell_type": "markdown",
   "id": "5f2918ba",
   "metadata": {},
   "source": [
    "# Практика 05. Библиотека Pandas. Таблицы в Pandas"
   ]
  },
  {
   "cell_type": "code",
   "execution_count": 1,
   "id": "ded3d572-d4c4-4e51-8c30-6d7803d93859",
   "metadata": {},
   "outputs": [
    {
     "name": "stdout",
     "output_type": "stream",
     "text": [
      "Requirement already satisfied: seaborn in c:\\anaconda\\lib\\site-packages (0.13.2)\n",
      "Requirement already satisfied: numpy!=1.24.0,>=1.20 in c:\\anaconda\\lib\\site-packages (from seaborn) (1.26.4)\n",
      "Requirement already satisfied: pandas>=1.2 in c:\\anaconda\\lib\\site-packages (from seaborn) (2.1.4)\n",
      "Requirement already satisfied: matplotlib!=3.6.1,>=3.4 in c:\\anaconda\\lib\\site-packages (from seaborn) (3.9.0)\n",
      "Requirement already satisfied: contourpy>=1.0.1 in c:\\anaconda\\lib\\site-packages (from matplotlib!=3.6.1,>=3.4->seaborn) (1.2.0)\n",
      "Requirement already satisfied: cycler>=0.10 in c:\\anaconda\\lib\\site-packages (from matplotlib!=3.6.1,>=3.4->seaborn) (0.11.0)\n",
      "Requirement already satisfied: fonttools>=4.22.0 in c:\\anaconda\\lib\\site-packages (from matplotlib!=3.6.1,>=3.4->seaborn) (4.25.0)\n",
      "Requirement already satisfied: kiwisolver>=1.3.1 in c:\\anaconda\\lib\\site-packages (from matplotlib!=3.6.1,>=3.4->seaborn) (1.4.4)\n",
      "Requirement already satisfied: packaging>=20.0 in c:\\anaconda\\lib\\site-packages (from matplotlib!=3.6.1,>=3.4->seaborn) (23.1)\n",
      "Requirement already satisfied: pillow>=8 in c:\\anaconda\\lib\\site-packages (from matplotlib!=3.6.1,>=3.4->seaborn) (10.2.0)\n",
      "Requirement already satisfied: pyparsing>=2.3.1 in c:\\anaconda\\lib\\site-packages (from matplotlib!=3.6.1,>=3.4->seaborn) (3.0.9)\n",
      "Requirement already satisfied: python-dateutil>=2.7 in c:\\anaconda\\lib\\site-packages (from matplotlib!=3.6.1,>=3.4->seaborn) (2.8.2)\n",
      "Requirement already satisfied: pytz>=2020.1 in c:\\anaconda\\lib\\site-packages (from pandas>=1.2->seaborn) (2023.3.post1)\n",
      "Requirement already satisfied: tzdata>=2022.1 in c:\\anaconda\\lib\\site-packages (from pandas>=1.2->seaborn) (2023.3)\n",
      "Requirement already satisfied: six>=1.5 in c:\\anaconda\\lib\\site-packages (from python-dateutil>=2.7->matplotlib!=3.6.1,>=3.4->seaborn) (1.16.0)\n"
     ]
    }
   ],
   "source": [
    "!pip install seaborn"
   ]
  },
  {
   "cell_type": "code",
   "execution_count": 2,
   "id": "c4f55245",
   "metadata": {},
   "outputs": [],
   "source": [
    "import pandas as pd\n",
    "import seaborn as sns\n",
    "import matplotlib.pyplot as plt\n",
    "import numpy as np"
   ]
  },
  {
   "cell_type": "markdown",
   "id": "68619375",
   "metadata": {},
   "source": [
    "### 1. Создание датафрейма"
   ]
  },
  {
   "cell_type": "markdown",
   "id": "bee71bd2",
   "metadata": {},
   "source": [
    "**Задание.** Создайте датафрейм с информацией о странах и их столицах."
   ]
  },
  {
   "cell_type": "code",
   "execution_count": 3,
   "id": "0704cbef",
   "metadata": {},
   "outputs": [],
   "source": [
    "data_countries = [\n",
    "    ['Исландия', 'Рейкьявик', 324234234.0, 222.13],\n",
    "    ['Норвегия', 'Осло', 23543535.0, 5445.1], \n",
    "    ['Швеция', 'Стокгольм', 78977869.0, 343.132], \n",
    "    ['Нидерланды', 'Амстердам', 43343455.0, 4554.55], \n",
    "    ['Швейцария','Берн', 5545455.0, 5444.1] ]"
   ]
  },
  {
   "cell_type": "code",
   "execution_count": 4,
   "id": "ba5f5521",
   "metadata": {},
   "outputs": [],
   "source": [
    "geography = ['country', 'capital', 'population', 'area']"
   ]
  },
  {
   "cell_type": "code",
   "execution_count": 5,
   "id": "310b0c72",
   "metadata": {},
   "outputs": [],
   "source": [
    "mini_map = pd.DataFrame(data=data_countries, columns=geography )"
   ]
  },
  {
   "cell_type": "code",
   "execution_count": 6,
   "id": "384d3c6b",
   "metadata": {},
   "outputs": [
    {
     "name": "stdout",
     "output_type": "stream",
     "text": [
      "      country    capital   population      area\n",
      "0    Исландия  Рейкьявик  324234234.0   222.130\n",
      "1    Норвегия       Осло   23543535.0  5445.100\n",
      "2      Швеция  Стокгольм   78977869.0   343.132\n",
      "3  Нидерланды  Амстердам   43343455.0  4554.550\n",
      "4   Швейцария       Берн    5545455.0  5444.100\n"
     ]
    }
   ],
   "source": [
    "print(mini_map)"
   ]
  },
  {
   "cell_type": "code",
   "execution_count": 7,
   "id": "e2d1d77a-eb16-47c9-a9c5-a12ccd78411b",
   "metadata": {},
   "outputs": [
    {
     "data": {
      "text/html": [
       "<div>\n",
       "<style scoped>\n",
       "    .dataframe tbody tr th:only-of-type {\n",
       "        vertical-align: middle;\n",
       "    }\n",
       "\n",
       "    .dataframe tbody tr th {\n",
       "        vertical-align: top;\n",
       "    }\n",
       "\n",
       "    .dataframe thead th {\n",
       "        text-align: right;\n",
       "    }\n",
       "</style>\n",
       "<table border=\"1\" class=\"dataframe\">\n",
       "  <thead>\n",
       "    <tr style=\"text-align: right;\">\n",
       "      <th></th>\n",
       "      <th>country</th>\n",
       "      <th>capital</th>\n",
       "      <th>population</th>\n",
       "      <th>area</th>\n",
       "    </tr>\n",
       "  </thead>\n",
       "  <tbody>\n",
       "    <tr>\n",
       "      <th>0</th>\n",
       "      <td>Исландия</td>\n",
       "      <td>Рейкьявик</td>\n",
       "      <td>324234234.0</td>\n",
       "      <td>222.130</td>\n",
       "    </tr>\n",
       "    <tr>\n",
       "      <th>1</th>\n",
       "      <td>Норвегия</td>\n",
       "      <td>Осло</td>\n",
       "      <td>23543535.0</td>\n",
       "      <td>5445.100</td>\n",
       "    </tr>\n",
       "    <tr>\n",
       "      <th>2</th>\n",
       "      <td>Швеция</td>\n",
       "      <td>Стокгольм</td>\n",
       "      <td>78977869.0</td>\n",
       "      <td>343.132</td>\n",
       "    </tr>\n",
       "    <tr>\n",
       "      <th>3</th>\n",
       "      <td>Нидерланды</td>\n",
       "      <td>Амстердам</td>\n",
       "      <td>43343455.0</td>\n",
       "      <td>4554.550</td>\n",
       "    </tr>\n",
       "    <tr>\n",
       "      <th>4</th>\n",
       "      <td>Швейцария</td>\n",
       "      <td>Берн</td>\n",
       "      <td>5545455.0</td>\n",
       "      <td>5444.100</td>\n",
       "    </tr>\n",
       "  </tbody>\n",
       "</table>\n",
       "</div>"
      ],
      "text/plain": [
       "      country    capital   population      area\n",
       "0    Исландия  Рейкьявик  324234234.0   222.130\n",
       "1    Норвегия       Осло   23543535.0  5445.100\n",
       "2      Швеция  Стокгольм   78977869.0   343.132\n",
       "3  Нидерланды  Амстердам   43343455.0  4554.550\n",
       "4   Швейцария       Берн    5545455.0  5444.100"
      ]
     },
     "execution_count": 7,
     "metadata": {},
     "output_type": "execute_result"
    }
   ],
   "source": [
    "mini_map"
   ]
  },
  {
   "cell_type": "markdown",
   "id": "2be84f11",
   "metadata": {},
   "source": [
    "### 2. Извлечение и обзор данных "
   ]
  },
  {
   "cell_type": "markdown",
   "id": "3ba9c428",
   "metadata": {},
   "source": [
    "Сброс ограничений на количество выводимых столбцов."
   ]
  },
  {
   "cell_type": "code",
   "execution_count": 8,
   "id": "1230f26c",
   "metadata": {},
   "outputs": [],
   "source": [
    "pd.set_option('display.max_columns', None)"
   ]
  },
  {
   "cell_type": "markdown",
   "id": "ad2e4434",
   "metadata": {},
   "source": [
    "Установка единообразного отображения вещественных чисел с двумя знаками после запятой."
   ]
  },
  {
   "cell_type": "code",
   "execution_count": 9,
   "id": "a02e6c33",
   "metadata": {},
   "outputs": [],
   "source": [
    "pd.set_option('display.float_format', '{:,.2f}'.format)"
   ]
  },
  {
   "cell_type": "markdown",
   "id": "a420efe4",
   "metadata": {},
   "source": [
    "Знакомство с данными, вывод первых строк датафрейма."
   ]
  },
  {
   "cell_type": "code",
   "execution_count": 10,
   "id": "e0a8e8d8",
   "metadata": {},
   "outputs": [
    {
     "data": {
      "text/html": [
       "<div>\n",
       "<style scoped>\n",
       "    .dataframe tbody tr th:only-of-type {\n",
       "        vertical-align: middle;\n",
       "    }\n",
       "\n",
       "    .dataframe tbody tr th {\n",
       "        vertical-align: top;\n",
       "    }\n",
       "\n",
       "    .dataframe thead th {\n",
       "        text-align: right;\n",
       "    }\n",
       "</style>\n",
       "<table border=\"1\" class=\"dataframe\">\n",
       "  <thead>\n",
       "    <tr style=\"text-align: right;\">\n",
       "      <th></th>\n",
       "      <th>country</th>\n",
       "      <th>capital</th>\n",
       "      <th>population</th>\n",
       "      <th>area</th>\n",
       "    </tr>\n",
       "  </thead>\n",
       "  <tbody>\n",
       "    <tr>\n",
       "      <th>0</th>\n",
       "      <td>Исландия</td>\n",
       "      <td>Рейкьявик</td>\n",
       "      <td>324,234,234.00</td>\n",
       "      <td>222.13</td>\n",
       "    </tr>\n",
       "    <tr>\n",
       "      <th>1</th>\n",
       "      <td>Норвегия</td>\n",
       "      <td>Осло</td>\n",
       "      <td>23,543,535.00</td>\n",
       "      <td>5,445.10</td>\n",
       "    </tr>\n",
       "    <tr>\n",
       "      <th>2</th>\n",
       "      <td>Швеция</td>\n",
       "      <td>Стокгольм</td>\n",
       "      <td>78,977,869.00</td>\n",
       "      <td>343.13</td>\n",
       "    </tr>\n",
       "    <tr>\n",
       "      <th>3</th>\n",
       "      <td>Нидерланды</td>\n",
       "      <td>Амстердам</td>\n",
       "      <td>43,343,455.00</td>\n",
       "      <td>4,554.55</td>\n",
       "    </tr>\n",
       "    <tr>\n",
       "      <th>4</th>\n",
       "      <td>Швейцария</td>\n",
       "      <td>Берн</td>\n",
       "      <td>5,545,455.00</td>\n",
       "      <td>5,444.10</td>\n",
       "    </tr>\n",
       "  </tbody>\n",
       "</table>\n",
       "</div>"
      ],
      "text/plain": [
       "      country    capital     population     area\n",
       "0    Исландия  Рейкьявик 324,234,234.00   222.13\n",
       "1    Норвегия       Осло  23,543,535.00 5,445.10\n",
       "2      Швеция  Стокгольм  78,977,869.00   343.13\n",
       "3  Нидерланды  Амстердам  43,343,455.00 4,554.55\n",
       "4   Швейцария       Берн   5,545,455.00 5,444.10"
      ]
     },
     "execution_count": 10,
     "metadata": {},
     "output_type": "execute_result"
    }
   ],
   "source": [
    "mini_map.head()"
   ]
  },
  {
   "cell_type": "markdown",
   "id": "c2eb0ff5",
   "metadata": {},
   "source": [
    "Знакомство с данными, вывод первых десяти строк датафрейма."
   ]
  },
  {
   "cell_type": "code",
   "execution_count": 11,
   "id": "8d279237",
   "metadata": {},
   "outputs": [
    {
     "data": {
      "text/html": [
       "<div>\n",
       "<style scoped>\n",
       "    .dataframe tbody tr th:only-of-type {\n",
       "        vertical-align: middle;\n",
       "    }\n",
       "\n",
       "    .dataframe tbody tr th {\n",
       "        vertical-align: top;\n",
       "    }\n",
       "\n",
       "    .dataframe thead th {\n",
       "        text-align: right;\n",
       "    }\n",
       "</style>\n",
       "<table border=\"1\" class=\"dataframe\">\n",
       "  <thead>\n",
       "    <tr style=\"text-align: right;\">\n",
       "      <th></th>\n",
       "      <th>country</th>\n",
       "      <th>capital</th>\n",
       "      <th>population</th>\n",
       "      <th>area</th>\n",
       "    </tr>\n",
       "  </thead>\n",
       "  <tbody>\n",
       "    <tr>\n",
       "      <th>0</th>\n",
       "      <td>Исландия</td>\n",
       "      <td>Рейкьявик</td>\n",
       "      <td>324,234,234.00</td>\n",
       "      <td>222.13</td>\n",
       "    </tr>\n",
       "    <tr>\n",
       "      <th>1</th>\n",
       "      <td>Норвегия</td>\n",
       "      <td>Осло</td>\n",
       "      <td>23,543,535.00</td>\n",
       "      <td>5,445.10</td>\n",
       "    </tr>\n",
       "  </tbody>\n",
       "</table>\n",
       "</div>"
      ],
      "text/plain": [
       "    country    capital     population     area\n",
       "0  Исландия  Рейкьявик 324,234,234.00   222.13\n",
       "1  Норвегия       Осло  23,543,535.00 5,445.10"
      ]
     },
     "execution_count": 11,
     "metadata": {},
     "output_type": "execute_result"
    }
   ],
   "source": [
    "mini_map.head(2)"
   ]
  },
  {
   "cell_type": "markdown",
   "id": "3831d876",
   "metadata": {},
   "source": [
    "Знакомство с данными, вывод последних строк датафрейма."
   ]
  },
  {
   "cell_type": "code",
   "execution_count": 12,
   "id": "ad563b37",
   "metadata": {},
   "outputs": [
    {
     "data": {
      "text/html": [
       "<div>\n",
       "<style scoped>\n",
       "    .dataframe tbody tr th:only-of-type {\n",
       "        vertical-align: middle;\n",
       "    }\n",
       "\n",
       "    .dataframe tbody tr th {\n",
       "        vertical-align: top;\n",
       "    }\n",
       "\n",
       "    .dataframe thead th {\n",
       "        text-align: right;\n",
       "    }\n",
       "</style>\n",
       "<table border=\"1\" class=\"dataframe\">\n",
       "  <thead>\n",
       "    <tr style=\"text-align: right;\">\n",
       "      <th></th>\n",
       "      <th>country</th>\n",
       "      <th>capital</th>\n",
       "      <th>population</th>\n",
       "      <th>area</th>\n",
       "    </tr>\n",
       "  </thead>\n",
       "  <tbody>\n",
       "    <tr>\n",
       "      <th>3</th>\n",
       "      <td>Нидерланды</td>\n",
       "      <td>Амстердам</td>\n",
       "      <td>43,343,455.00</td>\n",
       "      <td>4,554.55</td>\n",
       "    </tr>\n",
       "    <tr>\n",
       "      <th>4</th>\n",
       "      <td>Швейцария</td>\n",
       "      <td>Берн</td>\n",
       "      <td>5,545,455.00</td>\n",
       "      <td>5,444.10</td>\n",
       "    </tr>\n",
       "  </tbody>\n",
       "</table>\n",
       "</div>"
      ],
      "text/plain": [
       "      country    capital    population     area\n",
       "3  Нидерланды  Амстердам 43,343,455.00 4,554.55\n",
       "4   Швейцария       Берн  5,545,455.00 5,444.10"
      ]
     },
     "execution_count": 12,
     "metadata": {},
     "output_type": "execute_result"
    }
   ],
   "source": [
    "mini_map.tail(2)"
   ]
  },
  {
   "cell_type": "markdown",
   "id": "db7fbb57",
   "metadata": {},
   "source": [
    "Знакомство с данными, вывод случайной выборки из датафрейма."
   ]
  },
  {
   "cell_type": "code",
   "execution_count": 13,
   "id": "b4b54a7f",
   "metadata": {},
   "outputs": [
    {
     "data": {
      "text/html": [
       "<div>\n",
       "<style scoped>\n",
       "    .dataframe tbody tr th:only-of-type {\n",
       "        vertical-align: middle;\n",
       "    }\n",
       "\n",
       "    .dataframe tbody tr th {\n",
       "        vertical-align: top;\n",
       "    }\n",
       "\n",
       "    .dataframe thead th {\n",
       "        text-align: right;\n",
       "    }\n",
       "</style>\n",
       "<table border=\"1\" class=\"dataframe\">\n",
       "  <thead>\n",
       "    <tr style=\"text-align: right;\">\n",
       "      <th></th>\n",
       "      <th>country</th>\n",
       "      <th>capital</th>\n",
       "      <th>population</th>\n",
       "      <th>area</th>\n",
       "    </tr>\n",
       "  </thead>\n",
       "  <tbody>\n",
       "    <tr>\n",
       "      <th>4</th>\n",
       "      <td>Швейцария</td>\n",
       "      <td>Берн</td>\n",
       "      <td>5,545,455.00</td>\n",
       "      <td>5,444.10</td>\n",
       "    </tr>\n",
       "    <tr>\n",
       "      <th>2</th>\n",
       "      <td>Швеция</td>\n",
       "      <td>Стокгольм</td>\n",
       "      <td>78,977,869.00</td>\n",
       "      <td>343.13</td>\n",
       "    </tr>\n",
       "    <tr>\n",
       "      <th>0</th>\n",
       "      <td>Исландия</td>\n",
       "      <td>Рейкьявик</td>\n",
       "      <td>324,234,234.00</td>\n",
       "      <td>222.13</td>\n",
       "    </tr>\n",
       "  </tbody>\n",
       "</table>\n",
       "</div>"
      ],
      "text/plain": [
       "     country    capital     population     area\n",
       "4  Швейцария       Берн   5,545,455.00 5,444.10\n",
       "2     Швеция  Стокгольм  78,977,869.00   343.13\n",
       "0   Исландия  Рейкьявик 324,234,234.00   222.13"
      ]
     },
     "execution_count": 13,
     "metadata": {},
     "output_type": "execute_result"
    }
   ],
   "source": [
    "mini_map.sample(3)"
   ]
  },
  {
   "cell_type": "markdown",
   "id": "f8ba73b8",
   "metadata": {},
   "source": [
    "Знакомство с атрибутами датафрейма. Изучение общей информации о датафрейме, структуры данных."
   ]
  },
  {
   "cell_type": "code",
   "execution_count": 14,
   "id": "c5a29eb2",
   "metadata": {},
   "outputs": [
    {
     "data": {
      "text/plain": [
       "country        object\n",
       "capital        object\n",
       "population    float64\n",
       "area          float64\n",
       "dtype: object"
      ]
     },
     "execution_count": 14,
     "metadata": {},
     "output_type": "execute_result"
    }
   ],
   "source": [
    "mini_map.dtypes"
   ]
  },
  {
   "cell_type": "code",
   "execution_count": 15,
   "id": "f387e329",
   "metadata": {},
   "outputs": [
    {
     "data": {
      "text/plain": [
       "Index(['country', 'capital', 'population', 'area'], dtype='object')"
      ]
     },
     "execution_count": 15,
     "metadata": {},
     "output_type": "execute_result"
    }
   ],
   "source": [
    "mini_map.columns"
   ]
  },
  {
   "cell_type": "code",
   "execution_count": 16,
   "id": "6c3a1306",
   "metadata": {},
   "outputs": [
    {
     "data": {
      "text/plain": [
       "(5, 4)"
      ]
     },
     "execution_count": 16,
     "metadata": {},
     "output_type": "execute_result"
    }
   ],
   "source": [
    "mini_map.shape"
   ]
  },
  {
   "cell_type": "code",
   "execution_count": 17,
   "id": "199f13ed",
   "metadata": {},
   "outputs": [
    {
     "data": {
      "text/plain": [
       "5"
      ]
     },
     "execution_count": 17,
     "metadata": {},
     "output_type": "execute_result"
    }
   ],
   "source": [
    "rows_number = mini_map.shape[0]\n",
    "rows_number"
   ]
  },
  {
   "cell_type": "code",
   "execution_count": 18,
   "id": "8ad13976",
   "metadata": {},
   "outputs": [
    {
     "data": {
      "text/plain": [
       "4"
      ]
     },
     "execution_count": 18,
     "metadata": {},
     "output_type": "execute_result"
    }
   ],
   "source": [
    "columns_number = mini_map.shape[1]\n",
    "columns_number"
   ]
  },
  {
   "cell_type": "code",
   "execution_count": 19,
   "id": "840f3ed7",
   "metadata": {},
   "outputs": [
    {
     "data": {
      "text/plain": [
       "<bound method DataFrame.info of       country    capital     population     area\n",
       "0    Исландия  Рейкьявик 324,234,234.00   222.13\n",
       "1    Норвегия       Осло  23,543,535.00 5,445.10\n",
       "2      Швеция  Стокгольм  78,977,869.00   343.13\n",
       "3  Нидерланды  Амстердам  43,343,455.00 4,554.55\n",
       "4   Швейцария       Берн   5,545,455.00 5,444.10>"
      ]
     },
     "execution_count": 19,
     "metadata": {},
     "output_type": "execute_result"
    }
   ],
   "source": [
    "mini_map.info"
   ]
  },
  {
   "cell_type": "code",
   "execution_count": 20,
   "id": "baf25c79",
   "metadata": {},
   "outputs": [
    {
     "name": "stdout",
     "output_type": "stream",
     "text": [
      "<class 'pandas.core.frame.DataFrame'>\n",
      "RangeIndex: 5 entries, 0 to 4\n",
      "Data columns (total 4 columns):\n",
      " #   Column      Non-Null Count  Dtype  \n",
      "---  ------      --------------  -----  \n",
      " 0   country     5 non-null      object \n",
      " 1   capital     5 non-null      object \n",
      " 2   population  5 non-null      float64\n",
      " 3   area        5 non-null      float64\n",
      "dtypes: float64(2), object(2)\n",
      "memory usage: 292.0+ bytes\n"
     ]
    }
   ],
   "source": [
    "mini_map.info()"
   ]
  },
  {
   "cell_type": "markdown",
   "id": "765bed37",
   "metadata": {},
   "source": [
    "### 3. Предварительные выводы о данных"
   ]
  },
  {
   "cell_type": "markdown",
   "id": "e7e11942",
   "metadata": {},
   "source": [
    "Согласно документации к данным.\n",
    "\n",
    "Датасет **_** содержит информацию _.<br>\n"
   ]
  },
  {
   "cell_type": "markdown",
   "id": "1bfe96fe",
   "metadata": {},
   "source": [
    "**Выводы**<br><br>\n",
    "1. В датафрейме **_ записей, _ столбцов**.\n",
    "2. В _ столбцах имеются **пропущенные значения**.\n",
    "3. Нарушение стиля в заголовке столбца **_**, следует изменить регистр.\n",
    "4. Для ряда столбцов видится возможным **изменение типа данных** для снижения нагрузки и удобства визуализации данных (отсутствия дробных частей в лейблах/подписях).\n",
    "5. Из столбца **_** для более детального анализа данных следует выделить месяц/год.\n",
    "6. В столбцах **_**, **_**, **_**, **_** возможны дубликаты.\n",
    "7. Более детально необходимо посмотреть на строковые значения в столбцах **_** (в некоторых наименованиях в конце строки - лишний символ точки); **_** (использование различных символов для разделения нескольких стран); в столбце **_** различается принцип ввода имен собственных для иностранных и отечественных режиссеров, аналогичная ситуация со столбцом **_**.\n",
    "8. ..."
   ]
  },
  {
   "cell_type": "markdown",
   "id": "e44b2a2c-fbf3-4e3e-9916-921bd7424330",
   "metadata": {},
   "source": [
    "### 4. Работа с датафреймом"
   ]
  },
  {
   "cell_type": "code",
   "execution_count": 21,
   "id": "47e4b8a9-7993-46ab-8c86-3b9608011c90",
   "metadata": {},
   "outputs": [],
   "source": [
    "mini_map.rename(columns = {'capital': 'city'}, inplace = True )\n",
    "mini_map.rename(columns = {'area': 'area_kv_km'}, inplace = True )"
   ]
  },
  {
   "cell_type": "code",
   "execution_count": 22,
   "id": "4cfdf73b-1b5f-42d9-8c02-c32bbbb0c252",
   "metadata": {},
   "outputs": [
    {
     "data": {
      "text/html": [
       "<div>\n",
       "<style scoped>\n",
       "    .dataframe tbody tr th:only-of-type {\n",
       "        vertical-align: middle;\n",
       "    }\n",
       "\n",
       "    .dataframe tbody tr th {\n",
       "        vertical-align: top;\n",
       "    }\n",
       "\n",
       "    .dataframe thead th {\n",
       "        text-align: right;\n",
       "    }\n",
       "</style>\n",
       "<table border=\"1\" class=\"dataframe\">\n",
       "  <thead>\n",
       "    <tr style=\"text-align: right;\">\n",
       "      <th></th>\n",
       "      <th>country</th>\n",
       "      <th>city</th>\n",
       "      <th>population</th>\n",
       "      <th>area_kv_km</th>\n",
       "    </tr>\n",
       "  </thead>\n",
       "  <tbody>\n",
       "    <tr>\n",
       "      <th>0</th>\n",
       "      <td>Исландия</td>\n",
       "      <td>Рейкьявик</td>\n",
       "      <td>324,234,234.00</td>\n",
       "      <td>222.13</td>\n",
       "    </tr>\n",
       "    <tr>\n",
       "      <th>1</th>\n",
       "      <td>Норвегия</td>\n",
       "      <td>Осло</td>\n",
       "      <td>23,543,535.00</td>\n",
       "      <td>5,445.10</td>\n",
       "    </tr>\n",
       "    <tr>\n",
       "      <th>2</th>\n",
       "      <td>Швеция</td>\n",
       "      <td>Стокгольм</td>\n",
       "      <td>78,977,869.00</td>\n",
       "      <td>343.13</td>\n",
       "    </tr>\n",
       "    <tr>\n",
       "      <th>3</th>\n",
       "      <td>Нидерланды</td>\n",
       "      <td>Амстердам</td>\n",
       "      <td>43,343,455.00</td>\n",
       "      <td>4,554.55</td>\n",
       "    </tr>\n",
       "    <tr>\n",
       "      <th>4</th>\n",
       "      <td>Швейцария</td>\n",
       "      <td>Берн</td>\n",
       "      <td>5,545,455.00</td>\n",
       "      <td>5,444.10</td>\n",
       "    </tr>\n",
       "  </tbody>\n",
       "</table>\n",
       "</div>"
      ],
      "text/plain": [
       "      country       city     population  area_kv_km\n",
       "0    Исландия  Рейкьявик 324,234,234.00      222.13\n",
       "1    Норвегия       Осло  23,543,535.00    5,445.10\n",
       "2      Швеция  Стокгольм  78,977,869.00      343.13\n",
       "3  Нидерланды  Амстердам  43,343,455.00    4,554.55\n",
       "4   Швейцария       Берн   5,545,455.00    5,444.10"
      ]
     },
     "execution_count": 22,
     "metadata": {},
     "output_type": "execute_result"
    }
   ],
   "source": [
    "mini_map"
   ]
  },
  {
   "cell_type": "code",
   "execution_count": 23,
   "id": "5045d4f3-79ca-4165-bb13-719599860eda",
   "metadata": {},
   "outputs": [
    {
     "data": {
      "text/plain": [
       "country        object\n",
       "city           object\n",
       "population    float64\n",
       "area_kv_km    float64\n",
       "dtype: object"
      ]
     },
     "execution_count": 23,
     "metadata": {},
     "output_type": "execute_result"
    }
   ],
   "source": [
    "mini_map.dtypes"
   ]
  },
  {
   "cell_type": "code",
   "execution_count": 24,
   "id": "91dc19ac-7d64-43d1-a970-69d24fcaf40c",
   "metadata": {},
   "outputs": [],
   "source": [
    "mini_map.population = mini_map.population.astype('int')"
   ]
  },
  {
   "cell_type": "code",
   "execution_count": 25,
   "id": "f8877e7d-fa51-466c-aba4-f9cc4b56a6c7",
   "metadata": {},
   "outputs": [
    {
     "data": {
      "text/plain": [
       "country        object\n",
       "city           object\n",
       "population      int32\n",
       "area_kv_km    float64\n",
       "dtype: object"
      ]
     },
     "execution_count": 25,
     "metadata": {},
     "output_type": "execute_result"
    }
   ],
   "source": [
    "mini_map.dtypes"
   ]
  },
  {
   "cell_type": "code",
   "execution_count": 26,
   "id": "64a3af1c-069b-4f65-9022-174ee9dd13b8",
   "metadata": {},
   "outputs": [],
   "source": [
    "mini_map = mini_map.astype({'population': 'float', 'area_kv_km': 'int'})"
   ]
  },
  {
   "cell_type": "code",
   "execution_count": 27,
   "id": "2a2fc7cc-f783-4a48-8472-52d0f84cfb4a",
   "metadata": {},
   "outputs": [
    {
     "data": {
      "text/plain": [
       "country        object\n",
       "city           object\n",
       "population    float64\n",
       "area_kv_km      int32\n",
       "dtype: object"
      ]
     },
     "execution_count": 27,
     "metadata": {},
     "output_type": "execute_result"
    }
   ],
   "source": [
    "mini_map.dtypes"
   ]
  },
  {
   "cell_type": "code",
   "execution_count": 28,
   "id": "606c25f9-bbdf-40ea-92d0-7f4e889f9241",
   "metadata": {},
   "outputs": [
    {
     "data": {
      "text/html": [
       "<div>\n",
       "<style scoped>\n",
       "    .dataframe tbody tr th:only-of-type {\n",
       "        vertical-align: middle;\n",
       "    }\n",
       "\n",
       "    .dataframe tbody tr th {\n",
       "        vertical-align: top;\n",
       "    }\n",
       "\n",
       "    .dataframe thead th {\n",
       "        text-align: right;\n",
       "    }\n",
       "</style>\n",
       "<table border=\"1\" class=\"dataframe\">\n",
       "  <thead>\n",
       "    <tr style=\"text-align: right;\">\n",
       "      <th></th>\n",
       "      <th>country</th>\n",
       "      <th>city</th>\n",
       "      <th>population</th>\n",
       "      <th>area_kv_km</th>\n",
       "    </tr>\n",
       "  </thead>\n",
       "  <tbody>\n",
       "    <tr>\n",
       "      <th>0</th>\n",
       "      <td>Исландия</td>\n",
       "      <td>Рейкьявик</td>\n",
       "      <td>324,234,234.00</td>\n",
       "      <td>222</td>\n",
       "    </tr>\n",
       "    <tr>\n",
       "      <th>1</th>\n",
       "      <td>Норвегия</td>\n",
       "      <td>Осло</td>\n",
       "      <td>23,543,535.00</td>\n",
       "      <td>5445</td>\n",
       "    </tr>\n",
       "    <tr>\n",
       "      <th>2</th>\n",
       "      <td>Швеция</td>\n",
       "      <td>Стокгольм</td>\n",
       "      <td>78,977,869.00</td>\n",
       "      <td>343</td>\n",
       "    </tr>\n",
       "    <tr>\n",
       "      <th>3</th>\n",
       "      <td>Нидерланды</td>\n",
       "      <td>Амстердам</td>\n",
       "      <td>43,343,455.00</td>\n",
       "      <td>4554</td>\n",
       "    </tr>\n",
       "    <tr>\n",
       "      <th>4</th>\n",
       "      <td>Швейцария</td>\n",
       "      <td>Берн</td>\n",
       "      <td>5,545,455.00</td>\n",
       "      <td>5444</td>\n",
       "    </tr>\n",
       "  </tbody>\n",
       "</table>\n",
       "</div>"
      ],
      "text/plain": [
       "      country       city     population  area_kv_km\n",
       "0    Исландия  Рейкьявик 324,234,234.00         222\n",
       "1    Норвегия       Осло  23,543,535.00        5445\n",
       "2      Швеция  Стокгольм  78,977,869.00         343\n",
       "3  Нидерланды  Амстердам  43,343,455.00        4554\n",
       "4   Швейцария       Берн   5,545,455.00        5444"
      ]
     },
     "execution_count": 28,
     "metadata": {},
     "output_type": "execute_result"
    }
   ],
   "source": [
    "mini_map"
   ]
  },
  {
   "cell_type": "code",
   "execution_count": 29,
   "id": "40e34a0b-b74b-42a9-8574-c97423b8b585",
   "metadata": {},
   "outputs": [],
   "source": [
    "mini_map = mini_map.astype({'population': 'int', 'area_kv_km': 'float'})"
   ]
  },
  {
   "cell_type": "code",
   "execution_count": 30,
   "id": "9c7993e7-3b68-4b17-bc25-b2fcfc54fd5c",
   "metadata": {},
   "outputs": [
    {
     "data": {
      "text/plain": [
       "country        object\n",
       "city           object\n",
       "population      int32\n",
       "area_kv_km    float64\n",
       "dtype: object"
      ]
     },
     "execution_count": 30,
     "metadata": {},
     "output_type": "execute_result"
    }
   ],
   "source": [
    "mini_map.dtypes"
   ]
  },
  {
   "cell_type": "code",
   "execution_count": 31,
   "id": "0fe609e5-da20-448c-8c40-b63e5afa7162",
   "metadata": {},
   "outputs": [
    {
     "data": {
      "text/html": [
       "<div>\n",
       "<style scoped>\n",
       "    .dataframe tbody tr th:only-of-type {\n",
       "        vertical-align: middle;\n",
       "    }\n",
       "\n",
       "    .dataframe tbody tr th {\n",
       "        vertical-align: top;\n",
       "    }\n",
       "\n",
       "    .dataframe thead th {\n",
       "        text-align: right;\n",
       "    }\n",
       "</style>\n",
       "<table border=\"1\" class=\"dataframe\">\n",
       "  <thead>\n",
       "    <tr style=\"text-align: right;\">\n",
       "      <th></th>\n",
       "      <th>country</th>\n",
       "      <th>city</th>\n",
       "      <th>population</th>\n",
       "      <th>area_kv_km</th>\n",
       "    </tr>\n",
       "  </thead>\n",
       "  <tbody>\n",
       "    <tr>\n",
       "      <th>0</th>\n",
       "      <td>Исландия</td>\n",
       "      <td>Рейкьявик</td>\n",
       "      <td>324234234</td>\n",
       "      <td>222.00</td>\n",
       "    </tr>\n",
       "    <tr>\n",
       "      <th>1</th>\n",
       "      <td>Норвегия</td>\n",
       "      <td>Осло</td>\n",
       "      <td>23543535</td>\n",
       "      <td>5,445.00</td>\n",
       "    </tr>\n",
       "    <tr>\n",
       "      <th>2</th>\n",
       "      <td>Швеция</td>\n",
       "      <td>Стокгольм</td>\n",
       "      <td>78977869</td>\n",
       "      <td>343.00</td>\n",
       "    </tr>\n",
       "    <tr>\n",
       "      <th>3</th>\n",
       "      <td>Нидерланды</td>\n",
       "      <td>Амстердам</td>\n",
       "      <td>43343455</td>\n",
       "      <td>4,554.00</td>\n",
       "    </tr>\n",
       "    <tr>\n",
       "      <th>4</th>\n",
       "      <td>Швейцария</td>\n",
       "      <td>Берн</td>\n",
       "      <td>5545455</td>\n",
       "      <td>5,444.00</td>\n",
       "    </tr>\n",
       "  </tbody>\n",
       "</table>\n",
       "</div>"
      ],
      "text/plain": [
       "      country       city  population  area_kv_km\n",
       "0    Исландия  Рейкьявик   324234234      222.00\n",
       "1    Норвегия       Осло    23543535    5,445.00\n",
       "2      Швеция  Стокгольм    78977869      343.00\n",
       "3  Нидерланды  Амстердам    43343455    4,554.00\n",
       "4   Швейцария       Берн     5545455    5,444.00"
      ]
     },
     "execution_count": 31,
     "metadata": {},
     "output_type": "execute_result"
    }
   ],
   "source": [
    "mini_map"
   ]
  },
  {
   "cell_type": "code",
   "execution_count": 32,
   "id": "2d35ef88-e201-4123-bd89-16786b8467e2",
   "metadata": {},
   "outputs": [
    {
     "data": {
      "text/html": [
       "<div>\n",
       "<style scoped>\n",
       "    .dataframe tbody tr th:only-of-type {\n",
       "        vertical-align: middle;\n",
       "    }\n",
       "\n",
       "    .dataframe tbody tr th {\n",
       "        vertical-align: top;\n",
       "    }\n",
       "\n",
       "    .dataframe thead th {\n",
       "        text-align: right;\n",
       "    }\n",
       "</style>\n",
       "<table border=\"1\" class=\"dataframe\">\n",
       "  <thead>\n",
       "    <tr style=\"text-align: right;\">\n",
       "      <th></th>\n",
       "      <th>population</th>\n",
       "      <th>area_kv_km</th>\n",
       "    </tr>\n",
       "  </thead>\n",
       "  <tbody>\n",
       "    <tr>\n",
       "      <th>0</th>\n",
       "      <td>324234234</td>\n",
       "      <td>222.00</td>\n",
       "    </tr>\n",
       "    <tr>\n",
       "      <th>1</th>\n",
       "      <td>23543535</td>\n",
       "      <td>5,445.00</td>\n",
       "    </tr>\n",
       "    <tr>\n",
       "      <th>2</th>\n",
       "      <td>78977869</td>\n",
       "      <td>343.00</td>\n",
       "    </tr>\n",
       "    <tr>\n",
       "      <th>3</th>\n",
       "      <td>43343455</td>\n",
       "      <td>4,554.00</td>\n",
       "    </tr>\n",
       "    <tr>\n",
       "      <th>4</th>\n",
       "      <td>5545455</td>\n",
       "      <td>5,444.00</td>\n",
       "    </tr>\n",
       "  </tbody>\n",
       "</table>\n",
       "</div>"
      ],
      "text/plain": [
       "   population  area_kv_km\n",
       "0   324234234      222.00\n",
       "1    23543535    5,445.00\n",
       "2    78977869      343.00\n",
       "3    43343455    4,554.00\n",
       "4     5545455    5,444.00"
      ]
     },
     "execution_count": 32,
     "metadata": {},
     "output_type": "execute_result"
    }
   ],
   "source": [
    "mini_map.select_dtypes(include = ['int32', 'float64'])"
   ]
  },
  {
   "cell_type": "code",
   "execution_count": 33,
   "id": "9a873295-c639-4be3-98ab-3e1554b5ea35",
   "metadata": {},
   "outputs": [
    {
     "data": {
      "text/html": [
       "<div>\n",
       "<style scoped>\n",
       "    .dataframe tbody tr th:only-of-type {\n",
       "        vertical-align: middle;\n",
       "    }\n",
       "\n",
       "    .dataframe tbody tr th {\n",
       "        vertical-align: top;\n",
       "    }\n",
       "\n",
       "    .dataframe thead th {\n",
       "        text-align: right;\n",
       "    }\n",
       "</style>\n",
       "<table border=\"1\" class=\"dataframe\">\n",
       "  <thead>\n",
       "    <tr style=\"text-align: right;\">\n",
       "      <th></th>\n",
       "      <th>population</th>\n",
       "      <th>area_kv_km</th>\n",
       "    </tr>\n",
       "  </thead>\n",
       "  <tbody>\n",
       "    <tr>\n",
       "      <th>0</th>\n",
       "      <td>324234234</td>\n",
       "      <td>222.00</td>\n",
       "    </tr>\n",
       "    <tr>\n",
       "      <th>1</th>\n",
       "      <td>23543535</td>\n",
       "      <td>5,445.00</td>\n",
       "    </tr>\n",
       "    <tr>\n",
       "      <th>2</th>\n",
       "      <td>78977869</td>\n",
       "      <td>343.00</td>\n",
       "    </tr>\n",
       "    <tr>\n",
       "      <th>3</th>\n",
       "      <td>43343455</td>\n",
       "      <td>4,554.00</td>\n",
       "    </tr>\n",
       "    <tr>\n",
       "      <th>4</th>\n",
       "      <td>5545455</td>\n",
       "      <td>5,444.00</td>\n",
       "    </tr>\n",
       "  </tbody>\n",
       "</table>\n",
       "</div>"
      ],
      "text/plain": [
       "   population  area_kv_km\n",
       "0   324234234      222.00\n",
       "1    23543535    5,445.00\n",
       "2    78977869      343.00\n",
       "3    43343455    4,554.00\n",
       "4     5545455    5,444.00"
      ]
     },
     "execution_count": 33,
     "metadata": {},
     "output_type": "execute_result"
    }
   ],
   "source": [
    "mini_map.select_dtypes(exclude = ['object', 'category'])"
   ]
  },
  {
   "cell_type": "code",
   "execution_count": 34,
   "id": "58978121-cb2c-4a11-b143-9d800a6c0e3b",
   "metadata": {},
   "outputs": [
    {
     "data": {
      "text/html": [
       "<div>\n",
       "<style scoped>\n",
       "    .dataframe tbody tr th:only-of-type {\n",
       "        vertical-align: middle;\n",
       "    }\n",
       "\n",
       "    .dataframe tbody tr th {\n",
       "        vertical-align: top;\n",
       "    }\n",
       "\n",
       "    .dataframe thead th {\n",
       "        text-align: right;\n",
       "    }\n",
       "</style>\n",
       "<table border=\"1\" class=\"dataframe\">\n",
       "  <thead>\n",
       "    <tr style=\"text-align: right;\">\n",
       "      <th></th>\n",
       "      <th>country</th>\n",
       "      <th>city</th>\n",
       "    </tr>\n",
       "  </thead>\n",
       "  <tbody>\n",
       "    <tr>\n",
       "      <th>0</th>\n",
       "      <td>Исландия</td>\n",
       "      <td>Рейкьявик</td>\n",
       "    </tr>\n",
       "    <tr>\n",
       "      <th>1</th>\n",
       "      <td>Норвегия</td>\n",
       "      <td>Осло</td>\n",
       "    </tr>\n",
       "    <tr>\n",
       "      <th>2</th>\n",
       "      <td>Швеция</td>\n",
       "      <td>Стокгольм</td>\n",
       "    </tr>\n",
       "    <tr>\n",
       "      <th>3</th>\n",
       "      <td>Нидерланды</td>\n",
       "      <td>Амстердам</td>\n",
       "    </tr>\n",
       "    <tr>\n",
       "      <th>4</th>\n",
       "      <td>Швейцария</td>\n",
       "      <td>Берн</td>\n",
       "    </tr>\n",
       "  </tbody>\n",
       "</table>\n",
       "</div>"
      ],
      "text/plain": [
       "      country       city\n",
       "0    Исландия  Рейкьявик\n",
       "1    Норвегия       Осло\n",
       "2      Швеция  Стокгольм\n",
       "3  Нидерланды  Амстердам\n",
       "4   Швейцария       Берн"
      ]
     },
     "execution_count": 34,
     "metadata": {},
     "output_type": "execute_result"
    }
   ],
   "source": [
    "mini_map.select_dtypes(exclude = ['int32', 'float64'])"
   ]
  },
  {
   "cell_type": "code",
   "execution_count": 35,
   "id": "910b694a-9ab3-4081-85f0-7b0941d8968f",
   "metadata": {},
   "outputs": [
    {
     "data": {
      "text/html": [
       "<div>\n",
       "<style scoped>\n",
       "    .dataframe tbody tr th:only-of-type {\n",
       "        vertical-align: middle;\n",
       "    }\n",
       "\n",
       "    .dataframe tbody tr th {\n",
       "        vertical-align: top;\n",
       "    }\n",
       "\n",
       "    .dataframe thead th {\n",
       "        text-align: right;\n",
       "    }\n",
       "</style>\n",
       "<table border=\"1\" class=\"dataframe\">\n",
       "  <thead>\n",
       "    <tr style=\"text-align: right;\">\n",
       "      <th></th>\n",
       "      <th>country</th>\n",
       "      <th>city</th>\n",
       "      <th>population</th>\n",
       "      <th>area_kv_km</th>\n",
       "    </tr>\n",
       "  </thead>\n",
       "  <tbody>\n",
       "    <tr>\n",
       "      <th>0</th>\n",
       "      <td>Исландия</td>\n",
       "      <td>Рейкьявик</td>\n",
       "      <td>324234234</td>\n",
       "      <td>222.00</td>\n",
       "    </tr>\n",
       "    <tr>\n",
       "      <th>1</th>\n",
       "      <td>Норвегия</td>\n",
       "      <td>Осло</td>\n",
       "      <td>23543535</td>\n",
       "      <td>5,445.00</td>\n",
       "    </tr>\n",
       "    <tr>\n",
       "      <th>2</th>\n",
       "      <td>Швеция</td>\n",
       "      <td>Стокгольм</td>\n",
       "      <td>78977869</td>\n",
       "      <td>343.00</td>\n",
       "    </tr>\n",
       "    <tr>\n",
       "      <th>3</th>\n",
       "      <td>Нидерланды</td>\n",
       "      <td>Амстердам</td>\n",
       "      <td>43343455</td>\n",
       "      <td>4,554.00</td>\n",
       "    </tr>\n",
       "    <tr>\n",
       "      <th>4</th>\n",
       "      <td>Швейцария</td>\n",
       "      <td>Берн</td>\n",
       "      <td>5545455</td>\n",
       "      <td>5,444.00</td>\n",
       "    </tr>\n",
       "  </tbody>\n",
       "</table>\n",
       "</div>"
      ],
      "text/plain": [
       "      country       city  population  area_kv_km\n",
       "0    Исландия  Рейкьявик   324234234      222.00\n",
       "1    Норвегия       Осло    23543535    5,445.00\n",
       "2      Швеция  Стокгольм    78977869      343.00\n",
       "3  Нидерланды  Амстердам    43343455    4,554.00\n",
       "4   Швейцария       Берн     5545455    5,444.00"
      ]
     },
     "execution_count": 35,
     "metadata": {},
     "output_type": "execute_result"
    }
   ],
   "source": [
    "mini_map"
   ]
  },
  {
   "cell_type": "code",
   "execution_count": 36,
   "id": "adca6400-9557-443b-a85a-3bb303bfbe5c",
   "metadata": {},
   "outputs": [],
   "source": [
    "dict = {'country': 'Canada', 'city': 'Ottawa', 'population': '53434', 'area_kv_km': '333.2'}"
   ]
  },
  {
   "cell_type": "code",
   "execution_count": 37,
   "id": "431cc937-dff1-4a2e-99b4-358e350ebcd9",
   "metadata": {},
   "outputs": [
    {
     "ename": "AttributeError",
     "evalue": "'DataFrame' object has no attribute 'append'",
     "output_type": "error",
     "traceback": [
      "\u001b[1;31m---------------------------------------------------------------------------\u001b[0m",
      "\u001b[1;31mAttributeError\u001b[0m                            Traceback (most recent call last)",
      "\u001b[1;32m~\\AppData\\Local\\Temp\\ipykernel_8412\\2218467330.py\u001b[0m in \u001b[0;36m?\u001b[1;34m()\u001b[0m\n\u001b[1;32m----> 1\u001b[1;33m \u001b[0mmini_map\u001b[0m \u001b[1;33m=\u001b[0m \u001b[0mmini_map\u001b[0m\u001b[1;33m.\u001b[0m\u001b[0mappend\u001b[0m\u001b[1;33m(\u001b[0m\u001b[0mdict\u001b[0m\u001b[1;33m,\u001b[0m \u001b[0mignore_index\u001b[0m \u001b[1;33m=\u001b[0m \u001b[1;32mTrue\u001b[0m\u001b[1;33m)\u001b[0m\u001b[1;33m\u001b[0m\u001b[1;33m\u001b[0m\u001b[0m\n\u001b[0m\u001b[0;32m      2\u001b[0m \u001b[0mmini_map\u001b[0m\u001b[1;33m\u001b[0m\u001b[1;33m\u001b[0m\u001b[0m\n",
      "\u001b[1;32mC:\\anaconda\\Lib\\site-packages\\pandas\\core\\generic.py\u001b[0m in \u001b[0;36m?\u001b[1;34m(self, name)\u001b[0m\n\u001b[0;32m   6200\u001b[0m             \u001b[1;32mand\u001b[0m \u001b[0mname\u001b[0m \u001b[1;32mnot\u001b[0m \u001b[1;32min\u001b[0m \u001b[0mself\u001b[0m\u001b[1;33m.\u001b[0m\u001b[0m_accessors\u001b[0m\u001b[1;33m\u001b[0m\u001b[1;33m\u001b[0m\u001b[0m\n\u001b[0;32m   6201\u001b[0m             \u001b[1;32mand\u001b[0m \u001b[0mself\u001b[0m\u001b[1;33m.\u001b[0m\u001b[0m_info_axis\u001b[0m\u001b[1;33m.\u001b[0m\u001b[0m_can_hold_identifiers_and_holds_name\u001b[0m\u001b[1;33m(\u001b[0m\u001b[0mname\u001b[0m\u001b[1;33m)\u001b[0m\u001b[1;33m\u001b[0m\u001b[1;33m\u001b[0m\u001b[0m\n\u001b[0;32m   6202\u001b[0m         ):\n\u001b[0;32m   6203\u001b[0m             \u001b[1;32mreturn\u001b[0m \u001b[0mself\u001b[0m\u001b[1;33m[\u001b[0m\u001b[0mname\u001b[0m\u001b[1;33m]\u001b[0m\u001b[1;33m\u001b[0m\u001b[1;33m\u001b[0m\u001b[0m\n\u001b[1;32m-> 6204\u001b[1;33m         \u001b[1;32mreturn\u001b[0m \u001b[0mobject\u001b[0m\u001b[1;33m.\u001b[0m\u001b[0m__getattribute__\u001b[0m\u001b[1;33m(\u001b[0m\u001b[0mself\u001b[0m\u001b[1;33m,\u001b[0m \u001b[0mname\u001b[0m\u001b[1;33m)\u001b[0m\u001b[1;33m\u001b[0m\u001b[1;33m\u001b[0m\u001b[0m\n\u001b[0m",
      "\u001b[1;31mAttributeError\u001b[0m: 'DataFrame' object has no attribute 'append'"
     ]
    }
   ],
   "source": [
    "mini_map = mini_map.append(dict, ignore_index = True)\n",
    "mini_map"
   ]
  },
  {
   "cell_type": "code",
   "execution_count": null,
   "id": "a985b2da-98ba-43ca-acd0-302c8fe7175a",
   "metadata": {},
   "outputs": [],
   "source": [
    "mini_map['pop_destiny'] = [11, 22, 332, 121, 88]\n",
    "mini_map              "
   ]
  },
  {
   "cell_type": "code",
   "execution_count": null,
   "id": "6194ec59-51cf-49b7-9e9f-24a8544a66a2",
   "metadata": {},
   "outputs": [],
   "source": [
    "mini_map = mini_map.assign(area_miles = mini_map.area_kv_km / 2.59).round(2)\n",
    "mini_map"
   ]
  },
  {
   "cell_type": "code",
   "execution_count": null,
   "id": "29fcfe48-fa48-49ef-a822-4e29fb2fc21e",
   "metadata": {},
   "outputs": [],
   "source": [
    "mini_map.drop(labels = 'area_miles', axis = 1, inplace = True)\n",
    "mini_map"
   ]
  },
  {
   "cell_type": "code",
   "execution_count": null,
   "id": "2c5ec54d-adef-479b-b847-1b01331e8041",
   "metadata": {},
   "outputs": [],
   "source": [
    "mini_map.drop(labels = [0, 1], axis = 0)\n",
    "mini_map"
   ]
  },
  {
   "cell_type": "markdown",
   "id": "d446bf51",
   "metadata": {},
   "source": [
    "# Индексация в DataFrame"
   ]
  },
  {
   "cell_type": "markdown",
   "id": "150a52f3",
   "metadata": {},
   "source": [
    "### 5. Индексация по координатам"
   ]
  },
  {
   "cell_type": "markdown",
   "id": "61b9b471",
   "metadata": {},
   "source": [
    "**Задание.** Выполните поиск данных в датафрейме с помощью индексации по координатам."
   ]
  },
  {
   "cell_type": "markdown",
   "id": "900cbde2",
   "metadata": {},
   "source": [
    "Содержимое ячейки из пятой строки, колонки 'title'. Доступ к индексации открывает атрибут **loc[строка, столбец]**."
   ]
  },
  {
   "cell_type": "code",
   "execution_count": null,
   "id": "3debee90",
   "metadata": {},
   "outputs": [],
   "source": [
    "mini_map.loc[3, 'city']"
   ]
  },
  {
   "cell_type": "markdown",
   "id": "440a9d40",
   "metadata": {},
   "source": [
    "Содержимое конкретной строки."
   ]
  },
  {
   "cell_type": "code",
   "execution_count": null,
   "id": "85faaff7",
   "metadata": {},
   "outputs": [],
   "source": [
    "mini_map.loc[3]"
   ]
  },
  {
   "cell_type": "code",
   "execution_count": null,
   "id": "c9f481aa",
   "metadata": {},
   "outputs": [],
   "source": [
    "mini_map.loc[2:4]"
   ]
  },
  {
   "cell_type": "markdown",
   "id": "92e58d26",
   "metadata": {},
   "source": [
    "Содержимое нескольких строк внутри датафрейма (**среза строк**)."
   ]
  },
  {
   "cell_type": "code",
   "execution_count": null,
   "id": "d5d80f5e",
   "metadata": {},
   "outputs": [],
   "source": [
    "mini_map"
   ]
  },
  {
   "cell_type": "markdown",
   "id": "524d570c",
   "metadata": {},
   "source": [
    "Содержимое последних трех строк."
   ]
  },
  {
   "cell_type": "code",
   "execution_count": null,
   "id": "c5740c78",
   "metadata": {},
   "outputs": [],
   "source": [
    "mini_map.loc[2:]"
   ]
  },
  {
   "cell_type": "markdown",
   "id": "f14a6593",
   "metadata": {},
   "source": [
    "**Что не так с данными? Верно ли получен результат?**"
   ]
  },
  {
   "cell_type": "code",
   "execution_count": null,
   "id": "95ded647",
   "metadata": {},
   "outputs": [],
   "source": [
    "mini_map.loc[:2]"
   ]
  },
  {
   "cell_type": "markdown",
   "id": "0a0421ac",
   "metadata": {},
   "source": [
    "Содержимое нескольких строк внутри датафрейма и конкретного столбца."
   ]
  },
  {
   "cell_type": "code",
   "execution_count": null,
   "id": "9b53d46e",
   "metadata": {},
   "outputs": [],
   "source": [
    "mini_map.loc[:, 'city']"
   ]
  },
  {
   "cell_type": "markdown",
   "id": "777377fc",
   "metadata": {},
   "source": [
    "Содержимое конкретного столбца."
   ]
  },
  {
   "cell_type": "code",
   "execution_count": null,
   "id": "99882640",
   "metadata": {},
   "outputs": [],
   "source": [
    "mini_map.loc[:, ['city', 'population']]"
   ]
  },
  {
   "cell_type": "markdown",
   "id": "e5efee1a",
   "metadata": {},
   "source": [
    "Содержимое конкретных столбцов."
   ]
  },
  {
   "cell_type": "code",
   "execution_count": null,
   "id": "583ad0ce",
   "metadata": {},
   "outputs": [],
   "source": [
    "mini_map.loc[:, ['city', 'area_kv_km']]"
   ]
  },
  {
   "cell_type": "markdown",
   "id": "6b760b03",
   "metadata": {},
   "source": [
    "Содержимое среза нескольких столбцов."
   ]
  },
  {
   "cell_type": "code",
   "execution_count": 38,
   "id": "23550cb0",
   "metadata": {},
   "outputs": [
    {
     "data": {
      "text/html": [
       "<div>\n",
       "<style scoped>\n",
       "    .dataframe tbody tr th:only-of-type {\n",
       "        vertical-align: middle;\n",
       "    }\n",
       "\n",
       "    .dataframe tbody tr th {\n",
       "        vertical-align: top;\n",
       "    }\n",
       "\n",
       "    .dataframe thead th {\n",
       "        text-align: right;\n",
       "    }\n",
       "</style>\n",
       "<table border=\"1\" class=\"dataframe\">\n",
       "  <thead>\n",
       "    <tr style=\"text-align: right;\">\n",
       "      <th></th>\n",
       "      <th>city</th>\n",
       "      <th>population</th>\n",
       "      <th>area_kv_km</th>\n",
       "    </tr>\n",
       "  </thead>\n",
       "  <tbody>\n",
       "    <tr>\n",
       "      <th>0</th>\n",
       "      <td>Рейкьявик</td>\n",
       "      <td>324234234</td>\n",
       "      <td>222.00</td>\n",
       "    </tr>\n",
       "    <tr>\n",
       "      <th>1</th>\n",
       "      <td>Осло</td>\n",
       "      <td>23543535</td>\n",
       "      <td>5,445.00</td>\n",
       "    </tr>\n",
       "    <tr>\n",
       "      <th>2</th>\n",
       "      <td>Стокгольм</td>\n",
       "      <td>78977869</td>\n",
       "      <td>343.00</td>\n",
       "    </tr>\n",
       "    <tr>\n",
       "      <th>3</th>\n",
       "      <td>Амстердам</td>\n",
       "      <td>43343455</td>\n",
       "      <td>4,554.00</td>\n",
       "    </tr>\n",
       "    <tr>\n",
       "      <th>4</th>\n",
       "      <td>Берн</td>\n",
       "      <td>5545455</td>\n",
       "      <td>5,444.00</td>\n",
       "    </tr>\n",
       "  </tbody>\n",
       "</table>\n",
       "</div>"
      ],
      "text/plain": [
       "        city  population  area_kv_km\n",
       "0  Рейкьявик   324234234      222.00\n",
       "1       Осло    23543535    5,445.00\n",
       "2  Стокгольм    78977869      343.00\n",
       "3  Амстердам    43343455    4,554.00\n",
       "4       Берн     5545455    5,444.00"
      ]
     },
     "execution_count": 38,
     "metadata": {},
     "output_type": "execute_result"
    }
   ],
   "source": [
    "mini_map.loc[:, 'city': 'area_kv_km']"
   ]
  },
  {
   "cell_type": "markdown",
   "id": "d8cd9ad2",
   "metadata": {},
   "source": [
    "**Примеры индексации**\n",
    "\n",
    "| Данные                            | Индексация                     |\n",
    "|-----------------------------------|--------------------------------|\n",
    "| Одна ячейка                       | .loc[7, 'genre']               |\n",
    "| Один столбец                      | .loc[:, 'genre']               |\n",
    "| Несколько столбцов                | .loc[:, ['genre', 'artist']]   |\n",
    "| Несколько столбцов подряд (срез)  | .loc[:, 'total play': 'genre'] |\n",
    "| Одна строка                       | .loc[1]                        |\n",
    "| Все строки, начиная с заданной    | .loc[1:]                       |\n",
    "| Все строки до заданной            | .loc[:3]                       |\n",
    "| Несколько строк подряд (срез)     | .loc[2:5]                      |"
   ]
  },
  {
   "cell_type": "markdown",
   "id": "b3e910ff",
   "metadata": {},
   "source": [
    "# Задание\n",
    "Используйте все представленные в таблице варианты индексации и выведите результаты срезов (*используйте собственные примеры*)."
   ]
  },
  {
   "cell_type": "code",
   "execution_count": 39,
   "id": "9a8d05ea",
   "metadata": {},
   "outputs": [
    {
     "data": {
      "text/plain": [
       "'Амстердам'"
      ]
     },
     "execution_count": 39,
     "metadata": {},
     "output_type": "execute_result"
    }
   ],
   "source": [
    "# получение одной ячейки\n",
    "mini_map.loc[3, 'city']"
   ]
  },
  {
   "cell_type": "code",
   "execution_count": 40,
   "id": "ba4e9a17",
   "metadata": {},
   "outputs": [
    {
     "data": {
      "text/plain": [
       "0     222.00\n",
       "1   5,445.00\n",
       "2     343.00\n",
       "3   4,554.00\n",
       "Name: area_kv_km, dtype: float64"
      ]
     },
     "execution_count": 40,
     "metadata": {},
     "output_type": "execute_result"
    }
   ],
   "source": [
    "# срез столбца\n",
    "mini_map.loc[0:3, 'area_kv_km']"
   ]
  },
  {
   "cell_type": "code",
   "execution_count": 41,
   "id": "fb00c84c",
   "metadata": {},
   "outputs": [
    {
     "data": {
      "text/html": [
       "<div>\n",
       "<style scoped>\n",
       "    .dataframe tbody tr th:only-of-type {\n",
       "        vertical-align: middle;\n",
       "    }\n",
       "\n",
       "    .dataframe tbody tr th {\n",
       "        vertical-align: top;\n",
       "    }\n",
       "\n",
       "    .dataframe thead th {\n",
       "        text-align: right;\n",
       "    }\n",
       "</style>\n",
       "<table border=\"1\" class=\"dataframe\">\n",
       "  <thead>\n",
       "    <tr style=\"text-align: right;\">\n",
       "      <th></th>\n",
       "      <th>city</th>\n",
       "      <th>population</th>\n",
       "      <th>area_kv_km</th>\n",
       "    </tr>\n",
       "  </thead>\n",
       "  <tbody>\n",
       "    <tr>\n",
       "      <th>0</th>\n",
       "      <td>Рейкьявик</td>\n",
       "      <td>324234234</td>\n",
       "      <td>222.00</td>\n",
       "    </tr>\n",
       "    <tr>\n",
       "      <th>1</th>\n",
       "      <td>Осло</td>\n",
       "      <td>23543535</td>\n",
       "      <td>5,445.00</td>\n",
       "    </tr>\n",
       "    <tr>\n",
       "      <th>2</th>\n",
       "      <td>Стокгольм</td>\n",
       "      <td>78977869</td>\n",
       "      <td>343.00</td>\n",
       "    </tr>\n",
       "    <tr>\n",
       "      <th>3</th>\n",
       "      <td>Амстердам</td>\n",
       "      <td>43343455</td>\n",
       "      <td>4,554.00</td>\n",
       "    </tr>\n",
       "    <tr>\n",
       "      <th>4</th>\n",
       "      <td>Берн</td>\n",
       "      <td>5545455</td>\n",
       "      <td>5,444.00</td>\n",
       "    </tr>\n",
       "  </tbody>\n",
       "</table>\n",
       "</div>"
      ],
      "text/plain": [
       "        city  population  area_kv_km\n",
       "0  Рейкьявик   324234234      222.00\n",
       "1       Осло    23543535    5,445.00\n",
       "2  Стокгольм    78977869      343.00\n",
       "3  Амстердам    43343455    4,554.00\n",
       "4       Берн     5545455    5,444.00"
      ]
     },
     "execution_count": 41,
     "metadata": {},
     "output_type": "execute_result"
    }
   ],
   "source": [
    "# срез нескольких столбцов по их названиям\n",
    "mini_map.loc[:, 'city':'area_kv_km']"
   ]
  },
  {
   "cell_type": "code",
   "execution_count": 42,
   "id": "1ca0da73",
   "metadata": {},
   "outputs": [
    {
     "data": {
      "text/html": [
       "<div>\n",
       "<style scoped>\n",
       "    .dataframe tbody tr th:only-of-type {\n",
       "        vertical-align: middle;\n",
       "    }\n",
       "\n",
       "    .dataframe tbody tr th {\n",
       "        vertical-align: top;\n",
       "    }\n",
       "\n",
       "    .dataframe thead th {\n",
       "        text-align: right;\n",
       "    }\n",
       "</style>\n",
       "<table border=\"1\" class=\"dataframe\">\n",
       "  <thead>\n",
       "    <tr style=\"text-align: right;\">\n",
       "      <th></th>\n",
       "      <th>country</th>\n",
       "      <th>city</th>\n",
       "    </tr>\n",
       "  </thead>\n",
       "  <tbody>\n",
       "    <tr>\n",
       "      <th>0</th>\n",
       "      <td>Исландия</td>\n",
       "      <td>Рейкьявик</td>\n",
       "    </tr>\n",
       "    <tr>\n",
       "      <th>1</th>\n",
       "      <td>Норвегия</td>\n",
       "      <td>Осло</td>\n",
       "    </tr>\n",
       "    <tr>\n",
       "      <th>2</th>\n",
       "      <td>Швеция</td>\n",
       "      <td>Стокгольм</td>\n",
       "    </tr>\n",
       "    <tr>\n",
       "      <th>3</th>\n",
       "      <td>Нидерланды</td>\n",
       "      <td>Амстердам</td>\n",
       "    </tr>\n",
       "    <tr>\n",
       "      <th>4</th>\n",
       "      <td>Швейцария</td>\n",
       "      <td>Берн</td>\n",
       "    </tr>\n",
       "  </tbody>\n",
       "</table>\n",
       "</div>"
      ],
      "text/plain": [
       "      country       city\n",
       "0    Исландия  Рейкьявик\n",
       "1    Норвегия       Осло\n",
       "2      Швеция  Стокгольм\n",
       "3  Нидерланды  Амстердам\n",
       "4   Швейцария       Берн"
      ]
     },
     "execution_count": 42,
     "metadata": {},
     "output_type": "execute_result"
    }
   ],
   "source": [
    "# срез нескольких столбцов от одного до другого\n",
    "mini_map.loc[:, 'country':'city']"
   ]
  },
  {
   "cell_type": "code",
   "execution_count": 43,
   "id": "c003ec41",
   "metadata": {},
   "outputs": [
    {
     "data": {
      "text/plain": [
       "country       Норвегия\n",
       "city              Осло\n",
       "population    23543535\n",
       "area_kv_km    5,445.00\n",
       "Name: 1, dtype: object"
      ]
     },
     "execution_count": 43,
     "metadata": {},
     "output_type": "execute_result"
    }
   ],
   "source": [
    "# одна строка\n",
    "mini_map.loc[1]"
   ]
  },
  {
   "cell_type": "code",
   "execution_count": 44,
   "id": "b5b7cc8c",
   "metadata": {},
   "outputs": [
    {
     "data": {
      "text/html": [
       "<div>\n",
       "<style scoped>\n",
       "    .dataframe tbody tr th:only-of-type {\n",
       "        vertical-align: middle;\n",
       "    }\n",
       "\n",
       "    .dataframe tbody tr th {\n",
       "        vertical-align: top;\n",
       "    }\n",
       "\n",
       "    .dataframe thead th {\n",
       "        text-align: right;\n",
       "    }\n",
       "</style>\n",
       "<table border=\"1\" class=\"dataframe\">\n",
       "  <thead>\n",
       "    <tr style=\"text-align: right;\">\n",
       "      <th></th>\n",
       "      <th>country</th>\n",
       "      <th>city</th>\n",
       "      <th>population</th>\n",
       "      <th>area_kv_km</th>\n",
       "    </tr>\n",
       "  </thead>\n",
       "  <tbody>\n",
       "    <tr>\n",
       "      <th>1</th>\n",
       "      <td>Норвегия</td>\n",
       "      <td>Осло</td>\n",
       "      <td>23543535</td>\n",
       "      <td>5,445.00</td>\n",
       "    </tr>\n",
       "    <tr>\n",
       "      <th>2</th>\n",
       "      <td>Швеция</td>\n",
       "      <td>Стокгольм</td>\n",
       "      <td>78977869</td>\n",
       "      <td>343.00</td>\n",
       "    </tr>\n",
       "    <tr>\n",
       "      <th>3</th>\n",
       "      <td>Нидерланды</td>\n",
       "      <td>Амстердам</td>\n",
       "      <td>43343455</td>\n",
       "      <td>4,554.00</td>\n",
       "    </tr>\n",
       "    <tr>\n",
       "      <th>4</th>\n",
       "      <td>Швейцария</td>\n",
       "      <td>Берн</td>\n",
       "      <td>5545455</td>\n",
       "      <td>5,444.00</td>\n",
       "    </tr>\n",
       "  </tbody>\n",
       "</table>\n",
       "</div>"
      ],
      "text/plain": [
       "      country       city  population  area_kv_km\n",
       "1    Норвегия       Осло    23543535    5,445.00\n",
       "2      Швеция  Стокгольм    78977869      343.00\n",
       "3  Нидерланды  Амстердам    43343455    4,554.00\n",
       "4   Швейцария       Берн     5545455    5,444.00"
      ]
     },
     "execution_count": 44,
     "metadata": {},
     "output_type": "execute_result"
    }
   ],
   "source": [
    "# срез всех строк, начиная с заданной\n",
    "mini_map.loc[1:]"
   ]
  },
  {
   "cell_type": "code",
   "execution_count": 45,
   "id": "b8efec35",
   "metadata": {},
   "outputs": [
    {
     "data": {
      "text/html": [
       "<div>\n",
       "<style scoped>\n",
       "    .dataframe tbody tr th:only-of-type {\n",
       "        vertical-align: middle;\n",
       "    }\n",
       "\n",
       "    .dataframe tbody tr th {\n",
       "        vertical-align: top;\n",
       "    }\n",
       "\n",
       "    .dataframe thead th {\n",
       "        text-align: right;\n",
       "    }\n",
       "</style>\n",
       "<table border=\"1\" class=\"dataframe\">\n",
       "  <thead>\n",
       "    <tr style=\"text-align: right;\">\n",
       "      <th></th>\n",
       "      <th>country</th>\n",
       "      <th>city</th>\n",
       "      <th>population</th>\n",
       "      <th>area_kv_km</th>\n",
       "    </tr>\n",
       "  </thead>\n",
       "  <tbody>\n",
       "    <tr>\n",
       "      <th>0</th>\n",
       "      <td>Исландия</td>\n",
       "      <td>Рейкьявик</td>\n",
       "      <td>324234234</td>\n",
       "      <td>222.00</td>\n",
       "    </tr>\n",
       "    <tr>\n",
       "      <th>1</th>\n",
       "      <td>Норвегия</td>\n",
       "      <td>Осло</td>\n",
       "      <td>23543535</td>\n",
       "      <td>5,445.00</td>\n",
       "    </tr>\n",
       "    <tr>\n",
       "      <th>2</th>\n",
       "      <td>Швеция</td>\n",
       "      <td>Стокгольм</td>\n",
       "      <td>78977869</td>\n",
       "      <td>343.00</td>\n",
       "    </tr>\n",
       "  </tbody>\n",
       "</table>\n",
       "</div>"
      ],
      "text/plain": [
       "    country       city  population  area_kv_km\n",
       "0  Исландия  Рейкьявик   324234234      222.00\n",
       "1  Норвегия       Осло    23543535    5,445.00\n",
       "2    Швеция  Стокгольм    78977869      343.00"
      ]
     },
     "execution_count": 45,
     "metadata": {},
     "output_type": "execute_result"
    }
   ],
   "source": [
    "# срез всех строк до заданной\n",
    "mini_map.loc[:2]"
   ]
  },
  {
   "cell_type": "code",
   "execution_count": 46,
   "id": "e8eef824",
   "metadata": {},
   "outputs": [
    {
     "data": {
      "text/html": [
       "<div>\n",
       "<style scoped>\n",
       "    .dataframe tbody tr th:only-of-type {\n",
       "        vertical-align: middle;\n",
       "    }\n",
       "\n",
       "    .dataframe tbody tr th {\n",
       "        vertical-align: top;\n",
       "    }\n",
       "\n",
       "    .dataframe thead th {\n",
       "        text-align: right;\n",
       "    }\n",
       "</style>\n",
       "<table border=\"1\" class=\"dataframe\">\n",
       "  <thead>\n",
       "    <tr style=\"text-align: right;\">\n",
       "      <th></th>\n",
       "      <th>country</th>\n",
       "      <th>city</th>\n",
       "      <th>population</th>\n",
       "      <th>area_kv_km</th>\n",
       "    </tr>\n",
       "  </thead>\n",
       "  <tbody>\n",
       "    <tr>\n",
       "      <th>0</th>\n",
       "      <td>Исландия</td>\n",
       "      <td>Рейкьявик</td>\n",
       "      <td>324234234</td>\n",
       "      <td>222.00</td>\n",
       "    </tr>\n",
       "    <tr>\n",
       "      <th>1</th>\n",
       "      <td>Норвегия</td>\n",
       "      <td>Осло</td>\n",
       "      <td>23543535</td>\n",
       "      <td>5,445.00</td>\n",
       "    </tr>\n",
       "    <tr>\n",
       "      <th>2</th>\n",
       "      <td>Швеция</td>\n",
       "      <td>Стокгольм</td>\n",
       "      <td>78977869</td>\n",
       "      <td>343.00</td>\n",
       "    </tr>\n",
       "  </tbody>\n",
       "</table>\n",
       "</div>"
      ],
      "text/plain": [
       "    country       city  population  area_kv_km\n",
       "0  Исландия  Рейкьявик   324234234      222.00\n",
       "1  Норвегия       Осло    23543535    5,445.00\n",
       "2    Швеция  Стокгольм    78977869      343.00"
      ]
     },
     "execution_count": 46,
     "metadata": {},
     "output_type": "execute_result"
    }
   ],
   "source": [
    "# срез нескольких строк подряд\n",
    "mini_map.loc[0:2]"
   ]
  },
  {
   "cell_type": "markdown",
   "id": "201a4f9f",
   "metadata": {},
   "source": [
    "**Срезы по номерам строк и списки столбцов можно сочетать**\n",
    "\n",
    "| Данные                                                          | Индексация                          |\n",
    "|-----------------------------------------------------------------|-------------------------------------|\n",
    "| Срез строк в заданном диапазоне и выбор определённого столбца   | .loc[2:10, 'genre']                 |\n",
    "| Срез нескольких столбцов подряд и выбор определённой строки     | .loc[5, 'total play': 'genre']      |\n",
    "| Выбор заданных столбцов и определённой строки                   | .loc[10, ['total play', 'artist']]  |\n",
    "| Выбор заданных столбцов и cрез нескольких строк подряд        | .loc[7:10, ['total play', 'genre']] |"
   ]
  },
  {
   "cell_type": "markdown",
   "id": "bde3065e",
   "metadata": {},
   "source": [
    "# Задание\n",
    "Используйте все представленные в таблице варианты индексации и выведите результаты срезов (*используйте собственные примеры*)."
   ]
  },
  {
   "cell_type": "code",
   "execution_count": 47,
   "id": "b79066cd",
   "metadata": {},
   "outputs": [
    {
     "data": {
      "text/plain": [
       "0    Рейкьявик\n",
       "1         Осло\n",
       "2    Стокгольм\n",
       "Name: city, dtype: object"
      ]
     },
     "execution_count": 47,
     "metadata": {},
     "output_type": "execute_result"
    }
   ],
   "source": [
    "#срез строк в заданном диапазоне и выбор определённого столбца\n",
    "mini_map.loc[0:2, 'city']"
   ]
  },
  {
   "cell_type": "code",
   "execution_count": 48,
   "id": "095a0ce6",
   "metadata": {},
   "outputs": [
    {
     "data": {
      "text/plain": [
       "country          Швеция\n",
       "city          Стокгольм\n",
       "population     78977869\n",
       "Name: 2, dtype: object"
      ]
     },
     "execution_count": 48,
     "metadata": {},
     "output_type": "execute_result"
    }
   ],
   "source": [
    "#срез нескольких столбцов подряд и выбор определённой строки\n",
    "mini_map.loc[2, 'country':'population']"
   ]
  },
  {
   "cell_type": "code",
   "execution_count": 49,
   "id": "58707050",
   "metadata": {},
   "outputs": [
    {
     "data": {
      "text/plain": [
       "city             Осло\n",
       "area_kv_km   5,445.00\n",
       "Name: 1, dtype: object"
      ]
     },
     "execution_count": 49,
     "metadata": {},
     "output_type": "execute_result"
    }
   ],
   "source": [
    "#выбор заданных столбцов и определённой строки\n",
    "mini_map.loc[1, ['city', 'area_kv_km']]"
   ]
  },
  {
   "cell_type": "code",
   "execution_count": 50,
   "id": "b13901a1",
   "metadata": {},
   "outputs": [
    {
     "data": {
      "text/html": [
       "<div>\n",
       "<style scoped>\n",
       "    .dataframe tbody tr th:only-of-type {\n",
       "        vertical-align: middle;\n",
       "    }\n",
       "\n",
       "    .dataframe tbody tr th {\n",
       "        vertical-align: top;\n",
       "    }\n",
       "\n",
       "    .dataframe thead th {\n",
       "        text-align: right;\n",
       "    }\n",
       "</style>\n",
       "<table border=\"1\" class=\"dataframe\">\n",
       "  <thead>\n",
       "    <tr style=\"text-align: right;\">\n",
       "      <th></th>\n",
       "      <th>city</th>\n",
       "      <th>population</th>\n",
       "    </tr>\n",
       "  </thead>\n",
       "  <tbody>\n",
       "    <tr>\n",
       "      <th>0</th>\n",
       "      <td>Рейкьявик</td>\n",
       "      <td>324234234</td>\n",
       "    </tr>\n",
       "    <tr>\n",
       "      <th>1</th>\n",
       "      <td>Осло</td>\n",
       "      <td>23543535</td>\n",
       "    </tr>\n",
       "    <tr>\n",
       "      <th>2</th>\n",
       "      <td>Стокгольм</td>\n",
       "      <td>78977869</td>\n",
       "    </tr>\n",
       "  </tbody>\n",
       "</table>\n",
       "</div>"
      ],
      "text/plain": [
       "        city  population\n",
       "0  Рейкьявик   324234234\n",
       "1       Осло    23543535\n",
       "2  Стокгольм    78977869"
      ]
     },
     "execution_count": 50,
     "metadata": {},
     "output_type": "execute_result"
    }
   ],
   "source": [
    "#выбор заданных столбцов и срез нескольких строк подряд\n",
    "mini_map.loc[0:2, ['city', 'population']]"
   ]
  },
  {
   "attachments": {
    "image.png": {
     "image/png": "[encoded data removed]"
    }
   },
   "cell_type": "markdown",
   "id": "bea5df33",
   "metadata": {},
   "source": [
    "**Сокращённая запись при индексации**<br>\n",
    "![image.png](attachment:image.png)"
   ]
  },
  {
   "cell_type": "markdown",
   "id": "74357542",
   "metadata": {},
   "source": [
    "# Задание\n",
    "Перепишите срезы из заданий 6-7 в сокращенном виде (там, где это возможно)."
   ]
  },
  {
   "cell_type": "code",
   "execution_count": 51,
   "id": "f9d25e39",
   "metadata": {},
   "outputs": [
    {
     "data": {
      "text/plain": [
       "0     222.00\n",
       "1   5,445.00\n",
       "2     343.00\n",
       "3   4,554.00\n",
       "Name: area_kv_km, dtype: float64"
      ]
     },
     "execution_count": 51,
     "metadata": {},
     "output_type": "execute_result"
    }
   ],
   "source": [
    "# срез столбца\n",
    "mini_map.loc[0:3, 'area_kv_km']"
   ]
  },
  {
   "cell_type": "code",
   "execution_count": 52,
   "id": "0c8bbacd",
   "metadata": {},
   "outputs": [
    {
     "data": {
      "text/html": [
       "<div>\n",
       "<style scoped>\n",
       "    .dataframe tbody tr th:only-of-type {\n",
       "        vertical-align: middle;\n",
       "    }\n",
       "\n",
       "    .dataframe tbody tr th {\n",
       "        vertical-align: top;\n",
       "    }\n",
       "\n",
       "    .dataframe thead th {\n",
       "        text-align: right;\n",
       "    }\n",
       "</style>\n",
       "<table border=\"1\" class=\"dataframe\">\n",
       "  <thead>\n",
       "    <tr style=\"text-align: right;\">\n",
       "      <th></th>\n",
       "      <th>city</th>\n",
       "      <th>population</th>\n",
       "      <th>area_kv_km</th>\n",
       "    </tr>\n",
       "  </thead>\n",
       "  <tbody>\n",
       "    <tr>\n",
       "      <th>0</th>\n",
       "      <td>Рейкьявик</td>\n",
       "      <td>324234234</td>\n",
       "      <td>222.00</td>\n",
       "    </tr>\n",
       "    <tr>\n",
       "      <th>1</th>\n",
       "      <td>Осло</td>\n",
       "      <td>23543535</td>\n",
       "      <td>5,445.00</td>\n",
       "    </tr>\n",
       "    <tr>\n",
       "      <th>2</th>\n",
       "      <td>Стокгольм</td>\n",
       "      <td>78977869</td>\n",
       "      <td>343.00</td>\n",
       "    </tr>\n",
       "    <tr>\n",
       "      <th>3</th>\n",
       "      <td>Амстердам</td>\n",
       "      <td>43343455</td>\n",
       "      <td>4,554.00</td>\n",
       "    </tr>\n",
       "    <tr>\n",
       "      <th>4</th>\n",
       "      <td>Берн</td>\n",
       "      <td>5545455</td>\n",
       "      <td>5,444.00</td>\n",
       "    </tr>\n",
       "  </tbody>\n",
       "</table>\n",
       "</div>"
      ],
      "text/plain": [
       "        city  population  area_kv_km\n",
       "0  Рейкьявик   324234234      222.00\n",
       "1       Осло    23543535    5,445.00\n",
       "2  Стокгольм    78977869      343.00\n",
       "3  Амстердам    43343455    4,554.00\n",
       "4       Берн     5545455    5,444.00"
      ]
     },
     "execution_count": 52,
     "metadata": {},
     "output_type": "execute_result"
    }
   ],
   "source": [
    "# срез нескольких столбцов по их названиям\n",
    "mini_map.loc[:, 'city':'area_kv_km']"
   ]
  },
  {
   "cell_type": "code",
   "execution_count": 53,
   "id": "36c8bcff",
   "metadata": {},
   "outputs": [
    {
     "data": {
      "text/html": [
       "<div>\n",
       "<style scoped>\n",
       "    .dataframe tbody tr th:only-of-type {\n",
       "        vertical-align: middle;\n",
       "    }\n",
       "\n",
       "    .dataframe tbody tr th {\n",
       "        vertical-align: top;\n",
       "    }\n",
       "\n",
       "    .dataframe thead th {\n",
       "        text-align: right;\n",
       "    }\n",
       "</style>\n",
       "<table border=\"1\" class=\"dataframe\">\n",
       "  <thead>\n",
       "    <tr style=\"text-align: right;\">\n",
       "      <th></th>\n",
       "      <th>country</th>\n",
       "      <th>city</th>\n",
       "      <th>population</th>\n",
       "      <th>area_kv_km</th>\n",
       "    </tr>\n",
       "  </thead>\n",
       "  <tbody>\n",
       "    <tr>\n",
       "      <th>1</th>\n",
       "      <td>Норвегия</td>\n",
       "      <td>Осло</td>\n",
       "      <td>23543535</td>\n",
       "      <td>5,445.00</td>\n",
       "    </tr>\n",
       "    <tr>\n",
       "      <th>2</th>\n",
       "      <td>Швеция</td>\n",
       "      <td>Стокгольм</td>\n",
       "      <td>78977869</td>\n",
       "      <td>343.00</td>\n",
       "    </tr>\n",
       "    <tr>\n",
       "      <th>3</th>\n",
       "      <td>Нидерланды</td>\n",
       "      <td>Амстердам</td>\n",
       "      <td>43343455</td>\n",
       "      <td>4,554.00</td>\n",
       "    </tr>\n",
       "    <tr>\n",
       "      <th>4</th>\n",
       "      <td>Швейцария</td>\n",
       "      <td>Берн</td>\n",
       "      <td>5545455</td>\n",
       "      <td>5,444.00</td>\n",
       "    </tr>\n",
       "  </tbody>\n",
       "</table>\n",
       "</div>"
      ],
      "text/plain": [
       "      country       city  population  area_kv_km\n",
       "1    Норвегия       Осло    23543535    5,445.00\n",
       "2      Швеция  Стокгольм    78977869      343.00\n",
       "3  Нидерланды  Амстердам    43343455    4,554.00\n",
       "4   Швейцария       Берн     5545455    5,444.00"
      ]
     },
     "execution_count": 53,
     "metadata": {},
     "output_type": "execute_result"
    }
   ],
   "source": [
    "# срез всех строк, начиная с заданной\n",
    "mini_map[1:]"
   ]
  },
  {
   "cell_type": "code",
   "execution_count": 54,
   "id": "7dda5c11",
   "metadata": {},
   "outputs": [
    {
     "data": {
      "text/html": [
       "<div>\n",
       "<style scoped>\n",
       "    .dataframe tbody tr th:only-of-type {\n",
       "        vertical-align: middle;\n",
       "    }\n",
       "\n",
       "    .dataframe tbody tr th {\n",
       "        vertical-align: top;\n",
       "    }\n",
       "\n",
       "    .dataframe thead th {\n",
       "        text-align: right;\n",
       "    }\n",
       "</style>\n",
       "<table border=\"1\" class=\"dataframe\">\n",
       "  <thead>\n",
       "    <tr style=\"text-align: right;\">\n",
       "      <th></th>\n",
       "      <th>country</th>\n",
       "      <th>city</th>\n",
       "      <th>population</th>\n",
       "      <th>area_kv_km</th>\n",
       "    </tr>\n",
       "  </thead>\n",
       "  <tbody>\n",
       "    <tr>\n",
       "      <th>0</th>\n",
       "      <td>Исландия</td>\n",
       "      <td>Рейкьявик</td>\n",
       "      <td>324234234</td>\n",
       "      <td>222.00</td>\n",
       "    </tr>\n",
       "    <tr>\n",
       "      <th>1</th>\n",
       "      <td>Норвегия</td>\n",
       "      <td>Осло</td>\n",
       "      <td>23543535</td>\n",
       "      <td>5,445.00</td>\n",
       "    </tr>\n",
       "  </tbody>\n",
       "</table>\n",
       "</div>"
      ],
      "text/plain": [
       "    country       city  population  area_kv_km\n",
       "0  Исландия  Рейкьявик   324234234      222.00\n",
       "1  Норвегия       Осло    23543535    5,445.00"
      ]
     },
     "execution_count": 54,
     "metadata": {},
     "output_type": "execute_result"
    }
   ],
   "source": [
    "# срез всех строк до заданной\n",
    "mini_map[:2]"
   ]
  },
  {
   "cell_type": "code",
   "execution_count": 55,
   "id": "8e0a5df0",
   "metadata": {},
   "outputs": [
    {
     "data": {
      "text/html": [
       "<div>\n",
       "<style scoped>\n",
       "    .dataframe tbody tr th:only-of-type {\n",
       "        vertical-align: middle;\n",
       "    }\n",
       "\n",
       "    .dataframe tbody tr th {\n",
       "        vertical-align: top;\n",
       "    }\n",
       "\n",
       "    .dataframe thead th {\n",
       "        text-align: right;\n",
       "    }\n",
       "</style>\n",
       "<table border=\"1\" class=\"dataframe\">\n",
       "  <thead>\n",
       "    <tr style=\"text-align: right;\">\n",
       "      <th></th>\n",
       "      <th>country</th>\n",
       "      <th>city</th>\n",
       "      <th>population</th>\n",
       "      <th>area_kv_km</th>\n",
       "    </tr>\n",
       "  </thead>\n",
       "  <tbody>\n",
       "    <tr>\n",
       "      <th>0</th>\n",
       "      <td>Исландия</td>\n",
       "      <td>Рейкьявик</td>\n",
       "      <td>324234234</td>\n",
       "      <td>222.00</td>\n",
       "    </tr>\n",
       "    <tr>\n",
       "      <th>1</th>\n",
       "      <td>Норвегия</td>\n",
       "      <td>Осло</td>\n",
       "      <td>23543535</td>\n",
       "      <td>5,445.00</td>\n",
       "    </tr>\n",
       "  </tbody>\n",
       "</table>\n",
       "</div>"
      ],
      "text/plain": [
       "    country       city  population  area_kv_km\n",
       "0  Исландия  Рейкьявик   324234234      222.00\n",
       "1  Норвегия       Осло    23543535    5,445.00"
      ]
     },
     "execution_count": 55,
     "metadata": {},
     "output_type": "execute_result"
    }
   ],
   "source": [
    "# срез нескольких строк подряд\n",
    "mini_map[0:2]"
   ]
  },
  {
   "cell_type": "markdown",
   "id": "40d4ee52",
   "metadata": {},
   "source": [
    "### 6. Логическая индексация"
   ]
  },
  {
   "cell_type": "code",
   "execution_count": 56,
   "id": "9f73bd12",
   "metadata": {},
   "outputs": [
    {
     "data": {
      "text/html": [
       "<div>\n",
       "<style scoped>\n",
       "    .dataframe tbody tr th:only-of-type {\n",
       "        vertical-align: middle;\n",
       "    }\n",
       "\n",
       "    .dataframe tbody tr th {\n",
       "        vertical-align: top;\n",
       "    }\n",
       "\n",
       "    .dataframe thead th {\n",
       "        text-align: right;\n",
       "    }\n",
       "</style>\n",
       "<table border=\"1\" class=\"dataframe\">\n",
       "  <thead>\n",
       "    <tr style=\"text-align: right;\">\n",
       "      <th></th>\n",
       "      <th>country</th>\n",
       "      <th>city</th>\n",
       "      <th>population</th>\n",
       "      <th>area_kv_km</th>\n",
       "    </tr>\n",
       "  </thead>\n",
       "  <tbody>\n",
       "    <tr>\n",
       "      <th>1</th>\n",
       "      <td>Норвегия</td>\n",
       "      <td>Осло</td>\n",
       "      <td>23543535</td>\n",
       "      <td>5,445.00</td>\n",
       "    </tr>\n",
       "  </tbody>\n",
       "</table>\n",
       "</div>"
      ],
      "text/plain": [
       "    country  city  population  area_kv_km\n",
       "1  Норвегия  Осло    23543535    5,445.00"
      ]
     },
     "execution_count": 56,
     "metadata": {},
     "output_type": "execute_result"
    }
   ],
   "source": [
    "mini_map.loc[mini_map.loc[:, 'city'] == 'Осло']"
   ]
  },
  {
   "cell_type": "code",
   "execution_count": 57,
   "id": "1f7d5690-96bf-488c-a402-5e46da09a1a7",
   "metadata": {},
   "outputs": [
    {
     "data": {
      "text/html": [
       "<div>\n",
       "<style scoped>\n",
       "    .dataframe tbody tr th:only-of-type {\n",
       "        vertical-align: middle;\n",
       "    }\n",
       "\n",
       "    .dataframe tbody tr th {\n",
       "        vertical-align: top;\n",
       "    }\n",
       "\n",
       "    .dataframe thead th {\n",
       "        text-align: right;\n",
       "    }\n",
       "</style>\n",
       "<table border=\"1\" class=\"dataframe\">\n",
       "  <thead>\n",
       "    <tr style=\"text-align: right;\">\n",
       "      <th></th>\n",
       "      <th>country</th>\n",
       "      <th>city</th>\n",
       "    </tr>\n",
       "  </thead>\n",
       "  <tbody>\n",
       "    <tr>\n",
       "      <th>1</th>\n",
       "      <td>Норвегия</td>\n",
       "      <td>Осло</td>\n",
       "    </tr>\n",
       "  </tbody>\n",
       "</table>\n",
       "</div>"
      ],
      "text/plain": [
       "    country  city\n",
       "1  Норвегия  Осло"
      ]
     },
     "execution_count": 57,
     "metadata": {},
     "output_type": "execute_result"
    }
   ],
   "source": [
    "mini_map.loc[mini_map.loc[:, 'city'] == 'Осло'][['country', 'city']]"
   ]
  },
  {
   "cell_type": "code",
   "execution_count": 58,
   "id": "8b95e6a7-a81e-42e5-8f86-25d79319664b",
   "metadata": {},
   "outputs": [
    {
     "data": {
      "text/html": [
       "<div>\n",
       "<style scoped>\n",
       "    .dataframe tbody tr th:only-of-type {\n",
       "        vertical-align: middle;\n",
       "    }\n",
       "\n",
       "    .dataframe tbody tr th {\n",
       "        vertical-align: top;\n",
       "    }\n",
       "\n",
       "    .dataframe thead th {\n",
       "        text-align: right;\n",
       "    }\n",
       "</style>\n",
       "<table border=\"1\" class=\"dataframe\">\n",
       "  <thead>\n",
       "    <tr style=\"text-align: right;\">\n",
       "      <th></th>\n",
       "      <th>country</th>\n",
       "      <th>city</th>\n",
       "      <th>population</th>\n",
       "      <th>area_kv_km</th>\n",
       "    </tr>\n",
       "  </thead>\n",
       "  <tbody>\n",
       "    <tr>\n",
       "      <th>0</th>\n",
       "      <td>Исландия</td>\n",
       "      <td>Рейкьявик</td>\n",
       "      <td>324234234</td>\n",
       "      <td>222.00</td>\n",
       "    </tr>\n",
       "    <tr>\n",
       "      <th>2</th>\n",
       "      <td>Швеция</td>\n",
       "      <td>Стокгольм</td>\n",
       "      <td>78977869</td>\n",
       "      <td>343.00</td>\n",
       "    </tr>\n",
       "    <tr>\n",
       "      <th>3</th>\n",
       "      <td>Нидерланды</td>\n",
       "      <td>Амстердам</td>\n",
       "      <td>43343455</td>\n",
       "      <td>4,554.00</td>\n",
       "    </tr>\n",
       "  </tbody>\n",
       "</table>\n",
       "</div>"
      ],
      "text/plain": [
       "      country       city  population  area_kv_km\n",
       "0    Исландия  Рейкьявик   324234234      222.00\n",
       "2      Швеция  Стокгольм    78977869      343.00\n",
       "3  Нидерланды  Амстердам    43343455    4,554.00"
      ]
     },
     "execution_count": 58,
     "metadata": {},
     "output_type": "execute_result"
    }
   ],
   "source": [
    "mini_map.loc[mini_map.loc[:, 'population'] >  23543535]"
   ]
  },
  {
   "cell_type": "code",
   "execution_count": 59,
   "id": "60ce4e7f-e588-4d50-8f99-a84196757052",
   "metadata": {},
   "outputs": [
    {
     "data": {
      "text/plain": [
       "3"
      ]
     },
     "execution_count": 59,
     "metadata": {},
     "output_type": "execute_result"
    }
   ],
   "source": [
    "mini_map.loc[mini_map.loc[:, 'population'] >  23543535]['population'].count()"
   ]
  },
  {
   "cell_type": "markdown",
   "id": "181fb1ff",
   "metadata": {},
   "source": [
    "# Задание\n",
    "Выполните поиск данных в датафрейме с помощью логической индексации (не менее 4ех различных условий)."
   ]
  },
  {
   "cell_type": "code",
   "execution_count": 60,
   "id": "20a6c62a",
   "metadata": {},
   "outputs": [
    {
     "data": {
      "text/html": [
       "<div>\n",
       "<style scoped>\n",
       "    .dataframe tbody tr th:only-of-type {\n",
       "        vertical-align: middle;\n",
       "    }\n",
       "\n",
       "    .dataframe tbody tr th {\n",
       "        vertical-align: top;\n",
       "    }\n",
       "\n",
       "    .dataframe thead th {\n",
       "        text-align: right;\n",
       "    }\n",
       "</style>\n",
       "<table border=\"1\" class=\"dataframe\">\n",
       "  <thead>\n",
       "    <tr style=\"text-align: right;\">\n",
       "      <th></th>\n",
       "      <th>country</th>\n",
       "      <th>city</th>\n",
       "      <th>population</th>\n",
       "      <th>area_kv_km</th>\n",
       "    </tr>\n",
       "  </thead>\n",
       "  <tbody>\n",
       "    <tr>\n",
       "      <th>4</th>\n",
       "      <td>Швейцария</td>\n",
       "      <td>Берн</td>\n",
       "      <td>5545455</td>\n",
       "      <td>5,444.00</td>\n",
       "    </tr>\n",
       "  </tbody>\n",
       "</table>\n",
       "</div>"
      ],
      "text/plain": [
       "     country  city  population  area_kv_km\n",
       "4  Швейцария  Берн     5545455    5,444.00"
      ]
     },
     "execution_count": 60,
     "metadata": {},
     "output_type": "execute_result"
    }
   ],
   "source": [
    "mini_map.loc[mini_map.loc[:, 'city'] == 'Берн']"
   ]
  },
  {
   "cell_type": "code",
   "execution_count": 61,
   "id": "0f2fe7c2",
   "metadata": {},
   "outputs": [
    {
     "data": {
      "text/html": [
       "<div>\n",
       "<style scoped>\n",
       "    .dataframe tbody tr th:only-of-type {\n",
       "        vertical-align: middle;\n",
       "    }\n",
       "\n",
       "    .dataframe tbody tr th {\n",
       "        vertical-align: top;\n",
       "    }\n",
       "\n",
       "    .dataframe thead th {\n",
       "        text-align: right;\n",
       "    }\n",
       "</style>\n",
       "<table border=\"1\" class=\"dataframe\">\n",
       "  <thead>\n",
       "    <tr style=\"text-align: right;\">\n",
       "      <th></th>\n",
       "      <th>country</th>\n",
       "      <th>city</th>\n",
       "      <th>population</th>\n",
       "      <th>area_kv_km</th>\n",
       "    </tr>\n",
       "  </thead>\n",
       "  <tbody>\n",
       "    <tr>\n",
       "      <th>2</th>\n",
       "      <td>Швеция</td>\n",
       "      <td>Стокгольм</td>\n",
       "      <td>78977869</td>\n",
       "      <td>343.00</td>\n",
       "    </tr>\n",
       "  </tbody>\n",
       "</table>\n",
       "</div>"
      ],
      "text/plain": [
       "  country       city  population  area_kv_km\n",
       "2  Швеция  Стокгольм    78977869      343.00"
      ]
     },
     "execution_count": 61,
     "metadata": {},
     "output_type": "execute_result"
    }
   ],
   "source": [
    "mini_map.loc[(mini_map.loc[:, 'area_kv_km'] <  5000) & (mini_map.loc[:, 'city'] == 'Стокгольм')]  "
   ]
  },
  {
   "cell_type": "code",
   "execution_count": 62,
   "id": "dad27399",
   "metadata": {},
   "outputs": [
    {
     "data": {
      "text/plain": [
       "3"
      ]
     },
     "execution_count": 62,
     "metadata": {},
     "output_type": "execute_result"
    }
   ],
   "source": [
    "mini_map.loc[mini_map.loc[:, 'population'] >  39000000]['population'].count()"
   ]
  },
  {
   "cell_type": "code",
   "execution_count": 63,
   "id": "e46fb4a4",
   "metadata": {},
   "outputs": [
    {
     "data": {
      "text/html": [
       "<div>\n",
       "<style scoped>\n",
       "    .dataframe tbody tr th:only-of-type {\n",
       "        vertical-align: middle;\n",
       "    }\n",
       "\n",
       "    .dataframe tbody tr th {\n",
       "        vertical-align: top;\n",
       "    }\n",
       "\n",
       "    .dataframe thead th {\n",
       "        text-align: right;\n",
       "    }\n",
       "</style>\n",
       "<table border=\"1\" class=\"dataframe\">\n",
       "  <thead>\n",
       "    <tr style=\"text-align: right;\">\n",
       "      <th></th>\n",
       "      <th>country</th>\n",
       "      <th>city</th>\n",
       "    </tr>\n",
       "  </thead>\n",
       "  <tbody>\n",
       "    <tr>\n",
       "      <th>4</th>\n",
       "      <td>Швейцария</td>\n",
       "      <td>Берн</td>\n",
       "    </tr>\n",
       "  </tbody>\n",
       "</table>\n",
       "</div>"
      ],
      "text/plain": [
       "     country  city\n",
       "4  Швейцария  Берн"
      ]
     },
     "execution_count": 63,
     "metadata": {},
     "output_type": "execute_result"
    }
   ],
   "source": [
    "mini_map.loc[mini_map.loc[:, 'city'] == 'Берн'][['country', 'city']]"
   ]
  },
  {
   "cell_type": "markdown",
   "id": "69d65fac",
   "metadata": {},
   "source": [
    "**Сокращенные** записи"
   ]
  },
  {
   "cell_type": "code",
   "execution_count": 99,
   "id": "3c5950a0",
   "metadata": {},
   "outputs": [
    {
     "data": {
      "text/html": [
       "<div>\n",
       "<style scoped>\n",
       "    .dataframe tbody tr th:only-of-type {\n",
       "        vertical-align: middle;\n",
       "    }\n",
       "\n",
       "    .dataframe tbody tr th {\n",
       "        vertical-align: top;\n",
       "    }\n",
       "\n",
       "    .dataframe thead th {\n",
       "        text-align: right;\n",
       "    }\n",
       "</style>\n",
       "<table border=\"1\" class=\"dataframe\">\n",
       "  <thead>\n",
       "    <tr style=\"text-align: right;\">\n",
       "      <th></th>\n",
       "      <th>country</th>\n",
       "      <th>city</th>\n",
       "      <th>population</th>\n",
       "      <th>area_kv_km</th>\n",
       "    </tr>\n",
       "  </thead>\n",
       "  <tbody>\n",
       "    <tr>\n",
       "      <th>4</th>\n",
       "      <td>Швейцария</td>\n",
       "      <td>Берн</td>\n",
       "      <td>5545455</td>\n",
       "      <td>5,444.00</td>\n",
       "    </tr>\n",
       "  </tbody>\n",
       "</table>\n",
       "</div>"
      ],
      "text/plain": [
       "     country  city  population  area_kv_km\n",
       "4  Швейцария  Берн     5545455    5,444.00"
      ]
     },
     "execution_count": 99,
     "metadata": {},
     "output_type": "execute_result"
    }
   ],
   "source": [
    "mini_map[mini_map['city'] == 'Берн']"
   ]
  },
  {
   "cell_type": "code",
   "execution_count": 98,
   "id": "b4cbe8f1",
   "metadata": {},
   "outputs": [
    {
     "data": {
      "text/html": [
       "<div>\n",
       "<style scoped>\n",
       "    .dataframe tbody tr th:only-of-type {\n",
       "        vertical-align: middle;\n",
       "    }\n",
       "\n",
       "    .dataframe tbody tr th {\n",
       "        vertical-align: top;\n",
       "    }\n",
       "\n",
       "    .dataframe thead th {\n",
       "        text-align: right;\n",
       "    }\n",
       "</style>\n",
       "<table border=\"1\" class=\"dataframe\">\n",
       "  <thead>\n",
       "    <tr style=\"text-align: right;\">\n",
       "      <th></th>\n",
       "      <th>country</th>\n",
       "      <th>city</th>\n",
       "      <th>population</th>\n",
       "      <th>area_kv_km</th>\n",
       "    </tr>\n",
       "  </thead>\n",
       "  <tbody>\n",
       "    <tr>\n",
       "      <th>2</th>\n",
       "      <td>Швеция</td>\n",
       "      <td>Стокгольм</td>\n",
       "      <td>78977869</td>\n",
       "      <td>343.00</td>\n",
       "    </tr>\n",
       "  </tbody>\n",
       "</table>\n",
       "</div>"
      ],
      "text/plain": [
       "  country       city  population  area_kv_km\n",
       "2  Швеция  Стокгольм    78977869      343.00"
      ]
     },
     "execution_count": 98,
     "metadata": {},
     "output_type": "execute_result"
    }
   ],
   "source": [
    "mini_map[(mini_map['area_kv_km'] <  5000) & (mini_map['city'] == 'Стокгольм')]"
   ]
  },
  {
   "cell_type": "code",
   "execution_count": 96,
   "id": "ca342038-69da-470c-9010-8cca4c7f58f0",
   "metadata": {},
   "outputs": [
    {
     "data": {
      "text/plain": [
       "3"
      ]
     },
     "execution_count": 96,
     "metadata": {},
     "output_type": "execute_result"
    }
   ],
   "source": [
    "mini_map[mini_map['population'] >  39000000]['population'].count()"
   ]
  },
  {
   "cell_type": "code",
   "execution_count": 97,
   "id": "6d54f938",
   "metadata": {},
   "outputs": [
    {
     "data": {
      "text/html": [
       "<div>\n",
       "<style scoped>\n",
       "    .dataframe tbody tr th:only-of-type {\n",
       "        vertical-align: middle;\n",
       "    }\n",
       "\n",
       "    .dataframe tbody tr th {\n",
       "        vertical-align: top;\n",
       "    }\n",
       "\n",
       "    .dataframe thead th {\n",
       "        text-align: right;\n",
       "    }\n",
       "</style>\n",
       "<table border=\"1\" class=\"dataframe\">\n",
       "  <thead>\n",
       "    <tr style=\"text-align: right;\">\n",
       "      <th></th>\n",
       "      <th>country</th>\n",
       "      <th>city</th>\n",
       "    </tr>\n",
       "  </thead>\n",
       "  <tbody>\n",
       "    <tr>\n",
       "      <th>4</th>\n",
       "      <td>Швейцария</td>\n",
       "      <td>Берн</td>\n",
       "    </tr>\n",
       "  </tbody>\n",
       "</table>\n",
       "</div>"
      ],
      "text/plain": [
       "     country  city\n",
       "4  Швейцария  Берн"
      ]
     },
     "execution_count": 97,
     "metadata": {},
     "output_type": "execute_result"
    }
   ],
   "source": [
    "mini_map[mini_map['city'] == 'Берн'][['country', 'city']]"
   ]
  },
  {
   "cell_type": "markdown",
   "id": "4bdf4b51",
   "metadata": {},
   "source": [
    "**В логической индексации можно использовать логические выражения с любыми логическими операциями: ==,  !=, >, <, >=, <=**, а также функции-предикаты, которые возвращают логическое значение. "
   ]
  },
  {
   "cell_type": "code",
   "execution_count": 91,
   "id": "ba2fc5ee",
   "metadata": {},
   "outputs": [
    {
     "data": {
      "text/html": [
       "<div>\n",
       "<style scoped>\n",
       "    .dataframe tbody tr th:only-of-type {\n",
       "        vertical-align: middle;\n",
       "    }\n",
       "\n",
       "    .dataframe tbody tr th {\n",
       "        vertical-align: top;\n",
       "    }\n",
       "\n",
       "    .dataframe thead th {\n",
       "        text-align: right;\n",
       "    }\n",
       "</style>\n",
       "<table border=\"1\" class=\"dataframe\">\n",
       "  <thead>\n",
       "    <tr style=\"text-align: right;\">\n",
       "      <th></th>\n",
       "      <th>country</th>\n",
       "      <th>city</th>\n",
       "      <th>population</th>\n",
       "      <th>area_kv_km</th>\n",
       "    </tr>\n",
       "  </thead>\n",
       "  <tbody>\n",
       "    <tr>\n",
       "      <th>1</th>\n",
       "      <td>Норвегия</td>\n",
       "      <td>Осло</td>\n",
       "      <td>23543535</td>\n",
       "      <td>5,445.00</td>\n",
       "    </tr>\n",
       "    <tr>\n",
       "      <th>2</th>\n",
       "      <td>Швеция</td>\n",
       "      <td>Стокгольм</td>\n",
       "      <td>78977869</td>\n",
       "      <td>343.00</td>\n",
       "    </tr>\n",
       "    <tr>\n",
       "      <th>3</th>\n",
       "      <td>Нидерланды</td>\n",
       "      <td>Амстердам</td>\n",
       "      <td>43343455</td>\n",
       "      <td>4,554.00</td>\n",
       "    </tr>\n",
       "    <tr>\n",
       "      <th>4</th>\n",
       "      <td>Швейцария</td>\n",
       "      <td>Берн</td>\n",
       "      <td>5545455</td>\n",
       "      <td>5,444.00</td>\n",
       "    </tr>\n",
       "  </tbody>\n",
       "</table>\n",
       "</div>"
      ],
      "text/plain": [
       "      country       city  population  area_kv_km\n",
       "1    Норвегия       Осло    23543535    5,445.00\n",
       "2      Швеция  Стокгольм    78977869      343.00\n",
       "3  Нидерланды  Амстердам    43343455    4,554.00\n",
       "4   Швейцария       Берн     5545455    5,444.00"
      ]
     },
     "execution_count": 91,
     "metadata": {},
     "output_type": "execute_result"
    }
   ],
   "source": [
    "mini_map[mini_map['area_kv_km'] != 222]"
   ]
  },
  {
   "cell_type": "code",
   "execution_count": 92,
   "id": "c83d763d",
   "metadata": {},
   "outputs": [
    {
     "data": {
      "text/html": [
       "<div>\n",
       "<style scoped>\n",
       "    .dataframe tbody tr th:only-of-type {\n",
       "        vertical-align: middle;\n",
       "    }\n",
       "\n",
       "    .dataframe tbody tr th {\n",
       "        vertical-align: top;\n",
       "    }\n",
       "\n",
       "    .dataframe thead th {\n",
       "        text-align: right;\n",
       "    }\n",
       "</style>\n",
       "<table border=\"1\" class=\"dataframe\">\n",
       "  <thead>\n",
       "    <tr style=\"text-align: right;\">\n",
       "      <th></th>\n",
       "      <th>country</th>\n",
       "      <th>city</th>\n",
       "      <th>population</th>\n",
       "      <th>area_kv_km</th>\n",
       "    </tr>\n",
       "  </thead>\n",
       "  <tbody>\n",
       "    <tr>\n",
       "      <th>1</th>\n",
       "      <td>Норвегия</td>\n",
       "      <td>Осло</td>\n",
       "      <td>23543535</td>\n",
       "      <td>5,445.00</td>\n",
       "    </tr>\n",
       "    <tr>\n",
       "      <th>2</th>\n",
       "      <td>Швеция</td>\n",
       "      <td>Стокгольм</td>\n",
       "      <td>78977869</td>\n",
       "      <td>343.00</td>\n",
       "    </tr>\n",
       "    <tr>\n",
       "      <th>3</th>\n",
       "      <td>Нидерланды</td>\n",
       "      <td>Амстердам</td>\n",
       "      <td>43343455</td>\n",
       "      <td>4,554.00</td>\n",
       "    </tr>\n",
       "    <tr>\n",
       "      <th>4</th>\n",
       "      <td>Швейцария</td>\n",
       "      <td>Берн</td>\n",
       "      <td>5545455</td>\n",
       "      <td>5,444.00</td>\n",
       "    </tr>\n",
       "  </tbody>\n",
       "</table>\n",
       "</div>"
      ],
      "text/plain": [
       "      country       city  population  area_kv_km\n",
       "1    Норвегия       Осло    23543535    5,445.00\n",
       "2      Швеция  Стокгольм    78977869      343.00\n",
       "3  Нидерланды  Амстердам    43343455    4,554.00\n",
       "4   Швейцария       Берн     5545455    5,444.00"
      ]
     },
     "execution_count": 92,
     "metadata": {},
     "output_type": "execute_result"
    }
   ],
   "source": [
    "mini_map[mini_map['population'] < mini_map['population'].max()]"
   ]
  },
  {
   "cell_type": "code",
   "execution_count": 93,
   "id": "185a8344",
   "metadata": {},
   "outputs": [
    {
     "data": {
      "text/html": [
       "<div>\n",
       "<style scoped>\n",
       "    .dataframe tbody tr th:only-of-type {\n",
       "        vertical-align: middle;\n",
       "    }\n",
       "\n",
       "    .dataframe tbody tr th {\n",
       "        vertical-align: top;\n",
       "    }\n",
       "\n",
       "    .dataframe thead th {\n",
       "        text-align: right;\n",
       "    }\n",
       "</style>\n",
       "<table border=\"1\" class=\"dataframe\">\n",
       "  <thead>\n",
       "    <tr style=\"text-align: right;\">\n",
       "      <th></th>\n",
       "      <th>country</th>\n",
       "      <th>city</th>\n",
       "      <th>population</th>\n",
       "      <th>area_kv_km</th>\n",
       "    </tr>\n",
       "  </thead>\n",
       "  <tbody>\n",
       "    <tr>\n",
       "      <th>0</th>\n",
       "      <td>Исландия</td>\n",
       "      <td>Рейкьявик</td>\n",
       "      <td>324234234</td>\n",
       "      <td>222.00</td>\n",
       "    </tr>\n",
       "  </tbody>\n",
       "</table>\n",
       "</div>"
      ],
      "text/plain": [
       "    country       city  population  area_kv_km\n",
       "0  Исландия  Рейкьявик   324234234      222.00"
      ]
     },
     "execution_count": 93,
     "metadata": {},
     "output_type": "execute_result"
    }
   ],
   "source": [
    "mini_map[mini_map['area_kv_km'] == mini_map['area_kv_km'].min()]"
   ]
  },
  {
   "cell_type": "markdown",
   "id": "9143b6b3",
   "metadata": {},
   "source": [
    "**Чтобы применить несколько условий для фильтрации**, сначала примените первое условие и сохраните результат. Затем вызовите логическую индексацию со вторым условием."
   ]
  },
  {
   "cell_type": "code",
   "execution_count": 77,
   "id": "ff4ec872",
   "metadata": {},
   "outputs": [
    {
     "data": {
      "text/html": [
       "<div>\n",
       "<style scoped>\n",
       "    .dataframe tbody tr th:only-of-type {\n",
       "        vertical-align: middle;\n",
       "    }\n",
       "\n",
       "    .dataframe tbody tr th {\n",
       "        vertical-align: top;\n",
       "    }\n",
       "\n",
       "    .dataframe thead th {\n",
       "        text-align: right;\n",
       "    }\n",
       "</style>\n",
       "<table border=\"1\" class=\"dataframe\">\n",
       "  <thead>\n",
       "    <tr style=\"text-align: right;\">\n",
       "      <th></th>\n",
       "      <th>country</th>\n",
       "      <th>city</th>\n",
       "      <th>population</th>\n",
       "      <th>area_kv_km</th>\n",
       "    </tr>\n",
       "  </thead>\n",
       "  <tbody>\n",
       "    <tr>\n",
       "      <th>0</th>\n",
       "      <td>Исландия</td>\n",
       "      <td>Рейкьявик</td>\n",
       "      <td>324234234</td>\n",
       "      <td>222.00</td>\n",
       "    </tr>\n",
       "    <tr>\n",
       "      <th>2</th>\n",
       "      <td>Швеция</td>\n",
       "      <td>Стокгольм</td>\n",
       "      <td>78977869</td>\n",
       "      <td>343.00</td>\n",
       "    </tr>\n",
       "    <tr>\n",
       "      <th>3</th>\n",
       "      <td>Нидерланды</td>\n",
       "      <td>Амстердам</td>\n",
       "      <td>43343455</td>\n",
       "      <td>4,554.00</td>\n",
       "    </tr>\n",
       "  </tbody>\n",
       "</table>\n",
       "</div>"
      ],
      "text/plain": [
       "      country       city  population  area_kv_km\n",
       "0    Исландия  Рейкьявик   324234234      222.00\n",
       "2      Швеция  Стокгольм    78977869      343.00\n",
       "3  Нидерланды  Амстердам    43343455    4,554.00"
      ]
     },
     "execution_count": 77,
     "metadata": {},
     "output_type": "execute_result"
    }
   ],
   "source": [
    "criterion1 = mini_map[mini_map['area_kv_km'] <= 5000]\n",
    "criterion1[criterion1['population'] > 5545459]"
   ]
  },
  {
   "cell_type": "markdown",
   "id": "72eb4ab0",
   "metadata": {},
   "source": [
    "# Задание\n",
    "Продумайте и выполните поиск данных в датафрейме с помощью логической индексации:\n",
    "- 2 фильтра на поиск по столбцу со строковыми значениями\n",
    "- 2 фильтра на поиск по столбцу с числовыми значениями\n",
    "- 2 фильтра на поиск по нескольким условиями\n",
    "Убедитесь, что все фильтры - рабочие.<br>\n",
    "**!! Используйте все логические операции: ==, !=, >, <, >=, <=**"
   ]
  },
  {
   "cell_type": "markdown",
   "id": "95dbcfe2",
   "metadata": {},
   "source": [
    "Для создания условий фильтра необходимо иметь представление об уникальных значениях в каждом столбце. Чтобы получить список уникальных значений в столбце, используйте код: data['type'].unique().tolist()"
   ]
  },
  {
   "cell_type": "code",
   "execution_count": 68,
   "id": "9ac92913",
   "metadata": {},
   "outputs": [
    {
     "ename": "NameError",
     "evalue": "name 'data' is not defined",
     "output_type": "error",
     "traceback": [
      "\u001b[1;31m---------------------------------------------------------------------------\u001b[0m",
      "\u001b[1;31mNameError\u001b[0m                                 Traceback (most recent call last)",
      "Cell \u001b[1;32mIn[68], line 1\u001b[0m\n\u001b[1;32m----> 1\u001b[0m data[\u001b[38;5;124m'\u001b[39m\u001b[38;5;124mtype\u001b[39m\u001b[38;5;124m'\u001b[39m]\u001b[38;5;241m.\u001b[39munique()\n",
      "\u001b[1;31mNameError\u001b[0m: name 'data' is not defined"
     ]
    }
   ],
   "source": [
    "data['type'].unique()"
   ]
  },
  {
   "cell_type": "code",
   "execution_count": null,
   "id": "f2df2d8b-cd64-421c-8465-b76d4aa8a690",
   "metadata": {},
   "outputs": [],
   "source": [
    "data['type'].unique().tolist()"
   ]
  },
  {
   "cell_type": "code",
   "execution_count": 80,
   "id": "2eb8394b",
   "metadata": {},
   "outputs": [
    {
     "data": {
      "text/html": [
       "<div>\n",
       "<style scoped>\n",
       "    .dataframe tbody tr th:only-of-type {\n",
       "        vertical-align: middle;\n",
       "    }\n",
       "\n",
       "    .dataframe tbody tr th {\n",
       "        vertical-align: top;\n",
       "    }\n",
       "\n",
       "    .dataframe thead th {\n",
       "        text-align: right;\n",
       "    }\n",
       "</style>\n",
       "<table border=\"1\" class=\"dataframe\">\n",
       "  <thead>\n",
       "    <tr style=\"text-align: right;\">\n",
       "      <th></th>\n",
       "      <th>country</th>\n",
       "      <th>city</th>\n",
       "      <th>population</th>\n",
       "      <th>area_kv_km</th>\n",
       "    </tr>\n",
       "  </thead>\n",
       "  <tbody>\n",
       "    <tr>\n",
       "      <th>2</th>\n",
       "      <td>Швеция</td>\n",
       "      <td>Стокгольм</td>\n",
       "      <td>78977869</td>\n",
       "      <td>343.00</td>\n",
       "    </tr>\n",
       "    <tr>\n",
       "      <th>3</th>\n",
       "      <td>Нидерланды</td>\n",
       "      <td>Амстердам</td>\n",
       "      <td>43343455</td>\n",
       "      <td>4,554.00</td>\n",
       "    </tr>\n",
       "  </tbody>\n",
       "</table>\n",
       "</div>"
      ],
      "text/plain": [
       "      country       city  population  area_kv_km\n",
       "2      Швеция  Стокгольм    78977869      343.00\n",
       "3  Нидерланды  Амстердам    43343455    4,554.00"
      ]
     },
     "execution_count": 80,
     "metadata": {},
     "output_type": "execute_result"
    }
   ],
   "source": [
    "mini_map[mini_map['city'].str.endswith('м')]"
   ]
  },
  {
   "cell_type": "code",
   "execution_count": 81,
   "id": "38805319",
   "metadata": {},
   "outputs": [
    {
     "data": {
      "text/html": [
       "<div>\n",
       "<style scoped>\n",
       "    .dataframe tbody tr th:only-of-type {\n",
       "        vertical-align: middle;\n",
       "    }\n",
       "\n",
       "    .dataframe tbody tr th {\n",
       "        vertical-align: top;\n",
       "    }\n",
       "\n",
       "    .dataframe thead th {\n",
       "        text-align: right;\n",
       "    }\n",
       "</style>\n",
       "<table border=\"1\" class=\"dataframe\">\n",
       "  <thead>\n",
       "    <tr style=\"text-align: right;\">\n",
       "      <th></th>\n",
       "      <th>country</th>\n",
       "      <th>city</th>\n",
       "      <th>population</th>\n",
       "      <th>area_kv_km</th>\n",
       "    </tr>\n",
       "  </thead>\n",
       "  <tbody>\n",
       "    <tr>\n",
       "      <th>2</th>\n",
       "      <td>Швеция</td>\n",
       "      <td>Стокгольм</td>\n",
       "      <td>78977869</td>\n",
       "      <td>343.00</td>\n",
       "    </tr>\n",
       "  </tbody>\n",
       "</table>\n",
       "</div>"
      ],
      "text/plain": [
       "  country       city  population  area_kv_km\n",
       "2  Швеция  Стокгольм    78977869      343.00"
      ]
     },
     "execution_count": 81,
     "metadata": {},
     "output_type": "execute_result"
    }
   ],
   "source": [
    "mini_map[mini_map['city'].str.startswith('С')]"
   ]
  },
  {
   "cell_type": "code",
   "execution_count": 83,
   "id": "0fbe4c4b-d750-43f8-a4c0-235a1f9562ff",
   "metadata": {},
   "outputs": [
    {
     "data": {
      "text/html": [
       "<div>\n",
       "<style scoped>\n",
       "    .dataframe tbody tr th:only-of-type {\n",
       "        vertical-align: middle;\n",
       "    }\n",
       "\n",
       "    .dataframe tbody tr th {\n",
       "        vertical-align: top;\n",
       "    }\n",
       "\n",
       "    .dataframe thead th {\n",
       "        text-align: right;\n",
       "    }\n",
       "</style>\n",
       "<table border=\"1\" class=\"dataframe\">\n",
       "  <thead>\n",
       "    <tr style=\"text-align: right;\">\n",
       "      <th></th>\n",
       "      <th>country</th>\n",
       "      <th>city</th>\n",
       "      <th>population</th>\n",
       "      <th>area_kv_km</th>\n",
       "    </tr>\n",
       "  </thead>\n",
       "  <tbody>\n",
       "    <tr>\n",
       "      <th>1</th>\n",
       "      <td>Норвегия</td>\n",
       "      <td>Осло</td>\n",
       "      <td>23543535</td>\n",
       "      <td>5,445.00</td>\n",
       "    </tr>\n",
       "    <tr>\n",
       "      <th>4</th>\n",
       "      <td>Швейцария</td>\n",
       "      <td>Берн</td>\n",
       "      <td>5545455</td>\n",
       "      <td>5,444.00</td>\n",
       "    </tr>\n",
       "  </tbody>\n",
       "</table>\n",
       "</div>"
      ],
      "text/plain": [
       "     country  city  population  area_kv_km\n",
       "1   Норвегия  Осло    23543535    5,445.00\n",
       "4  Швейцария  Берн     5545455    5,444.00"
      ]
     },
     "execution_count": 83,
     "metadata": {},
     "output_type": "execute_result"
    }
   ],
   "source": [
    "mini_map[mini_map['population'] <  40000000]"
   ]
  },
  {
   "cell_type": "code",
   "execution_count": 84,
   "id": "de391c4d-a28e-4a39-a536-b70c4e5d206f",
   "metadata": {},
   "outputs": [
    {
     "data": {
      "text/html": [
       "<div>\n",
       "<style scoped>\n",
       "    .dataframe tbody tr th:only-of-type {\n",
       "        vertical-align: middle;\n",
       "    }\n",
       "\n",
       "    .dataframe tbody tr th {\n",
       "        vertical-align: top;\n",
       "    }\n",
       "\n",
       "    .dataframe thead th {\n",
       "        text-align: right;\n",
       "    }\n",
       "</style>\n",
       "<table border=\"1\" class=\"dataframe\">\n",
       "  <thead>\n",
       "    <tr style=\"text-align: right;\">\n",
       "      <th></th>\n",
       "      <th>country</th>\n",
       "      <th>city</th>\n",
       "      <th>population</th>\n",
       "      <th>area_kv_km</th>\n",
       "    </tr>\n",
       "  </thead>\n",
       "  <tbody>\n",
       "    <tr>\n",
       "      <th>1</th>\n",
       "      <td>Норвегия</td>\n",
       "      <td>Осло</td>\n",
       "      <td>23543535</td>\n",
       "      <td>5,445.00</td>\n",
       "    </tr>\n",
       "    <tr>\n",
       "      <th>3</th>\n",
       "      <td>Нидерланды</td>\n",
       "      <td>Амстердам</td>\n",
       "      <td>43343455</td>\n",
       "      <td>4,554.00</td>\n",
       "    </tr>\n",
       "    <tr>\n",
       "      <th>4</th>\n",
       "      <td>Швейцария</td>\n",
       "      <td>Берн</td>\n",
       "      <td>5545455</td>\n",
       "      <td>5,444.00</td>\n",
       "    </tr>\n",
       "  </tbody>\n",
       "</table>\n",
       "</div>"
      ],
      "text/plain": [
       "      country       city  population  area_kv_km\n",
       "1    Норвегия       Осло    23543535    5,445.00\n",
       "3  Нидерланды  Амстердам    43343455    4,554.00\n",
       "4   Швейцария       Берн     5545455    5,444.00"
      ]
     },
     "execution_count": 84,
     "metadata": {},
     "output_type": "execute_result"
    }
   ],
   "source": [
    "mini_map[mini_map['area_kv_km'] > 555]"
   ]
  },
  {
   "cell_type": "code",
   "execution_count": 87,
   "id": "10fe6bb8-7c14-4e27-9fe7-08079bd330d1",
   "metadata": {},
   "outputs": [
    {
     "data": {
      "text/html": [
       "<div>\n",
       "<style scoped>\n",
       "    .dataframe tbody tr th:only-of-type {\n",
       "        vertical-align: middle;\n",
       "    }\n",
       "\n",
       "    .dataframe tbody tr th {\n",
       "        vertical-align: top;\n",
       "    }\n",
       "\n",
       "    .dataframe thead th {\n",
       "        text-align: right;\n",
       "    }\n",
       "</style>\n",
       "<table border=\"1\" class=\"dataframe\">\n",
       "  <thead>\n",
       "    <tr style=\"text-align: right;\">\n",
       "      <th></th>\n",
       "      <th>country</th>\n",
       "      <th>city</th>\n",
       "      <th>population</th>\n",
       "      <th>area_kv_km</th>\n",
       "    </tr>\n",
       "  </thead>\n",
       "  <tbody>\n",
       "    <tr>\n",
       "      <th>3</th>\n",
       "      <td>Нидерланды</td>\n",
       "      <td>Амстердам</td>\n",
       "      <td>43343455</td>\n",
       "      <td>4,554.00</td>\n",
       "    </tr>\n",
       "  </tbody>\n",
       "</table>\n",
       "</div>"
      ],
      "text/plain": [
       "      country       city  population  area_kv_km\n",
       "3  Нидерланды  Амстердам    43343455    4,554.00"
      ]
     },
     "execution_count": 87,
     "metadata": {},
     "output_type": "execute_result"
    }
   ],
   "source": [
    "mini_map[(mini_map['area_kv_km'] <=  5000) & (mini_map['city'] == 'Амстердам') & (mini_map['country'] != 'Швеция')]"
   ]
  },
  {
   "cell_type": "code",
   "execution_count": 90,
   "id": "7a60ecf0-de5a-4fb7-a789-28fdfa8f291d",
   "metadata": {},
   "outputs": [
    {
     "data": {
      "text/html": [
       "<div>\n",
       "<style scoped>\n",
       "    .dataframe tbody tr th:only-of-type {\n",
       "        vertical-align: middle;\n",
       "    }\n",
       "\n",
       "    .dataframe tbody tr th {\n",
       "        vertical-align: top;\n",
       "    }\n",
       "\n",
       "    .dataframe thead th {\n",
       "        text-align: right;\n",
       "    }\n",
       "</style>\n",
       "<table border=\"1\" class=\"dataframe\">\n",
       "  <thead>\n",
       "    <tr style=\"text-align: right;\">\n",
       "      <th></th>\n",
       "      <th>country</th>\n",
       "      <th>city</th>\n",
       "      <th>population</th>\n",
       "      <th>area_kv_km</th>\n",
       "    </tr>\n",
       "  </thead>\n",
       "  <tbody>\n",
       "    <tr>\n",
       "      <th>1</th>\n",
       "      <td>Норвегия</td>\n",
       "      <td>Осло</td>\n",
       "      <td>23543535</td>\n",
       "      <td>5,445.00</td>\n",
       "    </tr>\n",
       "    <tr>\n",
       "      <th>4</th>\n",
       "      <td>Швейцария</td>\n",
       "      <td>Берн</td>\n",
       "      <td>5545455</td>\n",
       "      <td>5,444.00</td>\n",
       "    </tr>\n",
       "  </tbody>\n",
       "</table>\n",
       "</div>"
      ],
      "text/plain": [
       "     country  city  population  area_kv_km\n",
       "1   Норвегия  Осло    23543535    5,445.00\n",
       "4  Швейцария  Берн     5545455    5,444.00"
      ]
     },
     "execution_count": 90,
     "metadata": {},
     "output_type": "execute_result"
    }
   ],
   "source": [
    "mini_map[(mini_map['population'] >= 2360000) & (mini_map['area_kv_km'] > 4600)]"
   ]
  },
  {
   "cell_type": "markdown",
   "id": "6e13d1b4",
   "metadata": {},
   "source": [
    "### 12. Основы работы с датой и временем в Pandas"
   ]
  },
  {
   "cell_type": "markdown",
   "id": "609bcc05",
   "metadata": {},
   "source": [
    "**Задание 21.** ."
   ]
  },
  {
   "cell_type": "code",
   "execution_count": null,
   "id": "f6aca9b3",
   "metadata": {},
   "outputs": [],
   "source": []
  },
  {
   "cell_type": "code",
   "execution_count": null,
   "id": "995fb099",
   "metadata": {},
   "outputs": [],
   "source": []
  },
  {
   "cell_type": "code",
   "execution_count": null,
   "id": "5ae8bbb9",
   "metadata": {},
   "outputs": [],
   "source": []
  },
  {
   "cell_type": "code",
   "execution_count": null,
   "id": "d998f7bf",
   "metadata": {},
   "outputs": [],
   "source": []
  },
  {
   "cell_type": "code",
   "execution_count": null,
   "id": "72fb890d",
   "metadata": {},
   "outputs": [],
   "source": []
  },
  {
   "cell_type": "code",
   "execution_count": null,
   "id": "1e0a137d",
   "metadata": {},
   "outputs": [],
   "source": []
  },
  {
   "cell_type": "code",
   "execution_count": null,
   "id": "2932471e",
   "metadata": {},
   "outputs": [],
   "source": []
  },
  {
   "cell_type": "code",
   "execution_count": null,
   "id": "c9487c52",
   "metadata": {},
   "outputs": [],
   "source": []
  },
  {
   "cell_type": "code",
   "execution_count": null,
   "id": "2547b55b",
   "metadata": {},
   "outputs": [],
   "source": []
  },
  {
   "cell_type": "code",
   "execution_count": null,
   "id": "352b3a60-ce4d-44f2-b536-1a80c4aed04f",
   "metadata": {},
   "outputs": [],
   "source": []
  },
  {
   "cell_type": "code",
   "execution_count": null,
   "id": "939055be-6de0-4cd6-b17b-2c65d43557fa",
   "metadata": {},
   "outputs": [],
   "source": []
  },
  {
   "cell_type": "code",
   "execution_count": null,
   "id": "e2fa8f2c-e0e5-40e4-a128-1877018fd51b",
   "metadata": {},
   "outputs": [],
   "source": []
  },
  {
   "cell_type": "code",
   "execution_count": null,
   "id": "4e7155ca-4c68-4bce-a19b-5a947915aefc",
   "metadata": {},
   "outputs": [],
   "source": []
  },
  {
   "cell_type": "code",
   "execution_count": null,
   "id": "2927235a-297c-4ac4-92ba-61dfe0605ed5",
   "metadata": {},
   "outputs": [],
   "source": []
  },
  {
   "cell_type": "code",
   "execution_count": null,
   "id": "d25eafe4-3be8-4893-9c10-37869711256f",
   "metadata": {},
   "outputs": [],
   "source": []
  },
  {
   "cell_type": "code",
   "execution_count": null,
   "id": "ca334edc-779d-4344-9361-6a598ab10c4f",
   "metadata": {},
   "outputs": [],
   "source": []
  },
  {
   "cell_type": "code",
   "execution_count": null,
   "id": "d56fc67f-f003-4f71-8161-4ff934e65db5",
   "metadata": {},
   "outputs": [],
   "source": []
  },
  {
   "cell_type": "code",
   "execution_count": null,
   "id": "d98f4d22-f767-4953-844d-68f52b0b39d3",
   "metadata": {},
   "outputs": [],
   "source": []
  },
  {
   "cell_type": "code",
   "execution_count": null,
   "id": "1209b577-3993-4199-9b26-b0e6fd90f636",
   "metadata": {},
   "outputs": [],
   "source": []
  },
  {
   "cell_type": "code",
   "execution_count": null,
   "id": "ced06d9e-8618-48b6-9f7c-62b429f78b22",
   "metadata": {},
   "outputs": [],
   "source": []
  },
  {
   "cell_type": "code",
   "execution_count": null,
   "id": "00744a9b-fe48-4376-9ca6-22ea485e4efd",
   "metadata": {},
   "outputs": [],
   "source": []
  }
 ],
 "metadata": {
  "kernelspec": {
   "display_name": "Python 3 (ipykernel)",
   "language": "python",
   "name": "python3"
  },
  "language_info": {
   "codemirror_mode": {
    "name": "ipython",
    "version": 3
   },
   "file_extension": ".py",
   "mimetype": "text/x-python",
   "name": "python",
   "nbconvert_exporter": "python",
   "pygments_lexer": "ipython3",
   "version": "3.11.7"
  }
 },
 "nbformat": 4,
 "nbformat_minor": 5
}
